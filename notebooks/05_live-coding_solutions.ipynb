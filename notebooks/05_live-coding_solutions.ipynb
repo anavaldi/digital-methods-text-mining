{
 "cells": [
  {
   "cell_type": "markdown",
   "metadata": {},
   "source": [
    "# 5. Live coding"
   ]
  },
  {
   "cell_type": "markdown",
   "metadata": {},
   "source": [
    "This notebook will show you how we analyse a text in real life. To do so, we will examine two judge responses to asylum's claims in the UK.\n",
    "\n",
    "\n",
    "\n",
    "\n",
    "\n"
   ]
  },
  {
   "cell_type": "markdown",
   "metadata": {},
   "source": [
    "Legend of symbols:\n",
    "\n",
    "- 🤓: Tips\n",
    "\n",
    "- 🤖📝: Your turn\n",
    "\n",
    "- ❓: Question\n",
    "\n",
    "- 💫: Extra exercise "
   ]
  },
  {
   "cell_type": "markdown",
   "metadata": {},
   "source": [
    "## 5.1. Read text"
   ]
  },
  {
   "cell_type": "markdown",
   "metadata": {},
   "source": [
    "As we have learned in this course, the first step is to import the text into this notebook.\n",
    "\n",
    "Two approaches:\n",
    "\n",
    "- 1) Copy and paste content in a **<tt>.txt<tt>** file.\n",
    "- 2) Install **<tt>pdftotext<tt>**: https://github.com/jalan/pdftotext."
   ]
  },
  {
   "cell_type": "code",
   "execution_count": 1,
   "metadata": {},
   "outputs": [],
   "source": [
    "# 1)\n",
    "# Read the raw file from txt\n",
    "f = open('../data/asylum_claims.txt','r')\n",
    "text = f.read()\n",
    "f.close()"
   ]
  },
  {
   "cell_type": "code",
   "execution_count": 2,
   "metadata": {},
   "outputs": [
    {
     "data": {
      "text/plain": [
       "'Upper Tribunal\\n(Immigration and Asylum Chamber)\\nAppeal Number: PA/00240/2019\\nTHE IMMIGRATION ACTS\\nHeard at Birmingham CJC\\nDecision\\n&\\nReasons\\nPromulgated\\nOn 21 November 2019\\nOn 8 November 2019\\nBefore\\nDEPUTY UPPER TRIBUNAL JUDGE O’RYAN\\nBetween\\nMR D A\\n(ANONYMITY DIRECTION MADE)\\nAppellant\\nand\\nTHE SECRETARY OF STATE FOR THE HOME DEPARTMENT\\nRespondent\\nRepresentation:\\nFor the Appellant:\\nMr Sharif, Fountain Solicitors\\nFor the Respondent: Mr Mills, Senior Home Office Presenting Officer\\nDECISION AND REASONS\\n1.\\nThis is the Appellant’s appeal against the decision of Judge of the First-tier\\nTribunal Boylan-Kemp MBE dated 2 May 2019 dismissing the Appellant’s\\nappeal against the Respondent’s decision of 23 November 2018 refusing\\nhis human rights and protection claim.\\n© CROWN COPYRIGHT 2019Appeal Number: PA/00240/2019\\n2. The Appellant is a national of Iraq of Kurdish origin and from Sulamaniyah\\nin the IKR. He gave an account that he was at risk of serious harm in the\\nIKR by reason of his family and extended tribe being in a feud with another\\ntribe in the IKR. The Appellant was not able to give many details of the\\norigins of the feud but stated that one family member had been killed as a\\nresult of it and that he himself had experienced two incidents; one being\\nthat unknown persons had fired upon a car in which he was travelling and\\nhis cousin had been injured in the shoulder, and another occasion when\\nthe house in which he lived was fired upon.\\n3. The Respondent in its decision refusing the protection claim disbelieved\\nthe Appellant’s account that there was any feud on the grounds that the\\nAppellant knew very few details of the alleged feud. There was also said\\nto be a discrepancy as between the Appellant’s evidence in interview as to\\nhow many occasions the Appellant experienced any problems himself\\n(refusal letter, para [26]) and a discrepancy between an alleged fear of his\\nown father (resulting from the Appellant refusing to take part in the feud)\\nand information given in an age assessment interview in which he had\\nstated that he had a good relationship with his family members (para\\n[31]).\\n4. The Appellant appealed against that decision and the matter came before\\nthe judge at the Birmingham hearing centre on 18 March 2019. The\\nAppellant was represented and gave evidence. At the date of that hearing\\nthe Appellant would have been 18 years of age. A further document was\\nrelied upon by the Respondent at that hearing, being a EURODAC search\\nresult, demonstrating that a person in the Appellant’s identity was\\nfingerprinted in Dresden in Germany on 22 March 2016. The Appellant’s\\naccount as given in his SEF interview and confirmed in oral evidence\\nbefore the judge was that he only left Iraq in December 2017. The\\nAppellant denied before the judge that the person identified in the\\nEURODAC search was him but the judge stated that she was satisfied by\\nthe details contained within the document, and looking at the clear\\nphotograph on the EURODAC match, that the person fingerprinted in\\nGermany was indeed the Appellant.\\n5. The judge found at paragraph 14 onwards as follows:\\n“16. The evidence provided by the EURODAC document is\\nunequivocal. The photograph contained within the document is\\nclearly the Appellant who appeared before me and I have no\\nreason to doubt that the document relates to him. Therefore this\\ndocument upon which I am satisfied I can place significant weight\\nputs him in Germany on 22 March 2016. Consequently I find that\\nthis evidence undermines the credibility of his entire account and\\nhis credibility as a witness in his own cause and that it renders\\nhis entire account unreliable.\\n2Appeal Number: PA/00240/2019\\n17. Further I also find his inability to recall the details of the alleged\\nfeud which caused him to leave his family and flee the country to\\nalso not be credible. If a young man was leaving his life behind\\nbecause of his reluctance to become involved in an ongoing\\nfamily feud then I would anticipate that he would have\\nknowledge of what he is in fear of and so I do not find it plausible\\nthat he would not know the details of this feud if he held such a\\ngenuine fear. Also I note that even on his own evidence there\\nhas been no specific risk or threat made to him which would\\ncause him to fear for his own safety beyond what is a more\\ngeneral tribal threat and of which he cannot provide much detail.\\n...\\n18. As I have found the Appellant’s alleged reasoning for leaving Iraq\\nto not be credible then I also find that it is not plausible that his\\nfamily have consequently threatened him as claimed due to his\\nalleged desertion because of the alleged feud. Instead I find that\\nhe has travelled to the UK with the assistance and knowledge of\\nhis family for reasons other than escaping a risk of persecution.\\nAs such I find that his family would therefore be able to assist\\nhim with obtaining a copy of his identification documents and\\nCSID which would help facilitate his return to Iraq. I also find that\\nhe would be able to return to the help and support of his family\\nthere.”\\nThe judge dismissed the Appellant’s appeal.\\n6. The Appellant appeals to the Upper Tribunal on grounds dated 15 May\\n2019 which argue very briefly that the judge erred in law at paragraphs 15\\nto 20 by giving inadequate reasoning for finding the Appellant’s account to\\nnot be credible and secondly that the judge had failed to apply relevant\\ncountry guidance.\\n7. Permission to appeal was granted by Judge of the First-tier Tribunal Keane\\non 24 June 2019. The judge stated as follows:\\n“The judge arguably had regard to irrelevant considerations in finding\\nthat the Appellant had not given a credible account of events. The\\njudge’s findings as to the credibility were to be found at paragraphs\\n15 to 18 inclusive of her decision. At paragraph 15 the judge\\nattached weight so as to undermine the Appellant’s credibility to a\\nEURODAC printout provided by the Respondent which as the judge\\nfound proved that the Appellant was photographed and printed in\\nGermany on 22 March 2016. The judge however did not explain why\\nsuch circumstance damaged the Appellant’s credibility. If the judge\\nhad in mind the Appellant’s apparent failure to claim asylum in\\nGermany the judge arguably should have stated so. At paragraph 16\\nof the decision the judge again accorded weight to the EURODAC\\ndocument without stating why. At paragraph 17 of the decision the\\n3Appeal Number: PA/00240/2019\\njudge stated that the judge would have anticipated that the Appellant\\nwould have had knowledge of the alleged feud which on his case\\ncaused him to leave his family and indeed his country. The judge\\narguably substituted her own understanding of what constituted\\nreasonable conduct in circumstances where arguably she should not\\nhave done so. At paragraph 18 the judge stated that it was not\\nplausible that the Appellant’s family have consequently threatened\\nhim on account of his ostensible desertion and the judge was\\narguably disbelieving the Appellant’s account without providing any\\nor adequate reasons. It was incumbent on the judge in resolving the\\nissue of credibility to embark upon a global assessment of the\\nAppellant’s credibility and to provide adequate reasons in support of a\\nfinding that he had not done so. This the judge arguably failed to do.”\\nSubmissions\\n8. Mr Sharif relies upon the grounds of appeal and the admittedly more\\nextensive grant of permission to appeal in support of his Appellant’s case.\\n9. Mr Sharif points out that the only date given in the Appellant’s account for\\nany particular incident was in relation to the incident when the car in\\nwhich the Appellant was travelling had been shot at. The date for that is to\\nbe found in the SEF interview at [86] and was simply ‘2016’. The\\nAppellant gives no other dates for the matters that he relies upon in\\nsupport of the proposition that he is at risk because of a blood feud in Iraq.\\nHe does however consistently state that he left Iraq in December 2017.\\nMr Sharif argues that the Appellant had accepted in the course of his\\nevidence that he had travelled through Germany and therefore the\\nevidence from the EURODAC search confirming that did not alter the\\ncredibility of the Appellant’s account. Mr Sharif also argued that the\\njudge’s findings in relation to it being incredible that the Appellant would\\nnot have had more knowledge about the details of the feud was an\\nirrational finding on the part of the judge.\\n10. For his part Mr Mills defends the judge’s decision and argues that the\\ndishonest statement that the Appellant had remained in December 2017\\nwas clearly capable of affecting the credibility of the Appellant’s account.\\nI raised with him whether or not such a discrepancy could be treated as\\ndeterminative of the account given that there were no dates given in the\\nAppellant’s account of matters occurring in Iraq any later than 22 March\\n2016. Mr Mills appeared to accept that it was right to say that the\\nAppellant’s credibility was not determinatively decided by the discrepancy\\nof his whereabouts in March 2016. However Mr Mills points to the other\\nfindings at paragraph 17 in support of the judge’s reasoning.\\nDiscussion\\n11. I find no material error of law in the judge’s decision. The suggestion in\\nthe grant of permission to appeal by Judge Keane that the judge had\\n4Appeal Number: PA/00240/2019\\narguably had regard to irrelevant considerations is difficult to sustain. The\\nAppellant has clearly given inconsistent evidence about his whereabouts,\\non the one part insisting that he remained in Iraq in December 2017 but\\nincontrovertible evidence existing from the EURODAC search result that he\\nwas present in Germany on 22 March 2016. These two items of evidence\\nsimply cannot sit together. True it is that there are no details of the\\nAppellant’s account of any incidents that he has set out which are dated\\nany later than 22 March 2016, and therefore being shot at in ‘2016’ and\\nhim departing Iraq prior to 22 March 2016 does not necessarily make his\\naccount impossible to believe, but it is clearly a very significant matter\\nthat the Appellant has lied about his continued presence in Iraq up to the\\npoint of December 2017 and the judge was fully entitled to treat that as a\\nvery significant matter. Whether or not she was entitled to treat it as\\nrendering ‘his entire account unreliable’ is moot.\\n12. However the judge does not stop there in her credibility findings because\\nshe continues, as is clear at paragraph 17, to set out other reasons for\\nfinding the Appellant’s account incredible. Whereas it may be expected\\nthat a young person may not be as fully informed about the details of a\\nfeud affecting his family and the wider tribe as might a fully-grown adult,\\nthe judge’s point is that the Appellant decided, together with the\\nassistance of a relative, to leave Iraq because of this feud and the judge\\nwas entitled to find that it was implausible that the Appellant knew so little\\nabout the feud whereas it had been the specific cause of his decision to\\nleave the country. I find that it was not irrational for the judge to make\\nthe findings that she did at paragraph 17. There are a number of reasons\\ntherefore given by the judge for finding the Appellant’s account incredible\\nand I find that none of those reasons is vitiated by any error of law.\\n13. Judge Keane in granting permission did not comment upon the Appellant’s\\nactual second ground which was that the judge had failed to apply country\\nguidance relevant to the issue of obtaining documents for readmission and\\nresidence in Iraq. However in the light of my decision that the judge’s\\ncredibility findings are sustainable it is also sustainable that the Appellant\\ncan have the assistance of family members in Iraq to obtain any\\nreplacement documents that are needed to facilitate his return to, and\\nresidence in Iraq.\\nNotice of Decision\\nThe judge’s decision did not involve the making of any material error of\\nlaw.\\nI do not set aside the decision.\\nThe Appellant’s appeal is dismissed.\\nSigned\\nDate 20.11.19\\n5Appeal Number: PA/00240/2019\\nDeputy Upper Tribunal Judge O’Ryan\\nDirection Regarding Anonymity – Rule 14 of the Tribunal Procedure\\n(Upper Tribunal) Rules 2008\\nUnless and until a Tribunal or court directs otherwise, the Appellant is granted\\nanonymity. No report of these proceedings shall directly or indirectly identify\\nhim or any member of their family. This direction applies both to the Appellant\\nand to the Respondent. Failure to comply with this direction could lead to\\ncontempt of court proceedings.\\nSigned\\nDate 20.11.19\\nDeputy Upper Tribunal Judge O’Ryan\\n6\\nUpper Tribunal\\n(Immigration and Asylum Chamber)\\nAppeal Number: PA/05945/2018\\nTHE IMMIGRATION ACTS\\nHeard at Birmingham CJC\\nOn 5 th July 2019\\nDecision & Reasons Promulgated\\nOn 19 th August 2019\\nBefore\\nDEPUTY UPPER TRIBUNAL JUDGE JUSS\\nBetween\\nHA\\n(ANONYMITY DIRECTION MADE)\\nAppellant\\nand\\nTHE SECRETARY OF STATE FOR THE HOME DEPARTMENT\\nRespondent\\nRepresentation:\\nFor the Appellant:\\nMr J Howard (Solicitor)\\nFor the Respondent: Mr D Mills (Senior HOPO)\\nDECISION AND REASONS\\n1.\\nThis is an appeal against the determination of First-tier Tribunal Judge\\nPacey, promulgated on 24 th June 2018, following a hearing at Birmingham\\non 6 th June 2018. In the determination, the judge dismissed the appeal of\\nthe Appellant, whereupon the Appellant subsequently applied for, and was\\ngranted, permission to appeal to the Upper Tribunal, and thus the matter\\ncomes before me.\\nThe Appellant\\n© CROWN COPYRIGHT 2019Appeal Number: PA/05945/2018\\n2.\\nThe Appellant is a male, a citizen of Iran, and was born on 22 nd July 1996.\\nHe appealed against the decision of the Respondent dated 24 th April 2018\\nrefusing his claim for asylum and humanitarian protection pursuant to\\nparagraph 339C of HC 395.\\nThe Appellant’s Claim\\n3.\\nThe essence of the Appellant’s claim is that he is a member of a particular\\nsocial group, because he is a gay Iranian man who would face persecution\\nif returned, and additionally he is also an atheist, who would be ill-treated\\nupon return as a non-religious person, which is forbidden in Iran.\\nThe Judge’s Findings\\n4. The judge noted how the Appellant in his screening interview has said that\\nhe held no religion and that he would be subject to persecution as a non-\\nreligious person if returned to Iran. He made no mention at that stage\\nthat he was also a gay person. During his asylum interview, however, he\\nstated that he was a danger also because he was a homosexual and\\nfeared the government given that homosexuality was punishable by\\ndeath. He had not mentioned this at his screening interview because he\\ndid not know anything about the country he was coming to. The Appellant\\nhad then explained how he had a boyfriend in the UK by the name of [FS],\\nwith whom he had been in relationship for about one and a half months.\\nHe also had three serious relationships which he went on to describe in\\nevidence before the Tribunal. The judge did not find the Appellant to be\\ncredible because the appellant’s explanation that he had not mentioned\\nhis homosexuality during his screening interview, because he did not know\\nthe country he was coming to, was not plausible. As the judge explained,\\n“if he did not know the UK approach to homosexuality ... he could not\\nhave known if the UK adopted as punitive an approach to gay people as\\ndid Iran.... For all he knew he could have been travelling from the frying\\npan into the fire” (paragraph 68).\\n5. On the other hand, the judge observed that if the Appellant was aware of\\nthe actual UK approach to homosexuality, “then there was no reason for\\nhim not to have mentioned his sexuality at the screening interview”\\n(paragraph 69).\\n6. The judge was also not impressed by the witnesses before the Tribunal. In\\nshort, the Appellant’s claim was rejected wholesale. The appeal was\\ndismissed.\\nGrounds of Application\\n7.\\nThe grounds of application state that the judge had engaged in a material\\nerror of law in relation to the evidence of a Miss [L] and that of Mr [S]\\nwhose credibility had been wrongly impugned by the judge. There had\\nbeen apparently a discrepancy between to the oral and the written\\n2Appeal Number: PA/05945/2018\\nevidence of Miss [L], but this discrepancy had not been put to the witness,\\nand if this was so then this was contrary to the rules of natural justice.\\n8.\\nOn 23 rd November 2018 permission to appeal was granted.\\nSubmissions\\n9.\\nAt the hearing before me on 5 th July 2019, the Appellant was represented\\nby Mr Howard, who adopted the grounds of application. He submitted that\\nif the judge was concerned about the discrepancy in the oral and written\\nevidence of Miss [L], then this should have been explored by the Tribunal,\\nbecause in her oral evidence, Miss [L] had said that she had “not met [F]”,\\nwhereas in her written evidence she had said that “she also knew his\\nprevious partner, [F]” (paragraph 34). Secondly, Mr Howard submitted\\nthat if one looks at the evidence of Mr [S] (at page 14 of the Appellant’s\\nbundle). He makes it quite clear that he is the director of a voluntary\\norganisation called Persian LGBT Advisory Services, where it provides\\n“voluntary social activities for LGBT asylum seekers”. He explains that the\\nappellant had contacted him via Facebook on 9 th June 2016. He invited\\nthe Appellant to meet with him, and after a conversation he had come to\\nthe view that “I am aware the Appellant is openly active on Facebook page\\nwhich I would refer to as an online activist where he shares information on\\nLGBT community using his Facebook page...”. On that basis that the\\njudge was wrong to have impugned his credibility.\\n10. For his part, Mr Mills submitted that the issues that were before the judge,\\nboth in relation to the Appellant’s atheism and his homosexual tendencies,\\nwere not new issues. If evidence was collected by the Appellant between\\nthe asylum interview and the Tribunal hearing, in a manner that the\\nAppellant himself chose to do, then he should have been prepared to deal\\nwith it on the basis of oral testimony. These were not new points. The\\nwitnesses were not people whose evidence had previously been accepted.\\nBoth cases were simply black and white discrepancy cases where the\\njudge was entitled to say that she would not attach any significant weight\\nto such evidence, because as put before the Tribunal, the evidence was\\nnot persuasive.\\nNo Error of Law\\n11. I am satisfied that the making of the decision by the judge did not involve\\nthe making of an error on a point of law (see Section 12(1) of TCEA 2007)\\nsuch that I should set aside the decision. My reasons are as follows. First,\\nit is simply not correct to say that the discrepancy in the oral and witness\\nstatement evidence of Miss [L] was something that the judge should have\\nprobed herself with a view to ascertaining exactly what Miss [L] knew\\nabout Mr [F]. The judge noted that in her oral evidence Miss [L] stated she\\nwas aware that the Appellant had a relationship in the UK “but had not\\nmet [F]”. Then the judge noted how in her witness statement, Miss [L] had\\nstated that she became friends with the Appellant when she met him in\\nCalais at the “the jungle” in April 2016, and “when they became strong\\n3Appeal Number: PA/05945/2018\\nfriends he told her of his fear of persecution and that he was an atheist.\\nShe also knew his previous partner, [F]” (paragraph 34). It was for the\\nAppellant’s representative to probe this matter further. As the evidence\\nstood, the judge was entitled to conclude that “Miss [L] has also been\\ninconsistent in a written and oral account of whether she had met [F]”\\n(paragraph 78).\\n12. Second, as far as Mr [S]’s evidence is concerned, I note that he is a\\ndirector of the voluntary organisation called Persian LGBT Advisory\\nServices. He wrote in terms that he was “aware the Appellant is openly\\nactive on Facebook page”. He had stated that “I have acknowledged that\\nthe Appellant has made a strong relationship with the wider LGBT\\ncommunities ...”. He had further stated that “I have also seen that the\\nAppellant has participated openly at this year’s LGBT Pride with Christian\\nLGBT parade ...”. He ended his statement by declaring that “based on\\ninformation that has been provided by the Appellant I can confirm that he\\nis homosexual and would be subject of persecution...”. (See page 14 of\\nthe Appellant’s bundle). The manner in which the judge dealt with this\\nevidence was one which was entirely open to her to do. What the judge\\nstates is that she would “attach very little weight to Mr [S]’s evidence”\\nbecause “he said at the hearing that he had attended court since 2008 to\\nsupport gay asylum seekers”.\\n13. Nevertheless as the judge observed, “his support did not, on his own\\nevidence, comprise independent verification of each Appellant’s claim\\nsince he took the claim of each at face value, entirely taking their word for\\nit without doing anything to verify their claim, in the way of what might be\\ntermed ‘due diligence’. While he may well be well-meaning, the uncritical\\nnature of his support means it is of very little probative value” (paragraph\\n79).\\n14. There is nothing in this particular analysis of the judge’s detailed\\nexplanation that sits ill at ease with what the witness himself states in his\\nstatement of 4 th June 2018 (at page 14 of the Appellant’s bundle) when he\\nmakes it clear that “I am aware” or that “I have acknowledged”. In any\\nevent, what the judge is referring to is actually what Mr [S] himself said in\\nhis evidence where he makes it clear that as a director of the voluntary\\norganisation he supports gay asylum seekers taking each claim at face\\nvalue. Accordingly, the decision of the judge in this particular case was\\nclear, comprehensive, and well-reasoned and there is no error of law in it.\\nDecision\\n15. The decision of the First-tier Tribunal did not involve the making of an\\nerror of law. The decision shall stand.\\n16. An anonymity order is made.\\n17. The appeal is dismissed.\\n4Appeal Number: PA/05945/2018\\nDirection Regarding Anonymity – Rule 14 of the Tribunal Procedure\\n(Upper Tribunal) Rules 2008\\nUnless and until a Tribunal or court directs otherwise, the Appellant is granted\\nanonymity. No report of these proceedings shall directly or indirectly identify\\nhim or any member of\\ntheir family.\\nThis direction applies both to the Appellant and to the\\nRespondent. Failure to comply with this direction could lead to contempt of\\ncourt proceedings.\\nSigned\\nDated\\nDeputy Upper Tribunal Judge Juss\\n15 th August 2019\\n5\\n'"
      ]
     },
     "execution_count": 2,
     "metadata": {},
     "output_type": "execute_result"
    }
   ],
   "source": [
    "text"
   ]
  },
  {
   "cell_type": "code",
   "execution_count": 3,
   "metadata": {},
   "outputs": [],
   "source": [
    "# Let's substitute \\n by spaces\n",
    "import re\n",
    "text = re.sub('\\n', ' ', text)"
   ]
  },
  {
   "cell_type": "code",
   "execution_count": 4,
   "metadata": {},
   "outputs": [
    {
     "name": "stdout",
     "output_type": "stream",
     "text": [
      "Upper Tribunal (Immigration and Asylum Chamber) Appeal Number: PA/00240/2019 THE IMMIGRATION ACTS Heard at Birmingham CJC Decision & Reasons Promulgated On 21 November 2019 On 8 November 2019 Before DEPUTY UPPER TRIBUNAL JUDGE O’RYAN Between MR D A (ANONYMITY DIRECTION MADE) Appellant and THE SECRETARY OF STATE FOR THE HOME DEPARTMENT Respondent Representation: For the Appellant: Mr Sharif, Fountain Solicitors For the Respondent: Mr Mills, Senior Home Office Presenting Officer DECISION AND REASONS 1. This is the Appellant’s appeal against the decision of Judge of the First-tier Tribunal Boylan-Kemp MBE dated 2 May 2019 dismissing the Appellant’s appeal against the Respondent’s decision of 23 November 2018 refusing his human rights and protection claim. © CROWN COPYRIGHT 2019Appeal Number: PA/00240/2019 2. The Appellant is a national of Iraq of Kurdish origin and from Sulamaniyah in the IKR. He gave an account that he was at risk of serious harm in the IKR by reason of his family and extended tribe being in a feud with another tribe in the IKR. The Appellant was not able to give many details of the origins of the feud but stated that one family member had been killed as a result of it and that he himself had experienced two incidents; one being that unknown persons had fired upon a car in which he was travelling and his cousin had been injured in the shoulder, and another occasion when the house in which he lived was fired upon. 3. The Respondent in its decision refusing the protection claim disbelieved the Appellant’s account that there was any feud on the grounds that the Appellant knew very few details of the alleged feud. There was also said to be a discrepancy as between the Appellant’s evidence in interview as to how many occasions the Appellant experienced any problems himself (refusal letter, para [26]) and a discrepancy between an alleged fear of his own father (resulting from the Appellant refusing to take part in the feud) and information given in an age assessment interview in which he had stated that he had a good relationship with his family members (para [31]). 4. The Appellant appealed against that decision and the matter came before the judge at the Birmingham hearing centre on 18 March 2019. The Appellant was represented and gave evidence. At the date of that hearing the Appellant would have been 18 years of age. A further document was relied upon by the Respondent at that hearing, being a EURODAC search result, demonstrating that a person in the Appellant’s identity was fingerprinted in Dresden in Germany on 22 March 2016. The Appellant’s account as given in his SEF interview and confirmed in oral evidence before the judge was that he only left Iraq in December 2017. The Appellant denied before the judge that the person identified in the EURODAC search was him but the judge stated that she was satisfied by the details contained within the document, and looking at the clear photograph on the EURODAC match, that the person fingerprinted in Germany was indeed the Appellant. 5. The judge found at paragraph 14 onwards as follows: “16. The evidence provided by the EURODAC document is unequivocal. The photograph contained within the document is clearly the Appellant who appeared before me and I have no reason to doubt that the document relates to him. Therefore this document upon which I am satisfied I can place significant weight puts him in Germany on 22 March 2016. Consequently I find that this evidence undermines the credibility of his entire account and his credibility as a witness in his own cause and that it renders his entire account unreliable. 2Appeal Number: PA/00240/2019 17. Further I also find his inability to recall the details of the alleged feud which caused him to leave his family and flee the country to also not be credible. If a young man was leaving his life behind because of his reluctance to become involved in an ongoing family feud then I would anticipate that he would have knowledge of what he is in fear of and so I do not find it plausible that he would not know the details of this feud if he held such a genuine fear. Also I note that even on his own evidence there has been no specific risk or threat made to him which would cause him to fear for his own safety beyond what is a more general tribal threat and of which he cannot provide much detail. ... 18. As I have found the Appellant’s alleged reasoning for leaving Iraq to not be credible then I also find that it is not plausible that his family have consequently threatened him as claimed due to his alleged desertion because of the alleged feud. Instead I find that he has travelled to the UK with the assistance and knowledge of his family for reasons other than escaping a risk of persecution. As such I find that his family would therefore be able to assist him with obtaining a copy of his identification documents and CSID which would help facilitate his return to Iraq. I also find that he would be able to return to the help and support of his family there.” The judge dismissed the Appellant’s appeal. 6. The Appellant appeals to the Upper Tribunal on grounds dated 15 May 2019 which argue very briefly that the judge erred in law at paragraphs 15 to 20 by giving inadequate reasoning for finding the Appellant’s account to not be credible and secondly that the judge had failed to apply relevant country guidance. 7. Permission to appeal was granted by Judge of the First-tier Tribunal Keane on 24 June 2019. The judge stated as follows: “The judge arguably had regard to irrelevant considerations in finding that the Appellant had not given a credible account of events. The judge’s findings as to the credibility were to be found at paragraphs 15 to 18 inclusive of her decision. At paragraph 15 the judge attached weight so as to undermine the Appellant’s credibility to a EURODAC printout provided by the Respondent which as the judge found proved that the Appellant was photographed and printed in Germany on 22 March 2016. The judge however did not explain why such circumstance damaged the Appellant’s credibility. If the judge had in mind the Appellant’s apparent failure to claim asylum in Germany the judge arguably should have stated so. At paragraph 16 of the decision the judge again accorded weight to the EURODAC document without stating why. At paragraph 17 of the decision the 3Appeal Number: PA/00240/2019 judge stated that the judge would have anticipated that the Appellant would have had knowledge of the alleged feud which on his case caused him to leave his family and indeed his country. The judge arguably substituted her own understanding of what constituted reasonable conduct in circumstances where arguably she should not have done so. At paragraph 18 the judge stated that it was not plausible that the Appellant’s family have consequently threatened him on account of his ostensible desertion and the judge was arguably disbelieving the Appellant’s account without providing any or adequate reasons. It was incumbent on the judge in resolving the issue of credibility to embark upon a global assessment of the Appellant’s credibility and to provide adequate reasons in support of a finding that he had not done so. This the judge arguably failed to do.” Submissions 8. Mr Sharif relies upon the grounds of appeal and the admittedly more extensive grant of permission to appeal in support of his Appellant’s case. 9. Mr Sharif points out that the only date given in the Appellant’s account for any particular incident was in relation to the incident when the car in which the Appellant was travelling had been shot at. The date for that is to be found in the SEF interview at [86] and was simply ‘2016’. The Appellant gives no other dates for the matters that he relies upon in support of the proposition that he is at risk because of a blood feud in Iraq. He does however consistently state that he left Iraq in December 2017. Mr Sharif argues that the Appellant had accepted in the course of his evidence that he had travelled through Germany and therefore the evidence from the EURODAC search confirming that did not alter the credibility of the Appellant’s account. Mr Sharif also argued that the judge’s findings in relation to it being incredible that the Appellant would not have had more knowledge about the details of the feud was an irrational finding on the part of the judge. 10. For his part Mr Mills defends the judge’s decision and argues that the dishonest statement that the Appellant had remained in December 2017 was clearly capable of affecting the credibility of the Appellant’s account. I raised with him whether or not such a discrepancy could be treated as determinative of the account given that there were no dates given in the Appellant’s account of matters occurring in Iraq any later than 22 March 2016. Mr Mills appeared to accept that it was right to say that the Appellant’s credibility was not determinatively decided by the discrepancy of his whereabouts in March 2016. However Mr Mills points to the other findings at paragraph 17 in support of the judge’s reasoning. Discussion 11. I find no material error of law in the judge’s decision. The suggestion in the grant of permission to appeal by Judge Keane that the judge had 4Appeal Number: PA/00240/2019 arguably had regard to irrelevant considerations is difficult to sustain. The Appellant has clearly given inconsistent evidence about his whereabouts, on the one part insisting that he remained in Iraq in December 2017 but incontrovertible evidence existing from the EURODAC search result that he was present in Germany on 22 March 2016. These two items of evidence simply cannot sit together. True it is that there are no details of the Appellant’s account of any incidents that he has set out which are dated any later than 22 March 2016, and therefore being shot at in ‘2016’ and him departing Iraq prior to 22 March 2016 does not necessarily make his account impossible to believe, but it is clearly a very significant matter that the Appellant has lied about his continued presence in Iraq up to the point of December 2017 and the judge was fully entitled to treat that as a very significant matter. Whether or not she was entitled to treat it as rendering ‘his entire account unreliable’ is moot. 12. However the judge does not stop there in her credibility findings because she continues, as is clear at paragraph 17, to set out other reasons for finding the Appellant’s account incredible. Whereas it may be expected that a young person may not be as fully informed about the details of a feud affecting his family and the wider tribe as might a fully-grown adult, the judge’s point is that the Appellant decided, together with the assistance of a relative, to leave Iraq because of this feud and the judge was entitled to find that it was implausible that the Appellant knew so little about the feud whereas it had been the specific cause of his decision to leave the country. I find that it was not irrational for the judge to make the findings that she did at paragraph 17. There are a number of reasons therefore given by the judge for finding the Appellant’s account incredible and I find that none of those reasons is vitiated by any error of law. 13. Judge Keane in granting permission did not comment upon the Appellant’s actual second ground which was that the judge had failed to apply country guidance relevant to the issue of obtaining documents for readmission and residence in Iraq. However in the light of my decision that the judge’s credibility findings are sustainable it is also sustainable that the Appellant can have the assistance of family members in Iraq to obtain any replacement documents that are needed to facilitate his return to, and residence in Iraq. Notice of Decision The judge’s decision did not involve the making of any material error of law. I do not set aside the decision. The Appellant’s appeal is dismissed. Signed Date 20.11.19 5Appeal Number: PA/00240/2019 Deputy Upper Tribunal Judge O’Ryan Direction Regarding Anonymity – Rule 14 of the Tribunal Procedure (Upper Tribunal) Rules 2008 Unless and until a Tribunal or court directs otherwise, the Appellant is granted anonymity. No report of these proceedings shall directly or indirectly identify him or any member of their family. This direction applies both to the Appellant and to the Respondent. Failure to comply with this direction could lead to contempt of court proceedings. Signed Date 20.11.19 Deputy Upper Tribunal Judge O’Ryan 6 Upper Tribunal (Immigration and Asylum Chamber) Appeal Number: PA/05945/2018 THE IMMIGRATION ACTS Heard at Birmingham CJC On 5 th July 2019 Decision & Reasons Promulgated On 19 th August 2019 Before DEPUTY UPPER TRIBUNAL JUDGE JUSS Between HA (ANONYMITY DIRECTION MADE) Appellant and THE SECRETARY OF STATE FOR THE HOME DEPARTMENT Respondent Representation: For the Appellant: Mr J Howard (Solicitor) For the Respondent: Mr D Mills (Senior HOPO) DECISION AND REASONS 1. This is an appeal against the determination of First-tier Tribunal Judge Pacey, promulgated on 24 th June 2018, following a hearing at Birmingham on 6 th June 2018. In the determination, the judge dismissed the appeal of the Appellant, whereupon the Appellant subsequently applied for, and was granted, permission to appeal to the Upper Tribunal, and thus the matter comes before me. The Appellant © CROWN COPYRIGHT 2019Appeal Number: PA/05945/2018 2. The Appellant is a male, a citizen of Iran, and was born on 22 nd July 1996. He appealed against the decision of the Respondent dated 24 th April 2018 refusing his claim for asylum and humanitarian protection pursuant to paragraph 339C of HC 395. The Appellant’s Claim 3. The essence of the Appellant’s claim is that he is a member of a particular social group, because he is a gay Iranian man who would face persecution if returned, and additionally he is also an atheist, who would be ill-treated upon return as a non-religious person, which is forbidden in Iran. The Judge’s Findings 4. The judge noted how the Appellant in his screening interview has said that he held no religion and that he would be subject to persecution as a non- religious person if returned to Iran. He made no mention at that stage that he was also a gay person. During his asylum interview, however, he stated that he was a danger also because he was a homosexual and feared the government given that homosexuality was punishable by death. He had not mentioned this at his screening interview because he did not know anything about the country he was coming to. The Appellant had then explained how he had a boyfriend in the UK by the name of [FS], with whom he had been in relationship for about one and a half months. He also had three serious relationships which he went on to describe in evidence before the Tribunal. The judge did not find the Appellant to be credible because the appellant’s explanation that he had not mentioned his homosexuality during his screening interview, because he did not know the country he was coming to, was not plausible. As the judge explained, “if he did not know the UK approach to homosexuality ... he could not have known if the UK adopted as punitive an approach to gay people as did Iran.... For all he knew he could have been travelling from the frying pan into the fire” (paragraph 68). 5. On the other hand, the judge observed that if the Appellant was aware of the actual UK approach to homosexuality, “then there was no reason for him not to have mentioned his sexuality at the screening interview” (paragraph 69). 6. The judge was also not impressed by the witnesses before the Tribunal. In short, the Appellant’s claim was rejected wholesale. The appeal was dismissed. Grounds of Application 7. The grounds of application state that the judge had engaged in a material error of law in relation to the evidence of a Miss [L] and that of Mr [S] whose credibility had been wrongly impugned by the judge. There had been apparently a discrepancy between to the oral and the written 2Appeal Number: PA/05945/2018 evidence of Miss [L], but this discrepancy had not been put to the witness, and if this was so then this was contrary to the rules of natural justice. 8. On 23 rd November 2018 permission to appeal was granted. Submissions 9. At the hearing before me on 5 th July 2019, the Appellant was represented by Mr Howard, who adopted the grounds of application. He submitted that if the judge was concerned about the discrepancy in the oral and written evidence of Miss [L], then this should have been explored by the Tribunal, because in her oral evidence, Miss [L] had said that she had “not met [F]”, whereas in her written evidence she had said that “she also knew his previous partner, [F]” (paragraph 34). Secondly, Mr Howard submitted that if one looks at the evidence of Mr [S] (at page 14 of the Appellant’s bundle). He makes it quite clear that he is the director of a voluntary organisation called Persian LGBT Advisory Services, where it provides “voluntary social activities for LGBT asylum seekers”. He explains that the appellant had contacted him via Facebook on 9 th June 2016. He invited the Appellant to meet with him, and after a conversation he had come to the view that “I am aware the Appellant is openly active on Facebook page which I would refer to as an online activist where he shares information on LGBT community using his Facebook page...”. On that basis that the judge was wrong to have impugned his credibility. 10. For his part, Mr Mills submitted that the issues that were before the judge, both in relation to the Appellant’s atheism and his homosexual tendencies, were not new issues. If evidence was collected by the Appellant between the asylum interview and the Tribunal hearing, in a manner that the Appellant himself chose to do, then he should have been prepared to deal with it on the basis of oral testimony. These were not new points. The witnesses were not people whose evidence had previously been accepted. Both cases were simply black and white discrepancy cases where the judge was entitled to say that she would not attach any significant weight to such evidence, because as put before the Tribunal, the evidence was not persuasive. No Error of Law 11. I am satisfied that the making of the decision by the judge did not involve the making of an error on a point of law (see Section 12(1) of TCEA 2007) such that I should set aside the decision. My reasons are as follows. First, it is simply not correct to say that the discrepancy in the oral and witness statement evidence of Miss [L] was something that the judge should have probed herself with a view to ascertaining exactly what Miss [L] knew about Mr [F]. The judge noted that in her oral evidence Miss [L] stated she was aware that the Appellant had a relationship in the UK “but had not met [F]”. Then the judge noted how in her witness statement, Miss [L] had stated that she became friends with the Appellant when she met him in Calais at the “the jungle” in April 2016, and “when they became strong 3Appeal Number: PA/05945/2018 friends he told her of his fear of persecution and that he was an atheist. She also knew his previous partner, [F]” (paragraph 34). It was for the Appellant’s representative to probe this matter further. As the evidence stood, the judge was entitled to conclude that “Miss [L] has also been inconsistent in a written and oral account of whether she had met [F]” (paragraph 78). 12. Second, as far as Mr [S]’s evidence is concerned, I note that he is a director of the voluntary organisation called Persian LGBT Advisory Services. He wrote in terms that he was “aware the Appellant is openly active on Facebook page”. He had stated that “I have acknowledged that the Appellant has made a strong relationship with the wider LGBT communities ...”. He had further stated that “I have also seen that the Appellant has participated openly at this year’s LGBT Pride with Christian LGBT parade ...”. He ended his statement by declaring that “based on information that has been provided by the Appellant I can confirm that he is homosexual and would be subject of persecution...”. (See page 14 of the Appellant’s bundle). The manner in which the judge dealt with this evidence was one which was entirely open to her to do. What the judge states is that she would “attach very little weight to Mr [S]’s evidence” because “he said at the hearing that he had attended court since 2008 to support gay asylum seekers”. 13. Nevertheless as the judge observed, “his support did not, on his own evidence, comprise independent verification of each Appellant’s claim since he took the claim of each at face value, entirely taking their word for it without doing anything to verify their claim, in the way of what might be termed ‘due diligence’. While he may well be well-meaning, the uncritical nature of his support means it is of very little probative value” (paragraph 79). 14. There is nothing in this particular analysis of the judge’s detailed explanation that sits ill at ease with what the witness himself states in his statement of 4 th June 2018 (at page 14 of the Appellant’s bundle) when he makes it clear that “I am aware” or that “I have acknowledged”. In any event, what the judge is referring to is actually what Mr [S] himself said in his evidence where he makes it clear that as a director of the voluntary organisation he supports gay asylum seekers taking each claim at face value. Accordingly, the decision of the judge in this particular case was clear, comprehensive, and well-reasoned and there is no error of law in it. Decision 15. The decision of the First-tier Tribunal did not involve the making of an error of law. The decision shall stand. 16. An anonymity order is made. 17. The appeal is dismissed. 4Appeal Number: PA/05945/2018 Direction Regarding Anonymity – Rule 14 of the Tribunal Procedure (Upper Tribunal) Rules 2008 Unless and until a Tribunal or court directs otherwise, the Appellant is granted anonymity. No report of these proceedings shall directly or indirectly identify him or any member of their family. This direction applies both to the Appellant and to the Respondent. Failure to comply with this direction could lead to contempt of court proceedings. Signed Dated Deputy Upper Tribunal Judge Juss 15 th August 2019 5 \n"
     ]
    }
   ],
   "source": [
    "print(text)"
   ]
  },
  {
   "cell_type": "code",
   "execution_count": 5,
   "metadata": {},
   "outputs": [
    {
     "name": "stdout",
     "output_type": "stream",
     "text": [
      "Requirement already satisfied: pdfplumber in /home/avaldivia/env37/lib/python3.7/site-packages (0.5.27)\n",
      "Requirement already satisfied: pdfminer.six==20200517 in /home/avaldivia/env37/lib/python3.7/site-packages (from pdfplumber) (20200517)\n",
      "Requirement already satisfied: Pillow>=7.0.0 in /home/avaldivia/env37/lib/python3.7/site-packages (from pdfplumber) (7.1.2)\n",
      "Requirement already satisfied: Wand in /home/avaldivia/env37/lib/python3.7/site-packages (from pdfplumber) (0.6.6)\n",
      "Requirement already satisfied: sortedcontainers in /home/avaldivia/env37/lib/python3.7/site-packages (from pdfminer.six==20200517->pdfplumber) (2.3.0)\n",
      "Requirement already satisfied: chardet; python_version > \"3.0\" in /home/avaldivia/env37/lib/python3.7/site-packages (from pdfminer.six==20200517->pdfplumber) (3.0.4)\n",
      "Requirement already satisfied: pycryptodome in /home/avaldivia/env37/lib/python3.7/site-packages (from pdfminer.six==20200517->pdfplumber) (3.10.1)\n",
      "\u001b[33mWARNING: You are using pip version 20.2b1; however, version 21.0.1 is available.\n",
      "You should consider upgrading via the '/home/avaldivia/env37/bin/python3.7 -m pip install --upgrade pip' command.\u001b[0m\n"
     ]
    }
   ],
   "source": [
    "!pip install pdfplumber\n",
    "import pdfplumber\n",
    "\n",
    "with pdfplumber.open(\"../data/PA059452018.pdf\") as pdf:\n",
    "    first_page = pdf.pages[0]\n",
    "    pdf_11 = first_page.extract_text()\n",
    "    second_page = pdf.pages[1]\n",
    "    pdf_12 = second_page.extract_text()\n",
    "    third_page = pdf.pages[2]\n",
    "    pdf_13 = third_page.extract_text()\n",
    "    fourth_page = pdf.pages[3]\n",
    "    pdf_14 = first_page.extract_text()\n",
    "    fifth_page = pdf.pages[4]\n",
    "    pdf_15 = fifth_page.extract_text()\n",
    "\n",
    "pdf_1 = pdf_11 + \"\\n\" + pdf_12 + \"\\n\" + pdf_13 + \"\\n\" + pdf_14 + \"\\n\" + pdf_15"
   ]
  },
  {
   "cell_type": "code",
   "execution_count": 6,
   "metadata": {},
   "outputs": [
    {
     "data": {
      "text/plain": [
       "' \\nUpper Tribunal \\n(Immigration and Asylum Chamber) Appeal Number: PA/05945/2018\\nTHE IMMIGRATION ACTS\\nHeard at Birmingham CJC Decision & Reasons Promulgated\\nOn 5th July 2019 On 19th August 2019\\nBefore\\nDEPUTY UPPER TRIBUNAL JUDGE JUSS\\nBetween\\nHA\\n(ANONYMITY DIRECTION MADE)\\nAppellant\\nand\\nTHE SECRETARY OF STATE FOR THE HOME DEPARTMENT\\nRespondent\\nRepresentation:\\nFor the Appellant: Mr J Howard (Solicitor)\\nFor the Respondent: Mr D Mills (Senior HOPO)\\nDECISION AND REASONS\\n1. This is an appeal against the determination of First-tier Tribunal Judge\\nPacey, promulgated on 24th June 2018, following a hearing at Birmingham\\non 6th June 2018.  In the determination, the judge dismissed the appeal of\\nthe Appellant, whereupon the Appellant subsequently applied for, and was\\ngranted, permission to appeal to the Upper Tribunal, and thus the matter\\ncomes before me.\\nThe Appellant\\n© CROWN COPYRIGHT 2019\\nAppeal Number: PA/05945/2018\\n2. The Appellant is a male, a citizen of Iran, and was born on 22nd July 1996.\\nHe appealed against the decision of the Respondent dated 24th April 2018\\nrefusing his claim for asylum and humanitarian protection pursuant to\\nparagraph 339C of HC 395.\\nThe Appellant’s Claim\\n3. The essence of the Appellant’s claim is that he is a member of a particular\\nsocial group, because he is a gay Iranian man who would face persecution\\nif returned, and additionally he is also an atheist, who would be ill-treated\\nupon return as a non-religious person, which is forbidden in Iran.  \\nThe Judge’s Findings\\n4. The judge noted how the Appellant in his screening interview has said that\\nhe held no religion and that he would be subject to persecution as a non-\\nreligious person if returned to Iran.  He made no mention at that stage\\nthat he was also a gay person.  During his asylum interview, however, he\\nstated that he was a danger also because he was a homosexual and\\nfeared the government given that homosexuality was punishable by\\ndeath.  He had not mentioned this at his screening interview because he\\ndid not know anything about the country he was coming to.  The Appellant\\nhad then explained how he had a boyfriend in the UK by the name of [FS],\\nwith whom he had been in relationship for about one and a half months.\\nHe also had three serious relationships which he went on to describe in\\nevidence before the Tribunal.  The judge did not find the Appellant to be\\ncredible because the appellant’s explanation that he had not mentioned\\nhis homosexuality during his screening interview, because he did not know\\nthe country he was coming to, was not plausible.  As the judge explained,\\n“if he did not know the UK approach to homosexuality … he could not\\nhave known if the UK adopted as punitive an approach to gay people as\\ndid Iran….  For all he knew he could have been travelling from the frying\\npan into the fire” (paragraph 68).  \\n5. On the other hand, the judge observed that if the Appellant was aware of\\nthe actual UK approach to homosexuality, “then there was no reason for\\nhim not to have mentioned his sexuality at the screening interview”\\n(paragraph 69).  \\n6. The judge was also not impressed by the witnesses before the Tribunal.  In\\nshort, the Appellant’s claim was rejected wholesale.   The appeal was\\ndismissed.\\nGrounds of Application\\n7. The grounds of application state that the judge had engaged in a material\\nerror of law in relation to the evidence of a Miss [L] and that of Mr [S]\\nwhose credibility had been wrongly impugned by the judge.  There had\\nbeen apparently a discrepancy between to the oral and the written\\n2\\nAppeal Number: PA/05945/2018\\nevidence of Miss [L], but this discrepancy had not been put to the witness,\\nand if this was so then this was contrary to the rules of natural justice.  \\n8. On 23rd November 2018 permission to appeal was granted.  \\nSubmissions\\n9. At the hearing before me on 5th July 2019, the Appellant was represented\\nby Mr Howard, who adopted the grounds of application.  He submitted that\\nif the judge was concerned about the discrepancy in the oral and written\\nevidence of Miss [L], then this should have been explored by the Tribunal,\\nbecause in her oral evidence, Miss [L] had said that she had “not met [F]”,\\nwhereas in her written evidence she had said that “she also knew his\\nprevious partner, [F]” (paragraph 34).  Secondly, Mr Howard submitted\\nthat if one looks at the evidence of Mr [S] (at page 14 of the Appellant’s\\nbundle).  He makes it quite clear that he is the director of a voluntary\\norganisation called Persian LGBT Advisory Services, where it provides\\n“voluntary social activities for LGBT asylum seekers”.  He explains that the\\nappellant had contacted him via Facebook on 9th June 2016.  He invited\\nthe Appellant to meet with him, and after a conversation he had come to\\nthe view that “I am aware the Appellant is openly active on Facebook page\\nwhich I would refer to as an online activist where he shares information on\\nLGBT community using his Facebook page…”.   On that basis that the\\njudge was wrong to have impugned his credibility. \\n10. For his part, Mr Mills submitted that the issues that were before the judge,\\nboth in relation to the Appellant’s atheism and his homosexual tendencies,\\nwere not new issues.  If evidence was collected by the Appellant between\\nthe asylum interview and the Tribunal hearing, in a manner that the\\nAppellant himself chose to do, then he should have been prepared to deal\\nwith it on the basis of oral testimony.  These were not new points.  The\\nwitnesses were not people whose evidence had previously been accepted.\\nBoth cases were simply black and white discrepancy cases where the\\njudge was entitled to say that she would not attach any significant weight\\nto such evidence, because as put before the Tribunal, the evidence was\\nnot persuasive.  \\nNo Error of Law\\n11. I am satisfied that the making of the decision by the judge did not involve\\nthe making of an error on a point of law (see Section 12(1) of TCEA 2007)\\nsuch that I should set aside the decision.  My reasons are as follows.  First,\\nit is simply not correct to say that the discrepancy in the oral and witness\\nstatement evidence of Miss [L] was something that the judge should have\\nprobed herself with a view to ascertaining exactly what Miss [L] knew\\nabout Mr [F].  The judge noted that in her oral evidence Miss [L] stated she\\nwas aware that the Appellant had a relationship in the UK “but had not\\nmet [F]”.  Then the judge noted how in her witness statement, Miss [L] had\\nstated that she became friends with the Appellant when she met him in\\nCalais at the “the jungle” in April 2016, and “when they became strong\\n3\\n \\nUpper Tribunal \\n(Immigration and Asylum Chamber) Appeal Number: PA/05945/2018\\nTHE IMMIGRATION ACTS\\nHeard at Birmingham CJC Decision & Reasons Promulgated\\nOn 5th July 2019 On 19th August 2019\\nBefore\\nDEPUTY UPPER TRIBUNAL JUDGE JUSS\\nBetween\\nHA\\n(ANONYMITY DIRECTION MADE)\\nAppellant\\nand\\nTHE SECRETARY OF STATE FOR THE HOME DEPARTMENT\\nRespondent\\nRepresentation:\\nFor the Appellant: Mr J Howard (Solicitor)\\nFor the Respondent: Mr D Mills (Senior HOPO)\\nDECISION AND REASONS\\n1. This is an appeal against the determination of First-tier Tribunal Judge\\nPacey, promulgated on 24th June 2018, following a hearing at Birmingham\\non 6th June 2018.  In the determination, the judge dismissed the appeal of\\nthe Appellant, whereupon the Appellant subsequently applied for, and was\\ngranted, permission to appeal to the Upper Tribunal, and thus the matter\\ncomes before me.\\nThe Appellant\\n© CROWN COPYRIGHT 2019\\nAppeal Number: PA/05945/2018\\nDirection Regarding Anonymity – Rule 14 of the Tribunal Procedure\\n(Upper Tribunal) Rules 2008\\nUnless and until a Tribunal or court directs otherwise, the Appellant is granted\\nanonymity.  No report of these proceedings shall directly or indirectly identify\\nhim or any member of \\ntheir   family.     This   direction   applies   both   to   the   Appellant   and   to   the\\nRespondent.  Failure to comply with this direction could lead to contempt of\\ncourt proceedings.\\nSigned Dated\\nDeputy Upper Tribunal Judge Juss 15th August 2019 \\n5'"
      ]
     },
     "execution_count": 6,
     "metadata": {},
     "output_type": "execute_result"
    }
   ],
   "source": [
    "pdf_1"
   ]
  },
  {
   "cell_type": "code",
   "execution_count": 7,
   "metadata": {},
   "outputs": [
    {
     "name": "stdout",
     "output_type": "stream",
     "text": [
      " \n",
      "Upper Tribunal \n",
      "(Immigration and Asylum Chamber) Appeal Number: PA/05945/2018\n",
      "THE IMMIGRATION ACTS\n",
      "Heard at Birmingham CJC Decision & Reasons Promulgated\n",
      "On 5th July 2019 On 19th August 2019\n",
      "Before\n",
      "DEPUTY UPPER TRIBUNAL JUDGE JUSS\n",
      "Between\n",
      "HA\n",
      "(ANONYMITY DIRECTION MADE)\n",
      "Appellant\n",
      "and\n",
      "THE SECRETARY OF STATE FOR THE HOME DEPARTMENT\n",
      "Respondent\n",
      "Representation:\n",
      "For the Appellant: Mr J Howard (Solicitor)\n",
      "For the Respondent: Mr D Mills (Senior HOPO)\n",
      "DECISION AND REASONS\n",
      "1. This is an appeal against the determination of First-tier Tribunal Judge\n",
      "Pacey, promulgated on 24th June 2018, following a hearing at Birmingham\n",
      "on 6th June 2018.  In the determination, the judge dismissed the appeal of\n",
      "the Appellant, whereupon the Appellant subsequently applied for, and was\n",
      "granted, permission to appeal to the Upper Tribunal, and thus the matter\n",
      "comes before me.\n",
      "The Appellant\n",
      "© CROWN COPYRIGHT 2019\n",
      "Appeal Number: PA/05945/2018\n",
      "2. The Appellant is a male, a citizen of Iran, and was born on 22nd July 1996.\n",
      "He appealed against the decision of the Respondent dated 24th April 2018\n",
      "refusing his claim for asylum and humanitarian protection pursuant to\n",
      "paragraph 339C of HC 395.\n",
      "The Appellant’s Claim\n",
      "3. The essence of the Appellant’s claim is that he is a member of a particular\n",
      "social group, because he is a gay Iranian man who would face persecution\n",
      "if returned, and additionally he is also an atheist, who would be ill-treated\n",
      "upon return as a non-religious person, which is forbidden in Iran.  \n",
      "The Judge’s Findings\n",
      "4. The judge noted how the Appellant in his screening interview has said that\n",
      "he held no religion and that he would be subject to persecution as a non-\n",
      "religious person if returned to Iran.  He made no mention at that stage\n",
      "that he was also a gay person.  During his asylum interview, however, he\n",
      "stated that he was a danger also because he was a homosexual and\n",
      "feared the government given that homosexuality was punishable by\n",
      "death.  He had not mentioned this at his screening interview because he\n",
      "did not know anything about the country he was coming to.  The Appellant\n",
      "had then explained how he had a boyfriend in the UK by the name of [FS],\n",
      "with whom he had been in relationship for about one and a half months.\n",
      "He also had three serious relationships which he went on to describe in\n",
      "evidence before the Tribunal.  The judge did not find the Appellant to be\n",
      "credible because the appellant’s explanation that he had not mentioned\n",
      "his homosexuality during his screening interview, because he did not know\n",
      "the country he was coming to, was not plausible.  As the judge explained,\n",
      "“if he did not know the UK approach to homosexuality … he could not\n",
      "have known if the UK adopted as punitive an approach to gay people as\n",
      "did Iran….  For all he knew he could have been travelling from the frying\n",
      "pan into the fire” (paragraph 68).  \n",
      "5. On the other hand, the judge observed that if the Appellant was aware of\n",
      "the actual UK approach to homosexuality, “then there was no reason for\n",
      "him not to have mentioned his sexuality at the screening interview”\n",
      "(paragraph 69).  \n",
      "6. The judge was also not impressed by the witnesses before the Tribunal.  In\n",
      "short, the Appellant’s claim was rejected wholesale.   The appeal was\n",
      "dismissed.\n",
      "Grounds of Application\n",
      "7. The grounds of application state that the judge had engaged in a material\n",
      "error of law in relation to the evidence of a Miss [L] and that of Mr [S]\n",
      "whose credibility had been wrongly impugned by the judge.  There had\n",
      "been apparently a discrepancy between to the oral and the written\n",
      "2\n",
      "Appeal Number: PA/05945/2018\n",
      "evidence of Miss [L], but this discrepancy had not been put to the witness,\n",
      "and if this was so then this was contrary to the rules of natural justice.  \n",
      "8. On 23rd November 2018 permission to appeal was granted.  \n",
      "Submissions\n",
      "9. At the hearing before me on 5th July 2019, the Appellant was represented\n",
      "by Mr Howard, who adopted the grounds of application.  He submitted that\n",
      "if the judge was concerned about the discrepancy in the oral and written\n",
      "evidence of Miss [L], then this should have been explored by the Tribunal,\n",
      "because in her oral evidence, Miss [L] had said that she had “not met [F]”,\n",
      "whereas in her written evidence she had said that “she also knew his\n",
      "previous partner, [F]” (paragraph 34).  Secondly, Mr Howard submitted\n",
      "that if one looks at the evidence of Mr [S] (at page 14 of the Appellant’s\n",
      "bundle).  He makes it quite clear that he is the director of a voluntary\n",
      "organisation called Persian LGBT Advisory Services, where it provides\n",
      "“voluntary social activities for LGBT asylum seekers”.  He explains that the\n",
      "appellant had contacted him via Facebook on 9th June 2016.  He invited\n",
      "the Appellant to meet with him, and after a conversation he had come to\n",
      "the view that “I am aware the Appellant is openly active on Facebook page\n",
      "which I would refer to as an online activist where he shares information on\n",
      "LGBT community using his Facebook page…”.   On that basis that the\n",
      "judge was wrong to have impugned his credibility. \n",
      "10. For his part, Mr Mills submitted that the issues that were before the judge,\n",
      "both in relation to the Appellant’s atheism and his homosexual tendencies,\n",
      "were not new issues.  If evidence was collected by the Appellant between\n",
      "the asylum interview and the Tribunal hearing, in a manner that the\n",
      "Appellant himself chose to do, then he should have been prepared to deal\n",
      "with it on the basis of oral testimony.  These were not new points.  The\n",
      "witnesses were not people whose evidence had previously been accepted.\n",
      "Both cases were simply black and white discrepancy cases where the\n",
      "judge was entitled to say that she would not attach any significant weight\n",
      "to such evidence, because as put before the Tribunal, the evidence was\n",
      "not persuasive.  \n",
      "No Error of Law\n",
      "11. I am satisfied that the making of the decision by the judge did not involve\n",
      "the making of an error on a point of law (see Section 12(1) of TCEA 2007)\n",
      "such that I should set aside the decision.  My reasons are as follows.  First,\n",
      "it is simply not correct to say that the discrepancy in the oral and witness\n",
      "statement evidence of Miss [L] was something that the judge should have\n",
      "probed herself with a view to ascertaining exactly what Miss [L] knew\n",
      "about Mr [F].  The judge noted that in her oral evidence Miss [L] stated she\n",
      "was aware that the Appellant had a relationship in the UK “but had not\n",
      "met [F]”.  Then the judge noted how in her witness statement, Miss [L] had\n",
      "stated that she became friends with the Appellant when she met him in\n",
      "Calais at the “the jungle” in April 2016, and “when they became strong\n",
      "3\n",
      " \n",
      "Upper Tribunal \n",
      "(Immigration and Asylum Chamber) Appeal Number: PA/05945/2018\n",
      "THE IMMIGRATION ACTS\n",
      "Heard at Birmingham CJC Decision & Reasons Promulgated\n",
      "On 5th July 2019 On 19th August 2019\n",
      "Before\n",
      "DEPUTY UPPER TRIBUNAL JUDGE JUSS\n",
      "Between\n",
      "HA\n",
      "(ANONYMITY DIRECTION MADE)\n",
      "Appellant\n",
      "and\n",
      "THE SECRETARY OF STATE FOR THE HOME DEPARTMENT\n",
      "Respondent\n",
      "Representation:\n",
      "For the Appellant: Mr J Howard (Solicitor)\n",
      "For the Respondent: Mr D Mills (Senior HOPO)\n",
      "DECISION AND REASONS\n",
      "1. This is an appeal against the determination of First-tier Tribunal Judge\n",
      "Pacey, promulgated on 24th June 2018, following a hearing at Birmingham\n",
      "on 6th June 2018.  In the determination, the judge dismissed the appeal of\n",
      "the Appellant, whereupon the Appellant subsequently applied for, and was\n",
      "granted, permission to appeal to the Upper Tribunal, and thus the matter\n",
      "comes before me.\n",
      "The Appellant\n",
      "© CROWN COPYRIGHT 2019\n",
      "Appeal Number: PA/05945/2018\n",
      "Direction Regarding Anonymity – Rule 14 of the Tribunal Procedure\n",
      "(Upper Tribunal) Rules 2008\n",
      "Unless and until a Tribunal or court directs otherwise, the Appellant is granted\n",
      "anonymity.  No report of these proceedings shall directly or indirectly identify\n",
      "him or any member of \n",
      "their   family.     This   direction   applies   both   to   the   Appellant   and   to   the\n",
      "Respondent.  Failure to comply with this direction could lead to contempt of\n",
      "court proceedings.\n",
      "Signed Dated\n",
      "Deputy Upper Tribunal Judge Juss 15th August 2019 \n",
      "5\n",
      "Upper Tribunal \n",
      "(Immigration and Asylum Chamber) Appeal Number: PA/00240/2019\n",
      "THE IMMIGRATION ACTS\n",
      "Heard at Birmingham CJC Decision   &   Reasons\n",
      "Promulgated\n",
      "On 8 November 2019 On 21 November 2019\n",
      "Before\n",
      "DEPUTY UPPER TRIBUNAL JUDGE O’RYAN\n",
      "Between\n",
      "MR D A\n",
      "(ANONYMITY DIRECTION MADE)\n",
      "Appellant\n",
      "and\n",
      "THE SECRETARY OF STATE FOR THE HOME DEPARTMENT\n",
      "Respondent\n",
      "Representation:\n",
      "For the Appellant: Mr Sharif, Fountain Solicitors \n",
      "For the Respondent: Mr Mills, Senior Home Office Presenting Officer \n",
      "DECISION AND REASONS\n",
      "1. This is the Appellant’s appeal against the decision of Judge of the First-tier\n",
      "Tribunal Boylan-Kemp MBE dated 2 May 2019 dismissing the Appellant’s\n",
      "appeal against the Respondent’s decision of 23 November 2018 refusing\n",
      "his human rights and protection claim.  \n",
      "© CROWN COPYRIGHT 2019\n",
      "Appeal Number: PA/00240/2019\n",
      "2. The Appellant is a national of Iraq of Kurdish origin and from Sulamaniyah\n",
      "in the IKR.  He gave an account that he was at risk of serious harm in the\n",
      "IKR by reason of his family and extended tribe being in a feud with another\n",
      "tribe in the IKR.  The Appellant was not able to give many details of the\n",
      "origins of the feud but stated that one family member had been killed as a\n",
      "result of it and that he himself had experienced two incidents; one being\n",
      "that unknown persons had fired upon a car in which he was travelling and\n",
      "his cousin had been injured in the shoulder, and another occasion when\n",
      "the house in which he lived was fired upon.  \n",
      "3. The Respondent in its decision refusing the protection claim disbelieved\n",
      "the Appellant’s account that there was any feud on the grounds that the\n",
      "Appellant knew very few details of the alleged feud.  There was also said\n",
      "to be a discrepancy as between the Appellant’s evidence in interview as to\n",
      "how many occasions the Appellant experienced any problems himself\n",
      "(refusal letter, para [26]) and a discrepancy between an alleged fear of his\n",
      "own father (resulting from the Appellant refusing to take part in the feud)\n",
      "and information given in an age assessment interview in which he had\n",
      "stated that he had a good relationship with his family members (para\n",
      "[31]).  \n",
      "4. The Appellant appealed against that decision and the matter came before\n",
      "the judge at the Birmingham hearing centre on 18 March 2019.   The\n",
      "Appellant was represented and gave evidence.  At the date of that hearing\n",
      "the Appellant would have been 18 years of age.  A further document was\n",
      "relied upon by the Respondent at that hearing, being a EURODAC search\n",
      "result, demonstrating that a person in the  Appellant’s  identity was\n",
      "fingerprinted in Dresden in Germany on 22 March 2016.  The Appellant’s\n",
      "account as given in his SEF interview and confirmed in oral evidence\n",
      "before the judge was that he only left Iraq in December 2017.   The\n",
      "Appellant denied before the judge that the person identified in the\n",
      "EURODAC search was him but the judge stated that she was satisfied by\n",
      "the details contained within the document, and looking at the clear\n",
      "photograph on the EURODAC match, that the person fingerprinted in\n",
      "Germany was indeed the Appellant.  \n",
      "5. The judge found at paragraph 14 onwards as follows: \n",
      "“16. The   evidence   provided   by   the   EURODAC   document   is\n",
      "unequivocal.  The photograph contained within the document is\n",
      "clearly the Appellant who appeared before me and I have no\n",
      "reason to doubt that the document relates to him.  Therefore this\n",
      "document upon which I am satisfied I can place significant weight\n",
      "puts him in Germany on 22 March 2016.  Consequently I find that\n",
      "this evidence undermines the credibility of his entire account and\n",
      "his credibility as a witness in his own cause and that it renders\n",
      "his entire account unreliable.  \n",
      "2\n",
      "Appeal Number: PA/00240/2019\n",
      "17. Further I also find his inability to recall the details of the alleged\n",
      "feud which caused him to leave his family and flee the country to\n",
      "also not be credible.  If a young man was leaving his life behind\n",
      "because of his reluctance to become involved in an ongoing\n",
      "family   feud   then   I   would   anticipate   that   he   would   have\n",
      "knowledge of what he is in fear of and so I do not find it plausible\n",
      "that he would not know the details of this feud if he held such a\n",
      "genuine fear.  Also I note that even on his own evidence there\n",
      "has been no specific risk or threat made to him which would\n",
      "cause him to fear for his own safety beyond what is a more\n",
      "general tribal threat and of which he cannot provide much detail.\n",
      "…\n",
      "18. As I have found the Appellant’s alleged reasoning for leaving Iraq\n",
      "to not be credible then I also find that it is not plausible that his\n",
      "family have consequently threatened him as claimed due to his\n",
      "alleged desertion because of the alleged feud.  Instead I find that\n",
      "he has travelled to the UK with the assistance and knowledge of\n",
      "his family for reasons other than escaping a risk of persecution.\n",
      "As such I find that his family would therefore be able to assist\n",
      "him with obtaining a copy of his identification documents and\n",
      "CSID which would help facilitate his return to Iraq.  I also find that\n",
      "he would be able to return to the help and support of his family\n",
      "there.”\n",
      "The judge dismissed the Appellant’s appeal.  \n",
      "6. The Appellant appeals to the Upper Tribunal on grounds dated 15 May\n",
      "2019 which argue very briefly that the judge erred in law at paragraphs 15\n",
      "to 20 by giving inadequate reasoning for finding the Appellant’s account to\n",
      "not be credible and secondly that the judge had failed to apply relevant\n",
      "country guidance.  \n",
      "7. Permission to appeal was granted by Judge of the First-tier Tribunal Keane\n",
      "on 24 June 2019.  The judge stated as follows:\n",
      "“The judge arguably had regard to irrelevant considerations in finding\n",
      "that the Appellant had not given a credible account of events.  The\n",
      "judge’s findings as to the credibility were to be found at paragraphs\n",
      "15 to 18 inclusive of her decision.   At paragraph 15 the judge\n",
      "attached weight so as to undermine the Appellant’s credibility to a\n",
      "EURODAC printout provided by the Respondent which as the judge\n",
      "found proved that the Appellant was photographed and printed in\n",
      "Germany on 22 March 2016.  The judge however did not explain why\n",
      "such circumstance damaged the Appellant’s credibility.  If the judge\n",
      "had in mind the Appellant’s apparent failure to claim asylum in\n",
      "Germany the judge arguably should have stated so.  At paragraph 16\n",
      "of the decision the judge again accorded weight to the EURODAC\n",
      "document without stating why.  At paragraph 17 of the decision the\n",
      "3\n",
      "Upper Tribunal \n",
      "(Immigration and Asylum Chamber) Appeal Number: PA/00240/2019\n",
      "THE IMMIGRATION ACTS\n",
      "Heard at Birmingham CJC Decision   &   Reasons\n",
      "Promulgated\n",
      "On 8 November 2019 On 21 November 2019\n",
      "Before\n",
      "DEPUTY UPPER TRIBUNAL JUDGE O’RYAN\n",
      "Between\n",
      "MR D A\n",
      "(ANONYMITY DIRECTION MADE)\n",
      "Appellant\n",
      "and\n",
      "THE SECRETARY OF STATE FOR THE HOME DEPARTMENT\n",
      "Respondent\n",
      "Representation:\n",
      "For the Appellant: Mr Sharif, Fountain Solicitors \n",
      "For the Respondent: Mr Mills, Senior Home Office Presenting Officer \n",
      "DECISION AND REASONS\n",
      "1. This is the Appellant’s appeal against the decision of Judge of the First-tier\n",
      "Tribunal Boylan-Kemp MBE dated 2 May 2019 dismissing the Appellant’s\n",
      "appeal against the Respondent’s decision of 23 November 2018 refusing\n",
      "his human rights and protection claim.  \n",
      "© CROWN COPYRIGHT 2019\n",
      "Appeal Number: PA/00240/2019\n",
      "arguably had regard to irrelevant considerations is difficult to sustain.  The\n",
      "Appellant has clearly given inconsistent evidence about his whereabouts,\n",
      "on the one part insisting that he remained in Iraq in December 2017 but\n",
      "incontrovertible evidence existing from the EURODAC search result that he\n",
      "was present in Germany on 22 March 2016.  These two items of evidence\n",
      "simply cannot sit together.  True it is that there are no details of the\n",
      "Appellant’s account of any incidents that he has set out which are dated\n",
      "any later than 22 March 2016, and therefore being shot at in ‘2016’ and\n",
      "him departing Iraq prior to 22 March 2016 does not necessarily make his\n",
      "account impossible to believe, but it is clearly a very significant matter\n",
      "that the Appellant has lied about his continued presence in Iraq up to the\n",
      "point of December 2017 and the judge was fully entitled to treat that as a\n",
      "very significant matter.  Whether or not she was entitled to treat it as\n",
      "rendering ‘his entire account unreliable’ is moot.  \n",
      "12. However the judge does not stop there in her credibility findings because\n",
      "she continues, as is clear at paragraph 17, to set out other reasons for\n",
      "finding the Appellant’s account incredible.  Whereas it may be expected\n",
      "that a young person may not be as fully informed about the details of a\n",
      "feud affecting his family and the wider tribe as might a fully-grown adult,\n",
      "the   judge’s   point  is   that   the   Appellant   decided,   together   with   the\n",
      "assistance of a relative, to leave Iraq because of this feud and the judge\n",
      "was entitled to find that it was implausible that the Appellant knew so little\n",
      "about the feud whereas it had been the specific cause of his decision to\n",
      "leave the country.  I find that it was not irrational for the judge to make\n",
      "the findings that she did at paragraph 17.  There are a number of reasons\n",
      "therefore given by the judge for finding the Appellant’s account incredible\n",
      "and I find that none of those reasons is vitiated by any error of law.  \n",
      "13. Judge Keane in granting permission did not comment upon the Appellant’s\n",
      "actual second ground which was that the judge had failed to apply country\n",
      "guidance relevant to the issue of obtaining documents for readmission and\n",
      "residence in Iraq.  However in the light of my decision that the judge’s\n",
      "credibility findings are sustainable it is also sustainable that the Appellant\n",
      "can have  the assistance  of family members in Iraq to obtain  any\n",
      "replacement documents that are needed to facilitate his return to, and\n",
      "residence in Iraq.  \n",
      "Notice of Decision\n",
      "The judge’s decision did not involve the making of any material error of\n",
      "law.  \n",
      "I do not set aside the decision.  \n",
      "The Appellant’s appeal is dismissed.  \n",
      "Signed Date 20.11.19\n",
      "5\n"
     ]
    }
   ],
   "source": [
    "with pdfplumber.open(\"../data/PA002402019.pdf\") as pdf:\n",
    "    first_page = pdf.pages[0]\n",
    "    pdf_21 = first_page.extract_text()\n",
    "    second_page = pdf.pages[1]\n",
    "    pdf_22 = second_page.extract_text()\n",
    "    third_page = pdf.pages[2]\n",
    "    pdf_23 = third_page.extract_text()\n",
    "    fourth_page = pdf.pages[3]\n",
    "    pdf_24 = first_page.extract_text()\n",
    "    fifth_page = pdf.pages[4]\n",
    "    pdf_25 = fifth_page.extract_text()\n",
    "\n",
    "pdf_2 = pdf_21 + \"\\n\" + pdf_22 + \"\\n\" + pdf_23 + \"\\n\" + pdf_24 + \"\\n\" + pdf_25\n",
    "\n",
    "pdf = pdf_1 + \"\\n\" + pdf_2\n",
    "\n",
    "print(pdf)"
   ]
  },
  {
   "cell_type": "code",
   "execution_count": 8,
   "metadata": {},
   "outputs": [
    {
     "data": {
      "text/plain": [
       "' \\nUpper Tribunal \\n(Immigration and Asylum Chamber) Appeal Number: PA/05945/2018\\nTHE IMMIGRATION ACTS\\nHeard at Birmingham CJC Decision & Reasons Promulgated\\nOn 5th July 2019 On 19th August 2019\\nBefore\\nDEPUTY UPPER TRIBUNAL JUDGE JUSS\\nBetween\\nHA\\n(ANONYMITY DIRECTION MADE)\\nAppellant\\nand\\nTHE SECRETARY OF STATE FOR THE HOME DEPARTMENT\\nRespondent\\nRepresentation:\\nFor the Appellant: Mr J Howard (Solicitor)\\nFor the Respondent: Mr D Mills (Senior HOPO)\\nDECISION AND REASONS\\n1. This is an appeal against the determination of First-tier Tribunal Judge\\nPacey, promulgated on 24th June 2018, following a hearing at Birmingham\\non 6th June 2018.  In the determination, the judge dismissed the appeal of\\nthe Appellant, whereupon the Appellant subsequently applied for, and was\\ngranted, permission to appeal to the Upper Tribunal, and thus the matter\\ncomes before me.\\nThe Appellant\\n© CROWN COPYRIGHT 2019\\nAppeal Number: PA/05945/2018\\n2. The Appellant is a male, a citizen of Iran, and was born on 22nd July 1996.\\nHe appealed against the decision of the Respondent dated 24th April 2018\\nrefusing his claim for asylum and humanitarian protection pursuant to\\nparagraph 339C of HC 395.\\nThe Appellant’s Claim\\n3. The essence of the Appellant’s claim is that he is a member of a particular\\nsocial group, because he is a gay Iranian man who would face persecution\\nif returned, and additionally he is also an atheist, who would be ill-treated\\nupon return as a non-religious person, which is forbidden in Iran.  \\nThe Judge’s Findings\\n4. The judge noted how the Appellant in his screening interview has said that\\nhe held no religion and that he would be subject to persecution as a non-\\nreligious person if returned to Iran.  He made no mention at that stage\\nthat he was also a gay person.  During his asylum interview, however, he\\nstated that he was a danger also because he was a homosexual and\\nfeared the government given that homosexuality was punishable by\\ndeath.  He had not mentioned this at his screening interview because he\\ndid not know anything about the country he was coming to.  The Appellant\\nhad then explained how he had a boyfriend in the UK by the name of [FS],\\nwith whom he had been in relationship for about one and a half months.\\nHe also had three serious relationships which he went on to describe in\\nevidence before the Tribunal.  The judge did not find the Appellant to be\\ncredible because the appellant’s explanation that he had not mentioned\\nhis homosexuality during his screening interview, because he did not know\\nthe country he was coming to, was not plausible.  As the judge explained,\\n“if he did not know the UK approach to homosexuality … he could not\\nhave known if the UK adopted as punitive an approach to gay people as\\ndid Iran….  For all he knew he could have been travelling from the frying\\npan into the fire” (paragraph 68).  \\n5. On the other hand, the judge observed that if the Appellant was aware of\\nthe actual UK approach to homosexuality, “then there was no reason for\\nhim not to have mentioned his sexuality at the screening interview”\\n(paragraph 69).  \\n6. The judge was also not impressed by the witnesses before the Tribunal.  In\\nshort, the Appellant’s claim was rejected wholesale.   The appeal was\\ndismissed.\\nGrounds of Application\\n7. The grounds of application state that the judge had engaged in a material\\nerror of law in relation to the evidence of a Miss [L] and that of Mr [S]\\nwhose credibility had been wrongly impugned by the judge.  There had\\nbeen apparently a discrepancy between to the oral and the written\\n2\\nAppeal Number: PA/05945/2018\\nevidence of Miss [L], but this discrepancy had not been put to the witness,\\nand if this was so then this was contrary to the rules of natural justice.  \\n8. On 23rd November 2018 permission to appeal was granted.  \\nSubmissions\\n9. At the hearing before me on 5th July 2019, the Appellant was represented\\nby Mr Howard, who adopted the grounds of application.  He submitted that\\nif the judge was concerned about the discrepancy in the oral and written\\nevidence of Miss [L], then this should have been explored by the Tribunal,\\nbecause in her oral evidence, Miss [L] had said that she had “not met [F]”,\\nwhereas in her written evidence she had said that “she also knew his\\nprevious partner, [F]” (paragraph 34).  Secondly, Mr Howard submitted\\nthat if one looks at the evidence of Mr [S] (at page 14 of the Appellant’s\\nbundle).  He makes it quite clear that he is the director of a voluntary\\norganisation called Persian LGBT Advisory Services, where it provides\\n“voluntary social activities for LGBT asylum seekers”.  He explains that the\\nappellant had contacted him via Facebook on 9th June 2016.  He invited\\nthe Appellant to meet with him, and after a conversation he had come to\\nthe view that “I am aware the Appellant is openly active on Facebook page\\nwhich I would refer to as an online activist where he shares information on\\nLGBT community using his Facebook page…”.   On that basis that the\\njudge was wrong to have impugned his credibility. \\n10. For his part, Mr Mills submitted that the issues that were before the judge,\\nboth in relation to the Appellant’s atheism and his homosexual tendencies,\\nwere not new issues.  If evidence was collected by the Appellant between\\nthe asylum interview and the Tribunal hearing, in a manner that the\\nAppellant himself chose to do, then he should have been prepared to deal\\nwith it on the basis of oral testimony.  These were not new points.  The\\nwitnesses were not people whose evidence had previously been accepted.\\nBoth cases were simply black and white discrepancy cases where the\\njudge was entitled to say that she would not attach any significant weight\\nto such evidence, because as put before the Tribunal, the evidence was\\nnot persuasive.  \\nNo Error of Law\\n11. I am satisfied that the making of the decision by the judge did not involve\\nthe making of an error on a point of law (see Section 12(1) of TCEA 2007)\\nsuch that I should set aside the decision.  My reasons are as follows.  First,\\nit is simply not correct to say that the discrepancy in the oral and witness\\nstatement evidence of Miss [L] was something that the judge should have\\nprobed herself with a view to ascertaining exactly what Miss [L] knew\\nabout Mr [F].  The judge noted that in her oral evidence Miss [L] stated she\\nwas aware that the Appellant had a relationship in the UK “but had not\\nmet [F]”.  Then the judge noted how in her witness statement, Miss [L] had\\nstated that she became friends with the Appellant when she met him in\\nCalais at the “the jungle” in April 2016, and “when they became strong\\n3\\n \\nUpper Tribunal \\n(Immigration and Asylum Chamber) Appeal Number: PA/05945/2018\\nTHE IMMIGRATION ACTS\\nHeard at Birmingham CJC Decision & Reasons Promulgated\\nOn 5th July 2019 On 19th August 2019\\nBefore\\nDEPUTY UPPER TRIBUNAL JUDGE JUSS\\nBetween\\nHA\\n(ANONYMITY DIRECTION MADE)\\nAppellant\\nand\\nTHE SECRETARY OF STATE FOR THE HOME DEPARTMENT\\nRespondent\\nRepresentation:\\nFor the Appellant: Mr J Howard (Solicitor)\\nFor the Respondent: Mr D Mills (Senior HOPO)\\nDECISION AND REASONS\\n1. This is an appeal against the determination of First-tier Tribunal Judge\\nPacey, promulgated on 24th June 2018, following a hearing at Birmingham\\non 6th June 2018.  In the determination, the judge dismissed the appeal of\\nthe Appellant, whereupon the Appellant subsequently applied for, and was\\ngranted, permission to appeal to the Upper Tribunal, and thus the matter\\ncomes before me.\\nThe Appellant\\n© CROWN COPYRIGHT 2019\\nAppeal Number: PA/05945/2018\\nDirection Regarding Anonymity – Rule 14 of the Tribunal Procedure\\n(Upper Tribunal) Rules 2008\\nUnless and until a Tribunal or court directs otherwise, the Appellant is granted\\nanonymity.  No report of these proceedings shall directly or indirectly identify\\nhim or any member of \\ntheir   family.     This   direction   applies   both   to   the   Appellant   and   to   the\\nRespondent.  Failure to comply with this direction could lead to contempt of\\ncourt proceedings.\\nSigned Dated\\nDeputy Upper Tribunal Judge Juss 15th August 2019 \\n5\\nUpper Tribunal \\n(Immigration and Asylum Chamber) Appeal Number: PA/00240/2019\\nTHE IMMIGRATION ACTS\\nHeard at Birmingham CJC Decision   &   Reasons\\nPromulgated\\nOn 8 November 2019 On 21 November 2019\\nBefore\\nDEPUTY UPPER TRIBUNAL JUDGE O’RYAN\\nBetween\\nMR D A\\n(ANONYMITY DIRECTION MADE)\\nAppellant\\nand\\nTHE SECRETARY OF STATE FOR THE HOME DEPARTMENT\\nRespondent\\nRepresentation:\\nFor the Appellant: Mr Sharif, Fountain Solicitors \\nFor the Respondent: Mr Mills, Senior Home Office Presenting Officer \\nDECISION AND REASONS\\n1. This is the Appellant’s appeal against the decision of Judge of the First-tier\\nTribunal Boylan-Kemp MBE dated 2 May 2019 dismissing the Appellant’s\\nappeal against the Respondent’s decision of 23 November 2018 refusing\\nhis human rights and protection claim.  \\n© CROWN COPYRIGHT 2019\\nAppeal Number: PA/00240/2019\\n2. The Appellant is a national of Iraq of Kurdish origin and from Sulamaniyah\\nin the IKR.  He gave an account that he was at risk of serious harm in the\\nIKR by reason of his family and extended tribe being in a feud with another\\ntribe in the IKR.  The Appellant was not able to give many details of the\\norigins of the feud but stated that one family member had been killed as a\\nresult of it and that he himself had experienced two incidents; one being\\nthat unknown persons had fired upon a car in which he was travelling and\\nhis cousin had been injured in the shoulder, and another occasion when\\nthe house in which he lived was fired upon.  \\n3. The Respondent in its decision refusing the protection claim disbelieved\\nthe Appellant’s account that there was any feud on the grounds that the\\nAppellant knew very few details of the alleged feud.  There was also said\\nto be a discrepancy as between the Appellant’s evidence in interview as to\\nhow many occasions the Appellant experienced any problems himself\\n(refusal letter, para [26]) and a discrepancy between an alleged fear of his\\nown father (resulting from the Appellant refusing to take part in the feud)\\nand information given in an age assessment interview in which he had\\nstated that he had a good relationship with his family members (para\\n[31]).  \\n4. The Appellant appealed against that decision and the matter came before\\nthe judge at the Birmingham hearing centre on 18 March 2019.   The\\nAppellant was represented and gave evidence.  At the date of that hearing\\nthe Appellant would have been 18 years of age.  A further document was\\nrelied upon by the Respondent at that hearing, being a EURODAC search\\nresult, demonstrating that a person in the  Appellant’s  identity was\\nfingerprinted in Dresden in Germany on 22 March 2016.  The Appellant’s\\naccount as given in his SEF interview and confirmed in oral evidence\\nbefore the judge was that he only left Iraq in December 2017.   The\\nAppellant denied before the judge that the person identified in the\\nEURODAC search was him but the judge stated that she was satisfied by\\nthe details contained within the document, and looking at the clear\\nphotograph on the EURODAC match, that the person fingerprinted in\\nGermany was indeed the Appellant.  \\n5. The judge found at paragraph 14 onwards as follows: \\n“16. The   evidence   provided   by   the   EURODAC   document   is\\nunequivocal.  The photograph contained within the document is\\nclearly the Appellant who appeared before me and I have no\\nreason to doubt that the document relates to him.  Therefore this\\ndocument upon which I am satisfied I can place significant weight\\nputs him in Germany on 22 March 2016.  Consequently I find that\\nthis evidence undermines the credibility of his entire account and\\nhis credibility as a witness in his own cause and that it renders\\nhis entire account unreliable.  \\n2\\nAppeal Number: PA/00240/2019\\n17. Further I also find his inability to recall the details of the alleged\\nfeud which caused him to leave his family and flee the country to\\nalso not be credible.  If a young man was leaving his life behind\\nbecause of his reluctance to become involved in an ongoing\\nfamily   feud   then   I   would   anticipate   that   he   would   have\\nknowledge of what he is in fear of and so I do not find it plausible\\nthat he would not know the details of this feud if he held such a\\ngenuine fear.  Also I note that even on his own evidence there\\nhas been no specific risk or threat made to him which would\\ncause him to fear for his own safety beyond what is a more\\ngeneral tribal threat and of which he cannot provide much detail.\\n…\\n18. As I have found the Appellant’s alleged reasoning for leaving Iraq\\nto not be credible then I also find that it is not plausible that his\\nfamily have consequently threatened him as claimed due to his\\nalleged desertion because of the alleged feud.  Instead I find that\\nhe has travelled to the UK with the assistance and knowledge of\\nhis family for reasons other than escaping a risk of persecution.\\nAs such I find that his family would therefore be able to assist\\nhim with obtaining a copy of his identification documents and\\nCSID which would help facilitate his return to Iraq.  I also find that\\nhe would be able to return to the help and support of his family\\nthere.”\\nThe judge dismissed the Appellant’s appeal.  \\n6. The Appellant appeals to the Upper Tribunal on grounds dated 15 May\\n2019 which argue very briefly that the judge erred in law at paragraphs 15\\nto 20 by giving inadequate reasoning for finding the Appellant’s account to\\nnot be credible and secondly that the judge had failed to apply relevant\\ncountry guidance.  \\n7. Permission to appeal was granted by Judge of the First-tier Tribunal Keane\\non 24 June 2019.  The judge stated as follows:\\n“The judge arguably had regard to irrelevant considerations in finding\\nthat the Appellant had not given a credible account of events.  The\\njudge’s findings as to the credibility were to be found at paragraphs\\n15 to 18 inclusive of her decision.   At paragraph 15 the judge\\nattached weight so as to undermine the Appellant’s credibility to a\\nEURODAC printout provided by the Respondent which as the judge\\nfound proved that the Appellant was photographed and printed in\\nGermany on 22 March 2016.  The judge however did not explain why\\nsuch circumstance damaged the Appellant’s credibility.  If the judge\\nhad in mind the Appellant’s apparent failure to claim asylum in\\nGermany the judge arguably should have stated so.  At paragraph 16\\nof the decision the judge again accorded weight to the EURODAC\\ndocument without stating why.  At paragraph 17 of the decision the\\n3\\nUpper Tribunal \\n(Immigration and Asylum Chamber) Appeal Number: PA/00240/2019\\nTHE IMMIGRATION ACTS\\nHeard at Birmingham CJC Decision   &   Reasons\\nPromulgated\\nOn 8 November 2019 On 21 November 2019\\nBefore\\nDEPUTY UPPER TRIBUNAL JUDGE O’RYAN\\nBetween\\nMR D A\\n(ANONYMITY DIRECTION MADE)\\nAppellant\\nand\\nTHE SECRETARY OF STATE FOR THE HOME DEPARTMENT\\nRespondent\\nRepresentation:\\nFor the Appellant: Mr Sharif, Fountain Solicitors \\nFor the Respondent: Mr Mills, Senior Home Office Presenting Officer \\nDECISION AND REASONS\\n1. This is the Appellant’s appeal against the decision of Judge of the First-tier\\nTribunal Boylan-Kemp MBE dated 2 May 2019 dismissing the Appellant’s\\nappeal against the Respondent’s decision of 23 November 2018 refusing\\nhis human rights and protection claim.  \\n© CROWN COPYRIGHT 2019\\nAppeal Number: PA/00240/2019\\narguably had regard to irrelevant considerations is difficult to sustain.  The\\nAppellant has clearly given inconsistent evidence about his whereabouts,\\non the one part insisting that he remained in Iraq in December 2017 but\\nincontrovertible evidence existing from the EURODAC search result that he\\nwas present in Germany on 22 March 2016.  These two items of evidence\\nsimply cannot sit together.  True it is that there are no details of the\\nAppellant’s account of any incidents that he has set out which are dated\\nany later than 22 March 2016, and therefore being shot at in ‘2016’ and\\nhim departing Iraq prior to 22 March 2016 does not necessarily make his\\naccount impossible to believe, but it is clearly a very significant matter\\nthat the Appellant has lied about his continued presence in Iraq up to the\\npoint of December 2017 and the judge was fully entitled to treat that as a\\nvery significant matter.  Whether or not she was entitled to treat it as\\nrendering ‘his entire account unreliable’ is moot.  \\n12. However the judge does not stop there in her credibility findings because\\nshe continues, as is clear at paragraph 17, to set out other reasons for\\nfinding the Appellant’s account incredible.  Whereas it may be expected\\nthat a young person may not be as fully informed about the details of a\\nfeud affecting his family and the wider tribe as might a fully-grown adult,\\nthe   judge’s   point  is   that   the   Appellant   decided,   together   with   the\\nassistance of a relative, to leave Iraq because of this feud and the judge\\nwas entitled to find that it was implausible that the Appellant knew so little\\nabout the feud whereas it had been the specific cause of his decision to\\nleave the country.  I find that it was not irrational for the judge to make\\nthe findings that she did at paragraph 17.  There are a number of reasons\\ntherefore given by the judge for finding the Appellant’s account incredible\\nand I find that none of those reasons is vitiated by any error of law.  \\n13. Judge Keane in granting permission did not comment upon the Appellant’s\\nactual second ground which was that the judge had failed to apply country\\nguidance relevant to the issue of obtaining documents for readmission and\\nresidence in Iraq.  However in the light of my decision that the judge’s\\ncredibility findings are sustainable it is also sustainable that the Appellant\\ncan have  the assistance  of family members in Iraq to obtain  any\\nreplacement documents that are needed to facilitate his return to, and\\nresidence in Iraq.  \\nNotice of Decision\\nThe judge’s decision did not involve the making of any material error of\\nlaw.  \\nI do not set aside the decision.  \\nThe Appellant’s appeal is dismissed.  \\nSigned Date 20.11.19\\n5'"
      ]
     },
     "execution_count": 8,
     "metadata": {},
     "output_type": "execute_result"
    }
   ],
   "source": [
    "pdf"
   ]
  },
  {
   "cell_type": "markdown",
   "metadata": {},
   "source": [
    "## 5.2. Basic statistics"
   ]
  },
  {
   "cell_type": "markdown",
   "metadata": {},
   "source": [
    "🤓 It is important when analysing text to know the basic figures: \n",
    "- How many words do we have? \n",
    "- How many sentences? \n",
    "- What are the most common words? \n",
    "\n",
    "\n",
    "❓ More questions?"
   ]
  },
  {
   "cell_type": "markdown",
   "metadata": {},
   "source": [
    "### 5.2.1. How many words do we have? "
   ]
  },
  {
   "cell_type": "code",
   "execution_count": 9,
   "metadata": {},
   "outputs": [
    {
     "data": {
      "text/plain": [
       "3853"
      ]
     },
     "execution_count": 9,
     "metadata": {},
     "output_type": "execute_result"
    }
   ],
   "source": [
    "# How many words do we have?\n",
    "words_txt = text.split()\n",
    "len(words_txt)"
   ]
  },
  {
   "cell_type": "code",
   "execution_count": 10,
   "metadata": {},
   "outputs": [
    {
     "data": {
      "text/plain": [
       "['Upper',\n",
       " 'Tribunal',\n",
       " '(Immigration',\n",
       " 'and',\n",
       " 'Asylum',\n",
       " 'Chamber)',\n",
       " 'Appeal',\n",
       " 'Number:',\n",
       " 'PA/00240/2019',\n",
       " 'THE',\n",
       " 'IMMIGRATION',\n",
       " 'ACTS',\n",
       " 'Heard',\n",
       " 'at',\n",
       " 'Birmingham',\n",
       " 'CJC',\n",
       " 'Decision',\n",
       " '&',\n",
       " 'Reasons',\n",
       " 'Promulgated',\n",
       " 'On',\n",
       " '21',\n",
       " 'November',\n",
       " '2019',\n",
       " 'On',\n",
       " '8',\n",
       " 'November',\n",
       " '2019',\n",
       " 'Before',\n",
       " 'DEPUTY',\n",
       " 'UPPER',\n",
       " 'TRIBUNAL',\n",
       " 'JUDGE',\n",
       " 'O’RYAN',\n",
       " 'Between',\n",
       " 'MR',\n",
       " 'D',\n",
       " 'A',\n",
       " '(ANONYMITY',\n",
       " 'DIRECTION',\n",
       " 'MADE)',\n",
       " 'Appellant',\n",
       " 'and',\n",
       " 'THE',\n",
       " 'SECRETARY',\n",
       " 'OF',\n",
       " 'STATE',\n",
       " 'FOR',\n",
       " 'THE',\n",
       " 'HOME',\n",
       " 'DEPARTMENT',\n",
       " 'Respondent',\n",
       " 'Representation:',\n",
       " 'For',\n",
       " 'the',\n",
       " 'Appellant:',\n",
       " 'Mr',\n",
       " 'Sharif,',\n",
       " 'Fountain',\n",
       " 'Solicitors',\n",
       " 'For',\n",
       " 'the',\n",
       " 'Respondent:',\n",
       " 'Mr',\n",
       " 'Mills,',\n",
       " 'Senior',\n",
       " 'Home',\n",
       " 'Office',\n",
       " 'Presenting',\n",
       " 'Officer',\n",
       " 'DECISION',\n",
       " 'AND',\n",
       " 'REASONS',\n",
       " '1.',\n",
       " 'This',\n",
       " 'is',\n",
       " 'the',\n",
       " 'Appellant’s',\n",
       " 'appeal',\n",
       " 'against',\n",
       " 'the',\n",
       " 'decision',\n",
       " 'of',\n",
       " 'Judge',\n",
       " 'of',\n",
       " 'the',\n",
       " 'First-tier',\n",
       " 'Tribunal',\n",
       " 'Boylan-Kemp',\n",
       " 'MBE',\n",
       " 'dated',\n",
       " '2',\n",
       " 'May',\n",
       " '2019',\n",
       " 'dismissing',\n",
       " 'the',\n",
       " 'Appellant’s',\n",
       " 'appeal',\n",
       " 'against',\n",
       " 'the',\n",
       " 'Respondent’s',\n",
       " 'decision',\n",
       " 'of',\n",
       " '23',\n",
       " 'November',\n",
       " '2018',\n",
       " 'refusing',\n",
       " 'his',\n",
       " 'human',\n",
       " 'rights',\n",
       " 'and',\n",
       " 'protection',\n",
       " 'claim.',\n",
       " '©',\n",
       " 'CROWN',\n",
       " 'COPYRIGHT',\n",
       " '2019Appeal',\n",
       " 'Number:',\n",
       " 'PA/00240/2019',\n",
       " '2.',\n",
       " 'The',\n",
       " 'Appellant',\n",
       " 'is',\n",
       " 'a',\n",
       " 'national',\n",
       " 'of',\n",
       " 'Iraq',\n",
       " 'of',\n",
       " 'Kurdish',\n",
       " 'origin',\n",
       " 'and',\n",
       " 'from',\n",
       " 'Sulamaniyah',\n",
       " 'in',\n",
       " 'the',\n",
       " 'IKR.',\n",
       " 'He',\n",
       " 'gave',\n",
       " 'an',\n",
       " 'account',\n",
       " 'that',\n",
       " 'he',\n",
       " 'was',\n",
       " 'at',\n",
       " 'risk',\n",
       " 'of',\n",
       " 'serious',\n",
       " 'harm',\n",
       " 'in',\n",
       " 'the',\n",
       " 'IKR',\n",
       " 'by',\n",
       " 'reason',\n",
       " 'of',\n",
       " 'his',\n",
       " 'family',\n",
       " 'and',\n",
       " 'extended',\n",
       " 'tribe',\n",
       " 'being',\n",
       " 'in',\n",
       " 'a',\n",
       " 'feud',\n",
       " 'with',\n",
       " 'another',\n",
       " 'tribe',\n",
       " 'in',\n",
       " 'the',\n",
       " 'IKR.',\n",
       " 'The',\n",
       " 'Appellant',\n",
       " 'was',\n",
       " 'not',\n",
       " 'able',\n",
       " 'to',\n",
       " 'give',\n",
       " 'many',\n",
       " 'details',\n",
       " 'of',\n",
       " 'the',\n",
       " 'origins',\n",
       " 'of',\n",
       " 'the',\n",
       " 'feud',\n",
       " 'but',\n",
       " 'stated',\n",
       " 'that',\n",
       " 'one',\n",
       " 'family',\n",
       " 'member',\n",
       " 'had',\n",
       " 'been',\n",
       " 'killed',\n",
       " 'as',\n",
       " 'a',\n",
       " 'result',\n",
       " 'of',\n",
       " 'it',\n",
       " 'and',\n",
       " 'that',\n",
       " 'he',\n",
       " 'himself',\n",
       " 'had',\n",
       " 'experienced',\n",
       " 'two',\n",
       " 'incidents;',\n",
       " 'one',\n",
       " 'being',\n",
       " 'that',\n",
       " 'unknown',\n",
       " 'persons',\n",
       " 'had',\n",
       " 'fired',\n",
       " 'upon',\n",
       " 'a',\n",
       " 'car',\n",
       " 'in',\n",
       " 'which',\n",
       " 'he',\n",
       " 'was',\n",
       " 'travelling',\n",
       " 'and',\n",
       " 'his',\n",
       " 'cousin',\n",
       " 'had',\n",
       " 'been',\n",
       " 'injured',\n",
       " 'in',\n",
       " 'the',\n",
       " 'shoulder,',\n",
       " 'and',\n",
       " 'another',\n",
       " 'occasion',\n",
       " 'when',\n",
       " 'the',\n",
       " 'house',\n",
       " 'in',\n",
       " 'which',\n",
       " 'he',\n",
       " 'lived',\n",
       " 'was',\n",
       " 'fired',\n",
       " 'upon.',\n",
       " '3.',\n",
       " 'The',\n",
       " 'Respondent',\n",
       " 'in',\n",
       " 'its',\n",
       " 'decision',\n",
       " 'refusing',\n",
       " 'the',\n",
       " 'protection',\n",
       " 'claim',\n",
       " 'disbelieved',\n",
       " 'the',\n",
       " 'Appellant’s',\n",
       " 'account',\n",
       " 'that',\n",
       " 'there',\n",
       " 'was',\n",
       " 'any',\n",
       " 'feud',\n",
       " 'on',\n",
       " 'the',\n",
       " 'grounds',\n",
       " 'that',\n",
       " 'the',\n",
       " 'Appellant',\n",
       " 'knew',\n",
       " 'very',\n",
       " 'few',\n",
       " 'details',\n",
       " 'of',\n",
       " 'the',\n",
       " 'alleged',\n",
       " 'feud.',\n",
       " 'There',\n",
       " 'was',\n",
       " 'also',\n",
       " 'said',\n",
       " 'to',\n",
       " 'be',\n",
       " 'a',\n",
       " 'discrepancy',\n",
       " 'as',\n",
       " 'between',\n",
       " 'the',\n",
       " 'Appellant’s',\n",
       " 'evidence',\n",
       " 'in',\n",
       " 'interview',\n",
       " 'as',\n",
       " 'to',\n",
       " 'how',\n",
       " 'many',\n",
       " 'occasions',\n",
       " 'the',\n",
       " 'Appellant',\n",
       " 'experienced',\n",
       " 'any',\n",
       " 'problems',\n",
       " 'himself',\n",
       " '(refusal',\n",
       " 'letter,',\n",
       " 'para',\n",
       " '[26])',\n",
       " 'and',\n",
       " 'a',\n",
       " 'discrepancy',\n",
       " 'between',\n",
       " 'an',\n",
       " 'alleged',\n",
       " 'fear',\n",
       " 'of',\n",
       " 'his',\n",
       " 'own',\n",
       " 'father',\n",
       " '(resulting',\n",
       " 'from',\n",
       " 'the',\n",
       " 'Appellant',\n",
       " 'refusing',\n",
       " 'to',\n",
       " 'take',\n",
       " 'part',\n",
       " 'in',\n",
       " 'the',\n",
       " 'feud)',\n",
       " 'and',\n",
       " 'information',\n",
       " 'given',\n",
       " 'in',\n",
       " 'an',\n",
       " 'age',\n",
       " 'assessment',\n",
       " 'interview',\n",
       " 'in',\n",
       " 'which',\n",
       " 'he',\n",
       " 'had',\n",
       " 'stated',\n",
       " 'that',\n",
       " 'he',\n",
       " 'had',\n",
       " 'a',\n",
       " 'good',\n",
       " 'relationship',\n",
       " 'with',\n",
       " 'his',\n",
       " 'family',\n",
       " 'members',\n",
       " '(para',\n",
       " '[31]).',\n",
       " '4.',\n",
       " 'The',\n",
       " 'Appellant',\n",
       " 'appealed',\n",
       " 'against',\n",
       " 'that',\n",
       " 'decision',\n",
       " 'and',\n",
       " 'the',\n",
       " 'matter',\n",
       " 'came',\n",
       " 'before',\n",
       " 'the',\n",
       " 'judge',\n",
       " 'at',\n",
       " 'the',\n",
       " 'Birmingham',\n",
       " 'hearing',\n",
       " 'centre',\n",
       " 'on',\n",
       " '18',\n",
       " 'March',\n",
       " '2019.',\n",
       " 'The',\n",
       " 'Appellant',\n",
       " 'was',\n",
       " 'represented',\n",
       " 'and',\n",
       " 'gave',\n",
       " 'evidence.',\n",
       " 'At',\n",
       " 'the',\n",
       " 'date',\n",
       " 'of',\n",
       " 'that',\n",
       " 'hearing',\n",
       " 'the',\n",
       " 'Appellant',\n",
       " 'would',\n",
       " 'have',\n",
       " 'been',\n",
       " '18',\n",
       " 'years',\n",
       " 'of',\n",
       " 'age.',\n",
       " 'A',\n",
       " 'further',\n",
       " 'document',\n",
       " 'was',\n",
       " 'relied',\n",
       " 'upon',\n",
       " 'by',\n",
       " 'the',\n",
       " 'Respondent',\n",
       " 'at',\n",
       " 'that',\n",
       " 'hearing,',\n",
       " 'being',\n",
       " 'a',\n",
       " 'EURODAC',\n",
       " 'search',\n",
       " 'result,',\n",
       " 'demonstrating',\n",
       " 'that',\n",
       " 'a',\n",
       " 'person',\n",
       " 'in',\n",
       " 'the',\n",
       " 'Appellant’s',\n",
       " 'identity',\n",
       " 'was',\n",
       " 'fingerprinted',\n",
       " 'in',\n",
       " 'Dresden',\n",
       " 'in',\n",
       " 'Germany',\n",
       " 'on',\n",
       " '22',\n",
       " 'March',\n",
       " '2016.',\n",
       " 'The',\n",
       " 'Appellant’s',\n",
       " 'account',\n",
       " 'as',\n",
       " 'given',\n",
       " 'in',\n",
       " 'his',\n",
       " 'SEF',\n",
       " 'interview',\n",
       " 'and',\n",
       " 'confirmed',\n",
       " 'in',\n",
       " 'oral',\n",
       " 'evidence',\n",
       " 'before',\n",
       " 'the',\n",
       " 'judge',\n",
       " 'was',\n",
       " 'that',\n",
       " 'he',\n",
       " 'only',\n",
       " 'left',\n",
       " 'Iraq',\n",
       " 'in',\n",
       " 'December',\n",
       " '2017.',\n",
       " 'The',\n",
       " 'Appellant',\n",
       " 'denied',\n",
       " 'before',\n",
       " 'the',\n",
       " 'judge',\n",
       " 'that',\n",
       " 'the',\n",
       " 'person',\n",
       " 'identified',\n",
       " 'in',\n",
       " 'the',\n",
       " 'EURODAC',\n",
       " 'search',\n",
       " 'was',\n",
       " 'him',\n",
       " 'but',\n",
       " 'the',\n",
       " 'judge',\n",
       " 'stated',\n",
       " 'that',\n",
       " 'she',\n",
       " 'was',\n",
       " 'satisfied',\n",
       " 'by',\n",
       " 'the',\n",
       " 'details',\n",
       " 'contained',\n",
       " 'within',\n",
       " 'the',\n",
       " 'document,',\n",
       " 'and',\n",
       " 'looking',\n",
       " 'at',\n",
       " 'the',\n",
       " 'clear',\n",
       " 'photograph',\n",
       " 'on',\n",
       " 'the',\n",
       " 'EURODAC',\n",
       " 'match,',\n",
       " 'that',\n",
       " 'the',\n",
       " 'person',\n",
       " 'fingerprinted',\n",
       " 'in',\n",
       " 'Germany',\n",
       " 'was',\n",
       " 'indeed',\n",
       " 'the',\n",
       " 'Appellant.',\n",
       " '5.',\n",
       " 'The',\n",
       " 'judge',\n",
       " 'found',\n",
       " 'at',\n",
       " 'paragraph',\n",
       " '14',\n",
       " 'onwards',\n",
       " 'as',\n",
       " 'follows:',\n",
       " '“16.',\n",
       " 'The',\n",
       " 'evidence',\n",
       " 'provided',\n",
       " 'by',\n",
       " 'the',\n",
       " 'EURODAC',\n",
       " 'document',\n",
       " 'is',\n",
       " 'unequivocal.',\n",
       " 'The',\n",
       " 'photograph',\n",
       " 'contained',\n",
       " 'within',\n",
       " 'the',\n",
       " 'document',\n",
       " 'is',\n",
       " 'clearly',\n",
       " 'the',\n",
       " 'Appellant',\n",
       " 'who',\n",
       " 'appeared',\n",
       " 'before',\n",
       " 'me',\n",
       " 'and',\n",
       " 'I',\n",
       " 'have',\n",
       " 'no',\n",
       " 'reason',\n",
       " 'to',\n",
       " 'doubt',\n",
       " 'that',\n",
       " 'the',\n",
       " 'document',\n",
       " 'relates',\n",
       " 'to',\n",
       " 'him.',\n",
       " 'Therefore',\n",
       " 'this',\n",
       " 'document',\n",
       " 'upon',\n",
       " 'which',\n",
       " 'I',\n",
       " 'am',\n",
       " 'satisfied',\n",
       " 'I',\n",
       " 'can',\n",
       " 'place',\n",
       " 'significant',\n",
       " 'weight',\n",
       " 'puts',\n",
       " 'him',\n",
       " 'in',\n",
       " 'Germany',\n",
       " 'on',\n",
       " '22',\n",
       " 'March',\n",
       " '2016.',\n",
       " 'Consequently',\n",
       " 'I',\n",
       " 'find',\n",
       " 'that',\n",
       " 'this',\n",
       " 'evidence',\n",
       " 'undermines',\n",
       " 'the',\n",
       " 'credibility',\n",
       " 'of',\n",
       " 'his',\n",
       " 'entire',\n",
       " 'account',\n",
       " 'and',\n",
       " 'his',\n",
       " 'credibility',\n",
       " 'as',\n",
       " 'a',\n",
       " 'witness',\n",
       " 'in',\n",
       " 'his',\n",
       " 'own',\n",
       " 'cause',\n",
       " 'and',\n",
       " 'that',\n",
       " 'it',\n",
       " 'renders',\n",
       " 'his',\n",
       " 'entire',\n",
       " 'account',\n",
       " 'unreliable.',\n",
       " '2Appeal',\n",
       " 'Number:',\n",
       " 'PA/00240/2019',\n",
       " '17.',\n",
       " 'Further',\n",
       " 'I',\n",
       " 'also',\n",
       " 'find',\n",
       " 'his',\n",
       " 'inability',\n",
       " 'to',\n",
       " 'recall',\n",
       " 'the',\n",
       " 'details',\n",
       " 'of',\n",
       " 'the',\n",
       " 'alleged',\n",
       " 'feud',\n",
       " 'which',\n",
       " 'caused',\n",
       " 'him',\n",
       " 'to',\n",
       " 'leave',\n",
       " 'his',\n",
       " 'family',\n",
       " 'and',\n",
       " 'flee',\n",
       " 'the',\n",
       " 'country',\n",
       " 'to',\n",
       " 'also',\n",
       " 'not',\n",
       " 'be',\n",
       " 'credible.',\n",
       " 'If',\n",
       " 'a',\n",
       " 'young',\n",
       " 'man',\n",
       " 'was',\n",
       " 'leaving',\n",
       " 'his',\n",
       " 'life',\n",
       " 'behind',\n",
       " 'because',\n",
       " 'of',\n",
       " 'his',\n",
       " 'reluctance',\n",
       " 'to',\n",
       " 'become',\n",
       " 'involved',\n",
       " 'in',\n",
       " 'an',\n",
       " 'ongoing',\n",
       " 'family',\n",
       " 'feud',\n",
       " 'then',\n",
       " 'I',\n",
       " 'would',\n",
       " 'anticipate',\n",
       " 'that',\n",
       " 'he',\n",
       " 'would',\n",
       " 'have',\n",
       " 'knowledge',\n",
       " 'of',\n",
       " 'what',\n",
       " 'he',\n",
       " 'is',\n",
       " 'in',\n",
       " 'fear',\n",
       " 'of',\n",
       " 'and',\n",
       " 'so',\n",
       " 'I',\n",
       " 'do',\n",
       " 'not',\n",
       " 'find',\n",
       " 'it',\n",
       " 'plausible',\n",
       " 'that',\n",
       " 'he',\n",
       " 'would',\n",
       " 'not',\n",
       " 'know',\n",
       " 'the',\n",
       " 'details',\n",
       " 'of',\n",
       " 'this',\n",
       " 'feud',\n",
       " 'if',\n",
       " 'he',\n",
       " 'held',\n",
       " 'such',\n",
       " 'a',\n",
       " 'genuine',\n",
       " 'fear.',\n",
       " 'Also',\n",
       " 'I',\n",
       " 'note',\n",
       " 'that',\n",
       " 'even',\n",
       " 'on',\n",
       " 'his',\n",
       " 'own',\n",
       " 'evidence',\n",
       " 'there',\n",
       " 'has',\n",
       " 'been',\n",
       " 'no',\n",
       " 'specific',\n",
       " 'risk',\n",
       " 'or',\n",
       " 'threat',\n",
       " 'made',\n",
       " 'to',\n",
       " 'him',\n",
       " 'which',\n",
       " 'would',\n",
       " 'cause',\n",
       " 'him',\n",
       " 'to',\n",
       " 'fear',\n",
       " 'for',\n",
       " 'his',\n",
       " 'own',\n",
       " 'safety',\n",
       " 'beyond',\n",
       " 'what',\n",
       " 'is',\n",
       " 'a',\n",
       " 'more',\n",
       " 'general',\n",
       " 'tribal',\n",
       " 'threat',\n",
       " 'and',\n",
       " 'of',\n",
       " 'which',\n",
       " 'he',\n",
       " 'cannot',\n",
       " 'provide',\n",
       " 'much',\n",
       " 'detail.',\n",
       " '...',\n",
       " '18.',\n",
       " 'As',\n",
       " 'I',\n",
       " 'have',\n",
       " 'found',\n",
       " 'the',\n",
       " 'Appellant’s',\n",
       " 'alleged',\n",
       " 'reasoning',\n",
       " 'for',\n",
       " 'leaving',\n",
       " 'Iraq',\n",
       " 'to',\n",
       " 'not',\n",
       " 'be',\n",
       " 'credible',\n",
       " 'then',\n",
       " 'I',\n",
       " 'also',\n",
       " 'find',\n",
       " 'that',\n",
       " 'it',\n",
       " 'is',\n",
       " 'not',\n",
       " 'plausible',\n",
       " 'that',\n",
       " 'his',\n",
       " 'family',\n",
       " 'have',\n",
       " 'consequently',\n",
       " 'threatened',\n",
       " 'him',\n",
       " 'as',\n",
       " 'claimed',\n",
       " 'due',\n",
       " 'to',\n",
       " 'his',\n",
       " 'alleged',\n",
       " 'desertion',\n",
       " 'because',\n",
       " 'of',\n",
       " 'the',\n",
       " 'alleged',\n",
       " 'feud.',\n",
       " 'Instead',\n",
       " 'I',\n",
       " 'find',\n",
       " 'that',\n",
       " 'he',\n",
       " 'has',\n",
       " 'travelled',\n",
       " 'to',\n",
       " 'the',\n",
       " 'UK',\n",
       " 'with',\n",
       " 'the',\n",
       " 'assistance',\n",
       " 'and',\n",
       " 'knowledge',\n",
       " 'of',\n",
       " 'his',\n",
       " 'family',\n",
       " 'for',\n",
       " 'reasons',\n",
       " 'other',\n",
       " 'than',\n",
       " 'escaping',\n",
       " 'a',\n",
       " 'risk',\n",
       " 'of',\n",
       " 'persecution.',\n",
       " 'As',\n",
       " 'such',\n",
       " 'I',\n",
       " 'find',\n",
       " 'that',\n",
       " 'his',\n",
       " 'family',\n",
       " 'would',\n",
       " 'therefore',\n",
       " 'be',\n",
       " 'able',\n",
       " 'to',\n",
       " 'assist',\n",
       " 'him',\n",
       " 'with',\n",
       " 'obtaining',\n",
       " 'a',\n",
       " 'copy',\n",
       " 'of',\n",
       " 'his',\n",
       " 'identification',\n",
       " 'documents',\n",
       " 'and',\n",
       " 'CSID',\n",
       " 'which',\n",
       " 'would',\n",
       " 'help',\n",
       " 'facilitate',\n",
       " 'his',\n",
       " 'return',\n",
       " 'to',\n",
       " 'Iraq.',\n",
       " 'I',\n",
       " 'also',\n",
       " 'find',\n",
       " 'that',\n",
       " 'he',\n",
       " 'would',\n",
       " 'be',\n",
       " 'able',\n",
       " 'to',\n",
       " 'return',\n",
       " 'to',\n",
       " 'the',\n",
       " 'help',\n",
       " 'and',\n",
       " 'support',\n",
       " 'of',\n",
       " 'his',\n",
       " 'family',\n",
       " 'there.”',\n",
       " 'The',\n",
       " 'judge',\n",
       " 'dismissed',\n",
       " 'the',\n",
       " 'Appellant’s',\n",
       " 'appeal.',\n",
       " '6.',\n",
       " 'The',\n",
       " 'Appellant',\n",
       " 'appeals',\n",
       " 'to',\n",
       " 'the',\n",
       " 'Upper',\n",
       " 'Tribunal',\n",
       " 'on',\n",
       " 'grounds',\n",
       " 'dated',\n",
       " '15',\n",
       " 'May',\n",
       " '2019',\n",
       " 'which',\n",
       " 'argue',\n",
       " 'very',\n",
       " 'briefly',\n",
       " 'that',\n",
       " 'the',\n",
       " 'judge',\n",
       " 'erred',\n",
       " 'in',\n",
       " 'law',\n",
       " 'at',\n",
       " 'paragraphs',\n",
       " '15',\n",
       " 'to',\n",
       " '20',\n",
       " 'by',\n",
       " 'giving',\n",
       " 'inadequate',\n",
       " 'reasoning',\n",
       " 'for',\n",
       " 'finding',\n",
       " 'the',\n",
       " 'Appellant’s',\n",
       " 'account',\n",
       " 'to',\n",
       " 'not',\n",
       " 'be',\n",
       " 'credible',\n",
       " 'and',\n",
       " 'secondly',\n",
       " 'that',\n",
       " 'the',\n",
       " 'judge',\n",
       " 'had',\n",
       " 'failed',\n",
       " 'to',\n",
       " 'apply',\n",
       " 'relevant',\n",
       " 'country',\n",
       " 'guidance.',\n",
       " '7.',\n",
       " 'Permission',\n",
       " 'to',\n",
       " 'appeal',\n",
       " 'was',\n",
       " 'granted',\n",
       " 'by',\n",
       " 'Judge',\n",
       " 'of',\n",
       " 'the',\n",
       " 'First-tier',\n",
       " 'Tribunal',\n",
       " 'Keane',\n",
       " 'on',\n",
       " '24',\n",
       " 'June',\n",
       " '2019.',\n",
       " 'The',\n",
       " 'judge',\n",
       " 'stated',\n",
       " 'as',\n",
       " 'follows:',\n",
       " '“The',\n",
       " 'judge',\n",
       " 'arguably',\n",
       " 'had',\n",
       " 'regard',\n",
       " 'to',\n",
       " 'irrelevant',\n",
       " 'considerations',\n",
       " 'in',\n",
       " 'finding',\n",
       " 'that',\n",
       " 'the',\n",
       " 'Appellant',\n",
       " 'had',\n",
       " 'not',\n",
       " 'given',\n",
       " 'a',\n",
       " 'credible',\n",
       " 'account',\n",
       " 'of',\n",
       " 'events.',\n",
       " 'The',\n",
       " 'judge’s',\n",
       " 'findings',\n",
       " 'as',\n",
       " 'to',\n",
       " 'the',\n",
       " 'credibility',\n",
       " 'were',\n",
       " 'to',\n",
       " 'be',\n",
       " 'found',\n",
       " 'at',\n",
       " 'paragraphs',\n",
       " '15',\n",
       " 'to',\n",
       " '18',\n",
       " 'inclusive',\n",
       " 'of',\n",
       " 'her',\n",
       " 'decision.',\n",
       " 'At',\n",
       " 'paragraph',\n",
       " '15',\n",
       " ...]"
      ]
     },
     "execution_count": 10,
     "metadata": {},
     "output_type": "execute_result"
    }
   ],
   "source": [
    "words_txt"
   ]
  },
  {
   "cell_type": "code",
   "execution_count": 11,
   "metadata": {},
   "outputs": [
    {
     "data": {
      "text/plain": [
       "3047"
      ]
     },
     "execution_count": 11,
     "metadata": {},
     "output_type": "execute_result"
    }
   ],
   "source": [
    "words_pdf = pdf.split()\n",
    "len(words_pdf)"
   ]
  },
  {
   "cell_type": "code",
   "execution_count": 12,
   "metadata": {},
   "outputs": [
    {
     "data": {
      "text/plain": [
       "['Upper',\n",
       " 'Tribunal',\n",
       " '(Immigration',\n",
       " 'and',\n",
       " 'Asylum',\n",
       " 'Chamber)',\n",
       " 'Appeal',\n",
       " 'Number:',\n",
       " 'PA/05945/2018',\n",
       " 'THE',\n",
       " 'IMMIGRATION',\n",
       " 'ACTS',\n",
       " 'Heard',\n",
       " 'at',\n",
       " 'Birmingham',\n",
       " 'CJC',\n",
       " 'Decision',\n",
       " '&',\n",
       " 'Reasons',\n",
       " 'Promulgated',\n",
       " 'On',\n",
       " '5th',\n",
       " 'July',\n",
       " '2019',\n",
       " 'On',\n",
       " '19th',\n",
       " 'August',\n",
       " '2019',\n",
       " 'Before',\n",
       " 'DEPUTY',\n",
       " 'UPPER',\n",
       " 'TRIBUNAL',\n",
       " 'JUDGE',\n",
       " 'JUSS',\n",
       " 'Between',\n",
       " 'HA',\n",
       " '(ANONYMITY',\n",
       " 'DIRECTION',\n",
       " 'MADE)',\n",
       " 'Appellant',\n",
       " 'and',\n",
       " 'THE',\n",
       " 'SECRETARY',\n",
       " 'OF',\n",
       " 'STATE',\n",
       " 'FOR',\n",
       " 'THE',\n",
       " 'HOME',\n",
       " 'DEPARTMENT',\n",
       " 'Respondent',\n",
       " 'Representation:',\n",
       " 'For',\n",
       " 'the',\n",
       " 'Appellant:',\n",
       " 'Mr',\n",
       " 'J',\n",
       " 'Howard',\n",
       " '(Solicitor)',\n",
       " 'For',\n",
       " 'the',\n",
       " 'Respondent:',\n",
       " 'Mr',\n",
       " 'D',\n",
       " 'Mills',\n",
       " '(Senior',\n",
       " 'HOPO)',\n",
       " 'DECISION',\n",
       " 'AND',\n",
       " 'REASONS',\n",
       " '1.',\n",
       " 'This',\n",
       " 'is',\n",
       " 'an',\n",
       " 'appeal',\n",
       " 'against',\n",
       " 'the',\n",
       " 'determination',\n",
       " 'of',\n",
       " 'First-tier',\n",
       " 'Tribunal',\n",
       " 'Judge',\n",
       " 'Pacey,',\n",
       " 'promulgated',\n",
       " 'on',\n",
       " '24th',\n",
       " 'June',\n",
       " '2018,',\n",
       " 'following',\n",
       " 'a',\n",
       " 'hearing',\n",
       " 'at',\n",
       " 'Birmingham',\n",
       " 'on',\n",
       " '6th',\n",
       " 'June',\n",
       " '2018.',\n",
       " 'In',\n",
       " 'the',\n",
       " 'determination,',\n",
       " 'the',\n",
       " 'judge',\n",
       " 'dismissed',\n",
       " 'the',\n",
       " 'appeal',\n",
       " 'of',\n",
       " 'the',\n",
       " 'Appellant,',\n",
       " 'whereupon',\n",
       " 'the',\n",
       " 'Appellant',\n",
       " 'subsequently',\n",
       " 'applied',\n",
       " 'for,',\n",
       " 'and',\n",
       " 'was',\n",
       " 'granted,',\n",
       " 'permission',\n",
       " 'to',\n",
       " 'appeal',\n",
       " 'to',\n",
       " 'the',\n",
       " 'Upper',\n",
       " 'Tribunal,',\n",
       " 'and',\n",
       " 'thus',\n",
       " 'the',\n",
       " 'matter',\n",
       " 'comes',\n",
       " 'before',\n",
       " 'me.',\n",
       " 'The',\n",
       " 'Appellant',\n",
       " '©',\n",
       " 'CROWN',\n",
       " 'COPYRIGHT',\n",
       " '2019',\n",
       " 'Appeal',\n",
       " 'Number:',\n",
       " 'PA/05945/2018',\n",
       " '2.',\n",
       " 'The',\n",
       " 'Appellant',\n",
       " 'is',\n",
       " 'a',\n",
       " 'male,',\n",
       " 'a',\n",
       " 'citizen',\n",
       " 'of',\n",
       " 'Iran,',\n",
       " 'and',\n",
       " 'was',\n",
       " 'born',\n",
       " 'on',\n",
       " '22nd',\n",
       " 'July',\n",
       " '1996.',\n",
       " 'He',\n",
       " 'appealed',\n",
       " 'against',\n",
       " 'the',\n",
       " 'decision',\n",
       " 'of',\n",
       " 'the',\n",
       " 'Respondent',\n",
       " 'dated',\n",
       " '24th',\n",
       " 'April',\n",
       " '2018',\n",
       " 'refusing',\n",
       " 'his',\n",
       " 'claim',\n",
       " 'for',\n",
       " 'asylum',\n",
       " 'and',\n",
       " 'humanitarian',\n",
       " 'protection',\n",
       " 'pursuant',\n",
       " 'to',\n",
       " 'paragraph',\n",
       " '339C',\n",
       " 'of',\n",
       " 'HC',\n",
       " '395.',\n",
       " 'The',\n",
       " 'Appellant’s',\n",
       " 'Claim',\n",
       " '3.',\n",
       " 'The',\n",
       " 'essence',\n",
       " 'of',\n",
       " 'the',\n",
       " 'Appellant’s',\n",
       " 'claim',\n",
       " 'is',\n",
       " 'that',\n",
       " 'he',\n",
       " 'is',\n",
       " 'a',\n",
       " 'member',\n",
       " 'of',\n",
       " 'a',\n",
       " 'particular',\n",
       " 'social',\n",
       " 'group,',\n",
       " 'because',\n",
       " 'he',\n",
       " 'is',\n",
       " 'a',\n",
       " 'gay',\n",
       " 'Iranian',\n",
       " 'man',\n",
       " 'who',\n",
       " 'would',\n",
       " 'face',\n",
       " 'persecution',\n",
       " 'if',\n",
       " 'returned,',\n",
       " 'and',\n",
       " 'additionally',\n",
       " 'he',\n",
       " 'is',\n",
       " 'also',\n",
       " 'an',\n",
       " 'atheist,',\n",
       " 'who',\n",
       " 'would',\n",
       " 'be',\n",
       " 'ill-treated',\n",
       " 'upon',\n",
       " 'return',\n",
       " 'as',\n",
       " 'a',\n",
       " 'non-religious',\n",
       " 'person,',\n",
       " 'which',\n",
       " 'is',\n",
       " 'forbidden',\n",
       " 'in',\n",
       " 'Iran.',\n",
       " 'The',\n",
       " 'Judge’s',\n",
       " 'Findings',\n",
       " '4.',\n",
       " 'The',\n",
       " 'judge',\n",
       " 'noted',\n",
       " 'how',\n",
       " 'the',\n",
       " 'Appellant',\n",
       " 'in',\n",
       " 'his',\n",
       " 'screening',\n",
       " 'interview',\n",
       " 'has',\n",
       " 'said',\n",
       " 'that',\n",
       " 'he',\n",
       " 'held',\n",
       " 'no',\n",
       " 'religion',\n",
       " 'and',\n",
       " 'that',\n",
       " 'he',\n",
       " 'would',\n",
       " 'be',\n",
       " 'subject',\n",
       " 'to',\n",
       " 'persecution',\n",
       " 'as',\n",
       " 'a',\n",
       " 'non-',\n",
       " 'religious',\n",
       " 'person',\n",
       " 'if',\n",
       " 'returned',\n",
       " 'to',\n",
       " 'Iran.',\n",
       " 'He',\n",
       " 'made',\n",
       " 'no',\n",
       " 'mention',\n",
       " 'at',\n",
       " 'that',\n",
       " 'stage',\n",
       " 'that',\n",
       " 'he',\n",
       " 'was',\n",
       " 'also',\n",
       " 'a',\n",
       " 'gay',\n",
       " 'person.',\n",
       " 'During',\n",
       " 'his',\n",
       " 'asylum',\n",
       " 'interview,',\n",
       " 'however,',\n",
       " 'he',\n",
       " 'stated',\n",
       " 'that',\n",
       " 'he',\n",
       " 'was',\n",
       " 'a',\n",
       " 'danger',\n",
       " 'also',\n",
       " 'because',\n",
       " 'he',\n",
       " 'was',\n",
       " 'a',\n",
       " 'homosexual',\n",
       " 'and',\n",
       " 'feared',\n",
       " 'the',\n",
       " 'government',\n",
       " 'given',\n",
       " 'that',\n",
       " 'homosexuality',\n",
       " 'was',\n",
       " 'punishable',\n",
       " 'by',\n",
       " 'death.',\n",
       " 'He',\n",
       " 'had',\n",
       " 'not',\n",
       " 'mentioned',\n",
       " 'this',\n",
       " 'at',\n",
       " 'his',\n",
       " 'screening',\n",
       " 'interview',\n",
       " 'because',\n",
       " 'he',\n",
       " 'did',\n",
       " 'not',\n",
       " 'know',\n",
       " 'anything',\n",
       " 'about',\n",
       " 'the',\n",
       " 'country',\n",
       " 'he',\n",
       " 'was',\n",
       " 'coming',\n",
       " 'to.',\n",
       " 'The',\n",
       " 'Appellant',\n",
       " 'had',\n",
       " 'then',\n",
       " 'explained',\n",
       " 'how',\n",
       " 'he',\n",
       " 'had',\n",
       " 'a',\n",
       " 'boyfriend',\n",
       " 'in',\n",
       " 'the',\n",
       " 'UK',\n",
       " 'by',\n",
       " 'the',\n",
       " 'name',\n",
       " 'of',\n",
       " '[FS],',\n",
       " 'with',\n",
       " 'whom',\n",
       " 'he',\n",
       " 'had',\n",
       " 'been',\n",
       " 'in',\n",
       " 'relationship',\n",
       " 'for',\n",
       " 'about',\n",
       " 'one',\n",
       " 'and',\n",
       " 'a',\n",
       " 'half',\n",
       " 'months.',\n",
       " 'He',\n",
       " 'also',\n",
       " 'had',\n",
       " 'three',\n",
       " 'serious',\n",
       " 'relationships',\n",
       " 'which',\n",
       " 'he',\n",
       " 'went',\n",
       " 'on',\n",
       " 'to',\n",
       " 'describe',\n",
       " 'in',\n",
       " 'evidence',\n",
       " 'before',\n",
       " 'the',\n",
       " 'Tribunal.',\n",
       " 'The',\n",
       " 'judge',\n",
       " 'did',\n",
       " 'not',\n",
       " 'find',\n",
       " 'the',\n",
       " 'Appellant',\n",
       " 'to',\n",
       " 'be',\n",
       " 'credible',\n",
       " 'because',\n",
       " 'the',\n",
       " 'appellant’s',\n",
       " 'explanation',\n",
       " 'that',\n",
       " 'he',\n",
       " 'had',\n",
       " 'not',\n",
       " 'mentioned',\n",
       " 'his',\n",
       " 'homosexuality',\n",
       " 'during',\n",
       " 'his',\n",
       " 'screening',\n",
       " 'interview,',\n",
       " 'because',\n",
       " 'he',\n",
       " 'did',\n",
       " 'not',\n",
       " 'know',\n",
       " 'the',\n",
       " 'country',\n",
       " 'he',\n",
       " 'was',\n",
       " 'coming',\n",
       " 'to,',\n",
       " 'was',\n",
       " 'not',\n",
       " 'plausible.',\n",
       " 'As',\n",
       " 'the',\n",
       " 'judge',\n",
       " 'explained,',\n",
       " '“if',\n",
       " 'he',\n",
       " 'did',\n",
       " 'not',\n",
       " 'know',\n",
       " 'the',\n",
       " 'UK',\n",
       " 'approach',\n",
       " 'to',\n",
       " 'homosexuality',\n",
       " '…',\n",
       " 'he',\n",
       " 'could',\n",
       " 'not',\n",
       " 'have',\n",
       " 'known',\n",
       " 'if',\n",
       " 'the',\n",
       " 'UK',\n",
       " 'adopted',\n",
       " 'as',\n",
       " 'punitive',\n",
       " 'an',\n",
       " 'approach',\n",
       " 'to',\n",
       " 'gay',\n",
       " 'people',\n",
       " 'as',\n",
       " 'did',\n",
       " 'Iran….',\n",
       " 'For',\n",
       " 'all',\n",
       " 'he',\n",
       " 'knew',\n",
       " 'he',\n",
       " 'could',\n",
       " 'have',\n",
       " 'been',\n",
       " 'travelling',\n",
       " 'from',\n",
       " 'the',\n",
       " 'frying',\n",
       " 'pan',\n",
       " 'into',\n",
       " 'the',\n",
       " 'fire”',\n",
       " '(paragraph',\n",
       " '68).',\n",
       " '5.',\n",
       " 'On',\n",
       " 'the',\n",
       " 'other',\n",
       " 'hand,',\n",
       " 'the',\n",
       " 'judge',\n",
       " 'observed',\n",
       " 'that',\n",
       " 'if',\n",
       " 'the',\n",
       " 'Appellant',\n",
       " 'was',\n",
       " 'aware',\n",
       " 'of',\n",
       " 'the',\n",
       " 'actual',\n",
       " 'UK',\n",
       " 'approach',\n",
       " 'to',\n",
       " 'homosexuality,',\n",
       " '“then',\n",
       " 'there',\n",
       " 'was',\n",
       " 'no',\n",
       " 'reason',\n",
       " 'for',\n",
       " 'him',\n",
       " 'not',\n",
       " 'to',\n",
       " 'have',\n",
       " 'mentioned',\n",
       " 'his',\n",
       " 'sexuality',\n",
       " 'at',\n",
       " 'the',\n",
       " 'screening',\n",
       " 'interview”',\n",
       " '(paragraph',\n",
       " '69).',\n",
       " '6.',\n",
       " 'The',\n",
       " 'judge',\n",
       " 'was',\n",
       " 'also',\n",
       " 'not',\n",
       " 'impressed',\n",
       " 'by',\n",
       " 'the',\n",
       " 'witnesses',\n",
       " 'before',\n",
       " 'the',\n",
       " 'Tribunal.',\n",
       " 'In',\n",
       " 'short,',\n",
       " 'the',\n",
       " 'Appellant’s',\n",
       " 'claim',\n",
       " 'was',\n",
       " 'rejected',\n",
       " 'wholesale.',\n",
       " 'The',\n",
       " 'appeal',\n",
       " 'was',\n",
       " 'dismissed.',\n",
       " 'Grounds',\n",
       " 'of',\n",
       " 'Application',\n",
       " '7.',\n",
       " 'The',\n",
       " 'grounds',\n",
       " 'of',\n",
       " 'application',\n",
       " 'state',\n",
       " 'that',\n",
       " 'the',\n",
       " 'judge',\n",
       " 'had',\n",
       " 'engaged',\n",
       " 'in',\n",
       " 'a',\n",
       " 'material',\n",
       " 'error',\n",
       " 'of',\n",
       " 'law',\n",
       " 'in',\n",
       " 'relation',\n",
       " 'to',\n",
       " 'the',\n",
       " 'evidence',\n",
       " 'of',\n",
       " 'a',\n",
       " 'Miss',\n",
       " '[L]',\n",
       " 'and',\n",
       " 'that',\n",
       " 'of',\n",
       " 'Mr',\n",
       " '[S]',\n",
       " 'whose',\n",
       " 'credibility',\n",
       " 'had',\n",
       " 'been',\n",
       " 'wrongly',\n",
       " 'impugned',\n",
       " 'by',\n",
       " 'the',\n",
       " 'judge.',\n",
       " 'There',\n",
       " 'had',\n",
       " 'been',\n",
       " 'apparently',\n",
       " 'a',\n",
       " 'discrepancy',\n",
       " 'between',\n",
       " 'to',\n",
       " 'the',\n",
       " 'oral',\n",
       " 'and',\n",
       " 'the',\n",
       " 'written',\n",
       " '2',\n",
       " 'Appeal',\n",
       " 'Number:',\n",
       " 'PA/05945/2018',\n",
       " 'evidence',\n",
       " 'of',\n",
       " 'Miss',\n",
       " '[L],',\n",
       " 'but',\n",
       " 'this',\n",
       " 'discrepancy',\n",
       " 'had',\n",
       " 'not',\n",
       " 'been',\n",
       " 'put',\n",
       " 'to',\n",
       " 'the',\n",
       " 'witness,',\n",
       " 'and',\n",
       " 'if',\n",
       " 'this',\n",
       " 'was',\n",
       " 'so',\n",
       " 'then',\n",
       " 'this',\n",
       " 'was',\n",
       " 'contrary',\n",
       " 'to',\n",
       " 'the',\n",
       " 'rules',\n",
       " 'of',\n",
       " 'natural',\n",
       " 'justice.',\n",
       " '8.',\n",
       " 'On',\n",
       " '23rd',\n",
       " 'November',\n",
       " '2018',\n",
       " 'permission',\n",
       " 'to',\n",
       " 'appeal',\n",
       " 'was',\n",
       " 'granted.',\n",
       " 'Submissions',\n",
       " '9.',\n",
       " 'At',\n",
       " 'the',\n",
       " 'hearing',\n",
       " 'before',\n",
       " 'me',\n",
       " 'on',\n",
       " '5th',\n",
       " 'July',\n",
       " '2019,',\n",
       " 'the',\n",
       " 'Appellant',\n",
       " 'was',\n",
       " 'represented',\n",
       " 'by',\n",
       " 'Mr',\n",
       " 'Howard,',\n",
       " 'who',\n",
       " 'adopted',\n",
       " 'the',\n",
       " 'grounds',\n",
       " 'of',\n",
       " 'application.',\n",
       " 'He',\n",
       " 'submitted',\n",
       " 'that',\n",
       " 'if',\n",
       " 'the',\n",
       " 'judge',\n",
       " 'was',\n",
       " 'concerned',\n",
       " 'about',\n",
       " 'the',\n",
       " 'discrepancy',\n",
       " 'in',\n",
       " 'the',\n",
       " 'oral',\n",
       " 'and',\n",
       " 'written',\n",
       " 'evidence',\n",
       " 'of',\n",
       " 'Miss',\n",
       " '[L],',\n",
       " 'then',\n",
       " 'this',\n",
       " 'should',\n",
       " 'have',\n",
       " 'been',\n",
       " 'explored',\n",
       " 'by',\n",
       " 'the',\n",
       " 'Tribunal,',\n",
       " 'because',\n",
       " 'in',\n",
       " 'her',\n",
       " 'oral',\n",
       " 'evidence,',\n",
       " 'Miss',\n",
       " '[L]',\n",
       " 'had',\n",
       " 'said',\n",
       " 'that',\n",
       " 'she',\n",
       " 'had',\n",
       " '“not',\n",
       " 'met',\n",
       " '[F]”,',\n",
       " 'whereas',\n",
       " 'in',\n",
       " 'her',\n",
       " 'written',\n",
       " 'evidence',\n",
       " 'she',\n",
       " 'had',\n",
       " 'said',\n",
       " 'that',\n",
       " '“she',\n",
       " 'also',\n",
       " 'knew',\n",
       " 'his',\n",
       " 'previous',\n",
       " 'partner,',\n",
       " '[F]”',\n",
       " '(paragraph',\n",
       " '34).',\n",
       " 'Secondly,',\n",
       " 'Mr',\n",
       " 'Howard',\n",
       " 'submitted',\n",
       " 'that',\n",
       " 'if',\n",
       " 'one',\n",
       " 'looks',\n",
       " 'at',\n",
       " 'the',\n",
       " 'evidence',\n",
       " 'of',\n",
       " 'Mr',\n",
       " '[S]',\n",
       " '(at',\n",
       " 'page',\n",
       " '14',\n",
       " 'of',\n",
       " 'the',\n",
       " 'Appellant’s',\n",
       " 'bundle).',\n",
       " 'He',\n",
       " 'makes',\n",
       " 'it',\n",
       " 'quite',\n",
       " 'clear',\n",
       " 'that',\n",
       " 'he',\n",
       " 'is',\n",
       " 'the',\n",
       " 'director',\n",
       " 'of',\n",
       " 'a',\n",
       " 'voluntary',\n",
       " 'organisation',\n",
       " 'called',\n",
       " 'Persian',\n",
       " 'LGBT',\n",
       " 'Advisory',\n",
       " 'Services,',\n",
       " 'where',\n",
       " 'it',\n",
       " 'provides',\n",
       " '“voluntary',\n",
       " 'social',\n",
       " 'activities',\n",
       " 'for',\n",
       " 'LGBT',\n",
       " 'asylum',\n",
       " 'seekers”.',\n",
       " 'He',\n",
       " 'explains',\n",
       " 'that',\n",
       " 'the',\n",
       " 'appellant',\n",
       " 'had',\n",
       " 'contacted',\n",
       " 'him',\n",
       " 'via',\n",
       " 'Facebook',\n",
       " 'on',\n",
       " '9th',\n",
       " 'June',\n",
       " '2016.',\n",
       " 'He',\n",
       " 'invited',\n",
       " 'the',\n",
       " 'Appellant',\n",
       " 'to',\n",
       " 'meet',\n",
       " 'with',\n",
       " 'him,',\n",
       " 'and',\n",
       " 'after',\n",
       " 'a',\n",
       " 'conversation',\n",
       " 'he',\n",
       " 'had',\n",
       " 'come',\n",
       " 'to',\n",
       " 'the',\n",
       " 'view',\n",
       " 'that',\n",
       " '“I',\n",
       " 'am',\n",
       " 'aware',\n",
       " 'the',\n",
       " 'Appellant',\n",
       " 'is',\n",
       " 'openly',\n",
       " 'active',\n",
       " 'on',\n",
       " 'Facebook',\n",
       " 'page',\n",
       " 'which',\n",
       " 'I',\n",
       " 'would',\n",
       " 'refer',\n",
       " 'to',\n",
       " 'as',\n",
       " 'an',\n",
       " 'online',\n",
       " 'activist',\n",
       " 'where',\n",
       " 'he',\n",
       " 'shares',\n",
       " 'information',\n",
       " 'on',\n",
       " 'LGBT',\n",
       " 'community',\n",
       " 'using',\n",
       " 'his',\n",
       " 'Facebook',\n",
       " 'page…”.',\n",
       " 'On',\n",
       " 'that',\n",
       " 'basis',\n",
       " 'that',\n",
       " 'the',\n",
       " 'judge',\n",
       " 'was',\n",
       " 'wrong',\n",
       " 'to',\n",
       " 'have',\n",
       " 'impugned',\n",
       " 'his',\n",
       " 'credibility.',\n",
       " '10.',\n",
       " 'For',\n",
       " 'his',\n",
       " 'part,',\n",
       " 'Mr',\n",
       " 'Mills',\n",
       " 'submitted',\n",
       " 'that',\n",
       " 'the',\n",
       " 'issues',\n",
       " 'that',\n",
       " 'were',\n",
       " 'before',\n",
       " 'the',\n",
       " 'judge,',\n",
       " 'both',\n",
       " 'in',\n",
       " 'relation',\n",
       " 'to',\n",
       " 'the',\n",
       " 'Appellant’s',\n",
       " 'atheism',\n",
       " 'and',\n",
       " 'his',\n",
       " 'homosexual',\n",
       " 'tendencies,',\n",
       " 'were',\n",
       " 'not',\n",
       " 'new',\n",
       " 'issues.',\n",
       " 'If',\n",
       " 'evidence',\n",
       " 'was',\n",
       " 'collected',\n",
       " 'by',\n",
       " 'the',\n",
       " 'Appellant',\n",
       " 'between',\n",
       " 'the',\n",
       " 'asylum',\n",
       " 'interview',\n",
       " 'and',\n",
       " 'the',\n",
       " 'Tribunal',\n",
       " 'hearing,',\n",
       " 'in',\n",
       " 'a',\n",
       " 'manner',\n",
       " 'that',\n",
       " 'the',\n",
       " 'Appellant',\n",
       " 'himself',\n",
       " 'chose',\n",
       " 'to',\n",
       " 'do,',\n",
       " 'then',\n",
       " 'he',\n",
       " 'should',\n",
       " 'have',\n",
       " 'been',\n",
       " 'prepared',\n",
       " 'to',\n",
       " 'deal',\n",
       " 'with',\n",
       " 'it',\n",
       " 'on',\n",
       " 'the',\n",
       " 'basis',\n",
       " 'of',\n",
       " 'oral',\n",
       " 'testimony.',\n",
       " 'These',\n",
       " 'were',\n",
       " 'not',\n",
       " 'new',\n",
       " 'points.',\n",
       " 'The',\n",
       " 'witnesses',\n",
       " 'were',\n",
       " 'not',\n",
       " 'people',\n",
       " 'whose',\n",
       " 'evidence',\n",
       " 'had',\n",
       " 'previously',\n",
       " 'been',\n",
       " 'accepted.',\n",
       " 'Both',\n",
       " 'cases',\n",
       " 'were',\n",
       " 'simply',\n",
       " 'black',\n",
       " 'and',\n",
       " 'white',\n",
       " 'discrepancy',\n",
       " 'cases',\n",
       " 'where',\n",
       " 'the',\n",
       " 'judge',\n",
       " 'was',\n",
       " 'entitled',\n",
       " 'to',\n",
       " 'say',\n",
       " 'that',\n",
       " 'she',\n",
       " 'would',\n",
       " 'not',\n",
       " 'attach',\n",
       " 'any',\n",
       " 'significant',\n",
       " 'weight',\n",
       " 'to',\n",
       " 'such',\n",
       " 'evidence,',\n",
       " 'because',\n",
       " 'as',\n",
       " 'put',\n",
       " 'before',\n",
       " 'the',\n",
       " 'Tribunal,',\n",
       " 'the',\n",
       " 'evidence',\n",
       " 'was',\n",
       " 'not',\n",
       " 'persuasive.',\n",
       " 'No',\n",
       " 'Error',\n",
       " 'of',\n",
       " 'Law',\n",
       " '11.',\n",
       " 'I',\n",
       " 'am',\n",
       " 'satisfied',\n",
       " 'that',\n",
       " 'the',\n",
       " 'making',\n",
       " 'of',\n",
       " 'the',\n",
       " 'decision',\n",
       " 'by',\n",
       " 'the',\n",
       " ...]"
      ]
     },
     "execution_count": 12,
     "metadata": {},
     "output_type": "execute_result"
    }
   ],
   "source": [
    "words_pdf"
   ]
  },
  {
   "cell_type": "code",
   "execution_count": 14,
   "metadata": {},
   "outputs": [
    {
     "data": {
      "text/plain": [
       "{'(See',\n",
       " '...',\n",
       " '...”.',\n",
       " '14.',\n",
       " '15.',\n",
       " '15th',\n",
       " '16.',\n",
       " '19',\n",
       " '19th',\n",
       " '2019Appeal',\n",
       " '22nd',\n",
       " '23rd',\n",
       " '24th',\n",
       " '2Appeal',\n",
       " '3',\n",
       " '3Appeal',\n",
       " '4',\n",
       " '4Appeal',\n",
       " '5Appeal',\n",
       " '5th',\n",
       " '6',\n",
       " '6th',\n",
       " '78).',\n",
       " '79).',\n",
       " '9',\n",
       " '9th',\n",
       " 'Accordingly,',\n",
       " 'An',\n",
       " 'Christian',\n",
       " 'Discussion',\n",
       " 'Iran....',\n",
       " 'Iran….',\n",
       " 'It',\n",
       " 'Nevertheless',\n",
       " 'O’Ryan',\n",
       " 'Pride',\n",
       " 'Second,',\n",
       " 'Services.',\n",
       " 'Sharif',\n",
       " 'She',\n",
       " 'What',\n",
       " 'While',\n",
       " '[86]',\n",
       " '[S]’s',\n",
       " 'accept',\n",
       " 'accepted',\n",
       " 'account.',\n",
       " 'acknowledged',\n",
       " 'acknowledged”.',\n",
       " 'actually',\n",
       " 'adequate',\n",
       " 'admittedly',\n",
       " 'alter',\n",
       " 'analysis',\n",
       " 'anonymity',\n",
       " 'anticipated',\n",
       " 'argued',\n",
       " 'argues',\n",
       " 'at.',\n",
       " 'atheist.',\n",
       " 'attended',\n",
       " 'aware”',\n",
       " 'blood',\n",
       " 'bundle)',\n",
       " 'capable',\n",
       " 'case',\n",
       " 'case.',\n",
       " 'circumstances',\n",
       " 'claim,',\n",
       " 'clear,',\n",
       " 'communities',\n",
       " 'comprehensive,',\n",
       " 'comprise',\n",
       " 'concerned,',\n",
       " 'conclude',\n",
       " 'conduct',\n",
       " 'confirm',\n",
       " 'confirming',\n",
       " 'consistently',\n",
       " 'constituted',\n",
       " 'course',\n",
       " 'dates',\n",
       " 'dealt',\n",
       " 'decided',\n",
       " 'declaring',\n",
       " 'defends',\n",
       " 'detailed',\n",
       " 'determinative',\n",
       " 'determinatively',\n",
       " 'diligence’.',\n",
       " 'disbelieving',\n",
       " 'dishonest',\n",
       " 'do.',\n",
       " 'do.”',\n",
       " 'doing',\n",
       " 'done',\n",
       " 'each',\n",
       " 'ease',\n",
       " 'embark',\n",
       " 'ended',\n",
       " 'entirely',\n",
       " 'event,',\n",
       " 'evidence”',\n",
       " 'extensive',\n",
       " 'far',\n",
       " 'further.',\n",
       " 'gives',\n",
       " 'global',\n",
       " 'grant',\n",
       " 'ill',\n",
       " 'incident',\n",
       " 'incumbent',\n",
       " 'independent',\n",
       " 'it.',\n",
       " 'made.',\n",
       " 'matters',\n",
       " 'means',\n",
       " 'nature',\n",
       " 'nd',\n",
       " 'not,',\n",
       " 'nothing',\n",
       " 'observed,',\n",
       " 'occurring',\n",
       " 'open',\n",
       " 'order',\n",
       " 'ostensible',\n",
       " 'page...”.',\n",
       " 'page”.',\n",
       " 'page…”.',\n",
       " 'parade',\n",
       " 'participated',\n",
       " 'persecution...”.',\n",
       " 'points',\n",
       " 'probative',\n",
       " 'probe',\n",
       " 'proposition',\n",
       " 'providing',\n",
       " 'raised',\n",
       " 'rd',\n",
       " 'reasonable',\n",
       " 'reasoning.',\n",
       " 'reasons.',\n",
       " 'referring',\n",
       " 'relies',\n",
       " 'representative',\n",
       " 'resolving',\n",
       " 'right',\n",
       " 'seekers',\n",
       " 'seen',\n",
       " 'since',\n",
       " 'sits',\n",
       " 'stand.',\n",
       " 'states',\n",
       " 'stood,',\n",
       " 'substituted',\n",
       " 'suggestion',\n",
       " 'supports',\n",
       " 'taking',\n",
       " 'termed',\n",
       " 'terms',\n",
       " 'th',\n",
       " 'through',\n",
       " 'told',\n",
       " 'took',\n",
       " 'treated',\n",
       " 'uncritical',\n",
       " 'understanding',\n",
       " 'value,',\n",
       " 'value.',\n",
       " 'value”',\n",
       " 'verification',\n",
       " 'verify',\n",
       " 'way',\n",
       " 'well',\n",
       " 'well-meaning,',\n",
       " 'well-reasoned',\n",
       " 'whereabouts',\n",
       " 'whether',\n",
       " 'word',\n",
       " 'wrote',\n",
       " 'year’s',\n",
       " '‘2016’.',\n",
       " '‘due',\n",
       " '“Miss',\n",
       " '“attach',\n",
       " '“aware',\n",
       " '“based',\n",
       " '“he',\n",
       " '“his',\n",
       " '…'}"
      ]
     },
     "execution_count": 14,
     "metadata": {},
     "output_type": "execute_result"
    }
   ],
   "source": [
    "# Word that are not common between the two lists.\n",
    "set(words_pdf) ^ set(words_txt)"
   ]
  },
  {
   "cell_type": "markdown",
   "metadata": {},
   "source": [
    "### 5.2.2. How many sentences do we have? "
   ]
  },
  {
   "cell_type": "code",
   "execution_count": 15,
   "metadata": {},
   "outputs": [
    {
     "data": {
      "text/plain": [
       "188"
      ]
     },
     "execution_count": 15,
     "metadata": {},
     "output_type": "execute_result"
    }
   ],
   "source": [
    "# How many sentences do we have?\n",
    "sent_txt = text.split('.')\n",
    "len(sent_txt)"
   ]
  },
  {
   "cell_type": "code",
   "execution_count": 16,
   "metadata": {},
   "outputs": [
    {
     "data": {
      "text/plain": [
       "118"
      ]
     },
     "execution_count": 16,
     "metadata": {},
     "output_type": "execute_result"
    }
   ],
   "source": [
    "# How many sentences do we have?\n",
    "sent_pdf = pdf.split('.')\n",
    "len(sent_pdf)"
   ]
  },
  {
   "cell_type": "code",
   "execution_count": 17,
   "metadata": {},
   "outputs": [
    {
     "name": "stdout",
     "output_type": "stream",
     "text": [
      "160\n"
     ]
    },
    {
     "name": "stderr",
     "output_type": "stream",
     "text": [
      "[nltk_data] Downloading package punkt to /home/avaldivia/nltk_data...\n",
      "[nltk_data]   Package punkt is already up-to-date!\n"
     ]
    }
   ],
   "source": [
    "# How many sentences do we have?\n",
    "import nltk\n",
    "nltk.download('punkt')\n",
    "from nltk.tokenize import sent_tokenize\n",
    "\n",
    "sent_txt_nltk = sent_tokenize(text)\n",
    "print(len(sent_txt_nltk))"
   ]
  },
  {
   "cell_type": "code",
   "execution_count": 18,
   "metadata": {},
   "outputs": [
    {
     "name": "stdout",
     "output_type": "stream",
     "text": [
      "115\n"
     ]
    }
   ],
   "source": [
    "# How many sentences do we have?\n",
    "sent_pdf_nltk = sent_tokenize(pdf)\n",
    "print(len(sent_pdf_nltk))"
   ]
  },
  {
   "cell_type": "markdown",
   "metadata": {},
   "source": [
    "### 5.2.3. What are the most common words? "
   ]
  },
  {
   "cell_type": "code",
   "execution_count": 19,
   "metadata": {},
   "outputs": [
    {
     "name": "stdout",
     "output_type": "stream",
     "text": [
      "Pairs\n",
      "[('On', 7), ('relies', 2), ('so', 4), ('via', 1), ('A', 2), ('&', 2), ('fired', 2), ('Representation:', 2), ('verification', 1), ('be', 17), ('stage', 1), ('desertion', 2), ('if', 8), ('shot', 2), ('incontrovertible', 1), ('further.', 1), ('judge.', 2), ('15.', 1), ('nd', 1), ('Decision', 4), ('had', 44), ('March', 9), ('Senior', 1), ('(Upper', 2), ('additionally', 1), ('Pacey,', 1), ('interview,', 2), ('However', 3), ('inability', 1), ('adult,', 1), ('him,', 1), ('capable', 1), ('claim,', 1), ('whereabouts,', 1), ('about', 9), ('before', 10), ('2017.', 2), ('indeed', 2), ('First-tier', 4), ('family.', 2), ('entirely', 2), ('gives', 1), ('decision', 15), ('photographed', 1), ('nature', 1), ('said', 6), ('IKR', 1), ('present', 1), ('how', 4), ('2007)', 1), ('with', 17), ('word', 1), ('clear,', 1), ('disbelieved', 1), ('PA/05945/2018', 5), ('entire', 3), ('If', 3), ('supports', 1), ('JUDGE', 2), ('person', 5), ('No', 3), ('born', 1), ('given', 9), ('refusing', 4), ('Before', 2), ('documents', 3), ('so.', 3), ('danger', 1), ('Miss', 8), ('Tribunal', 15), ('family', 13), ('(para', 1), ('“the', 1), ('denied', 1), ('reasons.', 1), ('2017', 3), ('white', 1), ('Further', 1), ('able', 3), ('He', 14), ('well-meaning,', 1), ('witness', 4), ('Findings', 1), ('event,', 1), ('Rules', 2), ('credibility.', 2), ('Anonymity', 2), ('substituted', 1), ('grant', 2), ('upon', 8), ('up', 1), ('against', 5), ('paragraphs', 2), ('none', 1), ('Heard', 2), ('Keane', 3), ('believe,', 1), ('[86]', 1), ('came', 1), ('statement', 4), ('Calais', 1), ('IMMIGRATION', 2), ('3.', 2), ('communities', 1), ('means', 1), ('ground', 1), ('active', 2), ('probed', 1), ('wrote', 1), ('for,', 1), ('black', 1), ('undermine', 1), ('probe', 1), ('MADE)', 2), ('claim', 8), ('matter', 4), ('damaged', 1), ('returned', 1), ('accepted.', 1), ('homosexual', 3), ('new', 2), ('observed,', 1), ('doing', 1), ('give', 1), ('accepted', 1), ('Respondent’s', 1), ('all', 1), ('HOME', 2), ('problems', 1), ('sexuality', 1), ('because', 13), ('inadequate', 1), ('matters', 2), ('HA', 1), ('16.', 1), ('incredible.', 1), ('application', 1), ('more', 3), ('looking', 1), ('She', 1), ('Accordingly,', 1), ('person,', 1), ('Mills,', 1), ('found', 5), ('have', 22), ('TRIBUNAL', 2), ('it', 23), ('defends', 1), ('2016,', 2), ('1.', 2), ('occasions', 1), ('conduct', 1), ('follows.', 1), ('OF', 2), ('essence', 1), ('Consequently', 1), ('24', 3), ('The', 39), ('online', 1), ('appeared', 2), ('appeals', 1), ('Deputy', 3), ('TCEA', 1), ('Unless', 2), ('become', 1), ('asylum', 7), ('doubt', 1), ('–', 2), ('[26])', 1), ('age.', 1), ('Application', 1), ('ill-treated', 1), ('determinative', 1), ('states', 2), ('readmission', 1), ('consequently', 2), ('the', 270), ('20', 1), ('comes', 1), ('done', 2), ('through', 1), ('subsequently', 1), ('Kurdish', 1), ('male,', 1), ('provides', 1), ('relevant', 2), ('oral', 8), ('became', 2), ('state', 2), ('Iran....', 1), ('acknowledged', 1), ('Fountain', 1), ('number', 1), ('DEPUTY', 2), ('PA/00240/2019', 6), ('support', 8), ('Germany', 7), ('name', 1), ('non-religious', 1), ('year’s', 1), ('law', 5), ('mind', 1), ('points', 2), ('suggestion', 1), ('date', 3), ('only', 2), ('atheist,', 1), ('dishonest', 1), ('anticipate', 1), ('clear', 5), ('during', 1), ('wrong', 1), ('it.', 1), ('anonymity', 1), ('O’RYAN', 1), ('cousin', 1), ('“if', 1), ('remained', 2), ('whereabouts', 1), ('verify', 1), ('argue', 1), ('right', 1), ('6', 2), ('occasion', 1), ('existing', 1), ('2019.', 2), ('printout', 1), ('8', 1), ('they', 1), ('partner,', 2), ('why', 1), ('69).', 1), ('within', 2), ('later', 2), ('find', 12), ('JUSS', 1), ('What', 1), ('COPYRIGHT', 2), ('fire”', 1), ('being', 5), ('5.', 2), ('then', 6), ('report', 2), ('is', 42), ('feud', 12), ('exactly', 1), ('Pride', 1), ('incumbent', 1), ('It', 2), ('were', 7), ('9.', 2), ('Solicitors', 1), ('left', 2), ('he', 58), ('impossible', 1), ('observed', 1), ('simply', 4), ('“not', 1), ('together.', 1), ('[FS],', 1), ('persuasive.', 1), ('went', 1), ('EURODAC', 8), ('life', 1), ('argued', 1), ('23', 2), ('©', 2), ('face', 3), ('As', 4), ('taking', 2), ('account.', 2), ('however', 2), ('granted,', 1), ('Christian', 1), ('basis', 2), ('Second,', 1), ('actual', 2), ('November', 4), ('J', 1), ('clearly', 4), ('collected', 1), ('12(1)', 1), ('Mr', 20), ('Then', 1), ('credible', 4), ('directs', 2), ('(resulting', 1), ('proved', 1), ('between', 4), ('appellant’s', 1), ('note', 2), ('credibility', 12), ('16', 1), ('members', 2), ('represented', 2), ('tribe', 3), ('made', 3), ('Sharif', 4), ('until', 2), ('frying', 1), ('decision.', 4), ('whereas', 2), ('persecution...”.', 1), ('dismissing', 1), ('page', 4), ('father', 1), ('needed', 1), ('document', 6), ('part,', 1), ('Number:', 11), ('gave', 2), ('whose', 2), ('value”', 1), ('20.11.19', 2), ('July', 3), ('SEF', 2), ('man', 2), ('affecting', 2), ('three', 1), ('“when', 1), ('Iran,', 1), ('not,', 1), ('resolving', 1), ('than', 3), ('providing', 1), ('expected', 1), ('killed', 1), ('Persian', 2), ('Officer', 1), ('due', 1), ('assist', 1), ('travelled', 2), ('page”.', 1), ('“I', 5), ('organisation', 3), ('jungle”', 1), ('difficult', 1), ('value.', 1), ('any', 14), ('written', 4), ('injured', 1), ('photograph', 2), ('explained,', 1), ('(paragraph', 6), ('no', 10), ('rejected', 1), ('briefly', 1), ('December', 5), ('17', 2), ('leaving', 2), ('2016.', 7), ('CROWN', 2), ('such', 6), ('knew', 6), ('19', 1), ('dated', 4), ('[L],', 2), ('“but', 1), ('called', 2), ('little', 3), ('seekers”.', 2), ('...”.', 2), ('citizen', 1), ('14.', 1), ('17,', 1), ('screening', 4), ('evidence,', 3), ('pursuant', 1), ('REASONS', 2), ('CJC', 2), ('persecution', 3), ('age', 1), ('impressed', 1), ('declaring', 1), ('ended', 1), ('own', 6), ('religious', 1), ('HC', 1), ('other', 5), ('unequivocal.', 1), ('contempt', 2), ('moot.', 1), ('(See', 1), ('correct', 1), ('Both', 1), ('DIRECTION', 2), ('open', 1), ('attached', 1), ('homosexuality,', 1), ('acknowledged”.', 1), ('anticipated', 1), ('describe', 1), ('incidents', 1), ('Whereas', 1), ('humanitarian', 1), ('explained', 1), ('human', 1), ('its', 1), ('centre', 1), ('relationships', 1), ('Reasons', 2), ('Advisory', 2), ('12.', 2), ('2008', 3), ('law.', 3), ('1996.', 1), ('[F].', 1), ('terms', 1), ('met', 4), ('approach', 3), ('finding', 6), ('occurring', 1), ('appealed', 2), ('view', 2), ('ease', 1), ('to.', 1), ('concerned', 1), ('gay', 5), ('himself', 5), ('second', 1), ('detail.', 1), ('further', 2), ('conversation', 1), ('justice.', 1), ('these', 2), ('me.', 1), ('proposition', 1), ('Promulgated', 2), ('7.', 2), ('him.', 1), ('departing', 1), ('travelling', 3), ('general', 1), ('both', 3), ('however,', 1), ('would', 18), ('failure', 1), ('guidance.', 1), ('conclude', 1), ('since', 2), ('people', 2), ('homosexuality', 3), ('...', 2), ('Procedure', 2), ('fully-grown', 1), ('good', 1), ('cases', 2), ('group,', 1), ('At', 6), ('treated', 1), ('May', 2), ('14', 6), ('issues.', 1), ('religion', 1), ('Tribunal.', 2), ('dismissed.', 3), ('told', 1), ('Upper', 7), ('course', 1), ('Services.', 1), ('feud.', 2), ('aware', 3), ('Appellant’s', 35), ('case.', 1), ('analysis', 1), ('out', 3), ('behind', 1), ('threat', 2), ('can', 3), ('blood', 1), ('4', 1), ('was', 65), ('apparent', 1), ('Respondent:', 2), ('Howard,', 1), ('following', 1), ('sustainable', 2), ('“The', 1), ('me', 2), ('hearing', 5), ('Tribunal)', 2), ('a', 56), ('proceedings.', 2), ('reasoning', 2), ('at.', 1), ('when', 4), ('Iran.', 2), ('copy', 1), ('ill', 1), ('“16.', 1), ('relates', 1), ('UPPER', 2), ('para', 1), ('Error', 1), ('“he', 1), ('assistance', 3), ('director', 3), ('apparently', 1), ('Appellant.', 1), ('am', 4), ('4Appeal', 2), ('material', 3), ('promulgated', 1), ('years', 1), ('unreliable’', 1), ('sit', 1), ('provide', 2), ('government', 1), ('friends', 2), ('comprise', 1), ('come', 1), ('court', 5), ('HOPO)', 1), ('[S]', 3), ('protection', 3), ('boyfriend', 1), ('STATE', 2), ('country.', 2), ('determination', 1), ('punishable', 1), ('[L]', 7), ('hand,', 1), ('using', 1), ('“his', 1), ('Juss', 1), ('True', 1), ('shoulder,', 1), ('otherwise,', 2), ('Iraq', 10), ('incident', 2), ('house', 1), ('guidance', 1), ('participated', 1), ('Secondly,', 1), ('extended', 1), ('persons', 1), ('natural', 1), ('actually', 1), ('strong', 2), ('community', 1), ('meet', 1), ('independent', 1), ('Instead', 1), ('Appellant,', 1), ('another', 2), ('Also', 1), ('Mills', 5), ('light', 1), ('tribal', 1), ('two', 2), ('8.', 2), ('applies', 2), ('whereupon', 1), ('recall', 1), ('months.', 1), ('failed', 3), ('her', 9), ('voluntary', 3), ('Facebook', 4), ('follows:', 2), ('proceedings', 2), ('Sulamaniyah', 1), ('country', 5), ('involved', 1), ('provided', 3), ('2018', 4), ('threatened', 2), ('escaping', 1), ('manner', 2), ('treat', 2), ('specific', 2), ('I', 23), ('result,', 1), ('determinatively', 1), ('witnesses', 2), ('global', 1), ('continues,', 1), ('renders', 1), ('puts', 1), ('safety', 1), ('[F]”.', 1), ('alter', 1), ('11.', 2), ('an', 12), ('which', 19), ('known', 1), ('might', 2), ('[F]”,', 1), ('identified', 1), ('admittedly', 1), ('relation', 4), ('Appellant:', 2), ('cannot', 2), ('whether', 2), ('testimony.', 1), ('account', 18), ('not', 44), ('are', 6), ('‘2016’', 1), ('identification', 1), ('direction', 4), ('giving', 1), ('applied', 1), ('even', 1), ('seekers', 1), ('10.', 2), ('referring', 1), ('engaged', 1), ('herself', 1), ('credible.', 1), ('of', 127), ('apply', 2), ('wider', 2), ('rules', 1), ('appellant', 1), ('do.', 1), ('mention', 1), ('details', 8), ('interview”', 1), ('or', 11), ('An', 1), ('understanding', 1), ('Howard', 2), ('th', 9), ('chose', 1), ('LGBT', 7), ('harm', 1), ('help', 2), ('openly', 3), ('by', 21), ('granted.', 1), ('again', 1), ('prepared', 1), ('paragraph', 9), ('did', 13), ('2', 1), ('[31]).', 1), ('part', 4), ('onwards', 1), ('dismissed', 2), ('also', 16), ('my', 1), ('for', 17), ('2018.', 1), ('short,', 1), ('Birmingham', 4), ('2019,', 1), ('79).', 1), ('detailed', 1), ('2019Appeal', 2), ('seen', 1), ('undermines', 1), ('stood,', 1), ('While', 1), ('For', 7), ('car', 2), ('caused', 2), ('During', 1), ('regard', 2), ('judge,', 1), ('diligence’.', 1), ('risk', 4), ('Whether', 1), ('extensive', 1), ('feud)', 1), ('reasoning.', 1), ('339C', 1), ('at', 26), ('beyond', 1), ('looks', 1), ('hearing,', 2), ('mentioned', 3), ('relied', 1), ('395.', 1), ('aware”', 1), ('place', 1), ('why.', 1), ('identity', 1), ('very', 6), ('stating', 1), ('anonymity.', 2), ('34).', 2), ('evidence', 25), ('contained', 2), ('sustain.', 1), ('reluctance', 1), ('unreliable.', 1), ('has', 10), ('June', 5), ('makes', 3), ('Appellant', 48), ('points.', 1), ('printed', 1), ('In', 3), ('wholesale.', 1), ('Asylum', 2), ('(Immigration', 2), ('noted', 3), ('on', 28), ('evidence”', 1), ('13.', 2), ('judge', 50), ('directly', 2), ('young', 2), ('Claim', 1), ('These', 2), ('atheism', 1), ('shall', 3), ('there', 7), ('death.', 1), ('(refusal', 1), ('decided', 1), ('relationship', 4), ('flee', 1), ('irrelevant', 2), ('Nevertheless', 1), ('origins', 1), ('grounds', 5), ('DECISION', 2), ('plausible', 3), ('residence', 2), ('incidents;', 1), ('result', 2), ('August', 2), ('arguably', 7), ('punitive', 1), ('Grounds', 1), ('adopted', 2), ('quite', 1), ('prior', 1), ('implausible', 1), ('Direction', 2), ('2Appeal', 2), ('incredible', 2), ('invited', 1), ('issue', 2), ('facilitate', 2), ('IKR.', 2), ('determination,', 1), ('significant', 4), ('MR', 1), ('statement,', 1), ('embark', 1), ('5', 3), ('set', 4), ('indirectly', 2), ('returned,', 1), ('bundle)', 1), ('Notice', 1), ('making', 4), ('‘2016’.', 1), ('items', 1), ('22', 8), ('consistently', 1), ('letter,', 1), ('interview', 7), ('comprehensive,', 1), ('may', 3), ('fingerprinted', 2), ('appeal.', 1), ('parade', 1), ('Dresden', 1), ('Regarding', 2), ('weight', 5), ('contacted', 1), ('78).', 1), ('“Miss', 1), ('refer', 1), ('experienced', 2), ('ostensible', 1), ('obtaining', 2), ('unknown', 1), ('upon.', 1), ('genuine', 1), ('activist', 1), ('permission', 5), ('decided,', 1), ('My', 1), ('Failure', 2), ('discrepancy', 9), ('explored', 1), ('to,', 2), ('21', 1), ('(Solicitor)', 1), ('adequate', 2), ('do.”', 1), ('First,', 1), ('origin', 1), ('case', 2), ('(Senior', 1), ('Law', 1), ('obtain', 1), ('tendencies,', 1), ('as', 28), ('stated', 12), ('accorded', 1), ('2019', 7), ('Respondent.', 2), ('There', 4), ('dates', 2), ('17.', 3), ('feared', 1), ('submitted', 3), ('9', 1), ('appeal', 13), ('inconsistent', 2), ('pan', 1), ('UK', 6), ('but', 5), ('68).', 1), ('continued', 1), ('without', 3), ('“she', 1), ('(see', 1), ('“voluntary', 1), ('could', 5), ('make', 2), ('fear.', 1), ('search', 4), ('vitiated', 1), ('aside', 2), ('much', 1), ('lead', 2), ('FOR', 2), ('(ANONYMITY', 2), ('cause', 3), ('one', 6), ('entitled', 5), ('whom', 1), ('shares', 1), ('lived', 1), ('Iranian', 1), ('concerned,', 1), ('2018,', 1), ('necessarily', 1), ('thus', 1), ('after', 1), ('Judge’s', 1), ('explain', 1), ('“then', 1), ('O’Ryan', 2), ('explanation', 2), ('This', 5), ('into', 1), ('match,', 1), ('uncritical', 1), ('Signed', 3), ('demonstrating', 1), ('erred', 1), ('Tribunal,', 3), ('bundle).', 2), ('argues', 2), ('nothing', 1), ('information', 3), ('does', 3), ('Office', 1), ('in', 87), ('serious', 2), ('Iraq.', 4), ('relative,', 1), ('‘due', 1), ('to', 103), ('6.', 2), ('alleged', 7), ('Therefore', 1), ('granted', 3), ('matter.', 1), ('ascertaining', 1), ('document,', 1), ('do', 2), ('many', 2), ('leave', 4), ('issues', 1), ('2.', 2), ('secondly', 1), ('reasonable', 1), ('ACTS', 2), ('Services,', 1), ('plausible.', 1), ('something', 1), ('deal', 1), ('Chamber)', 2), ('those', 1), ('do,', 1), ('evidence.', 1), ('contrary', 1), ('sits', 1), ('know', 4), ('comment', 1), ('Submissions', 2), ('witness,', 1), ('judge’s', 9), ('termed', 1), ('“based', 1), ('ongoing', 1), ('insisting', 1), ('anything', 2), ('way', 1), ('Respondent', 6), ('that', 116), ('impugned', 2), ('4.', 2), ('social', 2), ('took', 1), ('informed', 1), ('wrongly', 1), ('application.', 1), ('accept', 1), ('previously', 1), ('non-', 1), ('Section', 1), ('him', 16), ('identify', 2), ('presence', 1), ('member', 4), ('from', 5), ('raised', 1), ('involve', 3), ('Rule', 2), ('activities', 1), ('Judge', 8), ('fully', 2), ('order', 1), ('point', 3), ('D', 2), ('April', 2), ('[F]”', 3), ('claim.', 1), ('replacement', 1), ('this', 16), ('put', 2), ('their', 4), ('AND', 2), ('satisfied', 3), ('dealt', 1), ('findings', 6), ('lied', 1), ('15', 5), ('SECRETARY', 2), ('made.', 1), ('representative', 1), ('events.', 1), ('5Appeal', 1), ('attended', 1), ('value,', 1), ('THE', 6), ('who', 4), ('knowledge', 4), ('rd', 1), ('atheist.', 1), ('Boylan-Kemp', 1), ('confirming', 1), ('been', 16), ('rights', 1), ('2016', 1), ('previous', 2), ('DEPARTMENT', 2), ('Appeal', 2), ('rendering', 1), ('well', 1), ('circumstances', 1), ('claimed', 1), ('confirm', 1), ('MBE', 1), ('person.', 1), ('held', 2), ('error', 7), ('and', 69), ('persecution.', 1), ('page...”.', 1), ('[S]’s', 2), ('probative', 1), ('Dated', 1), ('there.”', 1), ('Between', 2), ('irrational', 2), ('together', 1), ('Home', 1), ('stand.', 1), ('what', 8), ('forbidden', 1), ('“attach', 1), ('stop', 1), ('Presenting', 1), ('comply', 2), ('she', 13), ('therefore', 4), ('inclusive', 1), ('particular', 4), ('Permission', 1), ('18', 4), ('confirmed', 1), ('few', 1), ('fear', 4), ('considerations', 2), ('Discussion', 1), ('disbelieving', 1), ('should', 6), ('take', 1), ('attach', 1), ('say', 3), ('“aware', 1), ('constituted', 1), ('national', 1), ('granting', 1), ('subject', 2), ('Date', 2), ('3Appeal', 2), ('reason', 3), ('reasons', 6), ('well-reasoned', 1), ('CSID', 1), ('(at', 2), ('far', 1), ('each', 3), ('18.', 1), ('half', 1), ('return', 4), ('his', 56), ('‘his', 1), ('explains', 1), ('circumstance', 1), ('Sharif,', 1), ('where', 5), ('coming', 2), ('assessment', 2)]\n"
     ]
    }
   ],
   "source": [
    "# What are the most common words? \n",
    "wordfreq_txt = []\n",
    "\n",
    "# count words in text\n",
    "for w in words_txt:\n",
    "    wordfreq_txt.append(words_txt.count(w))\n",
    "    \n",
    "# create a list with words and its frequency\n",
    "word_list = list(set(zip(words_txt, wordfreq_txt)))\n",
    "\n",
    "    \n",
    "print(\"Pairs\\n\" + str(word_list))"
   ]
  },
  {
   "cell_type": "code",
   "execution_count": 22,
   "metadata": {},
   "outputs": [
    {
     "name": "stdout",
     "output_type": "stream",
     "text": [
      "Pairs\n",
      "[('the', 210), ('of', 85), ('to', 81), ('that', 78), ('and', 62), ('in', 58), ('was', 49), ('a', 48), ('he', 42), ('his', 42), ('Appellant', 40), ('judge', 37), ('not', 36), ('had', 32), ('The', 32), ('is', 29), ('Appellant’s', 24), ('as', 23), ('on', 23), ('at', 21), ('evidence', 19), ('I', 19), ('by', 17), ('it', 16), ('2019', 16), ('which', 15), ('appeal', 14), ('Mr', 14), ('Tribunal', 14), ('have', 14), ('been', 13), ('would', 13), ('decision', 13), ('him', 12), ('THE', 12), ('also', 12), ('be', 12), ('for', 12), ('account', 12), ('find', 11), ('with', 11), ('before', 11), ('family', 11), ('On', 11), ('because', 11), ('Appeal', 10), ('this', 10), ('she', 10), ('an', 10), ('did', 10), ('For', 10), ('Number:', 10), ('feud', 9), ('any', 9), ('He', 9), ('if', 8), ('Miss', 8), ('stated', 8), ('Respondent', 8), ('against', 8), ('about', 8), ('Upper', 8), ('Iraq', 8), ('EURODAC', 7), ('Birmingham', 7), ('paragraph', 7), ('details', 7), ('credibility', 7), ('Judge', 7), ('oral', 7), ('March', 7), ('discrepancy', 7), ('November', 7), ('no', 6), ('22', 6), ('then', 6), ('alleged', 6), ('document', 6), ('interview', 6), ('given', 6), ('are', 6), ('Germany', 6), ('were', 6), ('has', 6), ('UK', 6), ('her', 6), ('[L]', 6), ('June', 6), ('At', 5), ('PA/05945/2018', 5), ('person', 5), ('2016.', 5), ('asylum', 5), ('should', 5), ('Decision', 5), ('First-tier', 5), ('PA/00240/2019', 5), ('hearing', 5), ('one', 5), ('reasons', 5), ('there', 5), ('or', 5), ('country', 5), ('refusing', 5), ('knew', 5), ('claim', 5), ('but', 5), ('This', 5), ('such', 5), ('dated', 5), ('upon', 5), ('so', 4), ('UPPER', 4), ('how', 4), ('D', 4), ('AND', 4), ('STATE', 4), ('DEPARTMENT', 4), ('COPYRIGHT', 4), ('Between', 4), ('matter', 4), ('grounds', 4), ('&', 4), ('July', 4), ('weight', 4), ('Asylum', 4), ('entitled', 4), ('DECISION', 4), ('IMMIGRATION', 4), ('Promulgated', 4), ('credible', 4), ('(ANONYMITY', 4), ('FOR', 4), ('between', 4), ('OF', 4), ('ACTS', 4), ('Chamber)', 4), ('Respondent:', 4), ('permission', 4), ('DEPUTY', 4), ('screening', 4), ('judge’s', 4), ('2', 4), ('from', 4), ('15', 4), ('REASONS', 4), ('error', 4), ('JUDGE', 4), ('own', 4), ('Before', 4), ('DIRECTION', 4), ('Reasons', 4), ('finding', 4), ('Tribunal,', 4), ('2018', 4), ('TRIBUNAL', 4), ('1.', 4), ('being', 4), ('found', 4), ('©', 4), ('significant', 4), ('set', 4), ('findings', 4), ('Appellant:', 4), ('SECRETARY', 4), ('CROWN', 4), ('very', 4), ('(Immigration', 4), ('Representation:', 4), ('know', 4), ('said', 4), ('CJC', 4), ('who', 4), ('Heard', 4), ('protection', 4), ('MADE)', 4), ('HOME', 4), ('return', 4), ('Mills', 3), ('arguably', 3), ('entire', 3), ('If', 3), ('documents', 3), ('able', 3), ('what', 3), ('August', 3), ('where', 3), ('14', 3), ('Howard', 3), ('24th', 3), ('dismissed', 3), ('clearly', 3), ('met', 3), ('tribe', 3), ('simply', 3), ('As', 3), ('making', 3), ('witness', 3), ('therefore', 3), ('approach', 3), ('decision.', 3), ('Iraq.', 3), ('homosexuality', 3), ('relationship', 3), ('aware', 3), ('am', 3), ('assistance', 3), ('5th', 3), ('other', 3), ('risk', 3), ('leave', 3), ('A', 3), ('(paragraph', 3), ('could', 3), ('clear', 3), ('mentioned', 3), ('Facebook', 3), ('In', 3), ('noted', 3), ('law', 3), ('submitted', 3), ('cause', 3), ('search', 3), ('fear', 3), ('member', 3), ('December', 3), ('gay', 3), ('May', 3), ('point', 3), ('written', 3), ('satisfied', 3), ('There', 3), ('18', 3), ('LGBT', 3), ('himself', 3), ('reason', 3), ('fired', 2), ('dismissing', 2), ('interview,', 2), ('Officer', 2), ('(Solicitor)', 2), ('out', 2), ('can', 2), ('2018.', 2), ('do', 2), ('credibility.', 2), ('2018,', 2), ('paragraphs', 2), ('[S]', 2), ('3.', 2), ('determination', 2), ('new', 2), ('page', 2), ('failed', 2), ('2016,', 2), ('direction', 2), ('may', 2), ('relevant', 2), ('became', 2), ('(Senior', 2), ('2019.', 2), ('within', 2), ('5.', 2), ('thus', 2), ('HOPO)', 2), ('23', 2), ('basis', 2), ('actual', 2), ('granted', 2), ('members', 2), ('represented', 2), ('whereas', 2), ('plausible', 2), ('whose', 2), ('gave', 2), ('man', 2), ('MR', 2), ('5', 2), ('claim.', 2), ('photograph', 2), ('leaving', 2), ('applied', 2), ('[L],', 2), ('Boylan-Kemp', 2), ('21', 2), ('17.', 2), ('Presenting', 2), ('knowledge', 2), ('Respondent’s', 2), ('say', 2), ('appealed', 2), ('view', 2), ('court', 2), ('Signed', 2), ('information', 2), ('does', 2), ('Sharif,', 2), ('7.', 2), ('people', 2), ('relation', 2), ('cases', 2), ('subsequently', 2), ('Senior', 2), ('However', 2), ('Tribunal.', 2), ('feud.', 2), ('involve', 2), ('threat', 2), ('No', 2), ('sustainable', 2), ('me', 2), ('part', 2), ('8', 2), ('reasoning', 2), ('Iran.', 2), ('JUSS', 2), ('Solicitors', 2), ('homosexual', 2), ('HA', 2), ('another', 2), ('two', 2), ('follows:', 2), ('Office', 2), ('treat', 2), ('specific', 2), ('witnesses', 2), ('19th', 2), ('cannot', 2), ('Pacey,', 2), ('apply', 2), ('O’RYAN', 2), ('help', 2), ('2017', 2), ('rights', 2), ('human', 2), ('6th', 2), ('MBE', 2), ('regard', 2), ('hearing,', 2), ('Home', 2), ('Keane', 2), ('granted,', 2), ('contained', 2), ('J', 2), ('young', 2), ('These', 2), ('irrelevant', 2), ('3', 2), ('residence', 2), ('result', 2), ('adopted', 2), ('facilitate', 2), ('IKR.', 2), ('than', 2), ('fingerprinted', 2), ('following', 2), ('…', 2), ('experienced', 2), ('Fountain', 2), ('obtaining', 2), ('to,', 2), ('promulgated', 2), ('make', 2), ('aside', 2), ('law.', 2), ('Appellant,', 2), ('whereupon', 2), ('serious', 2), ('for,', 2), ('6.', 2), ('me.', 2), ('many', 2), ('2.', 2), ('travelling', 2), ('both', 2), ('made', 2), ('Mills,', 2), ('impugned', 2), ('social', 2), ('4.', 2), ('dismissed.', 2), ('fully', 2), ('April', 2), ('put', 2), ('comes', 2), ('evidence,', 2), ('persecution', 2), ('held', 2), ('material', 2), ('when', 2), ('considerations', 2), ('provided', 2), ('coming', 2), ('determination,', 2), ('note', 1), ('via', 1), ('might', 1), ('stage', 1), ('incontrovertible', 1), ('additionally', 1), ('Regarding', 1), ('20.11.19', 1), ('inability', 1), ('adult,', 1), ('him,', 1), ('whereabouts,', 1), ('photographed', 1), ('present', 1), ('IKR', 1), ('2007)', 1), ('disbelieved', 1), ('date', 1), ('born', 1), ('Respondent.', 1), ('danger', 1), ('(para', 1), ('“the', 1), ('denied', 1), ('white', 1), ('Further', 1), ('called', 1), ('Findings', 1), ('lead', 1), ('up', 1), ('none', 1), ('contempt', 1), ('believe,', 1), ('came', 1), ('face', 1), ('Calais', 1), ('probed', 1), ('ground', 1), ('black', 1), ('undermine', 1), ('returned', 1), ('damaged', 1), ('accepted.', 1), ('give', 1), ('all', 1), ('sexuality', 1), ('problems', 1), ('13.', 1), ('Advisory', 1), ('inadequate', 1), ('incredible.', 1), ('application', 1), ('looking', 1), ('person,', 1), ('applies', 1), ('proceedings', 1), ('occasions', 1), ('follows.', 1), ('anything', 1), ('Direction', 1), ('essence', 1), ('Consequently', 1), ('online', 1), ('appeals', 1), ('these', 1), ('incredible', 1), ('TCEA', 1), ('become', 1), ('indirectly', 1), ('doubt', 1), ('11.', 1), ('Application', 1), ('[26])', 1), ('age.', 1), ('ill-treated', 1), ('Procedure', 1), ('readmission', 1), ('20', 1), ('male,', 1), ('provides', 1), ('Kurdish', 1), ('10.', 1), ('number', 1), ('name', 1), ('wider', 1), ('non-religious', 1), ('mind', 1), ('atheist,', 1), ('during', 1), ('wrong', 1), ('anticipate', 1), ('“if', 1), ('cousin', 1), ('statement', 1), ('argue', 1), ('occasion', 1), ('existing', 1), ('they', 1), ('printout', 1), ('why', 1), ('69).', 1), ('15th', 1), ('fire”', 1), ('car', 1), ('caused', 1), ('exactly', 1), ('Date', 1), ('“but', 1), ('impossible', 1), ('observed', 1), ('Iran….', 1), ('“not', 1), ('together.', 1), ('[FS],', 1), ('persuasive.', 1), ('went', 1), ('life', 1), ('country.', 1), ('34).', 1), ('otherwise,', 1), ('collected', 1), ('12(1)', 1), ('Then', 1), ('appellant’s', 1), ('(resulting', 1), ('proved', 1), ('16', 1), ('more', 1), ('frying', 1), ('8.', 1), ('father', 1), ('needed', 1), ('part,', 1), ('three', 1), ('issue', 1), ('“when', 1), ('Iran,', 1), ('expected', 1), ('killed', 1), ('due', 1), ('assist', 1), ('jungle”', 1), ('difficult', 1), ('injured', 1), ('explained,', 1), ('rejected', 1), ('briefly', 1), ('citizen', 1), ('previous', 1), ('17,', 1), ('director', 1), ('pursuant', 1), ('age', 1), ('impressed', 1), ('religious', 1), ('HC', 1), ('unequivocal.', 1), ('irrational', 1), ('moot.', 1), ('correct', 1), ('Both', 1), ('inconsistent', 1), ('attached', 1), ('homosexuality,', 1), ('describe', 1), ('comply', 1), ('incidents', 1), ('Whereas', 1), ('support', 1), ('humanitarian', 1), ('explained', 1), ('its', 1), ('centre', 1), ('relationships', 1), ('[F].', 1), ('1996.', 1), ('explanation', 1), ('(at', 1), ('to.', 1), ('concerned', 1), ('second', 1), ('conversation', 1), ('detail.', 1), ('justice.', 1), ('however,', 1), ('departing', 1), ('him.', 1), ('general', 1), ('–', 1), ('failure', 1), ('guidance.', 1), ('fully-grown', 1), ('good', 1), ('group,', 1), ('issues.', 1), ('state', 1), ('religion', 1), ('family.', 1), ('Rule', 1), ('organisation', 1), ('behind', 1), ('apparent', 1), ('remained', 1), ('Howard,', 1), ('openly', 1), ('“The', 1), ('little', 1), ('copy', 1), ('later', 1), ('“16.', 1), ('Failure', 1), ('para', 1), ('Error', 1), ('relates', 1), ('apparently', 1), ('Appellant.', 1), ('years', 1), ('unreliable’', 1), ('sit', 1), ('government', 1), ('left', 1), ('come', 1), ('boyfriend', 1), ('punishable', 1), ('hand,', 1), ('using', 1), ('makes', 1), ('Juss', 1), ('shoulder,', 1), ('True', 1), ('house', 1), ('guidance', 1), ('23rd', 1), ('natural', 1), ('Secondly,', 1), ('extended', 1), ('persons', 1), ('matter.', 1), ('community', 1), ('meet', 1), ('2008', 1), ('Instead', 1), ('shall', 1), ('Also', 1), ('light', 1), ('months.', 1), ('tribal', 1), ('bundle).', 1), ('recall', 1), ('Sulamaniyah', 1), ('involved', 1), ('escaping', 1), ('assessment', 1), ('result,', 1), ('continues,', 1), ('renders', 1), ('puts', 1), ('[F]”.', 1), ('safety', 1), ('travelled', 1), ('known', 1), ('[F]”,', 1), ('identified', 1), ('desertion', 1), ('Submissions', 1), ('testimony.', 1), ('shot', 1), ('22nd', 1), ('identification', 1), ('(Upper', 1), ('‘2016’', 1), ('giving', 1), ('even', 1), ('engaged', 1), ('2017.', 1), ('indeed', 1), ('herself', 1), ('identify', 1), ('credible.', 1), ('rules', 1), ('appellant', 1), ('“I', 1), ('mention', 1), ('interview”', 1), ('their', 1), ('chose', 1), ('harm', 1), ('granted.', 1), ('prepared', 1), ('again', 1), ('my', 1), ('[31]).', 1), ('onwards', 1), ('short,', 1), ('without', 1), ('2019,', 1), ('partner,', 1), ('Rules', 1), ('undermines', 1), ('Anonymity', 1), ('During', 1), ('judge,', 1), ('12.', 1), ('Whether', 1), ('9.', 1), ('feud)', 1), ('339C', 1), ('beyond', 1), ('looks', 1), ('relied', 1), ('395.', 1), ('place', 1), ('why.', 1), ('identity', 1), ('active', 1), ('stating', 1), ('sustain.', 1), ('points.', 1), ('unreliable.', 1), ('reluctance', 1), ('further', 1), ('printed', 1), ('wholesale.', 1), ('directs', 1), ('subject', 1), ('Claim', 1), ('atheism', 1), ('death.', 1), ('(refusal', 1), ('flee', 1), ('origins', 1), ('voluntary', 1), ('incidents;', 1), ('punitive', 1), ('Grounds', 1), ('quite', 1), ('prior', 1), ('implausible', 1), ('SEF', 1), ('invited', 1), ('appeared', 1), ('statement,', 1), ('returned,', 1), ('Notice', 1), ('[F]”', 1), ('items', 1), ('letter,', 1), ('consequently', 1), ('judge.', 1), ('appeal.', 1), ('17', 1), ('Dresden', 1), ('contacted', 1), ('Tribunal)', 1), ('refer', 1), ('activist', 1), ('unknown', 1), ('upon.', 1), ('genuine', 1), ('seekers”.', 1), ('My', 1), ('decided,', 1), ('explored', 1), ('First,', 1), ('origin', 1), ('Law', 1), ('provide', 1), ('obtain', 1), ('tendencies,', 1), ('friends', 1), ('accorded', 1), ('feared', 1), ('pan', 1), ('68).', 1), ('“she', 1), ('(see', 1), ('continued', 1), ('“voluntary', 1), ('fear.', 1), ('vitiated', 1), ('much', 1), ('whom', 1), ('shares', 1), ('strong', 1), ('Iranian', 1), ('lived', 1), ('necessarily', 1), ('after', 1), ('Judge’s', 1), ('explain', 1), ('“then', 1), ('into', 1), ('match,', 1), ('demonstrating', 1), ('erred', 1), ('however', 1), ('relative,', 1), ('particular', 1), ('ascertaining', 1), ('Therefore', 1), ('manner', 1), ('issues', 1), ('Services,', 1), ('something', 1), ('document,', 1), ('plausible.', 1), ('secondly', 1), ('deal', 1), ('those', 1), ('do,', 1), ('contrary', 1), ('until', 1), ('evidence.', 1), ('comment', 1), ('witness,', 1), ('ongoing', 1), ('insisting', 1), ('affecting', 1), ('wrongly', 1), ('application.', 1), ('previously', 1), ('Section', 1), ('non-', 1), ('Unless', 1), ('informed', 1), ('Persian', 1), ('presence', 1), ('activities', 1), ('replacement', 1), ('lied', 1), ('so.', 1), ('events.', 1), ('proceedings.', 1), ('2016', 1), ('rendering', 1), ('claimed', 1), ('person.', 1), ('only', 1), ('persecution.', 1), ('Dated', 1), ('there.”', 1), ('together', 1), ('forbidden', 1), ('stop', 1), ('anonymity.', 1), ('inclusive', 1), ('threatened', 1), ('Permission', 1), ('confirmed', 1), ('few', 1), ('report', 1), ('attach', 1), ('take', 1), ('page…”.', 1), ('directly', 1), ('national', 1), ('granting', 1), ('CSID', 1), ('18.', 1), ('half', 1), ('9th', 1), ('‘his', 1), ('explains', 1), ('circumstance', 1), ('24', 1), ('Deputy', 1)]\n"
     ]
    }
   ],
   "source": [
    "# What are the most common words? \n",
    "wordfreq_pdf = []\n",
    "\n",
    "# count words in text\n",
    "for w in words_pdf:\n",
    "    wordfreq_pdf.append(words_pdf.count(w))\n",
    "    \n",
    "# create a list with words and its frequency\n",
    "word_list = list(set(zip(words_pdf, wordfreq_pdf)))\n",
    "\n",
    "# function to sort the list by second item of tuple\n",
    "def sort_pairs(tup): \n",
    "    # reverse = None (Sorts in Ascending order) \n",
    "    # key is set to sort using second element of \n",
    "    # sublist lambda has been used \n",
    "    return(sorted(tup, key = lambda x: x[1], reverse = True))  \n",
    "\n",
    "word_list_sort = sort_pairs(word_list)\n",
    "    \n",
    "print(\"Pairs\\n\" + str(word_list_sort))"
   ]
  },
  {
   "cell_type": "code",
   "execution_count": 23,
   "metadata": {},
   "outputs": [
    {
     "name": "stderr",
     "output_type": "stream",
     "text": [
      "/home/avaldivia/env37/lib/python3.7/site-packages/pandas/compat/__init__.py:117: UserWarning: Could not import the lzma module. Your installed Python is incomplete. Attempting to use lzma compression will result in a RuntimeError.\n",
      "  warnings.warn(msg)\n"
     ]
    }
   ],
   "source": [
    "import pandas as pd\n",
    "\n",
    "df = pd.DataFrame(word_list_sort)\n",
    "df.columns = ['words', 'counts']"
   ]
  },
  {
   "cell_type": "code",
   "execution_count": 24,
   "metadata": {},
   "outputs": [
    {
     "data": {
      "text/html": [
       "<div>\n",
       "<style scoped>\n",
       "    .dataframe tbody tr th:only-of-type {\n",
       "        vertical-align: middle;\n",
       "    }\n",
       "\n",
       "    .dataframe tbody tr th {\n",
       "        vertical-align: top;\n",
       "    }\n",
       "\n",
       "    .dataframe thead th {\n",
       "        text-align: right;\n",
       "    }\n",
       "</style>\n",
       "<table border=\"1\" class=\"dataframe\">\n",
       "  <thead>\n",
       "    <tr style=\"text-align: right;\">\n",
       "      <th></th>\n",
       "      <th>words</th>\n",
       "      <th>counts</th>\n",
       "    </tr>\n",
       "  </thead>\n",
       "  <tbody>\n",
       "    <tr>\n",
       "      <th>0</th>\n",
       "      <td>the</td>\n",
       "      <td>210</td>\n",
       "    </tr>\n",
       "    <tr>\n",
       "      <th>1</th>\n",
       "      <td>of</td>\n",
       "      <td>85</td>\n",
       "    </tr>\n",
       "    <tr>\n",
       "      <th>2</th>\n",
       "      <td>to</td>\n",
       "      <td>81</td>\n",
       "    </tr>\n",
       "    <tr>\n",
       "      <th>3</th>\n",
       "      <td>that</td>\n",
       "      <td>78</td>\n",
       "    </tr>\n",
       "    <tr>\n",
       "      <th>4</th>\n",
       "      <td>and</td>\n",
       "      <td>62</td>\n",
       "    </tr>\n",
       "  </tbody>\n",
       "</table>\n",
       "</div>"
      ],
      "text/plain": [
       "  words  counts\n",
       "0   the     210\n",
       "1    of      85\n",
       "2    to      81\n",
       "3  that      78\n",
       "4   and      62"
      ]
     },
     "execution_count": 24,
     "metadata": {},
     "output_type": "execute_result"
    }
   ],
   "source": [
    "df.head()"
   ]
  },
  {
   "cell_type": "code",
   "execution_count": 46,
   "metadata": {},
   "outputs": [
    {
     "name": "stdout",
     "output_type": "stream",
     "text": [
      "Requirement already satisfied: matplotlib in /home/avaldivia/env37/lib/python3.7/site-packages (3.2.2)\n",
      "Requirement already satisfied: pyparsing!=2.0.4,!=2.1.2,!=2.1.6,>=2.0.1 in /home/avaldivia/env37/lib/python3.7/site-packages (from matplotlib) (2.4.7)\n",
      "Requirement already satisfied: cycler>=0.10 in /home/avaldivia/env37/lib/python3.7/site-packages (from matplotlib) (0.10.0)\n",
      "Requirement already satisfied: python-dateutil>=2.1 in /home/avaldivia/env37/lib/python3.7/site-packages (from matplotlib) (2.8.1)\n",
      "Requirement already satisfied: kiwisolver>=1.0.1 in /home/avaldivia/env37/lib/python3.7/site-packages (from matplotlib) (1.2.0)\n",
      "Requirement already satisfied: numpy>=1.11 in /home/avaldivia/env37/lib/python3.7/site-packages (from matplotlib) (1.19.0)\n",
      "Requirement already satisfied: six in /home/avaldivia/env37/lib/python3.7/site-packages (from cycler>=0.10->matplotlib) (1.15.0)\n",
      "\u001b[33mWARNING: You are using pip version 20.2b1; however, version 21.1 is available.\n",
      "You should consider upgrading via the '/home/avaldivia/env37/bin/python3.7 -m pip install --upgrade pip' command.\u001b[0m\n",
      "Requirement already satisfied: plotly in /home/avaldivia/env37/lib/python3.7/site-packages (4.14.1)\n",
      "Requirement already satisfied: retrying>=1.3.3 in /home/avaldivia/env37/lib/python3.7/site-packages (from plotly) (1.3.3)\n",
      "Requirement already satisfied: six in /home/avaldivia/env37/lib/python3.7/site-packages (from plotly) (1.15.0)\n",
      "\u001b[33mWARNING: You are using pip version 20.2b1; however, version 21.1 is available.\n",
      "You should consider upgrading via the '/home/avaldivia/env37/bin/python3.7 -m pip install --upgrade pip' command.\u001b[0m\n",
      "Requirement already satisfied: kaleido in /home/avaldivia/env37/lib/python3.7/site-packages (0.1.0)\n",
      "\u001b[33mWARNING: You are using pip version 20.2b1; however, version 21.1 is available.\n",
      "You should consider upgrading via the '/home/avaldivia/env37/bin/python3.7 -m pip install --upgrade pip' command.\u001b[0m\n"
     ]
    },
    {
     "data": {
      "application/vnd.plotly.v1+json": {
       "config": {
        "plotlyServerURL": "https://plot.ly"
       },
       "data": [
        {
         "alignmentgroup": "True",
         "hovertemplate": "Frequency=%{x}<br>Words=%{text}<extra></extra>",
         "legendgroup": "",
         "marker": {
          "color": "green"
         },
         "name": "",
         "offsetgroup": "",
         "orientation": "h",
         "showlegend": false,
         "text": [
          "the",
          "of",
          "to",
          "that",
          "and",
          "in",
          "was",
          "a",
          "he",
          "his",
          "Appellant"
         ],
         "textposition": "auto",
         "texttemplate": "%{text}",
         "type": "bar",
         "x": [
          210,
          85,
          81,
          78,
          62,
          58,
          49,
          48,
          42,
          42,
          40
         ],
         "xaxis": "x",
         "y": [
          "the",
          "of",
          "to",
          "that",
          "and",
          "in",
          "was",
          "a",
          "he",
          "his",
          "Appellant"
         ],
         "yaxis": "y"
        }
       ],
       "layout": {
        "autosize": false,
        "barmode": "relative",
        "height": 500,
        "legend": {
         "tracegroupgap": 0
        },
        "margin": {
         "t": 60
        },
        "template": {
         "data": {
          "bar": [
           {
            "error_x": {
             "color": "#2a3f5f"
            },
            "error_y": {
             "color": "#2a3f5f"
            },
            "marker": {
             "line": {
              "color": "#E5ECF6",
              "width": 0.5
             }
            },
            "type": "bar"
           }
          ],
          "barpolar": [
           {
            "marker": {
             "line": {
              "color": "#E5ECF6",
              "width": 0.5
             }
            },
            "type": "barpolar"
           }
          ],
          "carpet": [
           {
            "aaxis": {
             "endlinecolor": "#2a3f5f",
             "gridcolor": "white",
             "linecolor": "white",
             "minorgridcolor": "white",
             "startlinecolor": "#2a3f5f"
            },
            "baxis": {
             "endlinecolor": "#2a3f5f",
             "gridcolor": "white",
             "linecolor": "white",
             "minorgridcolor": "white",
             "startlinecolor": "#2a3f5f"
            },
            "type": "carpet"
           }
          ],
          "choropleth": [
           {
            "colorbar": {
             "outlinewidth": 0,
             "ticks": ""
            },
            "type": "choropleth"
           }
          ],
          "contour": [
           {
            "colorbar": {
             "outlinewidth": 0,
             "ticks": ""
            },
            "colorscale": [
             [
              0,
              "#0d0887"
             ],
             [
              0.1111111111111111,
              "#46039f"
             ],
             [
              0.2222222222222222,
              "#7201a8"
             ],
             [
              0.3333333333333333,
              "#9c179e"
             ],
             [
              0.4444444444444444,
              "#bd3786"
             ],
             [
              0.5555555555555556,
              "#d8576b"
             ],
             [
              0.6666666666666666,
              "#ed7953"
             ],
             [
              0.7777777777777778,
              "#fb9f3a"
             ],
             [
              0.8888888888888888,
              "#fdca26"
             ],
             [
              1,
              "#f0f921"
             ]
            ],
            "type": "contour"
           }
          ],
          "contourcarpet": [
           {
            "colorbar": {
             "outlinewidth": 0,
             "ticks": ""
            },
            "type": "contourcarpet"
           }
          ],
          "heatmap": [
           {
            "colorbar": {
             "outlinewidth": 0,
             "ticks": ""
            },
            "colorscale": [
             [
              0,
              "#0d0887"
             ],
             [
              0.1111111111111111,
              "#46039f"
             ],
             [
              0.2222222222222222,
              "#7201a8"
             ],
             [
              0.3333333333333333,
              "#9c179e"
             ],
             [
              0.4444444444444444,
              "#bd3786"
             ],
             [
              0.5555555555555556,
              "#d8576b"
             ],
             [
              0.6666666666666666,
              "#ed7953"
             ],
             [
              0.7777777777777778,
              "#fb9f3a"
             ],
             [
              0.8888888888888888,
              "#fdca26"
             ],
             [
              1,
              "#f0f921"
             ]
            ],
            "type": "heatmap"
           }
          ],
          "heatmapgl": [
           {
            "colorbar": {
             "outlinewidth": 0,
             "ticks": ""
            },
            "colorscale": [
             [
              0,
              "#0d0887"
             ],
             [
              0.1111111111111111,
              "#46039f"
             ],
             [
              0.2222222222222222,
              "#7201a8"
             ],
             [
              0.3333333333333333,
              "#9c179e"
             ],
             [
              0.4444444444444444,
              "#bd3786"
             ],
             [
              0.5555555555555556,
              "#d8576b"
             ],
             [
              0.6666666666666666,
              "#ed7953"
             ],
             [
              0.7777777777777778,
              "#fb9f3a"
             ],
             [
              0.8888888888888888,
              "#fdca26"
             ],
             [
              1,
              "#f0f921"
             ]
            ],
            "type": "heatmapgl"
           }
          ],
          "histogram": [
           {
            "marker": {
             "colorbar": {
              "outlinewidth": 0,
              "ticks": ""
             }
            },
            "type": "histogram"
           }
          ],
          "histogram2d": [
           {
            "colorbar": {
             "outlinewidth": 0,
             "ticks": ""
            },
            "colorscale": [
             [
              0,
              "#0d0887"
             ],
             [
              0.1111111111111111,
              "#46039f"
             ],
             [
              0.2222222222222222,
              "#7201a8"
             ],
             [
              0.3333333333333333,
              "#9c179e"
             ],
             [
              0.4444444444444444,
              "#bd3786"
             ],
             [
              0.5555555555555556,
              "#d8576b"
             ],
             [
              0.6666666666666666,
              "#ed7953"
             ],
             [
              0.7777777777777778,
              "#fb9f3a"
             ],
             [
              0.8888888888888888,
              "#fdca26"
             ],
             [
              1,
              "#f0f921"
             ]
            ],
            "type": "histogram2d"
           }
          ],
          "histogram2dcontour": [
           {
            "colorbar": {
             "outlinewidth": 0,
             "ticks": ""
            },
            "colorscale": [
             [
              0,
              "#0d0887"
             ],
             [
              0.1111111111111111,
              "#46039f"
             ],
             [
              0.2222222222222222,
              "#7201a8"
             ],
             [
              0.3333333333333333,
              "#9c179e"
             ],
             [
              0.4444444444444444,
              "#bd3786"
             ],
             [
              0.5555555555555556,
              "#d8576b"
             ],
             [
              0.6666666666666666,
              "#ed7953"
             ],
             [
              0.7777777777777778,
              "#fb9f3a"
             ],
             [
              0.8888888888888888,
              "#fdca26"
             ],
             [
              1,
              "#f0f921"
             ]
            ],
            "type": "histogram2dcontour"
           }
          ],
          "mesh3d": [
           {
            "colorbar": {
             "outlinewidth": 0,
             "ticks": ""
            },
            "type": "mesh3d"
           }
          ],
          "parcoords": [
           {
            "line": {
             "colorbar": {
              "outlinewidth": 0,
              "ticks": ""
             }
            },
            "type": "parcoords"
           }
          ],
          "pie": [
           {
            "automargin": true,
            "type": "pie"
           }
          ],
          "scatter": [
           {
            "marker": {
             "colorbar": {
              "outlinewidth": 0,
              "ticks": ""
             }
            },
            "type": "scatter"
           }
          ],
          "scatter3d": [
           {
            "line": {
             "colorbar": {
              "outlinewidth": 0,
              "ticks": ""
             }
            },
            "marker": {
             "colorbar": {
              "outlinewidth": 0,
              "ticks": ""
             }
            },
            "type": "scatter3d"
           }
          ],
          "scattercarpet": [
           {
            "marker": {
             "colorbar": {
              "outlinewidth": 0,
              "ticks": ""
             }
            },
            "type": "scattercarpet"
           }
          ],
          "scattergeo": [
           {
            "marker": {
             "colorbar": {
              "outlinewidth": 0,
              "ticks": ""
             }
            },
            "type": "scattergeo"
           }
          ],
          "scattergl": [
           {
            "marker": {
             "colorbar": {
              "outlinewidth": 0,
              "ticks": ""
             }
            },
            "type": "scattergl"
           }
          ],
          "scattermapbox": [
           {
            "marker": {
             "colorbar": {
              "outlinewidth": 0,
              "ticks": ""
             }
            },
            "type": "scattermapbox"
           }
          ],
          "scatterpolar": [
           {
            "marker": {
             "colorbar": {
              "outlinewidth": 0,
              "ticks": ""
             }
            },
            "type": "scatterpolar"
           }
          ],
          "scatterpolargl": [
           {
            "marker": {
             "colorbar": {
              "outlinewidth": 0,
              "ticks": ""
             }
            },
            "type": "scatterpolargl"
           }
          ],
          "scatterternary": [
           {
            "marker": {
             "colorbar": {
              "outlinewidth": 0,
              "ticks": ""
             }
            },
            "type": "scatterternary"
           }
          ],
          "surface": [
           {
            "colorbar": {
             "outlinewidth": 0,
             "ticks": ""
            },
            "colorscale": [
             [
              0,
              "#0d0887"
             ],
             [
              0.1111111111111111,
              "#46039f"
             ],
             [
              0.2222222222222222,
              "#7201a8"
             ],
             [
              0.3333333333333333,
              "#9c179e"
             ],
             [
              0.4444444444444444,
              "#bd3786"
             ],
             [
              0.5555555555555556,
              "#d8576b"
             ],
             [
              0.6666666666666666,
              "#ed7953"
             ],
             [
              0.7777777777777778,
              "#fb9f3a"
             ],
             [
              0.8888888888888888,
              "#fdca26"
             ],
             [
              1,
              "#f0f921"
             ]
            ],
            "type": "surface"
           }
          ],
          "table": [
           {
            "cells": {
             "fill": {
              "color": "#EBF0F8"
             },
             "line": {
              "color": "white"
             }
            },
            "header": {
             "fill": {
              "color": "#C8D4E3"
             },
             "line": {
              "color": "white"
             }
            },
            "type": "table"
           }
          ]
         },
         "layout": {
          "annotationdefaults": {
           "arrowcolor": "#2a3f5f",
           "arrowhead": 0,
           "arrowwidth": 1
          },
          "autotypenumbers": "strict",
          "coloraxis": {
           "colorbar": {
            "outlinewidth": 0,
            "ticks": ""
           }
          },
          "colorscale": {
           "diverging": [
            [
             0,
             "#8e0152"
            ],
            [
             0.1,
             "#c51b7d"
            ],
            [
             0.2,
             "#de77ae"
            ],
            [
             0.3,
             "#f1b6da"
            ],
            [
             0.4,
             "#fde0ef"
            ],
            [
             0.5,
             "#f7f7f7"
            ],
            [
             0.6,
             "#e6f5d0"
            ],
            [
             0.7,
             "#b8e186"
            ],
            [
             0.8,
             "#7fbc41"
            ],
            [
             0.9,
             "#4d9221"
            ],
            [
             1,
             "#276419"
            ]
           ],
           "sequential": [
            [
             0,
             "#0d0887"
            ],
            [
             0.1111111111111111,
             "#46039f"
            ],
            [
             0.2222222222222222,
             "#7201a8"
            ],
            [
             0.3333333333333333,
             "#9c179e"
            ],
            [
             0.4444444444444444,
             "#bd3786"
            ],
            [
             0.5555555555555556,
             "#d8576b"
            ],
            [
             0.6666666666666666,
             "#ed7953"
            ],
            [
             0.7777777777777778,
             "#fb9f3a"
            ],
            [
             0.8888888888888888,
             "#fdca26"
            ],
            [
             1,
             "#f0f921"
            ]
           ],
           "sequentialminus": [
            [
             0,
             "#0d0887"
            ],
            [
             0.1111111111111111,
             "#46039f"
            ],
            [
             0.2222222222222222,
             "#7201a8"
            ],
            [
             0.3333333333333333,
             "#9c179e"
            ],
            [
             0.4444444444444444,
             "#bd3786"
            ],
            [
             0.5555555555555556,
             "#d8576b"
            ],
            [
             0.6666666666666666,
             "#ed7953"
            ],
            [
             0.7777777777777778,
             "#fb9f3a"
            ],
            [
             0.8888888888888888,
             "#fdca26"
            ],
            [
             1,
             "#f0f921"
            ]
           ]
          },
          "colorway": [
           "#636efa",
           "#EF553B",
           "#00cc96",
           "#ab63fa",
           "#FFA15A",
           "#19d3f3",
           "#FF6692",
           "#B6E880",
           "#FF97FF",
           "#FECB52"
          ],
          "font": {
           "color": "#2a3f5f"
          },
          "geo": {
           "bgcolor": "white",
           "lakecolor": "white",
           "landcolor": "#E5ECF6",
           "showlakes": true,
           "showland": true,
           "subunitcolor": "white"
          },
          "hoverlabel": {
           "align": "left"
          },
          "hovermode": "closest",
          "mapbox": {
           "style": "light"
          },
          "paper_bgcolor": "white",
          "plot_bgcolor": "#E5ECF6",
          "polar": {
           "angularaxis": {
            "gridcolor": "white",
            "linecolor": "white",
            "ticks": ""
           },
           "bgcolor": "#E5ECF6",
           "radialaxis": {
            "gridcolor": "white",
            "linecolor": "white",
            "ticks": ""
           }
          },
          "scene": {
           "xaxis": {
            "backgroundcolor": "#E5ECF6",
            "gridcolor": "white",
            "gridwidth": 2,
            "linecolor": "white",
            "showbackground": true,
            "ticks": "",
            "zerolinecolor": "white"
           },
           "yaxis": {
            "backgroundcolor": "#E5ECF6",
            "gridcolor": "white",
            "gridwidth": 2,
            "linecolor": "white",
            "showbackground": true,
            "ticks": "",
            "zerolinecolor": "white"
           },
           "zaxis": {
            "backgroundcolor": "#E5ECF6",
            "gridcolor": "white",
            "gridwidth": 2,
            "linecolor": "white",
            "showbackground": true,
            "ticks": "",
            "zerolinecolor": "white"
           }
          },
          "shapedefaults": {
           "line": {
            "color": "#2a3f5f"
           }
          },
          "ternary": {
           "aaxis": {
            "gridcolor": "white",
            "linecolor": "white",
            "ticks": ""
           },
           "baxis": {
            "gridcolor": "white",
            "linecolor": "white",
            "ticks": ""
           },
           "bgcolor": "#E5ECF6",
           "caxis": {
            "gridcolor": "white",
            "linecolor": "white",
            "ticks": ""
           }
          },
          "title": {
           "x": 0.05
          },
          "xaxis": {
           "automargin": true,
           "gridcolor": "white",
           "linecolor": "white",
           "ticks": "",
           "title": {
            "standoff": 15
           },
           "zerolinecolor": "white",
           "zerolinewidth": 2
          },
          "yaxis": {
           "automargin": true,
           "gridcolor": "white",
           "linecolor": "white",
           "ticks": "",
           "title": {
            "standoff": 15
           },
           "zerolinecolor": "white",
           "zerolinewidth": 2
          }
         }
        },
        "title": {
         "text": "Words Frequency in Tribunal Appeals",
         "x": 0.5,
         "xanchor": "center",
         "y": 0.95,
         "yanchor": "top"
        },
        "uniformtext": {
         "minsize": 8,
         "mode": "hide"
        },
        "width": 1050,
        "xaxis": {
         "anchor": "y",
         "domain": [
          0,
          1
         ],
         "title": {
          "text": "Frequency"
         }
        },
        "yaxis": {
         "anchor": "x",
         "categoryorder": "total ascending",
         "domain": [
          0,
          1
         ],
         "showticklabels": false,
         "title": {
          "text": "Words"
         },
         "type": "category"
        }
       }
      },
      "text/html": [
       "<div>                            <div id=\"7c85787a-e20e-45e0-bc8e-1f642f4108c0\" class=\"plotly-graph-div\" style=\"height:500px; width:1050px;\"></div>            <script type=\"text/javascript\">                require([\"plotly\"], function(Plotly) {                    window.PLOTLYENV=window.PLOTLYENV || {};                                    if (document.getElementById(\"7c85787a-e20e-45e0-bc8e-1f642f4108c0\")) {                    Plotly.newPlot(                        \"7c85787a-e20e-45e0-bc8e-1f642f4108c0\",                        [{\"alignmentgroup\": \"True\", \"hovertemplate\": \"Frequency=%{x}<br>Words=%{text}<extra></extra>\", \"legendgroup\": \"\", \"marker\": {\"color\": \"green\"}, \"name\": \"\", \"offsetgroup\": \"\", \"orientation\": \"h\", \"showlegend\": false, \"text\": [\"the\", \"of\", \"to\", \"that\", \"and\", \"in\", \"was\", \"a\", \"he\", \"his\", \"Appellant\"], \"textposition\": \"auto\", \"texttemplate\": \"%{text}\", \"type\": \"bar\", \"x\": [210, 85, 81, 78, 62, 58, 49, 48, 42, 42, 40], \"xaxis\": \"x\", \"y\": [\"the\", \"of\", \"to\", \"that\", \"and\", \"in\", \"was\", \"a\", \"he\", \"his\", \"Appellant\"], \"yaxis\": \"y\"}],                        {\"autosize\": false, \"barmode\": \"relative\", \"height\": 500, \"legend\": {\"tracegroupgap\": 0}, \"margin\": {\"t\": 60}, \"template\": {\"data\": {\"bar\": [{\"error_x\": {\"color\": \"#2a3f5f\"}, \"error_y\": {\"color\": \"#2a3f5f\"}, \"marker\": {\"line\": {\"color\": \"#E5ECF6\", \"width\": 0.5}}, \"type\": \"bar\"}], \"barpolar\": [{\"marker\": {\"line\": {\"color\": \"#E5ECF6\", \"width\": 0.5}}, \"type\": \"barpolar\"}], \"carpet\": [{\"aaxis\": {\"endlinecolor\": \"#2a3f5f\", \"gridcolor\": \"white\", \"linecolor\": \"white\", \"minorgridcolor\": \"white\", \"startlinecolor\": \"#2a3f5f\"}, \"baxis\": {\"endlinecolor\": \"#2a3f5f\", \"gridcolor\": \"white\", \"linecolor\": \"white\", \"minorgridcolor\": \"white\", \"startlinecolor\": \"#2a3f5f\"}, \"type\": \"carpet\"}], \"choropleth\": [{\"colorbar\": {\"outlinewidth\": 0, \"ticks\": \"\"}, \"type\": \"choropleth\"}], \"contour\": [{\"colorbar\": {\"outlinewidth\": 0, \"ticks\": \"\"}, \"colorscale\": [[0.0, \"#0d0887\"], [0.1111111111111111, \"#46039f\"], [0.2222222222222222, \"#7201a8\"], [0.3333333333333333, \"#9c179e\"], [0.4444444444444444, \"#bd3786\"], [0.5555555555555556, \"#d8576b\"], [0.6666666666666666, \"#ed7953\"], [0.7777777777777778, \"#fb9f3a\"], [0.8888888888888888, \"#fdca26\"], [1.0, \"#f0f921\"]], \"type\": \"contour\"}], \"contourcarpet\": [{\"colorbar\": {\"outlinewidth\": 0, \"ticks\": \"\"}, \"type\": \"contourcarpet\"}], \"heatmap\": [{\"colorbar\": {\"outlinewidth\": 0, \"ticks\": \"\"}, \"colorscale\": [[0.0, \"#0d0887\"], [0.1111111111111111, \"#46039f\"], [0.2222222222222222, \"#7201a8\"], [0.3333333333333333, \"#9c179e\"], [0.4444444444444444, \"#bd3786\"], [0.5555555555555556, \"#d8576b\"], [0.6666666666666666, \"#ed7953\"], [0.7777777777777778, \"#fb9f3a\"], [0.8888888888888888, \"#fdca26\"], [1.0, \"#f0f921\"]], \"type\": \"heatmap\"}], \"heatmapgl\": [{\"colorbar\": {\"outlinewidth\": 0, \"ticks\": \"\"}, \"colorscale\": [[0.0, \"#0d0887\"], [0.1111111111111111, \"#46039f\"], [0.2222222222222222, \"#7201a8\"], [0.3333333333333333, \"#9c179e\"], [0.4444444444444444, \"#bd3786\"], [0.5555555555555556, \"#d8576b\"], [0.6666666666666666, \"#ed7953\"], [0.7777777777777778, \"#fb9f3a\"], [0.8888888888888888, \"#fdca26\"], [1.0, \"#f0f921\"]], \"type\": \"heatmapgl\"}], \"histogram\": [{\"marker\": {\"colorbar\": {\"outlinewidth\": 0, \"ticks\": \"\"}}, \"type\": \"histogram\"}], \"histogram2d\": [{\"colorbar\": {\"outlinewidth\": 0, \"ticks\": \"\"}, \"colorscale\": [[0.0, \"#0d0887\"], [0.1111111111111111, \"#46039f\"], [0.2222222222222222, \"#7201a8\"], [0.3333333333333333, \"#9c179e\"], [0.4444444444444444, \"#bd3786\"], [0.5555555555555556, \"#d8576b\"], [0.6666666666666666, \"#ed7953\"], [0.7777777777777778, \"#fb9f3a\"], [0.8888888888888888, \"#fdca26\"], [1.0, \"#f0f921\"]], \"type\": \"histogram2d\"}], \"histogram2dcontour\": [{\"colorbar\": {\"outlinewidth\": 0, \"ticks\": \"\"}, \"colorscale\": [[0.0, \"#0d0887\"], [0.1111111111111111, \"#46039f\"], [0.2222222222222222, \"#7201a8\"], [0.3333333333333333, \"#9c179e\"], [0.4444444444444444, \"#bd3786\"], [0.5555555555555556, \"#d8576b\"], [0.6666666666666666, \"#ed7953\"], [0.7777777777777778, \"#fb9f3a\"], [0.8888888888888888, \"#fdca26\"], [1.0, \"#f0f921\"]], \"type\": \"histogram2dcontour\"}], \"mesh3d\": [{\"colorbar\": {\"outlinewidth\": 0, \"ticks\": \"\"}, \"type\": \"mesh3d\"}], \"parcoords\": [{\"line\": {\"colorbar\": {\"outlinewidth\": 0, \"ticks\": \"\"}}, \"type\": \"parcoords\"}], \"pie\": [{\"automargin\": true, \"type\": \"pie\"}], \"scatter\": [{\"marker\": {\"colorbar\": {\"outlinewidth\": 0, \"ticks\": \"\"}}, \"type\": \"scatter\"}], \"scatter3d\": [{\"line\": {\"colorbar\": {\"outlinewidth\": 0, \"ticks\": \"\"}}, \"marker\": {\"colorbar\": {\"outlinewidth\": 0, \"ticks\": \"\"}}, \"type\": \"scatter3d\"}], \"scattercarpet\": [{\"marker\": {\"colorbar\": {\"outlinewidth\": 0, \"ticks\": \"\"}}, \"type\": \"scattercarpet\"}], \"scattergeo\": [{\"marker\": {\"colorbar\": {\"outlinewidth\": 0, \"ticks\": \"\"}}, \"type\": \"scattergeo\"}], \"scattergl\": [{\"marker\": {\"colorbar\": {\"outlinewidth\": 0, \"ticks\": \"\"}}, \"type\": \"scattergl\"}], \"scattermapbox\": [{\"marker\": {\"colorbar\": {\"outlinewidth\": 0, \"ticks\": \"\"}}, \"type\": \"scattermapbox\"}], \"scatterpolar\": [{\"marker\": {\"colorbar\": {\"outlinewidth\": 0, \"ticks\": \"\"}}, \"type\": \"scatterpolar\"}], \"scatterpolargl\": [{\"marker\": {\"colorbar\": {\"outlinewidth\": 0, \"ticks\": \"\"}}, \"type\": \"scatterpolargl\"}], \"scatterternary\": [{\"marker\": {\"colorbar\": {\"outlinewidth\": 0, \"ticks\": \"\"}}, \"type\": \"scatterternary\"}], \"surface\": [{\"colorbar\": {\"outlinewidth\": 0, \"ticks\": \"\"}, \"colorscale\": [[0.0, \"#0d0887\"], [0.1111111111111111, \"#46039f\"], [0.2222222222222222, \"#7201a8\"], [0.3333333333333333, \"#9c179e\"], [0.4444444444444444, \"#bd3786\"], [0.5555555555555556, \"#d8576b\"], [0.6666666666666666, \"#ed7953\"], [0.7777777777777778, \"#fb9f3a\"], [0.8888888888888888, \"#fdca26\"], [1.0, \"#f0f921\"]], \"type\": \"surface\"}], \"table\": [{\"cells\": {\"fill\": {\"color\": \"#EBF0F8\"}, \"line\": {\"color\": \"white\"}}, \"header\": {\"fill\": {\"color\": \"#C8D4E3\"}, \"line\": {\"color\": \"white\"}}, \"type\": \"table\"}]}, \"layout\": {\"annotationdefaults\": {\"arrowcolor\": \"#2a3f5f\", \"arrowhead\": 0, \"arrowwidth\": 1}, \"autotypenumbers\": \"strict\", \"coloraxis\": {\"colorbar\": {\"outlinewidth\": 0, \"ticks\": \"\"}}, \"colorscale\": {\"diverging\": [[0, \"#8e0152\"], [0.1, \"#c51b7d\"], [0.2, \"#de77ae\"], [0.3, \"#f1b6da\"], [0.4, \"#fde0ef\"], [0.5, \"#f7f7f7\"], [0.6, \"#e6f5d0\"], [0.7, \"#b8e186\"], [0.8, \"#7fbc41\"], [0.9, \"#4d9221\"], [1, \"#276419\"]], \"sequential\": [[0.0, \"#0d0887\"], [0.1111111111111111, \"#46039f\"], [0.2222222222222222, \"#7201a8\"], [0.3333333333333333, \"#9c179e\"], [0.4444444444444444, \"#bd3786\"], [0.5555555555555556, \"#d8576b\"], [0.6666666666666666, \"#ed7953\"], [0.7777777777777778, \"#fb9f3a\"], [0.8888888888888888, \"#fdca26\"], [1.0, \"#f0f921\"]], \"sequentialminus\": [[0.0, \"#0d0887\"], [0.1111111111111111, \"#46039f\"], [0.2222222222222222, \"#7201a8\"], [0.3333333333333333, \"#9c179e\"], [0.4444444444444444, \"#bd3786\"], [0.5555555555555556, \"#d8576b\"], [0.6666666666666666, \"#ed7953\"], [0.7777777777777778, \"#fb9f3a\"], [0.8888888888888888, \"#fdca26\"], [1.0, \"#f0f921\"]]}, \"colorway\": [\"#636efa\", \"#EF553B\", \"#00cc96\", \"#ab63fa\", \"#FFA15A\", \"#19d3f3\", \"#FF6692\", \"#B6E880\", \"#FF97FF\", \"#FECB52\"], \"font\": {\"color\": \"#2a3f5f\"}, \"geo\": {\"bgcolor\": \"white\", \"lakecolor\": \"white\", \"landcolor\": \"#E5ECF6\", \"showlakes\": true, \"showland\": true, \"subunitcolor\": \"white\"}, \"hoverlabel\": {\"align\": \"left\"}, \"hovermode\": \"closest\", \"mapbox\": {\"style\": \"light\"}, \"paper_bgcolor\": \"white\", \"plot_bgcolor\": \"#E5ECF6\", \"polar\": {\"angularaxis\": {\"gridcolor\": \"white\", \"linecolor\": \"white\", \"ticks\": \"\"}, \"bgcolor\": \"#E5ECF6\", \"radialaxis\": {\"gridcolor\": \"white\", \"linecolor\": \"white\", \"ticks\": \"\"}}, \"scene\": {\"xaxis\": {\"backgroundcolor\": \"#E5ECF6\", \"gridcolor\": \"white\", \"gridwidth\": 2, \"linecolor\": \"white\", \"showbackground\": true, \"ticks\": \"\", \"zerolinecolor\": \"white\"}, \"yaxis\": {\"backgroundcolor\": \"#E5ECF6\", \"gridcolor\": \"white\", \"gridwidth\": 2, \"linecolor\": \"white\", \"showbackground\": true, \"ticks\": \"\", \"zerolinecolor\": \"white\"}, \"zaxis\": {\"backgroundcolor\": \"#E5ECF6\", \"gridcolor\": \"white\", \"gridwidth\": 2, \"linecolor\": \"white\", \"showbackground\": true, \"ticks\": \"\", \"zerolinecolor\": \"white\"}}, \"shapedefaults\": {\"line\": {\"color\": \"#2a3f5f\"}}, \"ternary\": {\"aaxis\": {\"gridcolor\": \"white\", \"linecolor\": \"white\", \"ticks\": \"\"}, \"baxis\": {\"gridcolor\": \"white\", \"linecolor\": \"white\", \"ticks\": \"\"}, \"bgcolor\": \"#E5ECF6\", \"caxis\": {\"gridcolor\": \"white\", \"linecolor\": \"white\", \"ticks\": \"\"}}, \"title\": {\"x\": 0.05}, \"xaxis\": {\"automargin\": true, \"gridcolor\": \"white\", \"linecolor\": \"white\", \"ticks\": \"\", \"title\": {\"standoff\": 15}, \"zerolinecolor\": \"white\", \"zerolinewidth\": 2}, \"yaxis\": {\"automargin\": true, \"gridcolor\": \"white\", \"linecolor\": \"white\", \"ticks\": \"\", \"title\": {\"standoff\": 15}, \"zerolinecolor\": \"white\", \"zerolinewidth\": 2}}}, \"title\": {\"text\": \"Words Frequency in Tribunal Appeals\", \"x\": 0.5, \"xanchor\": \"center\", \"y\": 0.95, \"yanchor\": \"top\"}, \"uniformtext\": {\"minsize\": 8, \"mode\": \"hide\"}, \"width\": 1050, \"xaxis\": {\"anchor\": \"y\", \"domain\": [0.0, 1.0], \"title\": {\"text\": \"Frequency\"}}, \"yaxis\": {\"anchor\": \"x\", \"categoryorder\": \"total ascending\", \"domain\": [0.0, 1.0], \"showticklabels\": false, \"title\": {\"text\": \"Words\"}, \"type\": \"category\"}},                        {\"responsive\": true}                    ).then(function(){\n",
       "                            \n",
       "var gd = document.getElementById('7c85787a-e20e-45e0-bc8e-1f642f4108c0');\n",
       "var x = new MutationObserver(function (mutations, observer) {{\n",
       "        var display = window.getComputedStyle(gd).display;\n",
       "        if (!display || display === 'none') {{\n",
       "            console.log([gd, 'removed!']);\n",
       "            Plotly.purge(gd);\n",
       "            observer.disconnect();\n",
       "        }}\n",
       "}});\n",
       "\n",
       "// Listen for the removal of the full notebook cells\n",
       "var notebookContainer = gd.closest('#notebook-container');\n",
       "if (notebookContainer) {{\n",
       "    x.observe(notebookContainer, {childList: true});\n",
       "}}\n",
       "\n",
       "// Listen for the clearing of the current output cell\n",
       "var outputEl = gd.closest('.output');\n",
       "if (outputEl) {{\n",
       "    x.observe(outputEl, {childList: true});\n",
       "}}\n",
       "\n",
       "                        })                };                });            </script>        </div>"
      ]
     },
     "metadata": {},
     "output_type": "display_data"
    }
   ],
   "source": [
    "!pip install matplotlib\n",
    "!pip install plotly\n",
    "!pip install kaleido\n",
    "import matplotlib.pyplot as plt\n",
    "import plotly.express as px\n",
    "\n",
    "fig = px.bar(df.loc[0:10,:], x='counts', y='words', orientation='h', text = 'words',\n",
    "             labels={\n",
    "                     \"counts\": \"Frequency\",\n",
    "                     \"words\": \"Words\"\n",
    "                 },)\n",
    "fig.layout.yaxis.type = 'category'\n",
    "fig.update_layout(yaxis_categoryorder = 'total ascending')\n",
    "fig.update_layout(yaxis=dict(showticklabels=False))\n",
    "fig.update_traces(texttemplate='%{text}', textposition='auto', marker_color='green')\n",
    "fig.update_layout(uniformtext_minsize=8, uniformtext_mode='hide',   title={\n",
    "        'text': \"Words Frequency in Tribunal Appeals\",\n",
    "        'y':0.95,\n",
    "        'x':0.5,\n",
    "        'xanchor': 'center',\n",
    "        'yanchor': 'top'})\n",
    "fig.update_layout(\n",
    "    autosize=False,\n",
    "    width=1050,\n",
    "    height=500)\n",
    "fig.show()"
   ]
  },
  {
   "cell_type": "markdown",
   "metadata": {},
   "source": [
    "❓ Does that give information of the content?"
   ]
  },
  {
   "cell_type": "markdown",
   "metadata": {},
   "source": [
    "## 5.3. Clean text"
   ]
  },
  {
   "cell_type": "markdown",
   "metadata": {},
   "source": [
    "We now clean the text with some  techniques we have learned."
   ]
  },
  {
   "cell_type": "markdown",
   "metadata": {},
   "source": [
    "### 5.3.1. Lowercase"
   ]
  },
  {
   "cell_type": "code",
   "execution_count": 29,
   "metadata": {},
   "outputs": [],
   "source": [
    "# Remove capital letters\n",
    "text_clean = ' '.join(w.lower() for w in text.split())"
   ]
  },
  {
   "cell_type": "code",
   "execution_count": 30,
   "metadata": {},
   "outputs": [
    {
     "data": {
      "text/plain": [
       "'upper tribunal (immigration and asylum chamber) appeal number: pa/00240/2019 the immigration acts heard at birmingham cjc decision & reasons promulgated on 21 november 2019 on 8 november 2019 before deputy upper tribunal judge o’ryan between mr d a (anonymity direction made) appellant and the secretary of state for the home department respondent representation: for the appellant: mr sharif, fountain solicitors for the respondent: mr mills, senior home office presenting officer decision and reasons 1. this is the appellant’s appeal against the decision of judge of the first-tier tribunal boylan-kemp mbe dated 2 may 2019 dismissing the appellant’s appeal against the respondent’s decision of 23 november 2018 refusing his human rights and protection claim. © crown copyright 2019appeal number: pa/00240/2019 2. the appellant is a national of iraq of kurdish origin and from sulamaniyah in the ikr. he gave an account that he was at risk of serious harm in the ikr by reason of his family and extended tribe being in a feud with another tribe in the ikr. the appellant was not able to give many details of the origins of the feud but stated that one family member had been killed as a result of it and that he himself had experienced two incidents; one being that unknown persons had fired upon a car in which he was travelling and his cousin had been injured in the shoulder, and another occasion when the house in which he lived was fired upon. 3. the respondent in its decision refusing the protection claim disbelieved the appellant’s account that there was any feud on the grounds that the appellant knew very few details of the alleged feud. there was also said to be a discrepancy as between the appellant’s evidence in interview as to how many occasions the appellant experienced any problems himself (refusal letter, para [26]) and a discrepancy between an alleged fear of his own father (resulting from the appellant refusing to take part in the feud) and information given in an age assessment interview in which he had stated that he had a good relationship with his family members (para [31]). 4. the appellant appealed against that decision and the matter came before the judge at the birmingham hearing centre on 18 march 2019. the appellant was represented and gave evidence. at the date of that hearing the appellant would have been 18 years of age. a further document was relied upon by the respondent at that hearing, being a eurodac search result, demonstrating that a person in the appellant’s identity was fingerprinted in dresden in germany on 22 march 2016. the appellant’s account as given in his sef interview and confirmed in oral evidence before the judge was that he only left iraq in december 2017. the appellant denied before the judge that the person identified in the eurodac search was him but the judge stated that she was satisfied by the details contained within the document, and looking at the clear photograph on the eurodac match, that the person fingerprinted in germany was indeed the appellant. 5. the judge found at paragraph 14 onwards as follows: “16. the evidence provided by the eurodac document is unequivocal. the photograph contained within the document is clearly the appellant who appeared before me and i have no reason to doubt that the document relates to him. therefore this document upon which i am satisfied i can place significant weight puts him in germany on 22 march 2016. consequently i find that this evidence undermines the credibility of his entire account and his credibility as a witness in his own cause and that it renders his entire account unreliable. 2appeal number: pa/00240/2019 17. further i also find his inability to recall the details of the alleged feud which caused him to leave his family and flee the country to also not be credible. if a young man was leaving his life behind because of his reluctance to become involved in an ongoing family feud then i would anticipate that he would have knowledge of what he is in fear of and so i do not find it plausible that he would not know the details of this feud if he held such a genuine fear. also i note that even on his own evidence there has been no specific risk or threat made to him which would cause him to fear for his own safety beyond what is a more general tribal threat and of which he cannot provide much detail. ... 18. as i have found the appellant’s alleged reasoning for leaving iraq to not be credible then i also find that it is not plausible that his family have consequently threatened him as claimed due to his alleged desertion because of the alleged feud. instead i find that he has travelled to the uk with the assistance and knowledge of his family for reasons other than escaping a risk of persecution. as such i find that his family would therefore be able to assist him with obtaining a copy of his identification documents and csid which would help facilitate his return to iraq. i also find that he would be able to return to the help and support of his family there.” the judge dismissed the appellant’s appeal. 6. the appellant appeals to the upper tribunal on grounds dated 15 may 2019 which argue very briefly that the judge erred in law at paragraphs 15 to 20 by giving inadequate reasoning for finding the appellant’s account to not be credible and secondly that the judge had failed to apply relevant country guidance. 7. permission to appeal was granted by judge of the first-tier tribunal keane on 24 june 2019. the judge stated as follows: “the judge arguably had regard to irrelevant considerations in finding that the appellant had not given a credible account of events. the judge’s findings as to the credibility were to be found at paragraphs 15 to 18 inclusive of her decision. at paragraph 15 the judge attached weight so as to undermine the appellant’s credibility to a eurodac printout provided by the respondent which as the judge found proved that the appellant was photographed and printed in germany on 22 march 2016. the judge however did not explain why such circumstance damaged the appellant’s credibility. if the judge had in mind the appellant’s apparent failure to claim asylum in germany the judge arguably should have stated so. at paragraph 16 of the decision the judge again accorded weight to the eurodac document without stating why. at paragraph 17 of the decision the 3appeal number: pa/00240/2019 judge stated that the judge would have anticipated that the appellant would have had knowledge of the alleged feud which on his case caused him to leave his family and indeed his country. the judge arguably substituted her own understanding of what constituted reasonable conduct in circumstances where arguably she should not have done so. at paragraph 18 the judge stated that it was not plausible that the appellant’s family have consequently threatened him on account of his ostensible desertion and the judge was arguably disbelieving the appellant’s account without providing any or adequate reasons. it was incumbent on the judge in resolving the issue of credibility to embark upon a global assessment of the appellant’s credibility and to provide adequate reasons in support of a finding that he had not done so. this the judge arguably failed to do.” submissions 8. mr sharif relies upon the grounds of appeal and the admittedly more extensive grant of permission to appeal in support of his appellant’s case. 9. mr sharif points out that the only date given in the appellant’s account for any particular incident was in relation to the incident when the car in which the appellant was travelling had been shot at. the date for that is to be found in the sef interview at [86] and was simply ‘2016’. the appellant gives no other dates for the matters that he relies upon in support of the proposition that he is at risk because of a blood feud in iraq. he does however consistently state that he left iraq in december 2017. mr sharif argues that the appellant had accepted in the course of his evidence that he had travelled through germany and therefore the evidence from the eurodac search confirming that did not alter the credibility of the appellant’s account. mr sharif also argued that the judge’s findings in relation to it being incredible that the appellant would not have had more knowledge about the details of the feud was an irrational finding on the part of the judge. 10. for his part mr mills defends the judge’s decision and argues that the dishonest statement that the appellant had remained in december 2017 was clearly capable of affecting the credibility of the appellant’s account. i raised with him whether or not such a discrepancy could be treated as determinative of the account given that there were no dates given in the appellant’s account of matters occurring in iraq any later than 22 march 2016. mr mills appeared to accept that it was right to say that the appellant’s credibility was not determinatively decided by the discrepancy of his whereabouts in march 2016. however mr mills points to the other findings at paragraph 17 in support of the judge’s reasoning. discussion 11. i find no material error of law in the judge’s decision. the suggestion in the grant of permission to appeal by judge keane that the judge had 4appeal number: pa/00240/2019 arguably had regard to irrelevant considerations is difficult to sustain. the appellant has clearly given inconsistent evidence about his whereabouts, on the one part insisting that he remained in iraq in december 2017 but incontrovertible evidence existing from the eurodac search result that he was present in germany on 22 march 2016. these two items of evidence simply cannot sit together. true it is that there are no details of the appellant’s account of any incidents that he has set out which are dated any later than 22 march 2016, and therefore being shot at in ‘2016’ and him departing iraq prior to 22 march 2016 does not necessarily make his account impossible to believe, but it is clearly a very significant matter that the appellant has lied about his continued presence in iraq up to the point of december 2017 and the judge was fully entitled to treat that as a very significant matter. whether or not she was entitled to treat it as rendering ‘his entire account unreliable’ is moot. 12. however the judge does not stop there in her credibility findings because she continues, as is clear at paragraph 17, to set out other reasons for finding the appellant’s account incredible. whereas it may be expected that a young person may not be as fully informed about the details of a feud affecting his family and the wider tribe as might a fully-grown adult, the judge’s point is that the appellant decided, together with the assistance of a relative, to leave iraq because of this feud and the judge was entitled to find that it was implausible that the appellant knew so little about the feud whereas it had been the specific cause of his decision to leave the country. i find that it was not irrational for the judge to make the findings that she did at paragraph 17. there are a number of reasons therefore given by the judge for finding the appellant’s account incredible and i find that none of those reasons is vitiated by any error of law. 13. judge keane in granting permission did not comment upon the appellant’s actual second ground which was that the judge had failed to apply country guidance relevant to the issue of obtaining documents for readmission and residence in iraq. however in the light of my decision that the judge’s credibility findings are sustainable it is also sustainable that the appellant can have the assistance of family members in iraq to obtain any replacement documents that are needed to facilitate his return to, and residence in iraq. notice of decision the judge’s decision did not involve the making of any material error of law. i do not set aside the decision. the appellant’s appeal is dismissed. signed date 20.11.19 5appeal number: pa/00240/2019 deputy upper tribunal judge o’ryan direction regarding anonymity – rule 14 of the tribunal procedure (upper tribunal) rules 2008 unless and until a tribunal or court directs otherwise, the appellant is granted anonymity. no report of these proceedings shall directly or indirectly identify him or any member of their family. this direction applies both to the appellant and to the respondent. failure to comply with this direction could lead to contempt of court proceedings. signed date 20.11.19 deputy upper tribunal judge o’ryan 6 upper tribunal (immigration and asylum chamber) appeal number: pa/05945/2018 the immigration acts heard at birmingham cjc on 5 th july 2019 decision & reasons promulgated on 19 th august 2019 before deputy upper tribunal judge juss between ha (anonymity direction made) appellant and the secretary of state for the home department respondent representation: for the appellant: mr j howard (solicitor) for the respondent: mr d mills (senior hopo) decision and reasons 1. this is an appeal against the determination of first-tier tribunal judge pacey, promulgated on 24 th june 2018, following a hearing at birmingham on 6 th june 2018. in the determination, the judge dismissed the appeal of the appellant, whereupon the appellant subsequently applied for, and was granted, permission to appeal to the upper tribunal, and thus the matter comes before me. the appellant © crown copyright 2019appeal number: pa/05945/2018 2. the appellant is a male, a citizen of iran, and was born on 22 nd july 1996. he appealed against the decision of the respondent dated 24 th april 2018 refusing his claim for asylum and humanitarian protection pursuant to paragraph 339c of hc 395. the appellant’s claim 3. the essence of the appellant’s claim is that he is a member of a particular social group, because he is a gay iranian man who would face persecution if returned, and additionally he is also an atheist, who would be ill-treated upon return as a non-religious person, which is forbidden in iran. the judge’s findings 4. the judge noted how the appellant in his screening interview has said that he held no religion and that he would be subject to persecution as a non- religious person if returned to iran. he made no mention at that stage that he was also a gay person. during his asylum interview, however, he stated that he was a danger also because he was a homosexual and feared the government given that homosexuality was punishable by death. he had not mentioned this at his screening interview because he did not know anything about the country he was coming to. the appellant had then explained how he had a boyfriend in the uk by the name of [fs], with whom he had been in relationship for about one and a half months. he also had three serious relationships which he went on to describe in evidence before the tribunal. the judge did not find the appellant to be credible because the appellant’s explanation that he had not mentioned his homosexuality during his screening interview, because he did not know the country he was coming to, was not plausible. as the judge explained, “if he did not know the uk approach to homosexuality ... he could not have known if the uk adopted as punitive an approach to gay people as did iran.... for all he knew he could have been travelling from the frying pan into the fire” (paragraph 68). 5. on the other hand, the judge observed that if the appellant was aware of the actual uk approach to homosexuality, “then there was no reason for him not to have mentioned his sexuality at the screening interview” (paragraph 69). 6. the judge was also not impressed by the witnesses before the tribunal. in short, the appellant’s claim was rejected wholesale. the appeal was dismissed. grounds of application 7. the grounds of application state that the judge had engaged in a material error of law in relation to the evidence of a miss [l] and that of mr [s] whose credibility had been wrongly impugned by the judge. there had been apparently a discrepancy between to the oral and the written 2appeal number: pa/05945/2018 evidence of miss [l], but this discrepancy had not been put to the witness, and if this was so then this was contrary to the rules of natural justice. 8. on 23 rd november 2018 permission to appeal was granted. submissions 9. at the hearing before me on 5 th july 2019, the appellant was represented by mr howard, who adopted the grounds of application. he submitted that if the judge was concerned about the discrepancy in the oral and written evidence of miss [l], then this should have been explored by the tribunal, because in her oral evidence, miss [l] had said that she had “not met [f]”, whereas in her written evidence she had said that “she also knew his previous partner, [f]” (paragraph 34). secondly, mr howard submitted that if one looks at the evidence of mr [s] (at page 14 of the appellant’s bundle). he makes it quite clear that he is the director of a voluntary organisation called persian lgbt advisory services, where it provides “voluntary social activities for lgbt asylum seekers”. he explains that the appellant had contacted him via facebook on 9 th june 2016. he invited the appellant to meet with him, and after a conversation he had come to the view that “i am aware the appellant is openly active on facebook page which i would refer to as an online activist where he shares information on lgbt community using his facebook page...”. on that basis that the judge was wrong to have impugned his credibility. 10. for his part, mr mills submitted that the issues that were before the judge, both in relation to the appellant’s atheism and his homosexual tendencies, were not new issues. if evidence was collected by the appellant between the asylum interview and the tribunal hearing, in a manner that the appellant himself chose to do, then he should have been prepared to deal with it on the basis of oral testimony. these were not new points. the witnesses were not people whose evidence had previously been accepted. both cases were simply black and white discrepancy cases where the judge was entitled to say that she would not attach any significant weight to such evidence, because as put before the tribunal, the evidence was not persuasive. no error of law 11. i am satisfied that the making of the decision by the judge did not involve the making of an error on a point of law (see section 12(1) of tcea 2007) such that i should set aside the decision. my reasons are as follows. first, it is simply not correct to say that the discrepancy in the oral and witness statement evidence of miss [l] was something that the judge should have probed herself with a view to ascertaining exactly what miss [l] knew about mr [f]. the judge noted that in her oral evidence miss [l] stated she was aware that the appellant had a relationship in the uk “but had not met [f]”. then the judge noted how in her witness statement, miss [l] had stated that she became friends with the appellant when she met him in calais at the “the jungle” in april 2016, and “when they became strong 3appeal number: pa/05945/2018 friends he told her of his fear of persecution and that he was an atheist. she also knew his previous partner, [f]” (paragraph 34). it was for the appellant’s representative to probe this matter further. as the evidence stood, the judge was entitled to conclude that “miss [l] has also been inconsistent in a written and oral account of whether she had met [f]” (paragraph 78). 12. second, as far as mr [s]’s evidence is concerned, i note that he is a director of the voluntary organisation called persian lgbt advisory services. he wrote in terms that he was “aware the appellant is openly active on facebook page”. he had stated that “i have acknowledged that the appellant has made a strong relationship with the wider lgbt communities ...”. he had further stated that “i have also seen that the appellant has participated openly at this year’s lgbt pride with christian lgbt parade ...”. he ended his statement by declaring that “based on information that has been provided by the appellant i can confirm that he is homosexual and would be subject of persecution...”. (see page 14 of the appellant’s bundle). the manner in which the judge dealt with this evidence was one which was entirely open to her to do. what the judge states is that she would “attach very little weight to mr [s]’s evidence” because “he said at the hearing that he had attended court since 2008 to support gay asylum seekers”. 13. nevertheless as the judge observed, “his support did not, on his own evidence, comprise independent verification of each appellant’s claim since he took the claim of each at face value, entirely taking their word for it without doing anything to verify their claim, in the way of what might be termed ‘due diligence’. while he may well be well-meaning, the uncritical nature of his support means it is of very little probative value” (paragraph 79). 14. there is nothing in this particular analysis of the judge’s detailed explanation that sits ill at ease with what the witness himself states in his statement of 4 th june 2018 (at page 14 of the appellant’s bundle) when he makes it clear that “i am aware” or that “i have acknowledged”. in any event, what the judge is referring to is actually what mr [s] himself said in his evidence where he makes it clear that as a director of the voluntary organisation he supports gay asylum seekers taking each claim at face value. accordingly, the decision of the judge in this particular case was clear, comprehensive, and well-reasoned and there is no error of law in it. decision 15. the decision of the first-tier tribunal did not involve the making of an error of law. the decision shall stand. 16. an anonymity order is made. 17. the appeal is dismissed. 4appeal number: pa/05945/2018 direction regarding anonymity – rule 14 of the tribunal procedure (upper tribunal) rules 2008 unless and until a tribunal or court directs otherwise, the appellant is granted anonymity. no report of these proceedings shall directly or indirectly identify him or any member of their family. this direction applies both to the appellant and to the respondent. failure to comply with this direction could lead to contempt of court proceedings. signed dated deputy upper tribunal judge juss 15 th august 2019 5'"
      ]
     },
     "execution_count": 30,
     "metadata": {},
     "output_type": "execute_result"
    }
   ],
   "source": [
    "text_clean"
   ]
  },
  {
   "cell_type": "markdown",
   "metadata": {},
   "source": [
    "### 5.3.2. Stop words "
   ]
  },
  {
   "cell_type": "code",
   "execution_count": 31,
   "metadata": {},
   "outputs": [
    {
     "name": "stderr",
     "output_type": "stream",
     "text": [
      "[nltk_data] Downloading package stopwords to\n",
      "[nltk_data]     /home/avaldivia/nltk_data...\n",
      "[nltk_data]   Package stopwords is already up-to-date!\n"
     ]
    }
   ],
   "source": [
    "# Remove stopwords\n",
    "from nltk.corpus import stopwords\n",
    "nltk.download('stopwords')\n",
    "stopwords = stopwords.words('english')"
   ]
  },
  {
   "cell_type": "code",
   "execution_count": 32,
   "metadata": {},
   "outputs": [],
   "source": [
    "text_clean = ' '.join(w for w in text_clean.split() if w not in stopwords)"
   ]
  },
  {
   "cell_type": "code",
   "execution_count": 33,
   "metadata": {},
   "outputs": [
    {
     "data": {
      "text/plain": [
       "'upper tribunal (immigration asylum chamber) appeal number: pa/00240/2019 immigration acts heard birmingham cjc decision & reasons promulgated 21 november 2019 8 november 2019 deputy upper tribunal judge o’ryan mr (anonymity direction made) appellant secretary state home department respondent representation: appellant: mr sharif, fountain solicitors respondent: mr mills, senior home office presenting officer decision reasons 1. appellant’s appeal decision judge first-tier tribunal boylan-kemp mbe dated 2 may 2019 dismissing appellant’s appeal respondent’s decision 23 november 2018 refusing human rights protection claim. © crown copyright 2019appeal number: pa/00240/2019 2. appellant national iraq kurdish origin sulamaniyah ikr. gave account risk serious harm ikr reason family extended tribe feud another tribe ikr. appellant able give many details origins feud stated one family member killed result experienced two incidents; one unknown persons fired upon car travelling cousin injured shoulder, another occasion house lived fired upon. 3. respondent decision refusing protection claim disbelieved appellant’s account feud grounds appellant knew details alleged feud. also said discrepancy appellant’s evidence interview many occasions appellant experienced problems (refusal letter, para [26]) discrepancy alleged fear father (resulting appellant refusing take part feud) information given age assessment interview stated good relationship family members (para [31]). 4. appellant appealed decision matter came judge birmingham hearing centre 18 march 2019. appellant represented gave evidence. date hearing appellant would 18 years age. document relied upon respondent hearing, eurodac search result, demonstrating person appellant’s identity fingerprinted dresden germany 22 march 2016. appellant’s account given sef interview confirmed oral evidence judge left iraq december 2017. appellant denied judge person identified eurodac search judge stated satisfied details contained within document, looking clear photograph eurodac match, person fingerprinted germany indeed appellant. 5. judge found paragraph 14 onwards follows: “16. evidence provided eurodac document unequivocal. photograph contained within document clearly appellant appeared reason doubt document relates him. therefore document upon satisfied place significant weight puts germany 22 march 2016. consequently find evidence undermines credibility entire account credibility witness cause renders entire account unreliable. 2appeal number: pa/00240/2019 17. also find inability recall details alleged feud caused leave family flee country also credible. young man leaving life behind reluctance become involved ongoing family feud would anticipate would knowledge fear find plausible would know details feud held genuine fear. also note even evidence specific risk threat made would cause fear safety beyond general tribal threat cannot provide much detail. ... 18. found appellant’s alleged reasoning leaving iraq credible also find plausible family consequently threatened claimed due alleged desertion alleged feud. instead find travelled uk assistance knowledge family reasons escaping risk persecution. find family would therefore able assist obtaining copy identification documents csid would help facilitate return iraq. also find would able return help support family there.” judge dismissed appellant’s appeal. 6. appellant appeals upper tribunal grounds dated 15 may 2019 argue briefly judge erred law paragraphs 15 20 giving inadequate reasoning finding appellant’s account credible secondly judge failed apply relevant country guidance. 7. permission appeal granted judge first-tier tribunal keane 24 june 2019. judge stated follows: “the judge arguably regard irrelevant considerations finding appellant given credible account events. judge’s findings credibility found paragraphs 15 18 inclusive decision. paragraph 15 judge attached weight undermine appellant’s credibility eurodac printout provided respondent judge found proved appellant photographed printed germany 22 march 2016. judge however explain circumstance damaged appellant’s credibility. judge mind appellant’s apparent failure claim asylum germany judge arguably stated so. paragraph 16 decision judge accorded weight eurodac document without stating why. paragraph 17 decision 3appeal number: pa/00240/2019 judge stated judge would anticipated appellant would knowledge alleged feud case caused leave family indeed country. judge arguably substituted understanding constituted reasonable conduct circumstances arguably done so. paragraph 18 judge stated plausible appellant’s family consequently threatened account ostensible desertion judge arguably disbelieving appellant’s account without providing adequate reasons. incumbent judge resolving issue credibility embark upon global assessment appellant’s credibility provide adequate reasons support finding done so. judge arguably failed do.” submissions 8. mr sharif relies upon grounds appeal admittedly extensive grant permission appeal support appellant’s case. 9. mr sharif points date given appellant’s account particular incident relation incident car appellant travelling shot at. date found sef interview [86] simply ‘2016’. appellant gives dates matters relies upon support proposition risk blood feud iraq. however consistently state left iraq december 2017. mr sharif argues appellant accepted course evidence travelled germany therefore evidence eurodac search confirming alter credibility appellant’s account. mr sharif also argued judge’s findings relation incredible appellant would knowledge details feud irrational finding part judge. 10. part mr mills defends judge’s decision argues dishonest statement appellant remained december 2017 clearly capable affecting credibility appellant’s account. raised whether discrepancy could treated determinative account given dates given appellant’s account matters occurring iraq later 22 march 2016. mr mills appeared accept right say appellant’s credibility determinatively decided discrepancy whereabouts march 2016. however mr mills points findings paragraph 17 support judge’s reasoning. discussion 11. find material error law judge’s decision. suggestion grant permission appeal judge keane judge 4appeal number: pa/00240/2019 arguably regard irrelevant considerations difficult sustain. appellant clearly given inconsistent evidence whereabouts, one part insisting remained iraq december 2017 incontrovertible evidence existing eurodac search result present germany 22 march 2016. two items evidence simply cannot sit together. true details appellant’s account incidents set dated later 22 march 2016, therefore shot ‘2016’ departing iraq prior 22 march 2016 necessarily make account impossible believe, clearly significant matter appellant lied continued presence iraq point december 2017 judge fully entitled treat significant matter. whether entitled treat rendering ‘his entire account unreliable’ moot. 12. however judge stop credibility findings continues, clear paragraph 17, set reasons finding appellant’s account incredible. whereas may expected young person may fully informed details feud affecting family wider tribe might fully-grown adult, judge’s point appellant decided, together assistance relative, leave iraq feud judge entitled find implausible appellant knew little feud whereas specific cause decision leave country. find irrational judge make findings paragraph 17. number reasons therefore given judge finding appellant’s account incredible find none reasons vitiated error law. 13. judge keane granting permission comment upon appellant’s actual second ground judge failed apply country guidance relevant issue obtaining documents readmission residence iraq. however light decision judge’s credibility findings sustainable also sustainable appellant assistance family members iraq obtain replacement documents needed facilitate return to, residence iraq. notice decision judge’s decision involve making material error law. set aside decision. appellant’s appeal dismissed. signed date 20.11.19 5appeal number: pa/00240/2019 deputy upper tribunal judge o’ryan direction regarding anonymity – rule 14 tribunal procedure (upper tribunal) rules 2008 unless tribunal court directs otherwise, appellant granted anonymity. report proceedings shall directly indirectly identify member family. direction applies appellant respondent. failure comply direction could lead contempt court proceedings. signed date 20.11.19 deputy upper tribunal judge o’ryan 6 upper tribunal (immigration asylum chamber) appeal number: pa/05945/2018 immigration acts heard birmingham cjc 5 th july 2019 decision & reasons promulgated 19 th august 2019 deputy upper tribunal judge juss ha (anonymity direction made) appellant secretary state home department respondent representation: appellant: mr j howard (solicitor) respondent: mr mills (senior hopo) decision reasons 1. appeal determination first-tier tribunal judge pacey, promulgated 24 th june 2018, following hearing birmingham 6 th june 2018. determination, judge dismissed appeal appellant, whereupon appellant subsequently applied for, granted, permission appeal upper tribunal, thus matter comes me. appellant © crown copyright 2019appeal number: pa/05945/2018 2. appellant male, citizen iran, born 22 nd july 1996. appealed decision respondent dated 24 th april 2018 refusing claim asylum humanitarian protection pursuant paragraph 339c hc 395. appellant’s claim 3. essence appellant’s claim member particular social group, gay iranian man would face persecution returned, additionally also atheist, would ill-treated upon return non-religious person, forbidden iran. judge’s findings 4. judge noted appellant screening interview said held religion would subject persecution non- religious person returned iran. made mention stage also gay person. asylum interview, however, stated danger also homosexual feared government given homosexuality punishable death. mentioned screening interview know anything country coming to. appellant explained boyfriend uk name [fs], relationship one half months. also three serious relationships went describe evidence tribunal. judge find appellant credible appellant’s explanation mentioned homosexuality screening interview, know country coming to, plausible. judge explained, “if know uk approach homosexuality ... could known uk adopted punitive approach gay people iran.... knew could travelling frying pan fire” (paragraph 68). 5. hand, judge observed appellant aware actual uk approach homosexuality, “then reason mentioned sexuality screening interview” (paragraph 69). 6. judge also impressed witnesses tribunal. short, appellant’s claim rejected wholesale. appeal dismissed. grounds application 7. grounds application state judge engaged material error law relation evidence miss [l] mr [s] whose credibility wrongly impugned judge. apparently discrepancy oral written 2appeal number: pa/05945/2018 evidence miss [l], discrepancy put witness, contrary rules natural justice. 8. 23 rd november 2018 permission appeal granted. submissions 9. hearing 5 th july 2019, appellant represented mr howard, adopted grounds application. submitted judge concerned discrepancy oral written evidence miss [l], explored tribunal, oral evidence, miss [l] said “not met [f]”, whereas written evidence said “she also knew previous partner, [f]” (paragraph 34). secondly, mr howard submitted one looks evidence mr [s] (at page 14 appellant’s bundle). makes quite clear director voluntary organisation called persian lgbt advisory services, provides “voluntary social activities lgbt asylum seekers”. explains appellant contacted via facebook 9 th june 2016. invited appellant meet him, conversation come view “i aware appellant openly active facebook page would refer online activist shares information lgbt community using facebook page...”. basis judge wrong impugned credibility. 10. part, mr mills submitted issues judge, relation appellant’s atheism homosexual tendencies, new issues. evidence collected appellant asylum interview tribunal hearing, manner appellant chose do, prepared deal basis oral testimony. new points. witnesses people whose evidence previously accepted. cases simply black white discrepancy cases judge entitled say would attach significant weight evidence, put tribunal, evidence persuasive. error law 11. satisfied making decision judge involve making error point law (see section 12(1) tcea 2007) set aside decision. reasons follows. first, simply correct say discrepancy oral witness statement evidence miss [l] something judge probed view ascertaining exactly miss [l] knew mr [f]. judge noted oral evidence miss [l] stated aware appellant relationship uk “but met [f]”. judge noted witness statement, miss [l] stated became friends appellant met calais “the jungle” april 2016, “when became strong 3appeal number: pa/05945/2018 friends told fear persecution atheist. also knew previous partner, [f]” (paragraph 34). appellant’s representative probe matter further. evidence stood, judge entitled conclude “miss [l] also inconsistent written oral account whether met [f]” (paragraph 78). 12. second, far mr [s]’s evidence concerned, note director voluntary organisation called persian lgbt advisory services. wrote terms “aware appellant openly active facebook page”. stated “i acknowledged appellant made strong relationship wider lgbt communities ...”. stated “i also seen appellant participated openly year’s lgbt pride christian lgbt parade ...”. ended statement declaring “based information provided appellant confirm homosexual would subject persecution...”. (see page 14 appellant’s bundle). manner judge dealt evidence one entirely open do. judge states would “attach little weight mr [s]’s evidence” “he said hearing attended court since 2008 support gay asylum seekers”. 13. nevertheless judge observed, “his support not, evidence, comprise independent verification appellant’s claim since took claim face value, entirely taking word without anything verify claim, way might termed ‘due diligence’. may well well-meaning, uncritical nature support means little probative value” (paragraph 79). 14. nothing particular analysis judge’s detailed explanation sits ill ease witness states statement 4 th june 2018 (at page 14 appellant’s bundle) makes clear “i aware” “i acknowledged”. event, judge referring actually mr [s] said evidence makes clear director voluntary organisation supports gay asylum seekers taking claim face value. accordingly, decision judge particular case clear, comprehensive, well-reasoned error law it. decision 15. decision first-tier tribunal involve making error law. decision shall stand. 16. anonymity order made. 17. appeal dismissed. 4appeal number: pa/05945/2018 direction regarding anonymity – rule 14 tribunal procedure (upper tribunal) rules 2008 unless tribunal court directs otherwise, appellant granted anonymity. report proceedings shall directly indirectly identify member family. direction applies appellant respondent. failure comply direction could lead contempt court proceedings. signed dated deputy upper tribunal judge juss 15 th august 2019 5'"
      ]
     },
     "execution_count": 33,
     "metadata": {},
     "output_type": "execute_result"
    }
   ],
   "source": [
    "text_clean"
   ]
  },
  {
   "cell_type": "markdown",
   "metadata": {},
   "source": [
    "### 5.3.3. Lemmatization"
   ]
  },
  {
   "cell_type": "code",
   "execution_count": 34,
   "metadata": {},
   "outputs": [],
   "source": [
    "# Remove puncutaction symbols\n",
    "import spacy\n",
    "nlp = spacy.load('en_core_web_sm') \n",
    "\n",
    "text_clean = [[token.lemma_ for token in sentence] for sentence in nlp(text_clean).sents]"
   ]
  },
  {
   "cell_type": "code",
   "execution_count": 35,
   "metadata": {},
   "outputs": [
    {
     "data": {
      "text/plain": [
       "['upper',\n",
       " 'tribunal',\n",
       " '(',\n",
       " 'immigration',\n",
       " 'asylum',\n",
       " 'chamber',\n",
       " ')',\n",
       " 'appeal',\n",
       " 'number',\n",
       " ':',\n",
       " 'pa/00240/2019',\n",
       " 'immigration',\n",
       " 'act',\n",
       " 'hear',\n",
       " 'birmingham',\n",
       " 'cjc',\n",
       " 'decision',\n",
       " '&',\n",
       " 'reason',\n",
       " 'promulgate',\n",
       " '21',\n",
       " 'november',\n",
       " '2019',\n",
       " '8',\n",
       " 'november',\n",
       " '2019',\n",
       " 'deputy',\n",
       " 'upper',\n",
       " 'tribunal',\n",
       " 'judge',\n",
       " 'o’ryan',\n",
       " 'mr',\n",
       " '(',\n",
       " 'anonymity',\n",
       " 'direction',\n",
       " 'make',\n",
       " ')',\n",
       " 'appellant',\n",
       " 'secretary',\n",
       " 'state',\n",
       " 'home',\n",
       " 'department',\n",
       " 'respondent',\n",
       " 'representation',\n",
       " ':',\n",
       " 'appellant',\n",
       " ':',\n",
       " 'mr',\n",
       " 'sharif',\n",
       " ',',\n",
       " 'fountain',\n",
       " 'solicitor',\n",
       " 'respondent',\n",
       " ':',\n",
       " 'mr',\n",
       " 'mills',\n",
       " ',',\n",
       " 'senior',\n",
       " 'home',\n",
       " 'office',\n",
       " 'present',\n",
       " 'officer',\n",
       " 'decision',\n",
       " 'reason',\n",
       " '1',\n",
       " '.',\n",
       " 'appellant',\n",
       " '’s',\n",
       " 'appeal',\n",
       " 'decision',\n",
       " 'judge',\n",
       " 'first',\n",
       " '-',\n",
       " 'tier',\n",
       " 'tribunal',\n",
       " 'boylan',\n",
       " '-',\n",
       " 'kemp',\n",
       " 'mbe',\n",
       " 'date',\n",
       " '2',\n",
       " 'may',\n",
       " '2019',\n",
       " 'dismiss',\n",
       " 'appellant',\n",
       " '’s',\n",
       " 'appeal',\n",
       " 'respondent',\n",
       " '’s',\n",
       " 'decision',\n",
       " '23',\n",
       " 'november',\n",
       " '2018',\n",
       " 'refuse',\n",
       " 'human',\n",
       " 'right',\n",
       " 'protection',\n",
       " 'claim',\n",
       " '.',\n",
       " '©',\n",
       " 'crown',\n",
       " 'copyright',\n",
       " '2019appeal',\n",
       " 'number',\n",
       " ':',\n",
       " 'pa/00240/2019',\n",
       " '2',\n",
       " '.',\n",
       " 'appellant',\n",
       " 'national',\n",
       " 'iraq',\n",
       " 'kurdish',\n",
       " 'origin',\n",
       " 'sulamaniyah',\n",
       " 'ikr',\n",
       " '.',\n",
       " 'give',\n",
       " 'account',\n",
       " 'risk',\n",
       " 'serious',\n",
       " 'harm',\n",
       " 'ikr',\n",
       " 'reason',\n",
       " 'family',\n",
       " 'extend',\n",
       " 'tribe',\n",
       " 'feud',\n",
       " 'another',\n",
       " 'tribe',\n",
       " 'ikr',\n",
       " '.',\n",
       " 'appellant',\n",
       " 'able',\n",
       " 'give',\n",
       " 'many',\n",
       " 'detail',\n",
       " 'origin',\n",
       " 'feud',\n",
       " 'state',\n",
       " 'one',\n",
       " 'family',\n",
       " 'member',\n",
       " 'kill',\n",
       " 'result',\n",
       " 'experience',\n",
       " 'two',\n",
       " 'incident',\n",
       " ';',\n",
       " 'one',\n",
       " 'unknown',\n",
       " 'person',\n",
       " 'fire',\n",
       " 'upon',\n",
       " 'car',\n",
       " 'travel',\n",
       " 'cousin',\n",
       " 'injure',\n",
       " 'shoulder',\n",
       " ',',\n",
       " 'another',\n",
       " 'occasion',\n",
       " 'house',\n",
       " 'live',\n",
       " 'fire',\n",
       " 'upon',\n",
       " '.',\n",
       " '3',\n",
       " '.',\n",
       " 'respondent',\n",
       " 'decision',\n",
       " 'refusing',\n",
       " 'protection',\n",
       " 'claim',\n",
       " 'disbelieve',\n",
       " 'appellant',\n",
       " '’s',\n",
       " 'account',\n",
       " 'feud',\n",
       " 'ground',\n",
       " 'appellant',\n",
       " 'know',\n",
       " 'detail',\n",
       " 'allege',\n",
       " 'feud',\n",
       " '.',\n",
       " 'also',\n",
       " 'say',\n",
       " 'discrepancy',\n",
       " 'appellant',\n",
       " '’s',\n",
       " 'evidence',\n",
       " 'interview',\n",
       " 'many',\n",
       " 'occasion',\n",
       " 'appellant',\n",
       " 'experience',\n",
       " 'problem',\n",
       " '(',\n",
       " 'refusal',\n",
       " 'letter',\n",
       " ',',\n",
       " 'para',\n",
       " '[',\n",
       " '26',\n",
       " ']',\n",
       " ')',\n",
       " 'discrepancy',\n",
       " 'allege',\n",
       " 'fear',\n",
       " 'father',\n",
       " '(',\n",
       " 'result',\n",
       " 'appellant',\n",
       " 'refuse',\n",
       " 'take',\n",
       " 'part',\n",
       " 'feud',\n",
       " ')',\n",
       " 'information',\n",
       " 'give',\n",
       " 'age',\n",
       " 'assessment',\n",
       " 'interview',\n",
       " 'state',\n",
       " 'good',\n",
       " 'relationship',\n",
       " 'family',\n",
       " 'member',\n",
       " '(',\n",
       " 'para',\n",
       " '[',\n",
       " '31',\n",
       " ']',\n",
       " ')',\n",
       " '.',\n",
       " '4',\n",
       " '.',\n",
       " 'appellant',\n",
       " 'appeal',\n",
       " 'decision',\n",
       " 'matter',\n",
       " 'come',\n",
       " 'judge',\n",
       " 'birmingham',\n",
       " 'hear',\n",
       " 'centre',\n",
       " '18',\n",
       " 'march',\n",
       " '2019',\n",
       " '.',\n",
       " 'appellant',\n",
       " 'represent',\n",
       " 'give',\n",
       " 'evidence',\n",
       " '.',\n",
       " 'date',\n",
       " 'hearing',\n",
       " 'appellant',\n",
       " 'would',\n",
       " '18',\n",
       " 'year',\n",
       " 'age',\n",
       " '.',\n",
       " 'document',\n",
       " 'rely',\n",
       " 'upon',\n",
       " 'respondent',\n",
       " 'hearing',\n",
       " ',',\n",
       " 'eurodac',\n",
       " 'search',\n",
       " 'result',\n",
       " ',',\n",
       " 'demonstrate',\n",
       " 'person',\n",
       " 'appellant',\n",
       " '’s',\n",
       " 'identity',\n",
       " 'fingerprint',\n",
       " 'dresden',\n",
       " 'germany',\n",
       " '22',\n",
       " 'march',\n",
       " '2016',\n",
       " '.',\n",
       " 'appellant',\n",
       " '’s',\n",
       " 'account',\n",
       " 'give',\n",
       " 'sef',\n",
       " 'interview',\n",
       " 'confirm',\n",
       " 'oral',\n",
       " 'evidence',\n",
       " 'judge',\n",
       " 'leave',\n",
       " 'iraq',\n",
       " 'december',\n",
       " '2017',\n",
       " '.',\n",
       " 'appellant',\n",
       " 'deny',\n",
       " 'judge',\n",
       " 'person',\n",
       " 'identify',\n",
       " 'eurodac',\n",
       " 'search',\n",
       " 'judge',\n",
       " 'state',\n",
       " 'satisfied',\n",
       " 'detail',\n",
       " 'contain',\n",
       " 'within',\n",
       " 'document',\n",
       " ',',\n",
       " 'look',\n",
       " 'clear',\n",
       " 'photograph',\n",
       " 'eurodac',\n",
       " 'match',\n",
       " ',',\n",
       " 'person',\n",
       " 'fingerprint',\n",
       " 'germany',\n",
       " 'indeed',\n",
       " 'appellant',\n",
       " '.',\n",
       " '5',\n",
       " '.',\n",
       " 'judge',\n",
       " 'find',\n",
       " 'paragraph',\n",
       " '14',\n",
       " 'onwards',\n",
       " 'follow',\n",
       " ':',\n",
       " '\"',\n",
       " '16',\n",
       " '.',\n",
       " 'evidence',\n",
       " 'provide',\n",
       " 'eurodac',\n",
       " 'document',\n",
       " 'unequivocal',\n",
       " '.',\n",
       " 'photograph',\n",
       " 'contain',\n",
       " 'within',\n",
       " 'document',\n",
       " 'clearly',\n",
       " 'appellant',\n",
       " 'appear',\n",
       " 'reason',\n",
       " 'doubt',\n",
       " 'document',\n",
       " 'relate',\n",
       " '-PRON-',\n",
       " '.',\n",
       " 'therefore',\n",
       " 'document',\n",
       " 'upon',\n",
       " 'satisfied',\n",
       " 'place',\n",
       " 'significant',\n",
       " 'weight',\n",
       " 'put',\n",
       " 'germany',\n",
       " '22',\n",
       " 'march',\n",
       " '2016',\n",
       " '.',\n",
       " 'consequently',\n",
       " 'find',\n",
       " 'evidence',\n",
       " 'undermine',\n",
       " 'credibility',\n",
       " 'entire',\n",
       " 'account',\n",
       " 'credibility',\n",
       " 'witness',\n",
       " 'cause',\n",
       " 'render',\n",
       " 'entire',\n",
       " 'account',\n",
       " 'unreliable',\n",
       " '.',\n",
       " '2appeal',\n",
       " 'number',\n",
       " ':',\n",
       " 'pa/00240/2019',\n",
       " '17',\n",
       " '.',\n",
       " 'also',\n",
       " 'find',\n",
       " 'inability',\n",
       " 'recall',\n",
       " 'detail',\n",
       " 'allege',\n",
       " 'feud',\n",
       " 'cause',\n",
       " 'leave',\n",
       " 'family',\n",
       " 'flee',\n",
       " 'country',\n",
       " 'also',\n",
       " 'credible',\n",
       " '.',\n",
       " 'young',\n",
       " 'man',\n",
       " 'leave',\n",
       " 'life',\n",
       " 'behind',\n",
       " 'reluctance',\n",
       " 'become',\n",
       " 'involve',\n",
       " 'ongoing',\n",
       " 'family',\n",
       " 'feud',\n",
       " 'would',\n",
       " 'anticipate',\n",
       " 'would',\n",
       " 'knowledge',\n",
       " 'fear',\n",
       " 'find',\n",
       " 'plausible',\n",
       " 'would',\n",
       " 'know',\n",
       " 'detail',\n",
       " 'feud',\n",
       " 'hold',\n",
       " 'genuine',\n",
       " 'fear',\n",
       " '.',\n",
       " 'also',\n",
       " 'note',\n",
       " 'even',\n",
       " 'evidence',\n",
       " 'specific',\n",
       " 'risk',\n",
       " 'threat',\n",
       " 'make',\n",
       " 'would',\n",
       " 'cause',\n",
       " 'fear',\n",
       " 'safety',\n",
       " 'beyond',\n",
       " 'general',\n",
       " 'tribal',\n",
       " 'threat',\n",
       " 'can',\n",
       " 'not',\n",
       " 'provide',\n",
       " 'much',\n",
       " 'detail',\n",
       " '.',\n",
       " '...',\n",
       " '18',\n",
       " '.',\n",
       " 'find',\n",
       " 'appellant',\n",
       " '’s',\n",
       " 'alleged',\n",
       " 'reasoning',\n",
       " 'leave',\n",
       " 'iraq',\n",
       " 'credible',\n",
       " 'also',\n",
       " 'find',\n",
       " 'plausible',\n",
       " 'family',\n",
       " 'consequently',\n",
       " 'threaten',\n",
       " 'claim',\n",
       " 'due',\n",
       " 'alleged',\n",
       " 'desertion',\n",
       " 'allege',\n",
       " 'feud',\n",
       " '.',\n",
       " 'instead',\n",
       " 'find',\n",
       " 'travel',\n",
       " 'uk',\n",
       " 'assistance',\n",
       " 'knowledge',\n",
       " 'family',\n",
       " 'reason',\n",
       " 'escape',\n",
       " 'risk',\n",
       " 'persecution',\n",
       " '.',\n",
       " 'find',\n",
       " 'family',\n",
       " 'would',\n",
       " 'therefore',\n",
       " 'able',\n",
       " 'assist',\n",
       " 'obtain',\n",
       " 'copy',\n",
       " 'identification',\n",
       " 'document',\n",
       " 'csid',\n",
       " 'would',\n",
       " 'help',\n",
       " 'facilitate',\n",
       " 'return',\n",
       " 'iraq',\n",
       " '.',\n",
       " 'also',\n",
       " 'find',\n",
       " 'would',\n",
       " 'able',\n",
       " 'return',\n",
       " 'help',\n",
       " 'support',\n",
       " 'family',\n",
       " 'there',\n",
       " '.',\n",
       " '\"',\n",
       " 'judge',\n",
       " 'dismiss',\n",
       " 'appellant',\n",
       " '’s',\n",
       " 'appeal',\n",
       " '.',\n",
       " '6',\n",
       " '.',\n",
       " 'appellant',\n",
       " 'appeal',\n",
       " 'upper',\n",
       " 'tribunal',\n",
       " 'ground',\n",
       " 'date',\n",
       " '15',\n",
       " 'may',\n",
       " '2019',\n",
       " 'argue',\n",
       " 'briefly',\n",
       " 'judge',\n",
       " 'erred',\n",
       " 'law',\n",
       " 'paragraph',\n",
       " '15',\n",
       " '20',\n",
       " 'give',\n",
       " 'inadequate',\n",
       " 'reasoning',\n",
       " 'finding',\n",
       " 'appellant',\n",
       " '’s',\n",
       " 'account',\n",
       " 'credible',\n",
       " 'secondly',\n",
       " 'judge',\n",
       " 'fail',\n",
       " 'apply',\n",
       " 'relevant',\n",
       " 'country',\n",
       " 'guidance',\n",
       " '.',\n",
       " '7',\n",
       " '.',\n",
       " 'permission',\n",
       " 'appeal',\n",
       " 'grant',\n",
       " 'judge',\n",
       " 'first',\n",
       " '-',\n",
       " 'tier',\n",
       " 'tribunal',\n",
       " 'keane',\n",
       " '24',\n",
       " 'june',\n",
       " '2019',\n",
       " '.',\n",
       " 'judge',\n",
       " 'state',\n",
       " 'follow',\n",
       " ':',\n",
       " '\"',\n",
       " 'the',\n",
       " 'judge',\n",
       " 'arguably',\n",
       " 'regard',\n",
       " 'irrelevant',\n",
       " 'consideration',\n",
       " 'find',\n",
       " 'appellant',\n",
       " 'give',\n",
       " 'credible',\n",
       " 'account',\n",
       " 'event',\n",
       " '.',\n",
       " 'judge',\n",
       " '’s',\n",
       " 'finding',\n",
       " 'credibility',\n",
       " 'find',\n",
       " 'paragraph',\n",
       " '15',\n",
       " '18',\n",
       " 'inclusive',\n",
       " 'decision',\n",
       " '.',\n",
       " 'paragraph',\n",
       " '15',\n",
       " 'judge',\n",
       " 'attach',\n",
       " 'weight',\n",
       " 'undermine',\n",
       " 'appellant',\n",
       " '’s',\n",
       " 'credibility',\n",
       " 'eurodac',\n",
       " 'printout',\n",
       " 'provide',\n",
       " 'respondent',\n",
       " 'judge',\n",
       " 'find',\n",
       " 'prove',\n",
       " 'appellant',\n",
       " 'photographed',\n",
       " 'print',\n",
       " 'germany',\n",
       " '22',\n",
       " 'march',\n",
       " '2016',\n",
       " '.',\n",
       " 'judge',\n",
       " 'however',\n",
       " 'explain',\n",
       " 'circumstance',\n",
       " 'damage',\n",
       " 'appellant',\n",
       " '’s',\n",
       " 'credibility',\n",
       " '.',\n",
       " 'judge',\n",
       " 'mind',\n",
       " 'appellant',\n",
       " '’s',\n",
       " 'apparent',\n",
       " 'failure',\n",
       " 'claim',\n",
       " 'asylum',\n",
       " 'germany',\n",
       " 'judge',\n",
       " 'arguably',\n",
       " 'state',\n",
       " 'so',\n",
       " '.',\n",
       " 'paragraph',\n",
       " '16',\n",
       " 'decision',\n",
       " 'judge',\n",
       " 'accord',\n",
       " 'weight',\n",
       " 'eurodac',\n",
       " 'document',\n",
       " 'without',\n",
       " 'state',\n",
       " 'why',\n",
       " '.',\n",
       " 'paragraph',\n",
       " '17',\n",
       " 'decision',\n",
       " '3appeal',\n",
       " 'number',\n",
       " ':',\n",
       " 'pa/00240/2019',\n",
       " 'judge',\n",
       " 'state',\n",
       " 'judge',\n",
       " 'would',\n",
       " 'anticipate',\n",
       " 'appellant',\n",
       " 'would',\n",
       " 'knowledge',\n",
       " 'alleged',\n",
       " 'feud',\n",
       " 'case',\n",
       " 'cause',\n",
       " 'leave',\n",
       " 'family',\n",
       " 'indeed',\n",
       " 'country',\n",
       " '.',\n",
       " 'judge',\n",
       " 'arguably',\n",
       " 'substitute',\n",
       " 'understanding',\n",
       " 'constitute',\n",
       " 'reasonable',\n",
       " 'conduct',\n",
       " 'circumstance',\n",
       " 'arguably',\n",
       " 'do',\n",
       " 'so',\n",
       " '.',\n",
       " 'paragraph',\n",
       " '18',\n",
       " 'judge',\n",
       " 'state',\n",
       " 'plausible',\n",
       " 'appellant',\n",
       " '’s',\n",
       " 'family',\n",
       " 'consequently',\n",
       " 'threaten',\n",
       " 'account',\n",
       " 'ostensible',\n",
       " 'desertion',\n",
       " 'judge',\n",
       " 'arguably',\n",
       " 'disbelieve',\n",
       " 'appellant',\n",
       " '’s',\n",
       " 'account',\n",
       " 'without',\n",
       " 'provide',\n",
       " 'adequate',\n",
       " 'reason',\n",
       " '.',\n",
       " 'incumbent',\n",
       " 'judge',\n",
       " 'resolve',\n",
       " 'issue',\n",
       " 'credibility',\n",
       " 'embark',\n",
       " 'upon',\n",
       " 'global',\n",
       " 'assessment',\n",
       " 'appellant',\n",
       " '’s',\n",
       " 'credibility',\n",
       " 'provide',\n",
       " 'adequate',\n",
       " 'reason',\n",
       " 'support',\n",
       " 'find',\n",
       " 'do',\n",
       " 'so',\n",
       " '.',\n",
       " 'judge',\n",
       " 'arguably',\n",
       " 'fail',\n",
       " 'do',\n",
       " '.',\n",
       " '\"',\n",
       " 'submission',\n",
       " '8',\n",
       " '.',\n",
       " 'mr',\n",
       " 'sharif',\n",
       " 'rely',\n",
       " 'upon',\n",
       " 'ground',\n",
       " 'appeal',\n",
       " 'admittedly',\n",
       " 'extensive',\n",
       " 'grant',\n",
       " 'permission',\n",
       " 'appeal',\n",
       " 'support',\n",
       " 'appellant',\n",
       " '’s',\n",
       " 'case',\n",
       " '.',\n",
       " '9',\n",
       " '.',\n",
       " 'mr',\n",
       " 'sharif',\n",
       " 'points',\n",
       " 'date',\n",
       " 'give',\n",
       " 'appellant',\n",
       " '’s',\n",
       " 'account',\n",
       " 'particular',\n",
       " 'incident',\n",
       " 'relation',\n",
       " 'incident',\n",
       " 'car',\n",
       " 'appellant',\n",
       " 'travel',\n",
       " 'shoot',\n",
       " 'at',\n",
       " '.',\n",
       " 'date',\n",
       " 'find',\n",
       " 'sef',\n",
       " 'interview',\n",
       " '[',\n",
       " '86',\n",
       " ']',\n",
       " 'simply',\n",
       " \"'\",\n",
       " '2016',\n",
       " \"'\",\n",
       " '.',\n",
       " 'appellant',\n",
       " 'give',\n",
       " 'date',\n",
       " 'matter',\n",
       " 'rely',\n",
       " 'upon',\n",
       " 'support',\n",
       " 'proposition',\n",
       " 'risk',\n",
       " 'blood',\n",
       " 'feud',\n",
       " 'iraq',\n",
       " '.',\n",
       " 'however',\n",
       " 'consistently',\n",
       " 'state',\n",
       " 'leave',\n",
       " 'iraq',\n",
       " 'december',\n",
       " '2017',\n",
       " '.',\n",
       " 'mr',\n",
       " 'sharif',\n",
       " 'argue',\n",
       " 'appellant',\n",
       " 'accept',\n",
       " 'course',\n",
       " 'evidence',\n",
       " 'travel',\n",
       " 'germany',\n",
       " 'therefore',\n",
       " 'evidence',\n",
       " 'eurodac',\n",
       " 'search',\n",
       " 'confirm',\n",
       " 'alter',\n",
       " 'credibility',\n",
       " 'appellant',\n",
       " '’s',\n",
       " 'account',\n",
       " '.',\n",
       " 'mr',\n",
       " 'sharif',\n",
       " 'also',\n",
       " 'argue',\n",
       " 'judge',\n",
       " '’s',\n",
       " 'finding',\n",
       " 'relation',\n",
       " 'incredible',\n",
       " 'appellant',\n",
       " 'would',\n",
       " 'knowledge',\n",
       " 'detail',\n",
       " 'feud',\n",
       " 'irrational',\n",
       " 'find',\n",
       " 'part',\n",
       " 'judge',\n",
       " '.',\n",
       " '10',\n",
       " '.',\n",
       " 'part',\n",
       " 'mr',\n",
       " 'mills',\n",
       " 'defend',\n",
       " 'judge',\n",
       " '’s',\n",
       " 'decision',\n",
       " 'argue',\n",
       " 'dishonest',\n",
       " 'statement',\n",
       " 'appellant',\n",
       " 'remain',\n",
       " 'december',\n",
       " '2017',\n",
       " 'clearly',\n",
       " 'capable',\n",
       " 'affect',\n",
       " 'credibility',\n",
       " 'appellant',\n",
       " '’s',\n",
       " 'account',\n",
       " '.',\n",
       " 'raise',\n",
       " 'whether',\n",
       " 'discrepancy',\n",
       " 'could',\n",
       " 'treat',\n",
       " 'determinative',\n",
       " 'account',\n",
       " 'give',\n",
       " 'date',\n",
       " 'give',\n",
       " 'appellant',\n",
       " '’s',\n",
       " 'account',\n",
       " 'matter',\n",
       " 'occur',\n",
       " 'iraq',\n",
       " 'later',\n",
       " '22',\n",
       " 'march',\n",
       " '2016',\n",
       " '.',\n",
       " 'mr',\n",
       " 'mills',\n",
       " 'appear',\n",
       " 'accept',\n",
       " 'right',\n",
       " 'say',\n",
       " 'appellant',\n",
       " '’s',\n",
       " 'credibility',\n",
       " 'determinatively',\n",
       " 'decide',\n",
       " 'discrepancy',\n",
       " 'whereabouts',\n",
       " 'march',\n",
       " '2016',\n",
       " '.',\n",
       " 'however',\n",
       " 'mr',\n",
       " 'mills',\n",
       " 'points',\n",
       " 'finding',\n",
       " 'paragraph',\n",
       " '17',\n",
       " 'support',\n",
       " 'judge',\n",
       " '’s',\n",
       " 'reasoning',\n",
       " '.',\n",
       " 'discussion',\n",
       " '11',\n",
       " '.',\n",
       " 'find',\n",
       " 'material',\n",
       " 'error',\n",
       " 'law',\n",
       " 'judge',\n",
       " '’s',\n",
       " 'decision',\n",
       " '.',\n",
       " 'suggestion',\n",
       " 'grant',\n",
       " 'permission',\n",
       " 'appeal',\n",
       " 'judge',\n",
       " 'keane',\n",
       " 'judge',\n",
       " '4appeal',\n",
       " 'number',\n",
       " ':',\n",
       " 'pa/00240/2019',\n",
       " 'arguably',\n",
       " 'regard',\n",
       " 'irrelevant',\n",
       " 'consideration',\n",
       " 'difficult',\n",
       " 'sustain',\n",
       " '.',\n",
       " 'appellant',\n",
       " 'clearly',\n",
       " 'give',\n",
       " 'inconsistent',\n",
       " 'evidence',\n",
       " 'whereabouts',\n",
       " ',',\n",
       " 'one',\n",
       " 'part',\n",
       " 'insist',\n",
       " 'remain',\n",
       " 'iraq',\n",
       " 'december',\n",
       " '2017',\n",
       " 'incontrovertible',\n",
       " 'evidence',\n",
       " 'exist',\n",
       " 'eurodac',\n",
       " 'search',\n",
       " 'result',\n",
       " 'present',\n",
       " 'germany',\n",
       " '22',\n",
       " 'march',\n",
       " '2016',\n",
       " '.',\n",
       " 'two',\n",
       " 'item',\n",
       " 'evidence',\n",
       " 'simply',\n",
       " 'can',\n",
       " 'not',\n",
       " 'sit',\n",
       " 'together',\n",
       " '.',\n",
       " 'true',\n",
       " 'detail',\n",
       " 'appellant',\n",
       " ...]"
      ]
     },
     "execution_count": 35,
     "metadata": {},
     "output_type": "execute_result"
    }
   ],
   "source": [
    "text_clean_flat = [word for sent in text_clean for word in sent]\n",
    "text_clean_flat"
   ]
  },
  {
   "cell_type": "markdown",
   "metadata": {},
   "source": [
    "### 5.3.4. Count words"
   ]
  },
  {
   "cell_type": "code",
   "execution_count": 37,
   "metadata": {},
   "outputs": [],
   "source": [
    "from collections import Counter\n",
    "\n",
    "text_clean_counter = dict(Counter(text_clean_flat))"
   ]
  },
  {
   "cell_type": "code",
   "execution_count": 38,
   "metadata": {},
   "outputs": [
    {
     "data": {
      "text/plain": [
       "{'upper': 11,\n",
       " 'tribunal': 24,\n",
       " '(': 21,\n",
       " 'immigration': 4,\n",
       " 'asylum': 9,\n",
       " 'chamber': 2,\n",
       " ')': 22,\n",
       " 'appeal': 19,\n",
       " 'number': 12,\n",
       " ':': 19,\n",
       " 'pa/00240/2019': 6,\n",
       " 'act': 2,\n",
       " 'hear': 6,\n",
       " 'birmingham': 4,\n",
       " 'cjc': 2,\n",
       " 'decision': 25,\n",
       " '&': 2,\n",
       " 'reason': 15,\n",
       " 'promulgate': 3,\n",
       " '21': 1,\n",
       " 'november': 4,\n",
       " '2019': 10,\n",
       " '8': 3,\n",
       " 'deputy': 5,\n",
       " 'judge': 73,\n",
       " 'o’ryan': 3,\n",
       " 'mr': 21,\n",
       " 'anonymity': 7,\n",
       " 'direction': 8,\n",
       " 'make': 15,\n",
       " 'appellant': 89,\n",
       " 'secretary': 2,\n",
       " 'state': 18,\n",
       " 'home': 3,\n",
       " 'department': 2,\n",
       " 'respondent': 11,\n",
       " 'representation': 2,\n",
       " 'sharif': 5,\n",
       " ',': 77,\n",
       " 'fountain': 1,\n",
       " 'solicitor': 2,\n",
       " 'mills': 6,\n",
       " 'senior': 2,\n",
       " 'office': 1,\n",
       " 'present': 2,\n",
       " 'officer': 1,\n",
       " '1': 2,\n",
       " '.': 161,\n",
       " '’s': 50,\n",
       " 'first': 5,\n",
       " '-': 10,\n",
       " 'tier': 4,\n",
       " 'boylan': 1,\n",
       " 'kemp': 1,\n",
       " 'mbe': 1,\n",
       " 'date': 11,\n",
       " '2': 3,\n",
       " 'may': 7,\n",
       " 'dismiss': 6,\n",
       " '23': 2,\n",
       " '2018': 6,\n",
       " 'refuse': 2,\n",
       " 'human': 1,\n",
       " 'right': 2,\n",
       " 'protection': 3,\n",
       " 'claim': 12,\n",
       " '©': 2,\n",
       " 'crown': 2,\n",
       " 'copyright': 2,\n",
       " '2019appeal': 2,\n",
       " 'national': 1,\n",
       " 'iraq': 14,\n",
       " 'kurdish': 1,\n",
       " 'origin': 2,\n",
       " 'sulamaniyah': 1,\n",
       " 'ikr': 3,\n",
       " 'give': 14,\n",
       " 'account': 20,\n",
       " 'risk': 4,\n",
       " 'serious': 2,\n",
       " 'harm': 1,\n",
       " 'family': 15,\n",
       " 'extend': 1,\n",
       " 'tribe': 3,\n",
       " 'feud': 15,\n",
       " 'another': 2,\n",
       " 'able': 3,\n",
       " 'many': 2,\n",
       " 'detail': 9,\n",
       " 'one': 6,\n",
       " 'member': 6,\n",
       " 'kill': 1,\n",
       " 'result': 4,\n",
       " 'experience': 2,\n",
       " 'two': 2,\n",
       " 'incident': 4,\n",
       " ';': 1,\n",
       " 'unknown': 1,\n",
       " 'person': 8,\n",
       " 'fire': 3,\n",
       " 'upon': 9,\n",
       " 'car': 2,\n",
       " 'travel': 5,\n",
       " 'cousin': 1,\n",
       " 'injure': 1,\n",
       " 'shoulder': 1,\n",
       " 'occasion': 2,\n",
       " 'house': 1,\n",
       " 'live': 1,\n",
       " '3': 2,\n",
       " 'refusing': 2,\n",
       " 'disbelieve': 2,\n",
       " 'ground': 6,\n",
       " 'know': 11,\n",
       " 'allege': 4,\n",
       " 'also': 17,\n",
       " 'say': 9,\n",
       " 'discrepancy': 9,\n",
       " 'evidence': 30,\n",
       " 'interview': 10,\n",
       " 'problem': 1,\n",
       " 'refusal': 1,\n",
       " 'letter': 1,\n",
       " 'para': 2,\n",
       " '[': 24,\n",
       " '26': 1,\n",
       " ']': 24,\n",
       " 'fear': 6,\n",
       " 'father': 1,\n",
       " 'take': 4,\n",
       " 'part': 5,\n",
       " 'information': 3,\n",
       " 'age': 2,\n",
       " 'assessment': 2,\n",
       " 'good': 1,\n",
       " 'relationship': 5,\n",
       " '31': 1,\n",
       " '4': 3,\n",
       " 'matter': 7,\n",
       " 'come': 5,\n",
       " 'centre': 1,\n",
       " '18': 5,\n",
       " 'march': 9,\n",
       " 'represent': 2,\n",
       " 'hearing': 3,\n",
       " 'would': 18,\n",
       " 'year': 2,\n",
       " 'document': 10,\n",
       " 'rely': 3,\n",
       " 'eurodac': 8,\n",
       " 'search': 4,\n",
       " 'demonstrate': 1,\n",
       " 'identity': 1,\n",
       " 'fingerprint': 2,\n",
       " 'dresden': 1,\n",
       " 'germany': 7,\n",
       " '22': 8,\n",
       " '2016': 12,\n",
       " 'sef': 2,\n",
       " 'confirm': 3,\n",
       " 'oral': 8,\n",
       " 'leave': 8,\n",
       " 'december': 5,\n",
       " '2017': 5,\n",
       " 'deny': 1,\n",
       " 'identify': 3,\n",
       " 'satisfied': 3,\n",
       " 'contain': 2,\n",
       " 'within': 2,\n",
       " 'look': 2,\n",
       " 'clear': 6,\n",
       " 'photograph': 2,\n",
       " 'match': 1,\n",
       " 'indeed': 2,\n",
       " '5': 5,\n",
       " 'find': 22,\n",
       " 'paragraph': 17,\n",
       " '14': 7,\n",
       " 'onwards': 1,\n",
       " 'follow': 4,\n",
       " '\"': 42,\n",
       " '16': 3,\n",
       " 'provide': 7,\n",
       " 'unequivocal': 1,\n",
       " 'clearly': 4,\n",
       " 'appear': 2,\n",
       " 'doubt': 1,\n",
       " 'relate': 1,\n",
       " '-PRON-': 8,\n",
       " 'therefore': 5,\n",
       " 'place': 1,\n",
       " 'significant': 4,\n",
       " 'weight': 5,\n",
       " 'put': 3,\n",
       " 'consequently': 3,\n",
       " 'undermine': 2,\n",
       " 'credibility': 14,\n",
       " 'entire': 3,\n",
       " 'witness': 7,\n",
       " 'cause': 5,\n",
       " 'render': 2,\n",
       " 'unreliable': 2,\n",
       " '2appeal': 2,\n",
       " '17': 6,\n",
       " 'inability': 1,\n",
       " 'recall': 1,\n",
       " 'flee': 1,\n",
       " 'country': 7,\n",
       " 'credible': 5,\n",
       " 'young': 2,\n",
       " 'man': 2,\n",
       " 'life': 1,\n",
       " 'behind': 1,\n",
       " 'reluctance': 1,\n",
       " 'become': 3,\n",
       " 'involve': 4,\n",
       " 'ongoing': 1,\n",
       " 'anticipate': 2,\n",
       " 'knowledge': 4,\n",
       " 'plausible': 4,\n",
       " 'hold': 2,\n",
       " 'genuine': 1,\n",
       " 'note': 5,\n",
       " 'even': 1,\n",
       " 'specific': 2,\n",
       " 'threat': 2,\n",
       " 'safety': 1,\n",
       " 'beyond': 1,\n",
       " 'general': 1,\n",
       " 'tribal': 1,\n",
       " 'can': 2,\n",
       " 'not': 4,\n",
       " 'much': 1,\n",
       " '...': 6,\n",
       " 'alleged': 3,\n",
       " 'reasoning': 3,\n",
       " 'threaten': 2,\n",
       " 'due': 2,\n",
       " 'desertion': 2,\n",
       " 'instead': 1,\n",
       " 'uk': 6,\n",
       " 'assistance': 3,\n",
       " 'escape': 1,\n",
       " 'persecution': 5,\n",
       " 'assist': 1,\n",
       " 'obtain': 3,\n",
       " 'copy': 1,\n",
       " 'identification': 1,\n",
       " 'csid': 1,\n",
       " 'help': 2,\n",
       " 'facilitate': 2,\n",
       " 'return': 6,\n",
       " 'support': 9,\n",
       " 'there': 1,\n",
       " '6': 4,\n",
       " '15': 6,\n",
       " 'argue': 4,\n",
       " 'briefly': 1,\n",
       " 'erred': 1,\n",
       " 'law': 9,\n",
       " '20': 1,\n",
       " 'inadequate': 1,\n",
       " 'finding': 8,\n",
       " 'secondly': 2,\n",
       " 'fail': 3,\n",
       " 'apply': 5,\n",
       " 'relevant': 2,\n",
       " 'guidance': 2,\n",
       " '7': 2,\n",
       " 'permission': 6,\n",
       " 'grant': 8,\n",
       " 'keane': 3,\n",
       " '24': 3,\n",
       " 'june': 5,\n",
       " 'the': 2,\n",
       " 'arguably': 7,\n",
       " 'regard': 4,\n",
       " 'irrelevant': 2,\n",
       " 'consideration': 2,\n",
       " 'event': 2,\n",
       " 'inclusive': 1,\n",
       " 'attach': 3,\n",
       " 'printout': 1,\n",
       " 'prove': 1,\n",
       " 'photographed': 1,\n",
       " 'print': 1,\n",
       " 'however': 6,\n",
       " 'explain': 4,\n",
       " 'circumstance': 2,\n",
       " 'damage': 1,\n",
       " 'mind': 1,\n",
       " 'apparent': 1,\n",
       " 'failure': 3,\n",
       " 'so': 3,\n",
       " 'accord': 1,\n",
       " 'without': 3,\n",
       " 'why': 1,\n",
       " '3appeal': 2,\n",
       " 'case': 5,\n",
       " 'substitute': 1,\n",
       " 'understanding': 1,\n",
       " 'constitute': 1,\n",
       " 'reasonable': 1,\n",
       " 'conduct': 1,\n",
       " 'do': 5,\n",
       " 'ostensible': 1,\n",
       " 'adequate': 2,\n",
       " 'incumbent': 1,\n",
       " 'resolve': 1,\n",
       " 'issue': 4,\n",
       " 'embark': 1,\n",
       " 'global': 1,\n",
       " 'submission': 2,\n",
       " 'admittedly': 1,\n",
       " 'extensive': 1,\n",
       " '9': 3,\n",
       " 'points': 2,\n",
       " 'particular': 4,\n",
       " 'relation': 4,\n",
       " 'shoot': 2,\n",
       " 'at': 3,\n",
       " '86': 1,\n",
       " 'simply': 4,\n",
       " \"'\": 8,\n",
       " 'proposition': 1,\n",
       " 'blood': 1,\n",
       " 'consistently': 1,\n",
       " 'accept': 3,\n",
       " 'course': 1,\n",
       " 'alter': 1,\n",
       " 'incredible': 3,\n",
       " 'irrational': 2,\n",
       " '10': 2,\n",
       " 'defend': 1,\n",
       " 'dishonest': 1,\n",
       " 'statement': 5,\n",
       " 'remain': 2,\n",
       " 'capable': 1,\n",
       " 'affect': 2,\n",
       " 'raise': 1,\n",
       " 'whether': 3,\n",
       " 'could': 5,\n",
       " 'treat': 4,\n",
       " 'determinative': 1,\n",
       " 'occur': 1,\n",
       " 'later': 2,\n",
       " 'determinatively': 1,\n",
       " 'decide': 2,\n",
       " 'whereabouts': 2,\n",
       " 'discussion': 1,\n",
       " '11': 2,\n",
       " 'material': 3,\n",
       " 'error': 8,\n",
       " 'suggestion': 1,\n",
       " '4appeal': 2,\n",
       " 'difficult': 1,\n",
       " 'sustain': 1,\n",
       " 'inconsistent': 2,\n",
       " 'insist': 1,\n",
       " 'incontrovertible': 1,\n",
       " 'exist': 1,\n",
       " 'item': 1,\n",
       " 'sit': 2,\n",
       " 'together': 2,\n",
       " 'true': 1,\n",
       " 'set': 4,\n",
       " 'depart': 1,\n",
       " 'prior': 1,\n",
       " 'necessarily': 1,\n",
       " 'impossible': 1,\n",
       " 'believe': 1,\n",
       " 'lie': 1,\n",
       " 'continued': 1,\n",
       " 'presence': 1,\n",
       " 'point': 4,\n",
       " 'fully': 3,\n",
       " 'entitle': 4,\n",
       " 'entitled': 1,\n",
       " 'moot': 1,\n",
       " '12': 2,\n",
       " 'stop': 1,\n",
       " 'continue': 1,\n",
       " 'whereas': 3,\n",
       " 'expect': 1,\n",
       " 'inform': 1,\n",
       " 'wide': 2,\n",
       " 'grow': 1,\n",
       " 'adult': 1,\n",
       " 'relative': 1,\n",
       " 'implausible': 1,\n",
       " 'little': 3,\n",
       " 'none': 1,\n",
       " 'vitiate': 1,\n",
       " '13': 2,\n",
       " 'comment': 1,\n",
       " 'actual': 2,\n",
       " 'second': 2,\n",
       " 'readmission': 1,\n",
       " 'residence': 2,\n",
       " 'light': 1,\n",
       " 'sustainable': 2,\n",
       " 'replacement': 1,\n",
       " 'need': 1,\n",
       " 'to': 3,\n",
       " 'notice': 1,\n",
       " 'aside': 2,\n",
       " 'sign': 3,\n",
       " '20.11.19': 2,\n",
       " '5appeal': 1,\n",
       " '–': 2,\n",
       " 'rule': 5,\n",
       " 'procedure': 2,\n",
       " '2008': 3,\n",
       " 'unless': 2,\n",
       " 'court': 5,\n",
       " 'direct': 2,\n",
       " 'otherwise': 2,\n",
       " 'report': 2,\n",
       " 'proceeding': 4,\n",
       " 'shall': 3,\n",
       " 'directly': 2,\n",
       " 'indirectly': 2,\n",
       " 'comply': 2,\n",
       " 'lead': 2,\n",
       " 'contempt': 2,\n",
       " 'pa/05945/2018': 5,\n",
       " 'th': 9,\n",
       " 'july': 3,\n",
       " '19': 1,\n",
       " 'august': 2,\n",
       " 'juss': 2,\n",
       " 'ha': 1,\n",
       " 'j': 1,\n",
       " 'howard': 3,\n",
       " 'hopo': 1,\n",
       " 'determination': 2,\n",
       " 'pacey': 1,\n",
       " 'whereupon': 1,\n",
       " 'subsequently': 1,\n",
       " 'for': 1,\n",
       " 'thus': 1,\n",
       " 'male': 1,\n",
       " 'citizen': 1,\n",
       " 'iran': 4,\n",
       " 'bear': 1,\n",
       " 'nd': 1,\n",
       " '1996': 1,\n",
       " 'april': 2,\n",
       " 'humanitarian': 1,\n",
       " 'pursuant': 1,\n",
       " '339c': 1,\n",
       " 'hc': 1,\n",
       " '395': 1,\n",
       " 'essence': 1,\n",
       " 'social': 2,\n",
       " 'group': 1,\n",
       " 'gay': 5,\n",
       " 'iranian': 1,\n",
       " 'face': 3,\n",
       " 'additionally': 1,\n",
       " 'atheist': 2,\n",
       " 'ill': 2,\n",
       " 'non': 1,\n",
       " 'religious': 2,\n",
       " 'forbid': 1,\n",
       " 'screening': 4,\n",
       " 'religion': 1,\n",
       " 'subject': 2,\n",
       " 'non-': 1,\n",
       " 'mention': 4,\n",
       " 'stage': 1,\n",
       " 'danger': 1,\n",
       " 'homosexual': 3,\n",
       " 'government': 1,\n",
       " 'homosexuality': 4,\n",
       " 'punishable': 1,\n",
       " 'death': 1,\n",
       " 'anything': 2,\n",
       " 'boyfriend': 1,\n",
       " 'name': 1,\n",
       " 'fs': 1,\n",
       " 'half': 1,\n",
       " 'month': 1,\n",
       " 'three': 1,\n",
       " 'go': 1,\n",
       " 'describe': 1,\n",
       " 'explanation': 2,\n",
       " 'if': 1,\n",
       " 'approach': 3,\n",
       " 'adopt': 2,\n",
       " 'punitive': 1,\n",
       " 'people': 2,\n",
       " '....': 1,\n",
       " 'fry': 1,\n",
       " 'pan': 1,\n",
       " '68': 1,\n",
       " 'hand': 1,\n",
       " 'observe': 2,\n",
       " 'aware': 5,\n",
       " 'then': 1,\n",
       " 'sexuality': 1,\n",
       " '69': 1,\n",
       " 'impress': 1,\n",
       " 'short': 1,\n",
       " 'reject': 1,\n",
       " 'wholesale': 1,\n",
       " 'application': 3,\n",
       " 'grounds': 1,\n",
       " 'engage': 1,\n",
       " 'miss': 9,\n",
       " 'l': 9,\n",
       " 's': 5,\n",
       " 'whose': 2,\n",
       " 'wrongly': 1,\n",
       " 'impugn': 2,\n",
       " 'apparently': 1,\n",
       " 'write': 5,\n",
       " 'contrary': 1,\n",
       " 'natural': 1,\n",
       " 'justice': 1,\n",
       " 'rd': 1,\n",
       " 'submit': 3,\n",
       " 'concern': 2,\n",
       " 'explore': 1,\n",
       " 'meet': 5,\n",
       " 'f': 6,\n",
       " 'previous': 2,\n",
       " 'partner': 2,\n",
       " '34': 2,\n",
       " 'page': 6,\n",
       " 'bundle': 3,\n",
       " 'quite': 1,\n",
       " 'director': 3,\n",
       " 'voluntary': 4,\n",
       " 'organisation': 3,\n",
       " 'call': 2,\n",
       " 'persian': 2,\n",
       " 'lgbt': 7,\n",
       " 'advisory': 2,\n",
       " 'service': 2,\n",
       " 'activity': 1,\n",
       " 'seeker': 3,\n",
       " 'contact': 1,\n",
       " 'via': 1,\n",
       " 'facebook': 4,\n",
       " 'invite': 1,\n",
       " 'conversation': 1,\n",
       " 'view': 2,\n",
       " 'i': 5,\n",
       " 'openly': 3,\n",
       " 'active': 2,\n",
       " 'refer': 2,\n",
       " 'online': 1,\n",
       " 'activist': 1,\n",
       " 'share': 1,\n",
       " 'community': 2,\n",
       " 'use': 1,\n",
       " 'basis': 2,\n",
       " 'wrong': 1,\n",
       " 'atheism': 1,\n",
       " 'tendency': 1,\n",
       " 'new': 2,\n",
       " 'collect': 1,\n",
       " 'manner': 2,\n",
       " 'choose': 1,\n",
       " 'prepare': 1,\n",
       " 'deal': 2,\n",
       " 'testimony': 1,\n",
       " 'previously': 1,\n",
       " 'black': 1,\n",
       " 'white': 1,\n",
       " 'persuasive': 1,\n",
       " 'see': 3,\n",
       " 'section': 1,\n",
       " '12(1': 1,\n",
       " 'tcea': 1,\n",
       " '2007': 1,\n",
       " 'correct': 1,\n",
       " 'something': 1,\n",
       " 'probe': 2,\n",
       " 'ascertain': 1,\n",
       " 'exactly': 1,\n",
       " 'but': 1,\n",
       " 'friend': 2,\n",
       " 'calais': 1,\n",
       " 'jungle': 1,\n",
       " 'when': 1,\n",
       " 'strong': 2,\n",
       " 'tell': 1,\n",
       " 'representative': 1,\n",
       " 'far': 2,\n",
       " 'stand': 2,\n",
       " 'conclude': 1,\n",
       " '78': 1,\n",
       " 'term': 1,\n",
       " 'acknowledge': 2,\n",
       " 'participate': 1,\n",
       " 'pride': 1,\n",
       " 'christian': 1,\n",
       " 'parade': 1,\n",
       " 'end': 1,\n",
       " 'declare': 1,\n",
       " 'base': 1,\n",
       " 'entirely': 2,\n",
       " 'open': 1,\n",
       " 'states': 1,\n",
       " 'attend': 1,\n",
       " 'since': 2,\n",
       " 'nevertheless': 1,\n",
       " 'comprise': 1,\n",
       " 'independent': 1,\n",
       " 'verification': 1,\n",
       " 'value': 3,\n",
       " 'word': 1,\n",
       " 'verify': 1,\n",
       " 'way': 1,\n",
       " 'termed': 1,\n",
       " 'diligence': 1,\n",
       " 'well': 3,\n",
       " 'mean': 2,\n",
       " 'uncritical': 1,\n",
       " 'nature': 1,\n",
       " 'probative': 1,\n",
       " '79': 1,\n",
       " 'nothing': 1,\n",
       " 'analysis': 1,\n",
       " 'detailed': 1,\n",
       " 'ease': 1,\n",
       " 'actually': 1,\n",
       " 'accordingly': 1,\n",
       " 'comprehensive': 1,\n",
       " 'order': 1,\n",
       " 'dated': 1}"
      ]
     },
     "execution_count": 38,
     "metadata": {},
     "output_type": "execute_result"
    }
   ],
   "source": [
    "text_clean_counter"
   ]
  },
  {
   "cell_type": "code",
   "execution_count": 39,
   "metadata": {},
   "outputs": [],
   "source": [
    "df_clean = pd.DataFrame.from_dict(text_clean_counter, orient='index')"
   ]
  },
  {
   "cell_type": "code",
   "execution_count": 40,
   "metadata": {},
   "outputs": [
    {
     "data": {
      "text/html": [
       "<div>\n",
       "<style scoped>\n",
       "    .dataframe tbody tr th:only-of-type {\n",
       "        vertical-align: middle;\n",
       "    }\n",
       "\n",
       "    .dataframe tbody tr th {\n",
       "        vertical-align: top;\n",
       "    }\n",
       "\n",
       "    .dataframe thead th {\n",
       "        text-align: right;\n",
       "    }\n",
       "</style>\n",
       "<table border=\"1\" class=\"dataframe\">\n",
       "  <thead>\n",
       "    <tr style=\"text-align: right;\">\n",
       "      <th></th>\n",
       "      <th>0</th>\n",
       "    </tr>\n",
       "  </thead>\n",
       "  <tbody>\n",
       "    <tr>\n",
       "      <th>upper</th>\n",
       "      <td>11</td>\n",
       "    </tr>\n",
       "    <tr>\n",
       "      <th>tribunal</th>\n",
       "      <td>24</td>\n",
       "    </tr>\n",
       "    <tr>\n",
       "      <th>(</th>\n",
       "      <td>21</td>\n",
       "    </tr>\n",
       "    <tr>\n",
       "      <th>immigration</th>\n",
       "      <td>4</td>\n",
       "    </tr>\n",
       "    <tr>\n",
       "      <th>asylum</th>\n",
       "      <td>9</td>\n",
       "    </tr>\n",
       "  </tbody>\n",
       "</table>\n",
       "</div>"
      ],
      "text/plain": [
       "              0\n",
       "upper        11\n",
       "tribunal     24\n",
       "(            21\n",
       "immigration   4\n",
       "asylum        9"
      ]
     },
     "execution_count": 40,
     "metadata": {},
     "output_type": "execute_result"
    }
   ],
   "source": [
    "df_clean.head()"
   ]
  },
  {
   "cell_type": "code",
   "execution_count": 41,
   "metadata": {},
   "outputs": [
    {
     "data": {
      "text/plain": [
       "0    11\n",
       "Name: upper, dtype: int64"
      ]
     },
     "execution_count": 41,
     "metadata": {},
     "output_type": "execute_result"
    }
   ],
   "source": [
    "df_clean.loc['upper',:]"
   ]
  },
  {
   "cell_type": "code",
   "execution_count": 42,
   "metadata": {},
   "outputs": [],
   "source": [
    "df_clean.reset_index(level=0, inplace=True)\n",
    "df_clean.columns = ['words', 'counts']"
   ]
  },
  {
   "cell_type": "code",
   "execution_count": 43,
   "metadata": {},
   "outputs": [
    {
     "data": {
      "text/html": [
       "<div>\n",
       "<style scoped>\n",
       "    .dataframe tbody tr th:only-of-type {\n",
       "        vertical-align: middle;\n",
       "    }\n",
       "\n",
       "    .dataframe tbody tr th {\n",
       "        vertical-align: top;\n",
       "    }\n",
       "\n",
       "    .dataframe thead th {\n",
       "        text-align: right;\n",
       "    }\n",
       "</style>\n",
       "<table border=\"1\" class=\"dataframe\">\n",
       "  <thead>\n",
       "    <tr style=\"text-align: right;\">\n",
       "      <th></th>\n",
       "      <th>words</th>\n",
       "      <th>counts</th>\n",
       "    </tr>\n",
       "  </thead>\n",
       "  <tbody>\n",
       "    <tr>\n",
       "      <th>0</th>\n",
       "      <td>upper</td>\n",
       "      <td>11</td>\n",
       "    </tr>\n",
       "    <tr>\n",
       "      <th>1</th>\n",
       "      <td>tribunal</td>\n",
       "      <td>24</td>\n",
       "    </tr>\n",
       "    <tr>\n",
       "      <th>2</th>\n",
       "      <td>(</td>\n",
       "      <td>21</td>\n",
       "    </tr>\n",
       "    <tr>\n",
       "      <th>3</th>\n",
       "      <td>immigration</td>\n",
       "      <td>4</td>\n",
       "    </tr>\n",
       "    <tr>\n",
       "      <th>4</th>\n",
       "      <td>asylum</td>\n",
       "      <td>9</td>\n",
       "    </tr>\n",
       "    <tr>\n",
       "      <th>...</th>\n",
       "      <td>...</td>\n",
       "      <td>...</td>\n",
       "    </tr>\n",
       "    <tr>\n",
       "      <th>628</th>\n",
       "      <td>actually</td>\n",
       "      <td>1</td>\n",
       "    </tr>\n",
       "    <tr>\n",
       "      <th>629</th>\n",
       "      <td>accordingly</td>\n",
       "      <td>1</td>\n",
       "    </tr>\n",
       "    <tr>\n",
       "      <th>630</th>\n",
       "      <td>comprehensive</td>\n",
       "      <td>1</td>\n",
       "    </tr>\n",
       "    <tr>\n",
       "      <th>631</th>\n",
       "      <td>order</td>\n",
       "      <td>1</td>\n",
       "    </tr>\n",
       "    <tr>\n",
       "      <th>632</th>\n",
       "      <td>dated</td>\n",
       "      <td>1</td>\n",
       "    </tr>\n",
       "  </tbody>\n",
       "</table>\n",
       "<p>633 rows × 2 columns</p>\n",
       "</div>"
      ],
      "text/plain": [
       "             words  counts\n",
       "0            upper      11\n",
       "1         tribunal      24\n",
       "2                (      21\n",
       "3      immigration       4\n",
       "4           asylum       9\n",
       "..             ...     ...\n",
       "628       actually       1\n",
       "629    accordingly       1\n",
       "630  comprehensive       1\n",
       "631          order       1\n",
       "632          dated       1\n",
       "\n",
       "[633 rows x 2 columns]"
      ]
     },
     "execution_count": 43,
     "metadata": {},
     "output_type": "execute_result"
    }
   ],
   "source": [
    "df_clean"
   ]
  },
  {
   "cell_type": "code",
   "execution_count": 44,
   "metadata": {},
   "outputs": [
    {
     "data": {
      "application/vnd.plotly.v1+json": {
       "config": {
        "plotlyServerURL": "https://plot.ly"
       },
       "data": [
        {
         "alignmentgroup": "True",
         "hovertemplate": "Frequency=%{x}<br>Words=%{text}<extra></extra>",
         "legendgroup": "",
         "marker": {
          "color": "purple"
         },
         "name": "",
         "offsetgroup": "",
         "orientation": "h",
         "showlegend": false,
         "text": [
          "upper",
          "tribunal",
          "(",
          "immigration",
          "asylum",
          "chamber",
          ")",
          "appeal",
          "number",
          ":",
          "pa/00240/2019"
         ],
         "textposition": "auto",
         "texttemplate": "%{text}",
         "type": "bar",
         "x": [
          11,
          24,
          21,
          4,
          9,
          2,
          22,
          19,
          12,
          19,
          6
         ],
         "xaxis": "x",
         "y": [
          "upper",
          "tribunal",
          "(",
          "immigration",
          "asylum",
          "chamber",
          ")",
          "appeal",
          "number",
          ":",
          "pa/00240/2019"
         ],
         "yaxis": "y"
        }
       ],
       "layout": {
        "autosize": false,
        "barmode": "relative",
        "height": 500,
        "legend": {
         "tracegroupgap": 0
        },
        "margin": {
         "t": 60
        },
        "template": {
         "data": {
          "bar": [
           {
            "error_x": {
             "color": "#2a3f5f"
            },
            "error_y": {
             "color": "#2a3f5f"
            },
            "marker": {
             "line": {
              "color": "#E5ECF6",
              "width": 0.5
             }
            },
            "type": "bar"
           }
          ],
          "barpolar": [
           {
            "marker": {
             "line": {
              "color": "#E5ECF6",
              "width": 0.5
             }
            },
            "type": "barpolar"
           }
          ],
          "carpet": [
           {
            "aaxis": {
             "endlinecolor": "#2a3f5f",
             "gridcolor": "white",
             "linecolor": "white",
             "minorgridcolor": "white",
             "startlinecolor": "#2a3f5f"
            },
            "baxis": {
             "endlinecolor": "#2a3f5f",
             "gridcolor": "white",
             "linecolor": "white",
             "minorgridcolor": "white",
             "startlinecolor": "#2a3f5f"
            },
            "type": "carpet"
           }
          ],
          "choropleth": [
           {
            "colorbar": {
             "outlinewidth": 0,
             "ticks": ""
            },
            "type": "choropleth"
           }
          ],
          "contour": [
           {
            "colorbar": {
             "outlinewidth": 0,
             "ticks": ""
            },
            "colorscale": [
             [
              0,
              "#0d0887"
             ],
             [
              0.1111111111111111,
              "#46039f"
             ],
             [
              0.2222222222222222,
              "#7201a8"
             ],
             [
              0.3333333333333333,
              "#9c179e"
             ],
             [
              0.4444444444444444,
              "#bd3786"
             ],
             [
              0.5555555555555556,
              "#d8576b"
             ],
             [
              0.6666666666666666,
              "#ed7953"
             ],
             [
              0.7777777777777778,
              "#fb9f3a"
             ],
             [
              0.8888888888888888,
              "#fdca26"
             ],
             [
              1,
              "#f0f921"
             ]
            ],
            "type": "contour"
           }
          ],
          "contourcarpet": [
           {
            "colorbar": {
             "outlinewidth": 0,
             "ticks": ""
            },
            "type": "contourcarpet"
           }
          ],
          "heatmap": [
           {
            "colorbar": {
             "outlinewidth": 0,
             "ticks": ""
            },
            "colorscale": [
             [
              0,
              "#0d0887"
             ],
             [
              0.1111111111111111,
              "#46039f"
             ],
             [
              0.2222222222222222,
              "#7201a8"
             ],
             [
              0.3333333333333333,
              "#9c179e"
             ],
             [
              0.4444444444444444,
              "#bd3786"
             ],
             [
              0.5555555555555556,
              "#d8576b"
             ],
             [
              0.6666666666666666,
              "#ed7953"
             ],
             [
              0.7777777777777778,
              "#fb9f3a"
             ],
             [
              0.8888888888888888,
              "#fdca26"
             ],
             [
              1,
              "#f0f921"
             ]
            ],
            "type": "heatmap"
           }
          ],
          "heatmapgl": [
           {
            "colorbar": {
             "outlinewidth": 0,
             "ticks": ""
            },
            "colorscale": [
             [
              0,
              "#0d0887"
             ],
             [
              0.1111111111111111,
              "#46039f"
             ],
             [
              0.2222222222222222,
              "#7201a8"
             ],
             [
              0.3333333333333333,
              "#9c179e"
             ],
             [
              0.4444444444444444,
              "#bd3786"
             ],
             [
              0.5555555555555556,
              "#d8576b"
             ],
             [
              0.6666666666666666,
              "#ed7953"
             ],
             [
              0.7777777777777778,
              "#fb9f3a"
             ],
             [
              0.8888888888888888,
              "#fdca26"
             ],
             [
              1,
              "#f0f921"
             ]
            ],
            "type": "heatmapgl"
           }
          ],
          "histogram": [
           {
            "marker": {
             "colorbar": {
              "outlinewidth": 0,
              "ticks": ""
             }
            },
            "type": "histogram"
           }
          ],
          "histogram2d": [
           {
            "colorbar": {
             "outlinewidth": 0,
             "ticks": ""
            },
            "colorscale": [
             [
              0,
              "#0d0887"
             ],
             [
              0.1111111111111111,
              "#46039f"
             ],
             [
              0.2222222222222222,
              "#7201a8"
             ],
             [
              0.3333333333333333,
              "#9c179e"
             ],
             [
              0.4444444444444444,
              "#bd3786"
             ],
             [
              0.5555555555555556,
              "#d8576b"
             ],
             [
              0.6666666666666666,
              "#ed7953"
             ],
             [
              0.7777777777777778,
              "#fb9f3a"
             ],
             [
              0.8888888888888888,
              "#fdca26"
             ],
             [
              1,
              "#f0f921"
             ]
            ],
            "type": "histogram2d"
           }
          ],
          "histogram2dcontour": [
           {
            "colorbar": {
             "outlinewidth": 0,
             "ticks": ""
            },
            "colorscale": [
             [
              0,
              "#0d0887"
             ],
             [
              0.1111111111111111,
              "#46039f"
             ],
             [
              0.2222222222222222,
              "#7201a8"
             ],
             [
              0.3333333333333333,
              "#9c179e"
             ],
             [
              0.4444444444444444,
              "#bd3786"
             ],
             [
              0.5555555555555556,
              "#d8576b"
             ],
             [
              0.6666666666666666,
              "#ed7953"
             ],
             [
              0.7777777777777778,
              "#fb9f3a"
             ],
             [
              0.8888888888888888,
              "#fdca26"
             ],
             [
              1,
              "#f0f921"
             ]
            ],
            "type": "histogram2dcontour"
           }
          ],
          "mesh3d": [
           {
            "colorbar": {
             "outlinewidth": 0,
             "ticks": ""
            },
            "type": "mesh3d"
           }
          ],
          "parcoords": [
           {
            "line": {
             "colorbar": {
              "outlinewidth": 0,
              "ticks": ""
             }
            },
            "type": "parcoords"
           }
          ],
          "pie": [
           {
            "automargin": true,
            "type": "pie"
           }
          ],
          "scatter": [
           {
            "marker": {
             "colorbar": {
              "outlinewidth": 0,
              "ticks": ""
             }
            },
            "type": "scatter"
           }
          ],
          "scatter3d": [
           {
            "line": {
             "colorbar": {
              "outlinewidth": 0,
              "ticks": ""
             }
            },
            "marker": {
             "colorbar": {
              "outlinewidth": 0,
              "ticks": ""
             }
            },
            "type": "scatter3d"
           }
          ],
          "scattercarpet": [
           {
            "marker": {
             "colorbar": {
              "outlinewidth": 0,
              "ticks": ""
             }
            },
            "type": "scattercarpet"
           }
          ],
          "scattergeo": [
           {
            "marker": {
             "colorbar": {
              "outlinewidth": 0,
              "ticks": ""
             }
            },
            "type": "scattergeo"
           }
          ],
          "scattergl": [
           {
            "marker": {
             "colorbar": {
              "outlinewidth": 0,
              "ticks": ""
             }
            },
            "type": "scattergl"
           }
          ],
          "scattermapbox": [
           {
            "marker": {
             "colorbar": {
              "outlinewidth": 0,
              "ticks": ""
             }
            },
            "type": "scattermapbox"
           }
          ],
          "scatterpolar": [
           {
            "marker": {
             "colorbar": {
              "outlinewidth": 0,
              "ticks": ""
             }
            },
            "type": "scatterpolar"
           }
          ],
          "scatterpolargl": [
           {
            "marker": {
             "colorbar": {
              "outlinewidth": 0,
              "ticks": ""
             }
            },
            "type": "scatterpolargl"
           }
          ],
          "scatterternary": [
           {
            "marker": {
             "colorbar": {
              "outlinewidth": 0,
              "ticks": ""
             }
            },
            "type": "scatterternary"
           }
          ],
          "surface": [
           {
            "colorbar": {
             "outlinewidth": 0,
             "ticks": ""
            },
            "colorscale": [
             [
              0,
              "#0d0887"
             ],
             [
              0.1111111111111111,
              "#46039f"
             ],
             [
              0.2222222222222222,
              "#7201a8"
             ],
             [
              0.3333333333333333,
              "#9c179e"
             ],
             [
              0.4444444444444444,
              "#bd3786"
             ],
             [
              0.5555555555555556,
              "#d8576b"
             ],
             [
              0.6666666666666666,
              "#ed7953"
             ],
             [
              0.7777777777777778,
              "#fb9f3a"
             ],
             [
              0.8888888888888888,
              "#fdca26"
             ],
             [
              1,
              "#f0f921"
             ]
            ],
            "type": "surface"
           }
          ],
          "table": [
           {
            "cells": {
             "fill": {
              "color": "#EBF0F8"
             },
             "line": {
              "color": "white"
             }
            },
            "header": {
             "fill": {
              "color": "#C8D4E3"
             },
             "line": {
              "color": "white"
             }
            },
            "type": "table"
           }
          ]
         },
         "layout": {
          "annotationdefaults": {
           "arrowcolor": "#2a3f5f",
           "arrowhead": 0,
           "arrowwidth": 1
          },
          "autotypenumbers": "strict",
          "coloraxis": {
           "colorbar": {
            "outlinewidth": 0,
            "ticks": ""
           }
          },
          "colorscale": {
           "diverging": [
            [
             0,
             "#8e0152"
            ],
            [
             0.1,
             "#c51b7d"
            ],
            [
             0.2,
             "#de77ae"
            ],
            [
             0.3,
             "#f1b6da"
            ],
            [
             0.4,
             "#fde0ef"
            ],
            [
             0.5,
             "#f7f7f7"
            ],
            [
             0.6,
             "#e6f5d0"
            ],
            [
             0.7,
             "#b8e186"
            ],
            [
             0.8,
             "#7fbc41"
            ],
            [
             0.9,
             "#4d9221"
            ],
            [
             1,
             "#276419"
            ]
           ],
           "sequential": [
            [
             0,
             "#0d0887"
            ],
            [
             0.1111111111111111,
             "#46039f"
            ],
            [
             0.2222222222222222,
             "#7201a8"
            ],
            [
             0.3333333333333333,
             "#9c179e"
            ],
            [
             0.4444444444444444,
             "#bd3786"
            ],
            [
             0.5555555555555556,
             "#d8576b"
            ],
            [
             0.6666666666666666,
             "#ed7953"
            ],
            [
             0.7777777777777778,
             "#fb9f3a"
            ],
            [
             0.8888888888888888,
             "#fdca26"
            ],
            [
             1,
             "#f0f921"
            ]
           ],
           "sequentialminus": [
            [
             0,
             "#0d0887"
            ],
            [
             0.1111111111111111,
             "#46039f"
            ],
            [
             0.2222222222222222,
             "#7201a8"
            ],
            [
             0.3333333333333333,
             "#9c179e"
            ],
            [
             0.4444444444444444,
             "#bd3786"
            ],
            [
             0.5555555555555556,
             "#d8576b"
            ],
            [
             0.6666666666666666,
             "#ed7953"
            ],
            [
             0.7777777777777778,
             "#fb9f3a"
            ],
            [
             0.8888888888888888,
             "#fdca26"
            ],
            [
             1,
             "#f0f921"
            ]
           ]
          },
          "colorway": [
           "#636efa",
           "#EF553B",
           "#00cc96",
           "#ab63fa",
           "#FFA15A",
           "#19d3f3",
           "#FF6692",
           "#B6E880",
           "#FF97FF",
           "#FECB52"
          ],
          "font": {
           "color": "#2a3f5f"
          },
          "geo": {
           "bgcolor": "white",
           "lakecolor": "white",
           "landcolor": "#E5ECF6",
           "showlakes": true,
           "showland": true,
           "subunitcolor": "white"
          },
          "hoverlabel": {
           "align": "left"
          },
          "hovermode": "closest",
          "mapbox": {
           "style": "light"
          },
          "paper_bgcolor": "white",
          "plot_bgcolor": "#E5ECF6",
          "polar": {
           "angularaxis": {
            "gridcolor": "white",
            "linecolor": "white",
            "ticks": ""
           },
           "bgcolor": "#E5ECF6",
           "radialaxis": {
            "gridcolor": "white",
            "linecolor": "white",
            "ticks": ""
           }
          },
          "scene": {
           "xaxis": {
            "backgroundcolor": "#E5ECF6",
            "gridcolor": "white",
            "gridwidth": 2,
            "linecolor": "white",
            "showbackground": true,
            "ticks": "",
            "zerolinecolor": "white"
           },
           "yaxis": {
            "backgroundcolor": "#E5ECF6",
            "gridcolor": "white",
            "gridwidth": 2,
            "linecolor": "white",
            "showbackground": true,
            "ticks": "",
            "zerolinecolor": "white"
           },
           "zaxis": {
            "backgroundcolor": "#E5ECF6",
            "gridcolor": "white",
            "gridwidth": 2,
            "linecolor": "white",
            "showbackground": true,
            "ticks": "",
            "zerolinecolor": "white"
           }
          },
          "shapedefaults": {
           "line": {
            "color": "#2a3f5f"
           }
          },
          "ternary": {
           "aaxis": {
            "gridcolor": "white",
            "linecolor": "white",
            "ticks": ""
           },
           "baxis": {
            "gridcolor": "white",
            "linecolor": "white",
            "ticks": ""
           },
           "bgcolor": "#E5ECF6",
           "caxis": {
            "gridcolor": "white",
            "linecolor": "white",
            "ticks": ""
           }
          },
          "title": {
           "x": 0.05
          },
          "xaxis": {
           "automargin": true,
           "gridcolor": "white",
           "linecolor": "white",
           "ticks": "",
           "title": {
            "standoff": 15
           },
           "zerolinecolor": "white",
           "zerolinewidth": 2
          },
          "yaxis": {
           "automargin": true,
           "gridcolor": "white",
           "linecolor": "white",
           "ticks": "",
           "title": {
            "standoff": 15
           },
           "zerolinecolor": "white",
           "zerolinewidth": 2
          }
         }
        },
        "title": {
         "text": "Words Frequency in Tribunal Appeals",
         "x": 0.5,
         "xanchor": "center",
         "y": 0.95,
         "yanchor": "top"
        },
        "uniformtext": {
         "minsize": 8,
         "mode": "hide"
        },
        "width": 1050,
        "xaxis": {
         "anchor": "y",
         "domain": [
          0,
          1
         ],
         "title": {
          "text": "Frequency"
         }
        },
        "yaxis": {
         "anchor": "x",
         "categoryorder": "total ascending",
         "domain": [
          0,
          1
         ],
         "showticklabels": false,
         "title": {
          "text": "Words"
         },
         "type": "category"
        }
       }
      },
      "text/html": [
       "<div>                            <div id=\"3997cb6d-f88c-4266-bbf8-95d65492ddd9\" class=\"plotly-graph-div\" style=\"height:500px; width:1050px;\"></div>            <script type=\"text/javascript\">                require([\"plotly\"], function(Plotly) {                    window.PLOTLYENV=window.PLOTLYENV || {};                                    if (document.getElementById(\"3997cb6d-f88c-4266-bbf8-95d65492ddd9\")) {                    Plotly.newPlot(                        \"3997cb6d-f88c-4266-bbf8-95d65492ddd9\",                        [{\"alignmentgroup\": \"True\", \"hovertemplate\": \"Frequency=%{x}<br>Words=%{text}<extra></extra>\", \"legendgroup\": \"\", \"marker\": {\"color\": \"purple\"}, \"name\": \"\", \"offsetgroup\": \"\", \"orientation\": \"h\", \"showlegend\": false, \"text\": [\"upper\", \"tribunal\", \"(\", \"immigration\", \"asylum\", \"chamber\", \")\", \"appeal\", \"number\", \":\", \"pa/00240/2019\"], \"textposition\": \"auto\", \"texttemplate\": \"%{text}\", \"type\": \"bar\", \"x\": [11, 24, 21, 4, 9, 2, 22, 19, 12, 19, 6], \"xaxis\": \"x\", \"y\": [\"upper\", \"tribunal\", \"(\", \"immigration\", \"asylum\", \"chamber\", \")\", \"appeal\", \"number\", \":\", \"pa/00240/2019\"], \"yaxis\": \"y\"}],                        {\"autosize\": false, \"barmode\": \"relative\", \"height\": 500, \"legend\": {\"tracegroupgap\": 0}, \"margin\": {\"t\": 60}, \"template\": {\"data\": {\"bar\": [{\"error_x\": {\"color\": \"#2a3f5f\"}, \"error_y\": {\"color\": \"#2a3f5f\"}, \"marker\": {\"line\": {\"color\": \"#E5ECF6\", \"width\": 0.5}}, \"type\": \"bar\"}], \"barpolar\": [{\"marker\": {\"line\": {\"color\": \"#E5ECF6\", \"width\": 0.5}}, \"type\": \"barpolar\"}], \"carpet\": [{\"aaxis\": {\"endlinecolor\": \"#2a3f5f\", \"gridcolor\": \"white\", \"linecolor\": \"white\", \"minorgridcolor\": \"white\", \"startlinecolor\": \"#2a3f5f\"}, \"baxis\": {\"endlinecolor\": \"#2a3f5f\", \"gridcolor\": \"white\", \"linecolor\": \"white\", \"minorgridcolor\": \"white\", \"startlinecolor\": \"#2a3f5f\"}, \"type\": \"carpet\"}], \"choropleth\": [{\"colorbar\": {\"outlinewidth\": 0, \"ticks\": \"\"}, \"type\": \"choropleth\"}], \"contour\": [{\"colorbar\": {\"outlinewidth\": 0, \"ticks\": \"\"}, \"colorscale\": [[0.0, \"#0d0887\"], [0.1111111111111111, \"#46039f\"], [0.2222222222222222, \"#7201a8\"], [0.3333333333333333, \"#9c179e\"], [0.4444444444444444, \"#bd3786\"], [0.5555555555555556, \"#d8576b\"], [0.6666666666666666, \"#ed7953\"], [0.7777777777777778, \"#fb9f3a\"], [0.8888888888888888, \"#fdca26\"], [1.0, \"#f0f921\"]], \"type\": \"contour\"}], \"contourcarpet\": [{\"colorbar\": {\"outlinewidth\": 0, \"ticks\": \"\"}, \"type\": \"contourcarpet\"}], \"heatmap\": [{\"colorbar\": {\"outlinewidth\": 0, \"ticks\": \"\"}, \"colorscale\": [[0.0, \"#0d0887\"], [0.1111111111111111, \"#46039f\"], [0.2222222222222222, \"#7201a8\"], [0.3333333333333333, \"#9c179e\"], [0.4444444444444444, \"#bd3786\"], [0.5555555555555556, \"#d8576b\"], [0.6666666666666666, \"#ed7953\"], [0.7777777777777778, \"#fb9f3a\"], [0.8888888888888888, \"#fdca26\"], [1.0, \"#f0f921\"]], \"type\": \"heatmap\"}], \"heatmapgl\": [{\"colorbar\": {\"outlinewidth\": 0, \"ticks\": \"\"}, \"colorscale\": [[0.0, \"#0d0887\"], [0.1111111111111111, \"#46039f\"], [0.2222222222222222, \"#7201a8\"], [0.3333333333333333, \"#9c179e\"], [0.4444444444444444, \"#bd3786\"], [0.5555555555555556, \"#d8576b\"], [0.6666666666666666, \"#ed7953\"], [0.7777777777777778, \"#fb9f3a\"], [0.8888888888888888, \"#fdca26\"], [1.0, \"#f0f921\"]], \"type\": \"heatmapgl\"}], \"histogram\": [{\"marker\": {\"colorbar\": {\"outlinewidth\": 0, \"ticks\": \"\"}}, \"type\": \"histogram\"}], \"histogram2d\": [{\"colorbar\": {\"outlinewidth\": 0, \"ticks\": \"\"}, \"colorscale\": [[0.0, \"#0d0887\"], [0.1111111111111111, \"#46039f\"], [0.2222222222222222, \"#7201a8\"], [0.3333333333333333, \"#9c179e\"], [0.4444444444444444, \"#bd3786\"], [0.5555555555555556, \"#d8576b\"], [0.6666666666666666, \"#ed7953\"], [0.7777777777777778, \"#fb9f3a\"], [0.8888888888888888, \"#fdca26\"], [1.0, \"#f0f921\"]], \"type\": \"histogram2d\"}], \"histogram2dcontour\": [{\"colorbar\": {\"outlinewidth\": 0, \"ticks\": \"\"}, \"colorscale\": [[0.0, \"#0d0887\"], [0.1111111111111111, \"#46039f\"], [0.2222222222222222, \"#7201a8\"], [0.3333333333333333, \"#9c179e\"], [0.4444444444444444, \"#bd3786\"], [0.5555555555555556, \"#d8576b\"], [0.6666666666666666, \"#ed7953\"], [0.7777777777777778, \"#fb9f3a\"], [0.8888888888888888, \"#fdca26\"], [1.0, \"#f0f921\"]], \"type\": \"histogram2dcontour\"}], \"mesh3d\": [{\"colorbar\": {\"outlinewidth\": 0, \"ticks\": \"\"}, \"type\": \"mesh3d\"}], \"parcoords\": [{\"line\": {\"colorbar\": {\"outlinewidth\": 0, \"ticks\": \"\"}}, \"type\": \"parcoords\"}], \"pie\": [{\"automargin\": true, \"type\": \"pie\"}], \"scatter\": [{\"marker\": {\"colorbar\": {\"outlinewidth\": 0, \"ticks\": \"\"}}, \"type\": \"scatter\"}], \"scatter3d\": [{\"line\": {\"colorbar\": {\"outlinewidth\": 0, \"ticks\": \"\"}}, \"marker\": {\"colorbar\": {\"outlinewidth\": 0, \"ticks\": \"\"}}, \"type\": \"scatter3d\"}], \"scattercarpet\": [{\"marker\": {\"colorbar\": {\"outlinewidth\": 0, \"ticks\": \"\"}}, \"type\": \"scattercarpet\"}], \"scattergeo\": [{\"marker\": {\"colorbar\": {\"outlinewidth\": 0, \"ticks\": \"\"}}, \"type\": \"scattergeo\"}], \"scattergl\": [{\"marker\": {\"colorbar\": {\"outlinewidth\": 0, \"ticks\": \"\"}}, \"type\": \"scattergl\"}], \"scattermapbox\": [{\"marker\": {\"colorbar\": {\"outlinewidth\": 0, \"ticks\": \"\"}}, \"type\": \"scattermapbox\"}], \"scatterpolar\": [{\"marker\": {\"colorbar\": {\"outlinewidth\": 0, \"ticks\": \"\"}}, \"type\": \"scatterpolar\"}], \"scatterpolargl\": [{\"marker\": {\"colorbar\": {\"outlinewidth\": 0, \"ticks\": \"\"}}, \"type\": \"scatterpolargl\"}], \"scatterternary\": [{\"marker\": {\"colorbar\": {\"outlinewidth\": 0, \"ticks\": \"\"}}, \"type\": \"scatterternary\"}], \"surface\": [{\"colorbar\": {\"outlinewidth\": 0, \"ticks\": \"\"}, \"colorscale\": [[0.0, \"#0d0887\"], [0.1111111111111111, \"#46039f\"], [0.2222222222222222, \"#7201a8\"], [0.3333333333333333, \"#9c179e\"], [0.4444444444444444, \"#bd3786\"], [0.5555555555555556, \"#d8576b\"], [0.6666666666666666, \"#ed7953\"], [0.7777777777777778, \"#fb9f3a\"], [0.8888888888888888, \"#fdca26\"], [1.0, \"#f0f921\"]], \"type\": \"surface\"}], \"table\": [{\"cells\": {\"fill\": {\"color\": \"#EBF0F8\"}, \"line\": {\"color\": \"white\"}}, \"header\": {\"fill\": {\"color\": \"#C8D4E3\"}, \"line\": {\"color\": \"white\"}}, \"type\": \"table\"}]}, \"layout\": {\"annotationdefaults\": {\"arrowcolor\": \"#2a3f5f\", \"arrowhead\": 0, \"arrowwidth\": 1}, \"autotypenumbers\": \"strict\", \"coloraxis\": {\"colorbar\": {\"outlinewidth\": 0, \"ticks\": \"\"}}, \"colorscale\": {\"diverging\": [[0, \"#8e0152\"], [0.1, \"#c51b7d\"], [0.2, \"#de77ae\"], [0.3, \"#f1b6da\"], [0.4, \"#fde0ef\"], [0.5, \"#f7f7f7\"], [0.6, \"#e6f5d0\"], [0.7, \"#b8e186\"], [0.8, \"#7fbc41\"], [0.9, \"#4d9221\"], [1, \"#276419\"]], \"sequential\": [[0.0, \"#0d0887\"], [0.1111111111111111, \"#46039f\"], [0.2222222222222222, \"#7201a8\"], [0.3333333333333333, \"#9c179e\"], [0.4444444444444444, \"#bd3786\"], [0.5555555555555556, \"#d8576b\"], [0.6666666666666666, \"#ed7953\"], [0.7777777777777778, \"#fb9f3a\"], [0.8888888888888888, \"#fdca26\"], [1.0, \"#f0f921\"]], \"sequentialminus\": [[0.0, \"#0d0887\"], [0.1111111111111111, \"#46039f\"], [0.2222222222222222, \"#7201a8\"], [0.3333333333333333, \"#9c179e\"], [0.4444444444444444, \"#bd3786\"], [0.5555555555555556, \"#d8576b\"], [0.6666666666666666, \"#ed7953\"], [0.7777777777777778, \"#fb9f3a\"], [0.8888888888888888, \"#fdca26\"], [1.0, \"#f0f921\"]]}, \"colorway\": [\"#636efa\", \"#EF553B\", \"#00cc96\", \"#ab63fa\", \"#FFA15A\", \"#19d3f3\", \"#FF6692\", \"#B6E880\", \"#FF97FF\", \"#FECB52\"], \"font\": {\"color\": \"#2a3f5f\"}, \"geo\": {\"bgcolor\": \"white\", \"lakecolor\": \"white\", \"landcolor\": \"#E5ECF6\", \"showlakes\": true, \"showland\": true, \"subunitcolor\": \"white\"}, \"hoverlabel\": {\"align\": \"left\"}, \"hovermode\": \"closest\", \"mapbox\": {\"style\": \"light\"}, \"paper_bgcolor\": \"white\", \"plot_bgcolor\": \"#E5ECF6\", \"polar\": {\"angularaxis\": {\"gridcolor\": \"white\", \"linecolor\": \"white\", \"ticks\": \"\"}, \"bgcolor\": \"#E5ECF6\", \"radialaxis\": {\"gridcolor\": \"white\", \"linecolor\": \"white\", \"ticks\": \"\"}}, \"scene\": {\"xaxis\": {\"backgroundcolor\": \"#E5ECF6\", \"gridcolor\": \"white\", \"gridwidth\": 2, \"linecolor\": \"white\", \"showbackground\": true, \"ticks\": \"\", \"zerolinecolor\": \"white\"}, \"yaxis\": {\"backgroundcolor\": \"#E5ECF6\", \"gridcolor\": \"white\", \"gridwidth\": 2, \"linecolor\": \"white\", \"showbackground\": true, \"ticks\": \"\", \"zerolinecolor\": \"white\"}, \"zaxis\": {\"backgroundcolor\": \"#E5ECF6\", \"gridcolor\": \"white\", \"gridwidth\": 2, \"linecolor\": \"white\", \"showbackground\": true, \"ticks\": \"\", \"zerolinecolor\": \"white\"}}, \"shapedefaults\": {\"line\": {\"color\": \"#2a3f5f\"}}, \"ternary\": {\"aaxis\": {\"gridcolor\": \"white\", \"linecolor\": \"white\", \"ticks\": \"\"}, \"baxis\": {\"gridcolor\": \"white\", \"linecolor\": \"white\", \"ticks\": \"\"}, \"bgcolor\": \"#E5ECF6\", \"caxis\": {\"gridcolor\": \"white\", \"linecolor\": \"white\", \"ticks\": \"\"}}, \"title\": {\"x\": 0.05}, \"xaxis\": {\"automargin\": true, \"gridcolor\": \"white\", \"linecolor\": \"white\", \"ticks\": \"\", \"title\": {\"standoff\": 15}, \"zerolinecolor\": \"white\", \"zerolinewidth\": 2}, \"yaxis\": {\"automargin\": true, \"gridcolor\": \"white\", \"linecolor\": \"white\", \"ticks\": \"\", \"title\": {\"standoff\": 15}, \"zerolinecolor\": \"white\", \"zerolinewidth\": 2}}}, \"title\": {\"text\": \"Words Frequency in Tribunal Appeals\", \"x\": 0.5, \"xanchor\": \"center\", \"y\": 0.95, \"yanchor\": \"top\"}, \"uniformtext\": {\"minsize\": 8, \"mode\": \"hide\"}, \"width\": 1050, \"xaxis\": {\"anchor\": \"y\", \"domain\": [0.0, 1.0], \"title\": {\"text\": \"Frequency\"}}, \"yaxis\": {\"anchor\": \"x\", \"categoryorder\": \"total ascending\", \"domain\": [0.0, 1.0], \"showticklabels\": false, \"title\": {\"text\": \"Words\"}, \"type\": \"category\"}},                        {\"responsive\": true}                    ).then(function(){\n",
       "                            \n",
       "var gd = document.getElementById('3997cb6d-f88c-4266-bbf8-95d65492ddd9');\n",
       "var x = new MutationObserver(function (mutations, observer) {{\n",
       "        var display = window.getComputedStyle(gd).display;\n",
       "        if (!display || display === 'none') {{\n",
       "            console.log([gd, 'removed!']);\n",
       "            Plotly.purge(gd);\n",
       "            observer.disconnect();\n",
       "        }}\n",
       "}});\n",
       "\n",
       "// Listen for the removal of the full notebook cells\n",
       "var notebookContainer = gd.closest('#notebook-container');\n",
       "if (notebookContainer) {{\n",
       "    x.observe(notebookContainer, {childList: true});\n",
       "}}\n",
       "\n",
       "// Listen for the clearing of the current output cell\n",
       "var outputEl = gd.closest('.output');\n",
       "if (outputEl) {{\n",
       "    x.observe(outputEl, {childList: true});\n",
       "}}\n",
       "\n",
       "                        })                };                });            </script>        </div>"
      ]
     },
     "metadata": {},
     "output_type": "display_data"
    }
   ],
   "source": [
    "fig = px.bar(df_clean.loc[0:10,:], x='counts', y='words', orientation='h', text = 'words',\n",
    "             labels={\n",
    "                     \"counts\": \"Frequency\",\n",
    "                     \"words\": \"Words\"\n",
    "                 },)\n",
    "fig.layout.yaxis.type = 'category'\n",
    "fig.update_layout(yaxis_categoryorder = 'total ascending')\n",
    "fig.update_layout(yaxis=dict(showticklabels=False))\n",
    "fig.update_traces(texttemplate='%{text}', textposition='auto', marker_color='purple')\n",
    "fig.update_layout(uniformtext_minsize=8, uniformtext_mode='hide',   title={\n",
    "        'text': \"Words Frequency in Tribunal Appeals\",\n",
    "        'y':0.95,\n",
    "        'x':0.5,\n",
    "        'xanchor': 'center',\n",
    "        'yanchor': 'top'})\n",
    "fig.update_layout(\n",
    "    autosize=False,\n",
    "    width=1050,\n",
    "    height=500)\n",
    "fig.show()"
   ]
  },
  {
   "cell_type": "markdown",
   "metadata": {},
   "source": [
    "## 5.4. Word cloud"
   ]
  },
  {
   "cell_type": "markdown",
   "metadata": {},
   "source": [
    "Now, let's show the word cloud of this text:"
   ]
  },
  {
   "cell_type": "code",
   "execution_count": 45,
   "metadata": {},
   "outputs": [
    {
     "data": {
      "image/png": "[encoded data removed]",
      "text/plain": [
       "<Figure size 432x288 with 1 Axes>"
      ]
     },
     "metadata": {
      "needs_background": "light"
     },
     "output_type": "display_data"
    }
   ],
   "source": [
    "import matplotlib.pyplot as plt\n",
    "from wordcloud import WordCloud\n",
    "\n",
    "word_cloud = WordCloud(background_color=\"white\", repeat=True)\n",
    "word_cloud.generate(text)\n",
    "\n",
    "plt.axis(\"off\")\n",
    "plt.imshow(word_cloud, interpolation=\"bilinear\")\n",
    "plt.show()"
   ]
  },
  {
   "cell_type": "markdown",
   "metadata": {},
   "source": [
    "## 5.5. What we have learned?"
   ]
  },
  {
   "cell_type": "markdown",
   "metadata": {},
   "source": [
    "### 🤖📝 Now it's your turn:"
   ]
  },
  {
   "cell_type": "markdown",
   "metadata": {},
   "source": [
    "🤖📝 Find the word 'EURODAC' using the function **<tt>search<tt>** from the **<tt>re<tt>** package."
   ]
  },
  {
   "cell_type": "code",
   "execution_count": 47,
   "metadata": {},
   "outputs": [
    {
     "data": {
      "text/plain": [
       "<re.Match object; span=(2450, 2457), match='EURODAC'>"
      ]
     },
     "execution_count": 47,
     "metadata": {},
     "output_type": "execute_result"
    }
   ],
   "source": [
    "re.search('EURODAC', text)"
   ]
  },
  {
   "cell_type": "code",
   "execution_count": 49,
   "metadata": {},
   "outputs": [
    {
     "data": {
      "text/html": [
       "<div>\n",
       "<style scoped>\n",
       "    .dataframe tbody tr th:only-of-type {\n",
       "        vertical-align: middle;\n",
       "    }\n",
       "\n",
       "    .dataframe tbody tr th {\n",
       "        vertical-align: top;\n",
       "    }\n",
       "\n",
       "    .dataframe thead th {\n",
       "        text-align: right;\n",
       "    }\n",
       "</style>\n",
       "<table border=\"1\" class=\"dataframe\">\n",
       "  <thead>\n",
       "    <tr style=\"text-align: right;\">\n",
       "      <th></th>\n",
       "      <th>words</th>\n",
       "      <th>counts</th>\n",
       "    </tr>\n",
       "  </thead>\n",
       "  <tbody>\n",
       "    <tr>\n",
       "      <th>149</th>\n",
       "      <td>eurodac</td>\n",
       "      <td>8</td>\n",
       "    </tr>\n",
       "  </tbody>\n",
       "</table>\n",
       "</div>"
      ],
      "text/plain": [
       "       words  counts\n",
       "149  eurodac       8"
      ]
     },
     "execution_count": 49,
     "metadata": {},
     "output_type": "execute_result"
    }
   ],
   "source": [
    "df_clean.loc[df_clean['words'] == \"eurodac\"]"
   ]
  },
  {
   "cell_type": "markdown",
   "metadata": {},
   "source": [
    "🤖📝 Create a word cloud with different colour pattern using the text from the PDF."
   ]
  },
  {
   "cell_type": "code",
   "execution_count": 60,
   "metadata": {},
   "outputs": [
    {
     "data": {
      "image/png": "[encoded data removed]",
      "text/plain": [
       "<Figure size 432x288 with 1 Axes>"
      ]
     },
     "metadata": {
      "needs_background": "light"
     },
     "output_type": "display_data"
    }
   ],
   "source": [
    "import matplotlib.pyplot as plt\n",
    "from wordcloud import WordCloud\n",
    "import numpy as np\n",
    "\n",
    "\n",
    "word_cloud = WordCloud(background_color=\"white\", repeat=True, max_words=50, colormap=\"plasma\")\n",
    "word_cloud.generate(pdf)\n",
    "\n",
    "plt.axis(\"off\")\n",
    "plt.imshow(word_cloud, interpolation=\"bilinear\")\n",
    "plt.show()\n",
    "\n",
    "# 'viridis', 'plasma', 'inferno', 'magma', 'cividis'"
   ]
  },
  {
   "cell_type": "markdown",
   "metadata": {},
   "source": [
    "🤖📝 Remove symbols from **<tt>df_clean<tt>** and plot again the frequency of words."
   ]
  },
  {
   "cell_type": "code",
   "execution_count": 66,
   "metadata": {},
   "outputs": [
    {
     "data": {
      "text/html": [
       "<div>\n",
       "<style scoped>\n",
       "    .dataframe tbody tr th:only-of-type {\n",
       "        vertical-align: middle;\n",
       "    }\n",
       "\n",
       "    .dataframe tbody tr th {\n",
       "        vertical-align: top;\n",
       "    }\n",
       "\n",
       "    .dataframe thead th {\n",
       "        text-align: right;\n",
       "    }\n",
       "</style>\n",
       "<table border=\"1\" class=\"dataframe\">\n",
       "  <thead>\n",
       "    <tr style=\"text-align: right;\">\n",
       "      <th></th>\n",
       "      <th>words</th>\n",
       "      <th>counts</th>\n",
       "    </tr>\n",
       "  </thead>\n",
       "  <tbody>\n",
       "    <tr>\n",
       "      <th>0</th>\n",
       "      <td>upper</td>\n",
       "      <td>11</td>\n",
       "    </tr>\n",
       "    <tr>\n",
       "      <th>1</th>\n",
       "      <td>tribunal</td>\n",
       "      <td>24</td>\n",
       "    </tr>\n",
       "    <tr>\n",
       "      <th>3</th>\n",
       "      <td>immigration</td>\n",
       "      <td>4</td>\n",
       "    </tr>\n",
       "    <tr>\n",
       "      <th>4</th>\n",
       "      <td>asylum</td>\n",
       "      <td>9</td>\n",
       "    </tr>\n",
       "    <tr>\n",
       "      <th>5</th>\n",
       "      <td>chamber</td>\n",
       "      <td>2</td>\n",
       "    </tr>\n",
       "    <tr>\n",
       "      <th>7</th>\n",
       "      <td>appeal</td>\n",
       "      <td>19</td>\n",
       "    </tr>\n",
       "    <tr>\n",
       "      <th>8</th>\n",
       "      <td>number</td>\n",
       "      <td>12</td>\n",
       "    </tr>\n",
       "    <tr>\n",
       "      <th>10</th>\n",
       "      <td>pa/00240/2019</td>\n",
       "      <td>6</td>\n",
       "    </tr>\n",
       "    <tr>\n",
       "      <th>11</th>\n",
       "      <td>act</td>\n",
       "      <td>2</td>\n",
       "    </tr>\n",
       "    <tr>\n",
       "      <th>12</th>\n",
       "      <td>hear</td>\n",
       "      <td>6</td>\n",
       "    </tr>\n",
       "    <tr>\n",
       "      <th>13</th>\n",
       "      <td>birmingham</td>\n",
       "      <td>4</td>\n",
       "    </tr>\n",
       "    <tr>\n",
       "      <th>14</th>\n",
       "      <td>cjc</td>\n",
       "      <td>2</td>\n",
       "    </tr>\n",
       "    <tr>\n",
       "      <th>15</th>\n",
       "      <td>decision</td>\n",
       "      <td>25</td>\n",
       "    </tr>\n",
       "    <tr>\n",
       "      <th>17</th>\n",
       "      <td>reason</td>\n",
       "      <td>15</td>\n",
       "    </tr>\n",
       "    <tr>\n",
       "      <th>18</th>\n",
       "      <td>promulgate</td>\n",
       "      <td>3</td>\n",
       "    </tr>\n",
       "    <tr>\n",
       "      <th>19</th>\n",
       "      <td>21</td>\n",
       "      <td>1</td>\n",
       "    </tr>\n",
       "    <tr>\n",
       "      <th>20</th>\n",
       "      <td>november</td>\n",
       "      <td>4</td>\n",
       "    </tr>\n",
       "    <tr>\n",
       "      <th>21</th>\n",
       "      <td>2019</td>\n",
       "      <td>10</td>\n",
       "    </tr>\n",
       "    <tr>\n",
       "      <th>22</th>\n",
       "      <td>8</td>\n",
       "      <td>3</td>\n",
       "    </tr>\n",
       "    <tr>\n",
       "      <th>23</th>\n",
       "      <td>deputy</td>\n",
       "      <td>5</td>\n",
       "    </tr>\n",
       "  </tbody>\n",
       "</table>\n",
       "</div>"
      ],
      "text/plain": [
       "            words  counts\n",
       "0           upper      11\n",
       "1        tribunal      24\n",
       "3     immigration       4\n",
       "4          asylum       9\n",
       "5         chamber       2\n",
       "7          appeal      19\n",
       "8          number      12\n",
       "10  pa/00240/2019       6\n",
       "11            act       2\n",
       "12           hear       6\n",
       "13     birmingham       4\n",
       "14            cjc       2\n",
       "15       decision      25\n",
       "17         reason      15\n",
       "18     promulgate       3\n",
       "19             21       1\n",
       "20       november       4\n",
       "21           2019      10\n",
       "22              8       3\n",
       "23         deputy       5"
      ]
     },
     "execution_count": 66,
     "metadata": {},
     "output_type": "execute_result"
    }
   ],
   "source": [
    "df_clean_2 = df_clean.loc[df_clean['words'] != '(']\n",
    "df_clean_2 = df_clean_2.loc[df_clean_2['words'] != ')']\n",
    "df_clean_2 = df_clean_2.loc[df_clean_2['words'] != ':']\n",
    "df_clean_2 = df_clean_2.loc[df_clean_2['words'] != '&']\n",
    "df_clean_2.head(20)"
   ]
  },
  {
   "cell_type": "code",
   "execution_count": 67,
   "metadata": {},
   "outputs": [
    {
     "data": {
      "application/vnd.plotly.v1+json": {
       "config": {
        "plotlyServerURL": "https://plot.ly"
       },
       "data": [
        {
         "alignmentgroup": "True",
         "hovertemplate": "Frequency=%{x}<br>Words=%{text}<extra></extra>",
         "legendgroup": "",
         "marker": {
          "color": "purple"
         },
         "name": "",
         "offsetgroup": "",
         "orientation": "h",
         "showlegend": false,
         "text": [
          "upper",
          "tribunal",
          "immigration",
          "asylum",
          "chamber",
          "appeal",
          "number",
          "pa/00240/2019"
         ],
         "textposition": "auto",
         "texttemplate": "%{text}",
         "type": "bar",
         "x": [
          11,
          24,
          4,
          9,
          2,
          19,
          12,
          6
         ],
         "xaxis": "x",
         "y": [
          "upper",
          "tribunal",
          "immigration",
          "asylum",
          "chamber",
          "appeal",
          "number",
          "pa/00240/2019"
         ],
         "yaxis": "y"
        }
       ],
       "layout": {
        "autosize": false,
        "barmode": "relative",
        "height": 500,
        "legend": {
         "tracegroupgap": 0
        },
        "margin": {
         "t": 60
        },
        "template": {
         "data": {
          "bar": [
           {
            "error_x": {
             "color": "#2a3f5f"
            },
            "error_y": {
             "color": "#2a3f5f"
            },
            "marker": {
             "line": {
              "color": "#E5ECF6",
              "width": 0.5
             }
            },
            "type": "bar"
           }
          ],
          "barpolar": [
           {
            "marker": {
             "line": {
              "color": "#E5ECF6",
              "width": 0.5
             }
            },
            "type": "barpolar"
           }
          ],
          "carpet": [
           {
            "aaxis": {
             "endlinecolor": "#2a3f5f",
             "gridcolor": "white",
             "linecolor": "white",
             "minorgridcolor": "white",
             "startlinecolor": "#2a3f5f"
            },
            "baxis": {
             "endlinecolor": "#2a3f5f",
             "gridcolor": "white",
             "linecolor": "white",
             "minorgridcolor": "white",
             "startlinecolor": "#2a3f5f"
            },
            "type": "carpet"
           }
          ],
          "choropleth": [
           {
            "colorbar": {
             "outlinewidth": 0,
             "ticks": ""
            },
            "type": "choropleth"
           }
          ],
          "contour": [
           {
            "colorbar": {
             "outlinewidth": 0,
             "ticks": ""
            },
            "colorscale": [
             [
              0,
              "#0d0887"
             ],
             [
              0.1111111111111111,
              "#46039f"
             ],
             [
              0.2222222222222222,
              "#7201a8"
             ],
             [
              0.3333333333333333,
              "#9c179e"
             ],
             [
              0.4444444444444444,
              "#bd3786"
             ],
             [
              0.5555555555555556,
              "#d8576b"
             ],
             [
              0.6666666666666666,
              "#ed7953"
             ],
             [
              0.7777777777777778,
              "#fb9f3a"
             ],
             [
              0.8888888888888888,
              "#fdca26"
             ],
             [
              1,
              "#f0f921"
             ]
            ],
            "type": "contour"
           }
          ],
          "contourcarpet": [
           {
            "colorbar": {
             "outlinewidth": 0,
             "ticks": ""
            },
            "type": "contourcarpet"
           }
          ],
          "heatmap": [
           {
            "colorbar": {
             "outlinewidth": 0,
             "ticks": ""
            },
            "colorscale": [
             [
              0,
              "#0d0887"
             ],
             [
              0.1111111111111111,
              "#46039f"
             ],
             [
              0.2222222222222222,
              "#7201a8"
             ],
             [
              0.3333333333333333,
              "#9c179e"
             ],
             [
              0.4444444444444444,
              "#bd3786"
             ],
             [
              0.5555555555555556,
              "#d8576b"
             ],
             [
              0.6666666666666666,
              "#ed7953"
             ],
             [
              0.7777777777777778,
              "#fb9f3a"
             ],
             [
              0.8888888888888888,
              "#fdca26"
             ],
             [
              1,
              "#f0f921"
             ]
            ],
            "type": "heatmap"
           }
          ],
          "heatmapgl": [
           {
            "colorbar": {
             "outlinewidth": 0,
             "ticks": ""
            },
            "colorscale": [
             [
              0,
              "#0d0887"
             ],
             [
              0.1111111111111111,
              "#46039f"
             ],
             [
              0.2222222222222222,
              "#7201a8"
             ],
             [
              0.3333333333333333,
              "#9c179e"
             ],
             [
              0.4444444444444444,
              "#bd3786"
             ],
             [
              0.5555555555555556,
              "#d8576b"
             ],
             [
              0.6666666666666666,
              "#ed7953"
             ],
             [
              0.7777777777777778,
              "#fb9f3a"
             ],
             [
              0.8888888888888888,
              "#fdca26"
             ],
             [
              1,
              "#f0f921"
             ]
            ],
            "type": "heatmapgl"
           }
          ],
          "histogram": [
           {
            "marker": {
             "colorbar": {
              "outlinewidth": 0,
              "ticks": ""
             }
            },
            "type": "histogram"
           }
          ],
          "histogram2d": [
           {
            "colorbar": {
             "outlinewidth": 0,
             "ticks": ""
            },
            "colorscale": [
             [
              0,
              "#0d0887"
             ],
             [
              0.1111111111111111,
              "#46039f"
             ],
             [
              0.2222222222222222,
              "#7201a8"
             ],
             [
              0.3333333333333333,
              "#9c179e"
             ],
             [
              0.4444444444444444,
              "#bd3786"
             ],
             [
              0.5555555555555556,
              "#d8576b"
             ],
             [
              0.6666666666666666,
              "#ed7953"
             ],
             [
              0.7777777777777778,
              "#fb9f3a"
             ],
             [
              0.8888888888888888,
              "#fdca26"
             ],
             [
              1,
              "#f0f921"
             ]
            ],
            "type": "histogram2d"
           }
          ],
          "histogram2dcontour": [
           {
            "colorbar": {
             "outlinewidth": 0,
             "ticks": ""
            },
            "colorscale": [
             [
              0,
              "#0d0887"
             ],
             [
              0.1111111111111111,
              "#46039f"
             ],
             [
              0.2222222222222222,
              "#7201a8"
             ],
             [
              0.3333333333333333,
              "#9c179e"
             ],
             [
              0.4444444444444444,
              "#bd3786"
             ],
             [
              0.5555555555555556,
              "#d8576b"
             ],
             [
              0.6666666666666666,
              "#ed7953"
             ],
             [
              0.7777777777777778,
              "#fb9f3a"
             ],
             [
              0.8888888888888888,
              "#fdca26"
             ],
             [
              1,
              "#f0f921"
             ]
            ],
            "type": "histogram2dcontour"
           }
          ],
          "mesh3d": [
           {
            "colorbar": {
             "outlinewidth": 0,
             "ticks": ""
            },
            "type": "mesh3d"
           }
          ],
          "parcoords": [
           {
            "line": {
             "colorbar": {
              "outlinewidth": 0,
              "ticks": ""
             }
            },
            "type": "parcoords"
           }
          ],
          "pie": [
           {
            "automargin": true,
            "type": "pie"
           }
          ],
          "scatter": [
           {
            "marker": {
             "colorbar": {
              "outlinewidth": 0,
              "ticks": ""
             }
            },
            "type": "scatter"
           }
          ],
          "scatter3d": [
           {
            "line": {
             "colorbar": {
              "outlinewidth": 0,
              "ticks": ""
             }
            },
            "marker": {
             "colorbar": {
              "outlinewidth": 0,
              "ticks": ""
             }
            },
            "type": "scatter3d"
           }
          ],
          "scattercarpet": [
           {
            "marker": {
             "colorbar": {
              "outlinewidth": 0,
              "ticks": ""
             }
            },
            "type": "scattercarpet"
           }
          ],
          "scattergeo": [
           {
            "marker": {
             "colorbar": {
              "outlinewidth": 0,
              "ticks": ""
             }
            },
            "type": "scattergeo"
           }
          ],
          "scattergl": [
           {
            "marker": {
             "colorbar": {
              "outlinewidth": 0,
              "ticks": ""
             }
            },
            "type": "scattergl"
           }
          ],
          "scattermapbox": [
           {
            "marker": {
             "colorbar": {
              "outlinewidth": 0,
              "ticks": ""
             }
            },
            "type": "scattermapbox"
           }
          ],
          "scatterpolar": [
           {
            "marker": {
             "colorbar": {
              "outlinewidth": 0,
              "ticks": ""
             }
            },
            "type": "scatterpolar"
           }
          ],
          "scatterpolargl": [
           {
            "marker": {
             "colorbar": {
              "outlinewidth": 0,
              "ticks": ""
             }
            },
            "type": "scatterpolargl"
           }
          ],
          "scatterternary": [
           {
            "marker": {
             "colorbar": {
              "outlinewidth": 0,
              "ticks": ""
             }
            },
            "type": "scatterternary"
           }
          ],
          "surface": [
           {
            "colorbar": {
             "outlinewidth": 0,
             "ticks": ""
            },
            "colorscale": [
             [
              0,
              "#0d0887"
             ],
             [
              0.1111111111111111,
              "#46039f"
             ],
             [
              0.2222222222222222,
              "#7201a8"
             ],
             [
              0.3333333333333333,
              "#9c179e"
             ],
             [
              0.4444444444444444,
              "#bd3786"
             ],
             [
              0.5555555555555556,
              "#d8576b"
             ],
             [
              0.6666666666666666,
              "#ed7953"
             ],
             [
              0.7777777777777778,
              "#fb9f3a"
             ],
             [
              0.8888888888888888,
              "#fdca26"
             ],
             [
              1,
              "#f0f921"
             ]
            ],
            "type": "surface"
           }
          ],
          "table": [
           {
            "cells": {
             "fill": {
              "color": "#EBF0F8"
             },
             "line": {
              "color": "white"
             }
            },
            "header": {
             "fill": {
              "color": "#C8D4E3"
             },
             "line": {
              "color": "white"
             }
            },
            "type": "table"
           }
          ]
         },
         "layout": {
          "annotationdefaults": {
           "arrowcolor": "#2a3f5f",
           "arrowhead": 0,
           "arrowwidth": 1
          },
          "autotypenumbers": "strict",
          "coloraxis": {
           "colorbar": {
            "outlinewidth": 0,
            "ticks": ""
           }
          },
          "colorscale": {
           "diverging": [
            [
             0,
             "#8e0152"
            ],
            [
             0.1,
             "#c51b7d"
            ],
            [
             0.2,
             "#de77ae"
            ],
            [
             0.3,
             "#f1b6da"
            ],
            [
             0.4,
             "#fde0ef"
            ],
            [
             0.5,
             "#f7f7f7"
            ],
            [
             0.6,
             "#e6f5d0"
            ],
            [
             0.7,
             "#b8e186"
            ],
            [
             0.8,
             "#7fbc41"
            ],
            [
             0.9,
             "#4d9221"
            ],
            [
             1,
             "#276419"
            ]
           ],
           "sequential": [
            [
             0,
             "#0d0887"
            ],
            [
             0.1111111111111111,
             "#46039f"
            ],
            [
             0.2222222222222222,
             "#7201a8"
            ],
            [
             0.3333333333333333,
             "#9c179e"
            ],
            [
             0.4444444444444444,
             "#bd3786"
            ],
            [
             0.5555555555555556,
             "#d8576b"
            ],
            [
             0.6666666666666666,
             "#ed7953"
            ],
            [
             0.7777777777777778,
             "#fb9f3a"
            ],
            [
             0.8888888888888888,
             "#fdca26"
            ],
            [
             1,
             "#f0f921"
            ]
           ],
           "sequentialminus": [
            [
             0,
             "#0d0887"
            ],
            [
             0.1111111111111111,
             "#46039f"
            ],
            [
             0.2222222222222222,
             "#7201a8"
            ],
            [
             0.3333333333333333,
             "#9c179e"
            ],
            [
             0.4444444444444444,
             "#bd3786"
            ],
            [
             0.5555555555555556,
             "#d8576b"
            ],
            [
             0.6666666666666666,
             "#ed7953"
            ],
            [
             0.7777777777777778,
             "#fb9f3a"
            ],
            [
             0.8888888888888888,
             "#fdca26"
            ],
            [
             1,
             "#f0f921"
            ]
           ]
          },
          "colorway": [
           "#636efa",
           "#EF553B",
           "#00cc96",
           "#ab63fa",
           "#FFA15A",
           "#19d3f3",
           "#FF6692",
           "#B6E880",
           "#FF97FF",
           "#FECB52"
          ],
          "font": {
           "color": "#2a3f5f"
          },
          "geo": {
           "bgcolor": "white",
           "lakecolor": "white",
           "landcolor": "#E5ECF6",
           "showlakes": true,
           "showland": true,
           "subunitcolor": "white"
          },
          "hoverlabel": {
           "align": "left"
          },
          "hovermode": "closest",
          "mapbox": {
           "style": "light"
          },
          "paper_bgcolor": "white",
          "plot_bgcolor": "#E5ECF6",
          "polar": {
           "angularaxis": {
            "gridcolor": "white",
            "linecolor": "white",
            "ticks": ""
           },
           "bgcolor": "#E5ECF6",
           "radialaxis": {
            "gridcolor": "white",
            "linecolor": "white",
            "ticks": ""
           }
          },
          "scene": {
           "xaxis": {
            "backgroundcolor": "#E5ECF6",
            "gridcolor": "white",
            "gridwidth": 2,
            "linecolor": "white",
            "showbackground": true,
            "ticks": "",
            "zerolinecolor": "white"
           },
           "yaxis": {
            "backgroundcolor": "#E5ECF6",
            "gridcolor": "white",
            "gridwidth": 2,
            "linecolor": "white",
            "showbackground": true,
            "ticks": "",
            "zerolinecolor": "white"
           },
           "zaxis": {
            "backgroundcolor": "#E5ECF6",
            "gridcolor": "white",
            "gridwidth": 2,
            "linecolor": "white",
            "showbackground": true,
            "ticks": "",
            "zerolinecolor": "white"
           }
          },
          "shapedefaults": {
           "line": {
            "color": "#2a3f5f"
           }
          },
          "ternary": {
           "aaxis": {
            "gridcolor": "white",
            "linecolor": "white",
            "ticks": ""
           },
           "baxis": {
            "gridcolor": "white",
            "linecolor": "white",
            "ticks": ""
           },
           "bgcolor": "#E5ECF6",
           "caxis": {
            "gridcolor": "white",
            "linecolor": "white",
            "ticks": ""
           }
          },
          "title": {
           "x": 0.05
          },
          "xaxis": {
           "automargin": true,
           "gridcolor": "white",
           "linecolor": "white",
           "ticks": "",
           "title": {
            "standoff": 15
           },
           "zerolinecolor": "white",
           "zerolinewidth": 2
          },
          "yaxis": {
           "automargin": true,
           "gridcolor": "white",
           "linecolor": "white",
           "ticks": "",
           "title": {
            "standoff": 15
           },
           "zerolinecolor": "white",
           "zerolinewidth": 2
          }
         }
        },
        "title": {
         "text": "Words Frequency in Tribunal Appeals",
         "x": 0.5,
         "xanchor": "center",
         "y": 0.95,
         "yanchor": "top"
        },
        "uniformtext": {
         "minsize": 8,
         "mode": "hide"
        },
        "width": 1050,
        "xaxis": {
         "anchor": "y",
         "domain": [
          0,
          1
         ],
         "title": {
          "text": "Frequency"
         }
        },
        "yaxis": {
         "anchor": "x",
         "categoryorder": "total ascending",
         "domain": [
          0,
          1
         ],
         "showticklabels": false,
         "title": {
          "text": "Words"
         },
         "type": "category"
        }
       }
      },
      "text/html": [
       "<div>                            <div id=\"9d000a08-20b4-4c29-9d83-16a82e2d31dc\" class=\"plotly-graph-div\" style=\"height:500px; width:1050px;\"></div>            <script type=\"text/javascript\">                require([\"plotly\"], function(Plotly) {                    window.PLOTLYENV=window.PLOTLYENV || {};                                    if (document.getElementById(\"9d000a08-20b4-4c29-9d83-16a82e2d31dc\")) {                    Plotly.newPlot(                        \"9d000a08-20b4-4c29-9d83-16a82e2d31dc\",                        [{\"alignmentgroup\": \"True\", \"hovertemplate\": \"Frequency=%{x}<br>Words=%{text}<extra></extra>\", \"legendgroup\": \"\", \"marker\": {\"color\": \"purple\"}, \"name\": \"\", \"offsetgroup\": \"\", \"orientation\": \"h\", \"showlegend\": false, \"text\": [\"upper\", \"tribunal\", \"immigration\", \"asylum\", \"chamber\", \"appeal\", \"number\", \"pa/00240/2019\"], \"textposition\": \"auto\", \"texttemplate\": \"%{text}\", \"type\": \"bar\", \"x\": [11, 24, 4, 9, 2, 19, 12, 6], \"xaxis\": \"x\", \"y\": [\"upper\", \"tribunal\", \"immigration\", \"asylum\", \"chamber\", \"appeal\", \"number\", \"pa/00240/2019\"], \"yaxis\": \"y\"}],                        {\"autosize\": false, \"barmode\": \"relative\", \"height\": 500, \"legend\": {\"tracegroupgap\": 0}, \"margin\": {\"t\": 60}, \"template\": {\"data\": {\"bar\": [{\"error_x\": {\"color\": \"#2a3f5f\"}, \"error_y\": {\"color\": \"#2a3f5f\"}, \"marker\": {\"line\": {\"color\": \"#E5ECF6\", \"width\": 0.5}}, \"type\": \"bar\"}], \"barpolar\": [{\"marker\": {\"line\": {\"color\": \"#E5ECF6\", \"width\": 0.5}}, \"type\": \"barpolar\"}], \"carpet\": [{\"aaxis\": {\"endlinecolor\": \"#2a3f5f\", \"gridcolor\": \"white\", \"linecolor\": \"white\", \"minorgridcolor\": \"white\", \"startlinecolor\": \"#2a3f5f\"}, \"baxis\": {\"endlinecolor\": \"#2a3f5f\", \"gridcolor\": \"white\", \"linecolor\": \"white\", \"minorgridcolor\": \"white\", \"startlinecolor\": \"#2a3f5f\"}, \"type\": \"carpet\"}], \"choropleth\": [{\"colorbar\": {\"outlinewidth\": 0, \"ticks\": \"\"}, \"type\": \"choropleth\"}], \"contour\": [{\"colorbar\": {\"outlinewidth\": 0, \"ticks\": \"\"}, \"colorscale\": [[0.0, \"#0d0887\"], [0.1111111111111111, \"#46039f\"], [0.2222222222222222, \"#7201a8\"], [0.3333333333333333, \"#9c179e\"], [0.4444444444444444, \"#bd3786\"], [0.5555555555555556, \"#d8576b\"], [0.6666666666666666, \"#ed7953\"], [0.7777777777777778, \"#fb9f3a\"], [0.8888888888888888, \"#fdca26\"], [1.0, \"#f0f921\"]], \"type\": \"contour\"}], \"contourcarpet\": [{\"colorbar\": {\"outlinewidth\": 0, \"ticks\": \"\"}, \"type\": \"contourcarpet\"}], \"heatmap\": [{\"colorbar\": {\"outlinewidth\": 0, \"ticks\": \"\"}, \"colorscale\": [[0.0, \"#0d0887\"], [0.1111111111111111, \"#46039f\"], [0.2222222222222222, \"#7201a8\"], [0.3333333333333333, \"#9c179e\"], [0.4444444444444444, \"#bd3786\"], [0.5555555555555556, \"#d8576b\"], [0.6666666666666666, \"#ed7953\"], [0.7777777777777778, \"#fb9f3a\"], [0.8888888888888888, \"#fdca26\"], [1.0, \"#f0f921\"]], \"type\": \"heatmap\"}], \"heatmapgl\": [{\"colorbar\": {\"outlinewidth\": 0, \"ticks\": \"\"}, \"colorscale\": [[0.0, \"#0d0887\"], [0.1111111111111111, \"#46039f\"], [0.2222222222222222, \"#7201a8\"], [0.3333333333333333, \"#9c179e\"], [0.4444444444444444, \"#bd3786\"], [0.5555555555555556, \"#d8576b\"], [0.6666666666666666, \"#ed7953\"], [0.7777777777777778, \"#fb9f3a\"], [0.8888888888888888, \"#fdca26\"], [1.0, \"#f0f921\"]], \"type\": \"heatmapgl\"}], \"histogram\": [{\"marker\": {\"colorbar\": {\"outlinewidth\": 0, \"ticks\": \"\"}}, \"type\": \"histogram\"}], \"histogram2d\": [{\"colorbar\": {\"outlinewidth\": 0, \"ticks\": \"\"}, \"colorscale\": [[0.0, \"#0d0887\"], [0.1111111111111111, \"#46039f\"], [0.2222222222222222, \"#7201a8\"], [0.3333333333333333, \"#9c179e\"], [0.4444444444444444, \"#bd3786\"], [0.5555555555555556, \"#d8576b\"], [0.6666666666666666, \"#ed7953\"], [0.7777777777777778, \"#fb9f3a\"], [0.8888888888888888, \"#fdca26\"], [1.0, \"#f0f921\"]], \"type\": \"histogram2d\"}], \"histogram2dcontour\": [{\"colorbar\": {\"outlinewidth\": 0, \"ticks\": \"\"}, \"colorscale\": [[0.0, \"#0d0887\"], [0.1111111111111111, \"#46039f\"], [0.2222222222222222, \"#7201a8\"], [0.3333333333333333, \"#9c179e\"], [0.4444444444444444, \"#bd3786\"], [0.5555555555555556, \"#d8576b\"], [0.6666666666666666, \"#ed7953\"], [0.7777777777777778, \"#fb9f3a\"], [0.8888888888888888, \"#fdca26\"], [1.0, \"#f0f921\"]], \"type\": \"histogram2dcontour\"}], \"mesh3d\": [{\"colorbar\": {\"outlinewidth\": 0, \"ticks\": \"\"}, \"type\": \"mesh3d\"}], \"parcoords\": [{\"line\": {\"colorbar\": {\"outlinewidth\": 0, \"ticks\": \"\"}}, \"type\": \"parcoords\"}], \"pie\": [{\"automargin\": true, \"type\": \"pie\"}], \"scatter\": [{\"marker\": {\"colorbar\": {\"outlinewidth\": 0, \"ticks\": \"\"}}, \"type\": \"scatter\"}], \"scatter3d\": [{\"line\": {\"colorbar\": {\"outlinewidth\": 0, \"ticks\": \"\"}}, \"marker\": {\"colorbar\": {\"outlinewidth\": 0, \"ticks\": \"\"}}, \"type\": \"scatter3d\"}], \"scattercarpet\": [{\"marker\": {\"colorbar\": {\"outlinewidth\": 0, \"ticks\": \"\"}}, \"type\": \"scattercarpet\"}], \"scattergeo\": [{\"marker\": {\"colorbar\": {\"outlinewidth\": 0, \"ticks\": \"\"}}, \"type\": \"scattergeo\"}], \"scattergl\": [{\"marker\": {\"colorbar\": {\"outlinewidth\": 0, \"ticks\": \"\"}}, \"type\": \"scattergl\"}], \"scattermapbox\": [{\"marker\": {\"colorbar\": {\"outlinewidth\": 0, \"ticks\": \"\"}}, \"type\": \"scattermapbox\"}], \"scatterpolar\": [{\"marker\": {\"colorbar\": {\"outlinewidth\": 0, \"ticks\": \"\"}}, \"type\": \"scatterpolar\"}], \"scatterpolargl\": [{\"marker\": {\"colorbar\": {\"outlinewidth\": 0, \"ticks\": \"\"}}, \"type\": \"scatterpolargl\"}], \"scatterternary\": [{\"marker\": {\"colorbar\": {\"outlinewidth\": 0, \"ticks\": \"\"}}, \"type\": \"scatterternary\"}], \"surface\": [{\"colorbar\": {\"outlinewidth\": 0, \"ticks\": \"\"}, \"colorscale\": [[0.0, \"#0d0887\"], [0.1111111111111111, \"#46039f\"], [0.2222222222222222, \"#7201a8\"], [0.3333333333333333, \"#9c179e\"], [0.4444444444444444, \"#bd3786\"], [0.5555555555555556, \"#d8576b\"], [0.6666666666666666, \"#ed7953\"], [0.7777777777777778, \"#fb9f3a\"], [0.8888888888888888, \"#fdca26\"], [1.0, \"#f0f921\"]], \"type\": \"surface\"}], \"table\": [{\"cells\": {\"fill\": {\"color\": \"#EBF0F8\"}, \"line\": {\"color\": \"white\"}}, \"header\": {\"fill\": {\"color\": \"#C8D4E3\"}, \"line\": {\"color\": \"white\"}}, \"type\": \"table\"}]}, \"layout\": {\"annotationdefaults\": {\"arrowcolor\": \"#2a3f5f\", \"arrowhead\": 0, \"arrowwidth\": 1}, \"autotypenumbers\": \"strict\", \"coloraxis\": {\"colorbar\": {\"outlinewidth\": 0, \"ticks\": \"\"}}, \"colorscale\": {\"diverging\": [[0, \"#8e0152\"], [0.1, \"#c51b7d\"], [0.2, \"#de77ae\"], [0.3, \"#f1b6da\"], [0.4, \"#fde0ef\"], [0.5, \"#f7f7f7\"], [0.6, \"#e6f5d0\"], [0.7, \"#b8e186\"], [0.8, \"#7fbc41\"], [0.9, \"#4d9221\"], [1, \"#276419\"]], \"sequential\": [[0.0, \"#0d0887\"], [0.1111111111111111, \"#46039f\"], [0.2222222222222222, \"#7201a8\"], [0.3333333333333333, \"#9c179e\"], [0.4444444444444444, \"#bd3786\"], [0.5555555555555556, \"#d8576b\"], [0.6666666666666666, \"#ed7953\"], [0.7777777777777778, \"#fb9f3a\"], [0.8888888888888888, \"#fdca26\"], [1.0, \"#f0f921\"]], \"sequentialminus\": [[0.0, \"#0d0887\"], [0.1111111111111111, \"#46039f\"], [0.2222222222222222, \"#7201a8\"], [0.3333333333333333, \"#9c179e\"], [0.4444444444444444, \"#bd3786\"], [0.5555555555555556, \"#d8576b\"], [0.6666666666666666, \"#ed7953\"], [0.7777777777777778, \"#fb9f3a\"], [0.8888888888888888, \"#fdca26\"], [1.0, \"#f0f921\"]]}, \"colorway\": [\"#636efa\", \"#EF553B\", \"#00cc96\", \"#ab63fa\", \"#FFA15A\", \"#19d3f3\", \"#FF6692\", \"#B6E880\", \"#FF97FF\", \"#FECB52\"], \"font\": {\"color\": \"#2a3f5f\"}, \"geo\": {\"bgcolor\": \"white\", \"lakecolor\": \"white\", \"landcolor\": \"#E5ECF6\", \"showlakes\": true, \"showland\": true, \"subunitcolor\": \"white\"}, \"hoverlabel\": {\"align\": \"left\"}, \"hovermode\": \"closest\", \"mapbox\": {\"style\": \"light\"}, \"paper_bgcolor\": \"white\", \"plot_bgcolor\": \"#E5ECF6\", \"polar\": {\"angularaxis\": {\"gridcolor\": \"white\", \"linecolor\": \"white\", \"ticks\": \"\"}, \"bgcolor\": \"#E5ECF6\", \"radialaxis\": {\"gridcolor\": \"white\", \"linecolor\": \"white\", \"ticks\": \"\"}}, \"scene\": {\"xaxis\": {\"backgroundcolor\": \"#E5ECF6\", \"gridcolor\": \"white\", \"gridwidth\": 2, \"linecolor\": \"white\", \"showbackground\": true, \"ticks\": \"\", \"zerolinecolor\": \"white\"}, \"yaxis\": {\"backgroundcolor\": \"#E5ECF6\", \"gridcolor\": \"white\", \"gridwidth\": 2, \"linecolor\": \"white\", \"showbackground\": true, \"ticks\": \"\", \"zerolinecolor\": \"white\"}, \"zaxis\": {\"backgroundcolor\": \"#E5ECF6\", \"gridcolor\": \"white\", \"gridwidth\": 2, \"linecolor\": \"white\", \"showbackground\": true, \"ticks\": \"\", \"zerolinecolor\": \"white\"}}, \"shapedefaults\": {\"line\": {\"color\": \"#2a3f5f\"}}, \"ternary\": {\"aaxis\": {\"gridcolor\": \"white\", \"linecolor\": \"white\", \"ticks\": \"\"}, \"baxis\": {\"gridcolor\": \"white\", \"linecolor\": \"white\", \"ticks\": \"\"}, \"bgcolor\": \"#E5ECF6\", \"caxis\": {\"gridcolor\": \"white\", \"linecolor\": \"white\", \"ticks\": \"\"}}, \"title\": {\"x\": 0.05}, \"xaxis\": {\"automargin\": true, \"gridcolor\": \"white\", \"linecolor\": \"white\", \"ticks\": \"\", \"title\": {\"standoff\": 15}, \"zerolinecolor\": \"white\", \"zerolinewidth\": 2}, \"yaxis\": {\"automargin\": true, \"gridcolor\": \"white\", \"linecolor\": \"white\", \"ticks\": \"\", \"title\": {\"standoff\": 15}, \"zerolinecolor\": \"white\", \"zerolinewidth\": 2}}}, \"title\": {\"text\": \"Words Frequency in Tribunal Appeals\", \"x\": 0.5, \"xanchor\": \"center\", \"y\": 0.95, \"yanchor\": \"top\"}, \"uniformtext\": {\"minsize\": 8, \"mode\": \"hide\"}, \"width\": 1050, \"xaxis\": {\"anchor\": \"y\", \"domain\": [0.0, 1.0], \"title\": {\"text\": \"Frequency\"}}, \"yaxis\": {\"anchor\": \"x\", \"categoryorder\": \"total ascending\", \"domain\": [0.0, 1.0], \"showticklabels\": false, \"title\": {\"text\": \"Words\"}, \"type\": \"category\"}},                        {\"responsive\": true}                    ).then(function(){\n",
       "                            \n",
       "var gd = document.getElementById('9d000a08-20b4-4c29-9d83-16a82e2d31dc');\n",
       "var x = new MutationObserver(function (mutations, observer) {{\n",
       "        var display = window.getComputedStyle(gd).display;\n",
       "        if (!display || display === 'none') {{\n",
       "            console.log([gd, 'removed!']);\n",
       "            Plotly.purge(gd);\n",
       "            observer.disconnect();\n",
       "        }}\n",
       "}});\n",
       "\n",
       "// Listen for the removal of the full notebook cells\n",
       "var notebookContainer = gd.closest('#notebook-container');\n",
       "if (notebookContainer) {{\n",
       "    x.observe(notebookContainer, {childList: true});\n",
       "}}\n",
       "\n",
       "// Listen for the clearing of the current output cell\n",
       "var outputEl = gd.closest('.output');\n",
       "if (outputEl) {{\n",
       "    x.observe(outputEl, {childList: true});\n",
       "}}\n",
       "\n",
       "                        })                };                });            </script>        </div>"
      ]
     },
     "metadata": {},
     "output_type": "display_data"
    }
   ],
   "source": [
    "fig = px.bar(df_clean_2.loc[0:10,:], x='counts', y='words', orientation='h', text = 'words',\n",
    "             labels={\n",
    "                     \"counts\": \"Frequency\",\n",
    "                     \"words\": \"Words\"\n",
    "                 },)\n",
    "fig.layout.yaxis.type = 'category'\n",
    "fig.update_layout(yaxis_categoryorder = 'total ascending')\n",
    "fig.update_layout(yaxis=dict(showticklabels=False))\n",
    "fig.update_traces(texttemplate='%{text}', textposition='auto', marker_color='purple')\n",
    "fig.update_layout(uniformtext_minsize=8, uniformtext_mode='hide',   title={\n",
    "        'text': \"Words Frequency in Tribunal Appeals\",\n",
    "        'y':0.95,\n",
    "        'x':0.5,\n",
    "        'xanchor': 'center',\n",
    "        'yanchor': 'top'})\n",
    "fig.update_layout(\n",
    "    autosize=False,\n",
    "    width=1050,\n",
    "    height=500)\n",
    "fig.show()"
   ]
  },
  {
   "cell_type": "code",
   "execution_count": 71,
   "metadata": {},
   "outputs": [],
   "source": [
    "text = re.sub('\\(', ' ', text)\n",
    "text = re.sub('\\)', ' ', text)"
   ]
  },
  {
   "cell_type": "code",
   "execution_count": 72,
   "metadata": {},
   "outputs": [
    {
     "data": {
      "text/plain": [
       "'Upper Tribunal  Immigration and Asylum Chamber  Appeal Number: PA/00240/2019 THE IMMIGRATION ACTS Heard at Birmingham CJC Decision & Reasons Promulgated On 21 November 2019 On 8 November 2019 Before DEPUTY UPPER TRIBUNAL JUDGE O’RYAN Between MR D A  ANONYMITY DIRECTION MADE  Appellant and THE SECRETARY OF STATE FOR THE HOME DEPARTMENT Respondent Representation: For the Appellant: Mr Sharif, Fountain Solicitors For the Respondent: Mr Mills, Senior Home Office Presenting Officer DECISION AND REASONS 1. This is the Appellant’s appeal against the decision of Judge of the First-tier Tribunal Boylan-Kemp MBE dated 2 May 2019 dismissing the Appellant’s appeal against the Respondent’s decision of 23 November 2018 refusing his human rights and protection claim. © CROWN COPYRIGHT 2019Appeal Number: PA/00240/2019 2. The Appellant is a national of Iraq of Kurdish origin and from Sulamaniyah in the IKR. He gave an account that he was at risk of serious harm in the IKR by reason of his family and extended tribe being in a feud with another tribe in the IKR. The Appellant was not able to give many details of the origins of the feud but stated that one family member had been killed as a result of it and that he himself had experienced two incidents; one being that unknown persons had fired upon a car in which he was travelling and his cousin had been injured in the shoulder, and another occasion when the house in which he lived was fired upon. 3. The Respondent in its decision refusing the protection claim disbelieved the Appellant’s account that there was any feud on the grounds that the Appellant knew very few details of the alleged feud. There was also said to be a discrepancy as between the Appellant’s evidence in interview as to how many occasions the Appellant experienced any problems himself  refusal letter, para [26]  and a discrepancy between an alleged fear of his own father  resulting from the Appellant refusing to take part in the feud  and information given in an age assessment interview in which he had stated that he had a good relationship with his family members  para [31] . 4. The Appellant appealed against that decision and the matter came before the judge at the Birmingham hearing centre on 18 March 2019. The Appellant was represented and gave evidence. At the date of that hearing the Appellant would have been 18 years of age. A further document was relied upon by the Respondent at that hearing, being a EURODAC search result, demonstrating that a person in the Appellant’s identity was fingerprinted in Dresden in Germany on 22 March 2016. The Appellant’s account as given in his SEF interview and confirmed in oral evidence before the judge was that he only left Iraq in December 2017. The Appellant denied before the judge that the person identified in the EURODAC search was him but the judge stated that she was satisfied by the details contained within the document, and looking at the clear photograph on the EURODAC match, that the person fingerprinted in Germany was indeed the Appellant. 5. The judge found at paragraph 14 onwards as follows: “16. The evidence provided by the EURODAC document is unequivocal. The photograph contained within the document is clearly the Appellant who appeared before me and I have no reason to doubt that the document relates to him. Therefore this document upon which I am satisfied I can place significant weight puts him in Germany on 22 March 2016. Consequently I find that this evidence undermines the credibility of his entire account and his credibility as a witness in his own cause and that it renders his entire account unreliable. 2Appeal Number: PA/00240/2019 17. Further I also find his inability to recall the details of the alleged feud which caused him to leave his family and flee the country to also not be credible. If a young man was leaving his life behind because of his reluctance to become involved in an ongoing family feud then I would anticipate that he would have knowledge of what he is in fear of and so I do not find it plausible that he would not know the details of this feud if he held such a genuine fear. Also I note that even on his own evidence there has been no specific risk or threat made to him which would cause him to fear for his own safety beyond what is a more general tribal threat and of which he cannot provide much detail. ... 18. As I have found the Appellant’s alleged reasoning for leaving Iraq to not be credible then I also find that it is not plausible that his family have consequently threatened him as claimed due to his alleged desertion because of the alleged feud. Instead I find that he has travelled to the UK with the assistance and knowledge of his family for reasons other than escaping a risk of persecution. As such I find that his family would therefore be able to assist him with obtaining a copy of his identification documents and CSID which would help facilitate his return to Iraq. I also find that he would be able to return to the help and support of his family there.” The judge dismissed the Appellant’s appeal. 6. The Appellant appeals to the Upper Tribunal on grounds dated 15 May 2019 which argue very briefly that the judge erred in law at paragraphs 15 to 20 by giving inadequate reasoning for finding the Appellant’s account to not be credible and secondly that the judge had failed to apply relevant country guidance. 7. Permission to appeal was granted by Judge of the First-tier Tribunal Keane on 24 June 2019. The judge stated as follows: “The judge arguably had regard to irrelevant considerations in finding that the Appellant had not given a credible account of events. The judge’s findings as to the credibility were to be found at paragraphs 15 to 18 inclusive of her decision. At paragraph 15 the judge attached weight so as to undermine the Appellant’s credibility to a EURODAC printout provided by the Respondent which as the judge found proved that the Appellant was photographed and printed in Germany on 22 March 2016. The judge however did not explain why such circumstance damaged the Appellant’s credibility. If the judge had in mind the Appellant’s apparent failure to claim asylum in Germany the judge arguably should have stated so. At paragraph 16 of the decision the judge again accorded weight to the EURODAC document without stating why. At paragraph 17 of the decision the 3Appeal Number: PA/00240/2019 judge stated that the judge would have anticipated that the Appellant would have had knowledge of the alleged feud which on his case caused him to leave his family and indeed his country. The judge arguably substituted her own understanding of what constituted reasonable conduct in circumstances where arguably she should not have done so. At paragraph 18 the judge stated that it was not plausible that the Appellant’s family have consequently threatened him on account of his ostensible desertion and the judge was arguably disbelieving the Appellant’s account without providing any or adequate reasons. It was incumbent on the judge in resolving the issue of credibility to embark upon a global assessment of the Appellant’s credibility and to provide adequate reasons in support of a finding that he had not done so. This the judge arguably failed to do.” Submissions 8. Mr Sharif relies upon the grounds of appeal and the admittedly more extensive grant of permission to appeal in support of his Appellant’s case. 9. Mr Sharif points out that the only date given in the Appellant’s account for any particular incident was in relation to the incident when the car in which the Appellant was travelling had been shot at. The date for that is to be found in the SEF interview at [86] and was simply ‘2016’. The Appellant gives no other dates for the matters that he relies upon in support of the proposition that he is at risk because of a blood feud in Iraq. He does however consistently state that he left Iraq in December 2017. Mr Sharif argues that the Appellant had accepted in the course of his evidence that he had travelled through Germany and therefore the evidence from the EURODAC search confirming that did not alter the credibility of the Appellant’s account. Mr Sharif also argued that the judge’s findings in relation to it being incredible that the Appellant would not have had more knowledge about the details of the feud was an irrational finding on the part of the judge. 10. For his part Mr Mills defends the judge’s decision and argues that the dishonest statement that the Appellant had remained in December 2017 was clearly capable of affecting the credibility of the Appellant’s account. I raised with him whether or not such a discrepancy could be treated as determinative of the account given that there were no dates given in the Appellant’s account of matters occurring in Iraq any later than 22 March 2016. Mr Mills appeared to accept that it was right to say that the Appellant’s credibility was not determinatively decided by the discrepancy of his whereabouts in March 2016. However Mr Mills points to the other findings at paragraph 17 in support of the judge’s reasoning. Discussion 11. I find no material error of law in the judge’s decision. The suggestion in the grant of permission to appeal by Judge Keane that the judge had 4Appeal Number: PA/00240/2019 arguably had regard to irrelevant considerations is difficult to sustain. The Appellant has clearly given inconsistent evidence about his whereabouts, on the one part insisting that he remained in Iraq in December 2017 but incontrovertible evidence existing from the EURODAC search result that he was present in Germany on 22 March 2016. These two items of evidence simply cannot sit together. True it is that there are no details of the Appellant’s account of any incidents that he has set out which are dated any later than 22 March 2016, and therefore being shot at in ‘2016’ and him departing Iraq prior to 22 March 2016 does not necessarily make his account impossible to believe, but it is clearly a very significant matter that the Appellant has lied about his continued presence in Iraq up to the point of December 2017 and the judge was fully entitled to treat that as a very significant matter. Whether or not she was entitled to treat it as rendering ‘his entire account unreliable’ is moot. 12. However the judge does not stop there in her credibility findings because she continues, as is clear at paragraph 17, to set out other reasons for finding the Appellant’s account incredible. Whereas it may be expected that a young person may not be as fully informed about the details of a feud affecting his family and the wider tribe as might a fully-grown adult, the judge’s point is that the Appellant decided, together with the assistance of a relative, to leave Iraq because of this feud and the judge was entitled to find that it was implausible that the Appellant knew so little about the feud whereas it had been the specific cause of his decision to leave the country. I find that it was not irrational for the judge to make the findings that she did at paragraph 17. There are a number of reasons therefore given by the judge for finding the Appellant’s account incredible and I find that none of those reasons is vitiated by any error of law. 13. Judge Keane in granting permission did not comment upon the Appellant’s actual second ground which was that the judge had failed to apply country guidance relevant to the issue of obtaining documents for readmission and residence in Iraq. However in the light of my decision that the judge’s credibility findings are sustainable it is also sustainable that the Appellant can have the assistance of family members in Iraq to obtain any replacement documents that are needed to facilitate his return to, and residence in Iraq. Notice of Decision The judge’s decision did not involve the making of any material error of law. I do not set aside the decision. The Appellant’s appeal is dismissed. Signed Date 20.11.19 5Appeal Number: PA/00240/2019 Deputy Upper Tribunal Judge O’Ryan Direction Regarding Anonymity – Rule 14 of the Tribunal Procedure  Upper Tribunal  Rules 2008 Unless and until a Tribunal or court directs otherwise, the Appellant is granted anonymity. No report of these proceedings shall directly or indirectly identify him or any member of their family. This direction applies both to the Appellant and to the Respondent. Failure to comply with this direction could lead to contempt of court proceedings. Signed Date 20.11.19 Deputy Upper Tribunal Judge O’Ryan 6 Upper Tribunal  Immigration and Asylum Chamber  Appeal Number: PA/05945/2018 THE IMMIGRATION ACTS Heard at Birmingham CJC On 5 th July 2019 Decision & Reasons Promulgated On 19 th August 2019 Before DEPUTY UPPER TRIBUNAL JUDGE JUSS Between HA  ANONYMITY DIRECTION MADE  Appellant and THE SECRETARY OF STATE FOR THE HOME DEPARTMENT Respondent Representation: For the Appellant: Mr J Howard  Solicitor  For the Respondent: Mr D Mills  Senior HOPO  DECISION AND REASONS 1. This is an appeal against the determination of First-tier Tribunal Judge Pacey, promulgated on 24 th June 2018, following a hearing at Birmingham on 6 th June 2018. In the determination, the judge dismissed the appeal of the Appellant, whereupon the Appellant subsequently applied for, and was granted, permission to appeal to the Upper Tribunal, and thus the matter comes before me. The Appellant © CROWN COPYRIGHT 2019Appeal Number: PA/05945/2018 2. The Appellant is a male, a citizen of Iran, and was born on 22 nd July 1996. He appealed against the decision of the Respondent dated 24 th April 2018 refusing his claim for asylum and humanitarian protection pursuant to paragraph 339C of HC 395. The Appellant’s Claim 3. The essence of the Appellant’s claim is that he is a member of a particular social group, because he is a gay Iranian man who would face persecution if returned, and additionally he is also an atheist, who would be ill-treated upon return as a non-religious person, which is forbidden in Iran. The Judge’s Findings 4. The judge noted how the Appellant in his screening interview has said that he held no religion and that he would be subject to persecution as a non- religious person if returned to Iran. He made no mention at that stage that he was also a gay person. During his asylum interview, however, he stated that he was a danger also because he was a homosexual and feared the government given that homosexuality was punishable by death. He had not mentioned this at his screening interview because he did not know anything about the country he was coming to. The Appellant had then explained how he had a boyfriend in the UK by the name of [FS], with whom he had been in relationship for about one and a half months. He also had three serious relationships which he went on to describe in evidence before the Tribunal. The judge did not find the Appellant to be credible because the appellant’s explanation that he had not mentioned his homosexuality during his screening interview, because he did not know the country he was coming to, was not plausible. As the judge explained, “if he did not know the UK approach to homosexuality ... he could not have known if the UK adopted as punitive an approach to gay people as did Iran.... For all he knew he could have been travelling from the frying pan into the fire”  paragraph 68 . 5. On the other hand, the judge observed that if the Appellant was aware of the actual UK approach to homosexuality, “then there was no reason for him not to have mentioned his sexuality at the screening interview”  paragraph 69 . 6. The judge was also not impressed by the witnesses before the Tribunal. In short, the Appellant’s claim was rejected wholesale. The appeal was dismissed. Grounds of Application 7. The grounds of application state that the judge had engaged in a material error of law in relation to the evidence of a Miss [L] and that of Mr [S] whose credibility had been wrongly impugned by the judge. There had been apparently a discrepancy between to the oral and the written 2Appeal Number: PA/05945/2018 evidence of Miss [L], but this discrepancy had not been put to the witness, and if this was so then this was contrary to the rules of natural justice. 8. On 23 rd November 2018 permission to appeal was granted. Submissions 9. At the hearing before me on 5 th July 2019, the Appellant was represented by Mr Howard, who adopted the grounds of application. He submitted that if the judge was concerned about the discrepancy in the oral and written evidence of Miss [L], then this should have been explored by the Tribunal, because in her oral evidence, Miss [L] had said that she had “not met [F]”, whereas in her written evidence she had said that “she also knew his previous partner, [F]”  paragraph 34 . Secondly, Mr Howard submitted that if one looks at the evidence of Mr [S]  at page 14 of the Appellant’s bundle . He makes it quite clear that he is the director of a voluntary organisation called Persian LGBT Advisory Services, where it provides “voluntary social activities for LGBT asylum seekers”. He explains that the appellant had contacted him via Facebook on 9 th June 2016. He invited the Appellant to meet with him, and after a conversation he had come to the view that “I am aware the Appellant is openly active on Facebook page which I would refer to as an online activist where he shares information on LGBT community using his Facebook page...”. On that basis that the judge was wrong to have impugned his credibility. 10. For his part, Mr Mills submitted that the issues that were before the judge, both in relation to the Appellant’s atheism and his homosexual tendencies, were not new issues. If evidence was collected by the Appellant between the asylum interview and the Tribunal hearing, in a manner that the Appellant himself chose to do, then he should have been prepared to deal with it on the basis of oral testimony. These were not new points. The witnesses were not people whose evidence had previously been accepted. Both cases were simply black and white discrepancy cases where the judge was entitled to say that she would not attach any significant weight to such evidence, because as put before the Tribunal, the evidence was not persuasive. No Error of Law 11. I am satisfied that the making of the decision by the judge did not involve the making of an error on a point of law  see Section 12 1  of TCEA 2007  such that I should set aside the decision. My reasons are as follows. First, it is simply not correct to say that the discrepancy in the oral and witness statement evidence of Miss [L] was something that the judge should have probed herself with a view to ascertaining exactly what Miss [L] knew about Mr [F]. The judge noted that in her oral evidence Miss [L] stated she was aware that the Appellant had a relationship in the UK “but had not met [F]”. Then the judge noted how in her witness statement, Miss [L] had stated that she became friends with the Appellant when she met him in Calais at the “the jungle” in April 2016, and “when they became strong 3Appeal Number: PA/05945/2018 friends he told her of his fear of persecution and that he was an atheist. She also knew his previous partner, [F]”  paragraph 34 . It was for the Appellant’s representative to probe this matter further. As the evidence stood, the judge was entitled to conclude that “Miss [L] has also been inconsistent in a written and oral account of whether she had met [F]”  paragraph 78 . 12. Second, as far as Mr [S]’s evidence is concerned, I note that he is a director of the voluntary organisation called Persian LGBT Advisory Services. He wrote in terms that he was “aware the Appellant is openly active on Facebook page”. He had stated that “I have acknowledged that the Appellant has made a strong relationship with the wider LGBT communities ...”. He had further stated that “I have also seen that the Appellant has participated openly at this year’s LGBT Pride with Christian LGBT parade ...”. He ended his statement by declaring that “based on information that has been provided by the Appellant I can confirm that he is homosexual and would be subject of persecution...”.  See page 14 of the Appellant’s bundle . The manner in which the judge dealt with this evidence was one which was entirely open to her to do. What the judge states is that she would “attach very little weight to Mr [S]’s evidence” because “he said at the hearing that he had attended court since 2008 to support gay asylum seekers”. 13. Nevertheless as the judge observed, “his support did not, on his own evidence, comprise independent verification of each Appellant’s claim since he took the claim of each at face value, entirely taking their word for it without doing anything to verify their claim, in the way of what might be termed ‘due diligence’. While he may well be well-meaning, the uncritical nature of his support means it is of very little probative value”  paragraph 79 . 14. There is nothing in this particular analysis of the judge’s detailed explanation that sits ill at ease with what the witness himself states in his statement of 4 th June 2018  at page 14 of the Appellant’s bundle  when he makes it clear that “I am aware” or that “I have acknowledged”. In any event, what the judge is referring to is actually what Mr [S] himself said in his evidence where he makes it clear that as a director of the voluntary organisation he supports gay asylum seekers taking each claim at face value. Accordingly, the decision of the judge in this particular case was clear, comprehensive, and well-reasoned and there is no error of law in it. Decision 15. The decision of the First-tier Tribunal did not involve the making of an error of law. The decision shall stand. 16. An anonymity order is made. 17. The appeal is dismissed. 4Appeal Number: PA/05945/2018 Direction Regarding Anonymity – Rule 14 of the Tribunal Procedure  Upper Tribunal  Rules 2008 Unless and until a Tribunal or court directs otherwise, the Appellant is granted anonymity. No report of these proceedings shall directly or indirectly identify him or any member of their family. This direction applies both to the Appellant and to the Respondent. Failure to comply with this direction could lead to contempt of court proceedings. Signed Dated Deputy Upper Tribunal Judge Juss 15 th August 2019 5 '"
      ]
     },
     "execution_count": 72,
     "metadata": {},
     "output_type": "execute_result"
    }
   ],
   "source": [
    "text"
   ]
  }
 ],
 "metadata": {
  "kernelspec": {
   "display_name": "env37",
   "language": "python",
   "name": "env37"
  },
  "language_info": {
   "codemirror_mode": {
    "name": "ipython",
    "version": 3
   },
   "file_extension": ".py",
   "mimetype": "text/x-python",
   "name": "python",
   "nbconvert_exporter": "python",
   "pygments_lexer": "ipython3",
   "version": "3.7.7"
  }
 },
 "nbformat": 4,
 "nbformat_minor": 4
}
