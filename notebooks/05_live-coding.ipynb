{
 "cells": [
  {
   "cell_type": "markdown",
   "metadata": {},
   "source": [
    "# 5. Live coding"
   ]
  },
  {
   "cell_type": "markdown",
   "metadata": {},
   "source": [
    "This notebook will show you how we analyse a text in real life. To do so, we will examine two judge responses to asylum's claims in the UK.\n",
    "\n",
    "\n",
    "\n",
    "\n",
    "\n"
   ]
  },
  {
   "cell_type": "markdown",
   "metadata": {},
   "source": [
    "Legend of symbols:\n",
    "\n",
    "- 🤓: Tips\n",
    "\n",
    "- 🤖📝: Your turn\n",
    "\n",
    "- ❓: Question\n",
    "\n",
    "- 💫: Extra exercise "
   ]
  },
  {
   "cell_type": "markdown",
   "metadata": {},
   "source": [
    "## 5.1. Read text"
   ]
  },
  {
   "cell_type": "markdown",
   "metadata": {},
   "source": [
    "As we have learned in this course, the first step is to import the text into this notebook.\n",
    "\n",
    "Two approaches:\n",
    "\n",
    "- 1) Copy and paste content in a **<tt>.txt<tt>** file.\n",
    "- 2) Install **<tt>pdftotext<tt>**: https://github.com/jalan/pdftotext."
   ]
  },
  {
   "cell_type": "code",
   "execution_count": 47,
   "metadata": {},
   "outputs": [],
   "source": [
    "# 1)\n",
    "# Read the raw file from txt\n",
    "f = open('../data/asylum_claims.txt','r')\n",
    "text = f.read()\n",
    "f.close()"
   ]
  },
  {
   "cell_type": "code",
   "execution_count": 48,
   "metadata": {},
   "outputs": [
    {
     "data": {
      "text/plain": [
       "'Upper Tribunal\\n(Immigration and Asylum Chamber)\\nAppeal Number: PA/00240/2019\\nTHE IMMIGRATION ACTS\\nHeard at Birmingham CJC\\nDecision\\n&\\nReasons\\nPromulgated\\nOn 21 November 2019\\nOn 8 November 2019\\nBefore\\nDEPUTY UPPER TRIBUNAL JUDGE O’RYAN\\nBetween\\nMR D A\\n(ANONYMITY DIRECTION MADE)\\nAppellant\\nand\\nTHE SECRETARY OF STATE FOR THE HOME DEPARTMENT\\nRespondent\\nRepresentation:\\nFor the Appellant:\\nMr Sharif, Fountain Solicitors\\nFor the Respondent: Mr Mills, Senior Home Office Presenting Officer\\nDECISION AND REASONS\\n1.\\nThis is the Appellant’s appeal against the decision of Judge of the First-tier\\nTribunal Boylan-Kemp MBE dated 2 May 2019 dismissing the Appellant’s\\nappeal against the Respondent’s decision of 23 November 2018 refusing\\nhis human rights and protection claim.\\n© CROWN COPYRIGHT 2019Appeal Number: PA/00240/2019\\n2. The Appellant is a national of Iraq of Kurdish origin and from Sulamaniyah\\nin the IKR. He gave an account that he was at risk of serious harm in the\\nIKR by reason of his family and extended tribe being in a feud with another\\ntribe in the IKR. The Appellant was not able to give many details of the\\norigins of the feud but stated that one family member had been killed as a\\nresult of it and that he himself had experienced two incidents; one being\\nthat unknown persons had fired upon a car in which he was travelling and\\nhis cousin had been injured in the shoulder, and another occasion when\\nthe house in which he lived was fired upon.\\n3. The Respondent in its decision refusing the protection claim disbelieved\\nthe Appellant’s account that there was any feud on the grounds that the\\nAppellant knew very few details of the alleged feud. There was also said\\nto be a discrepancy as between the Appellant’s evidence in interview as to\\nhow many occasions the Appellant experienced any problems himself\\n(refusal letter, para [26]) and a discrepancy between an alleged fear of his\\nown father (resulting from the Appellant refusing to take part in the feud)\\nand information given in an age assessment interview in which he had\\nstated that he had a good relationship with his family members (para\\n[31]).\\n4. The Appellant appealed against that decision and the matter came before\\nthe judge at the Birmingham hearing centre on 18 March 2019. The\\nAppellant was represented and gave evidence. At the date of that hearing\\nthe Appellant would have been 18 years of age. A further document was\\nrelied upon by the Respondent at that hearing, being a EURODAC search\\nresult, demonstrating that a person in the Appellant’s identity was\\nfingerprinted in Dresden in Germany on 22 March 2016. The Appellant’s\\naccount as given in his SEF interview and confirmed in oral evidence\\nbefore the judge was that he only left Iraq in December 2017. The\\nAppellant denied before the judge that the person identified in the\\nEURODAC search was him but the judge stated that she was satisfied by\\nthe details contained within the document, and looking at the clear\\nphotograph on the EURODAC match, that the person fingerprinted in\\nGermany was indeed the Appellant.\\n5. The judge found at paragraph 14 onwards as follows:\\n“16. The evidence provided by the EURODAC document is\\nunequivocal. The photograph contained within the document is\\nclearly the Appellant who appeared before me and I have no\\nreason to doubt that the document relates to him. Therefore this\\ndocument upon which I am satisfied I can place significant weight\\nputs him in Germany on 22 March 2016. Consequently I find that\\nthis evidence undermines the credibility of his entire account and\\nhis credibility as a witness in his own cause and that it renders\\nhis entire account unreliable.\\n2Appeal Number: PA/00240/2019\\n17. Further I also find his inability to recall the details of the alleged\\nfeud which caused him to leave his family and flee the country to\\nalso not be credible. If a young man was leaving his life behind\\nbecause of his reluctance to become involved in an ongoing\\nfamily feud then I would anticipate that he would have\\nknowledge of what he is in fear of and so I do not find it plausible\\nthat he would not know the details of this feud if he held such a\\ngenuine fear. Also I note that even on his own evidence there\\nhas been no specific risk or threat made to him which would\\ncause him to fear for his own safety beyond what is a more\\ngeneral tribal threat and of which he cannot provide much detail.\\n...\\n18. As I have found the Appellant’s alleged reasoning for leaving Iraq\\nto not be credible then I also find that it is not plausible that his\\nfamily have consequently threatened him as claimed due to his\\nalleged desertion because of the alleged feud. Instead I find that\\nhe has travelled to the UK with the assistance and knowledge of\\nhis family for reasons other than escaping a risk of persecution.\\nAs such I find that his family would therefore be able to assist\\nhim with obtaining a copy of his identification documents and\\nCSID which would help facilitate his return to Iraq. I also find that\\nhe would be able to return to the help and support of his family\\nthere.”\\nThe judge dismissed the Appellant’s appeal.\\n6. The Appellant appeals to the Upper Tribunal on grounds dated 15 May\\n2019 which argue very briefly that the judge erred in law at paragraphs 15\\nto 20 by giving inadequate reasoning for finding the Appellant’s account to\\nnot be credible and secondly that the judge had failed to apply relevant\\ncountry guidance.\\n7. Permission to appeal was granted by Judge of the First-tier Tribunal Keane\\non 24 June 2019. The judge stated as follows:\\n“The judge arguably had regard to irrelevant considerations in finding\\nthat the Appellant had not given a credible account of events. The\\njudge’s findings as to the credibility were to be found at paragraphs\\n15 to 18 inclusive of her decision. At paragraph 15 the judge\\nattached weight so as to undermine the Appellant’s credibility to a\\nEURODAC printout provided by the Respondent which as the judge\\nfound proved that the Appellant was photographed and printed in\\nGermany on 22 March 2016. The judge however did not explain why\\nsuch circumstance damaged the Appellant’s credibility. If the judge\\nhad in mind the Appellant’s apparent failure to claim asylum in\\nGermany the judge arguably should have stated so. At paragraph 16\\nof the decision the judge again accorded weight to the EURODAC\\ndocument without stating why. At paragraph 17 of the decision the\\n3Appeal Number: PA/00240/2019\\njudge stated that the judge would have anticipated that the Appellant\\nwould have had knowledge of the alleged feud which on his case\\ncaused him to leave his family and indeed his country. The judge\\narguably substituted her own understanding of what constituted\\nreasonable conduct in circumstances where arguably she should not\\nhave done so. At paragraph 18 the judge stated that it was not\\nplausible that the Appellant’s family have consequently threatened\\nhim on account of his ostensible desertion and the judge was\\narguably disbelieving the Appellant’s account without providing any\\nor adequate reasons. It was incumbent on the judge in resolving the\\nissue of credibility to embark upon a global assessment of the\\nAppellant’s credibility and to provide adequate reasons in support of a\\nfinding that he had not done so. This the judge arguably failed to do.”\\nSubmissions\\n8. Mr Sharif relies upon the grounds of appeal and the admittedly more\\nextensive grant of permission to appeal in support of his Appellant’s case.\\n9. Mr Sharif points out that the only date given in the Appellant’s account for\\nany particular incident was in relation to the incident when the car in\\nwhich the Appellant was travelling had been shot at. The date for that is to\\nbe found in the SEF interview at [86] and was simply ‘2016’. The\\nAppellant gives no other dates for the matters that he relies upon in\\nsupport of the proposition that he is at risk because of a blood feud in Iraq.\\nHe does however consistently state that he left Iraq in December 2017.\\nMr Sharif argues that the Appellant had accepted in the course of his\\nevidence that he had travelled through Germany and therefore the\\nevidence from the EURODAC search confirming that did not alter the\\ncredibility of the Appellant’s account. Mr Sharif also argued that the\\njudge’s findings in relation to it being incredible that the Appellant would\\nnot have had more knowledge about the details of the feud was an\\nirrational finding on the part of the judge.\\n10. For his part Mr Mills defends the judge’s decision and argues that the\\ndishonest statement that the Appellant had remained in December 2017\\nwas clearly capable of affecting the credibility of the Appellant’s account.\\nI raised with him whether or not such a discrepancy could be treated as\\ndeterminative of the account given that there were no dates given in the\\nAppellant’s account of matters occurring in Iraq any later than 22 March\\n2016. Mr Mills appeared to accept that it was right to say that the\\nAppellant’s credibility was not determinatively decided by the discrepancy\\nof his whereabouts in March 2016. However Mr Mills points to the other\\nfindings at paragraph 17 in support of the judge’s reasoning.\\nDiscussion\\n11. I find no material error of law in the judge’s decision. The suggestion in\\nthe grant of permission to appeal by Judge Keane that the judge had\\n4Appeal Number: PA/00240/2019\\narguably had regard to irrelevant considerations is difficult to sustain. The\\nAppellant has clearly given inconsistent evidence about his whereabouts,\\non the one part insisting that he remained in Iraq in December 2017 but\\nincontrovertible evidence existing from the EURODAC search result that he\\nwas present in Germany on 22 March 2016. These two items of evidence\\nsimply cannot sit together. True it is that there are no details of the\\nAppellant’s account of any incidents that he has set out which are dated\\nany later than 22 March 2016, and therefore being shot at in ‘2016’ and\\nhim departing Iraq prior to 22 March 2016 does not necessarily make his\\naccount impossible to believe, but it is clearly a very significant matter\\nthat the Appellant has lied about his continued presence in Iraq up to the\\npoint of December 2017 and the judge was fully entitled to treat that as a\\nvery significant matter. Whether or not she was entitled to treat it as\\nrendering ‘his entire account unreliable’ is moot.\\n12. However the judge does not stop there in her credibility findings because\\nshe continues, as is clear at paragraph 17, to set out other reasons for\\nfinding the Appellant’s account incredible. Whereas it may be expected\\nthat a young person may not be as fully informed about the details of a\\nfeud affecting his family and the wider tribe as might a fully-grown adult,\\nthe judge’s point is that the Appellant decided, together with the\\nassistance of a relative, to leave Iraq because of this feud and the judge\\nwas entitled to find that it was implausible that the Appellant knew so little\\nabout the feud whereas it had been the specific cause of his decision to\\nleave the country. I find that it was not irrational for the judge to make\\nthe findings that she did at paragraph 17. There are a number of reasons\\ntherefore given by the judge for finding the Appellant’s account incredible\\nand I find that none of those reasons is vitiated by any error of law.\\n13. Judge Keane in granting permission did not comment upon the Appellant’s\\nactual second ground which was that the judge had failed to apply country\\nguidance relevant to the issue of obtaining documents for readmission and\\nresidence in Iraq. However in the light of my decision that the judge’s\\ncredibility findings are sustainable it is also sustainable that the Appellant\\ncan have the assistance of family members in Iraq to obtain any\\nreplacement documents that are needed to facilitate his return to, and\\nresidence in Iraq.\\nNotice of Decision\\nThe judge’s decision did not involve the making of any material error of\\nlaw.\\nI do not set aside the decision.\\nThe Appellant’s appeal is dismissed.\\nSigned\\nDate 20.11.19\\n5Appeal Number: PA/00240/2019\\nDeputy Upper Tribunal Judge O’Ryan\\nDirection Regarding Anonymity – Rule 14 of the Tribunal Procedure\\n(Upper Tribunal) Rules 2008\\nUnless and until a Tribunal or court directs otherwise, the Appellant is granted\\nanonymity. No report of these proceedings shall directly or indirectly identify\\nhim or any member of their family. This direction applies both to the Appellant\\nand to the Respondent. Failure to comply with this direction could lead to\\ncontempt of court proceedings.\\nSigned\\nDate 20.11.19\\nDeputy Upper Tribunal Judge O’Ryan\\n6\\nUpper Tribunal\\n(Immigration and Asylum Chamber)\\nAppeal Number: PA/05945/2018\\nTHE IMMIGRATION ACTS\\nHeard at Birmingham CJC\\nOn 5 th July 2019\\nDecision & Reasons Promulgated\\nOn 19 th August 2019\\nBefore\\nDEPUTY UPPER TRIBUNAL JUDGE JUSS\\nBetween\\nHA\\n(ANONYMITY DIRECTION MADE)\\nAppellant\\nand\\nTHE SECRETARY OF STATE FOR THE HOME DEPARTMENT\\nRespondent\\nRepresentation:\\nFor the Appellant:\\nMr J Howard (Solicitor)\\nFor the Respondent: Mr D Mills (Senior HOPO)\\nDECISION AND REASONS\\n1.\\nThis is an appeal against the determination of First-tier Tribunal Judge\\nPacey, promulgated on 24 th June 2018, following a hearing at Birmingham\\non 6 th June 2018. In the determination, the judge dismissed the appeal of\\nthe Appellant, whereupon the Appellant subsequently applied for, and was\\ngranted, permission to appeal to the Upper Tribunal, and thus the matter\\ncomes before me.\\nThe Appellant\\n© CROWN COPYRIGHT 2019Appeal Number: PA/05945/2018\\n2.\\nThe Appellant is a male, a citizen of Iran, and was born on 22 nd July 1996.\\nHe appealed against the decision of the Respondent dated 24 th April 2018\\nrefusing his claim for asylum and humanitarian protection pursuant to\\nparagraph 339C of HC 395.\\nThe Appellant’s Claim\\n3.\\nThe essence of the Appellant’s claim is that he is a member of a particular\\nsocial group, because he is a gay Iranian man who would face persecution\\nif returned, and additionally he is also an atheist, who would be ill-treated\\nupon return as a non-religious person, which is forbidden in Iran.\\nThe Judge’s Findings\\n4. The judge noted how the Appellant in his screening interview has said that\\nhe held no religion and that he would be subject to persecution as a non-\\nreligious person if returned to Iran. He made no mention at that stage\\nthat he was also a gay person. During his asylum interview, however, he\\nstated that he was a danger also because he was a homosexual and\\nfeared the government given that homosexuality was punishable by\\ndeath. He had not mentioned this at his screening interview because he\\ndid not know anything about the country he was coming to. The Appellant\\nhad then explained how he had a boyfriend in the UK by the name of [FS],\\nwith whom he had been in relationship for about one and a half months.\\nHe also had three serious relationships which he went on to describe in\\nevidence before the Tribunal. The judge did not find the Appellant to be\\ncredible because the appellant’s explanation that he had not mentioned\\nhis homosexuality during his screening interview, because he did not know\\nthe country he was coming to, was not plausible. As the judge explained,\\n“if he did not know the UK approach to homosexuality ... he could not\\nhave known if the UK adopted as punitive an approach to gay people as\\ndid Iran.... For all he knew he could have been travelling from the frying\\npan into the fire” (paragraph 68).\\n5. On the other hand, the judge observed that if the Appellant was aware of\\nthe actual UK approach to homosexuality, “then there was no reason for\\nhim not to have mentioned his sexuality at the screening interview”\\n(paragraph 69).\\n6. The judge was also not impressed by the witnesses before the Tribunal. In\\nshort, the Appellant’s claim was rejected wholesale. The appeal was\\ndismissed.\\nGrounds of Application\\n7.\\nThe grounds of application state that the judge had engaged in a material\\nerror of law in relation to the evidence of a Miss [L] and that of Mr [S]\\nwhose credibility had been wrongly impugned by the judge. There had\\nbeen apparently a discrepancy between to the oral and the written\\n2Appeal Number: PA/05945/2018\\nevidence of Miss [L], but this discrepancy had not been put to the witness,\\nand if this was so then this was contrary to the rules of natural justice.\\n8.\\nOn 23 rd November 2018 permission to appeal was granted.\\nSubmissions\\n9.\\nAt the hearing before me on 5 th July 2019, the Appellant was represented\\nby Mr Howard, who adopted the grounds of application. He submitted that\\nif the judge was concerned about the discrepancy in the oral and written\\nevidence of Miss [L], then this should have been explored by the Tribunal,\\nbecause in her oral evidence, Miss [L] had said that she had “not met [F]”,\\nwhereas in her written evidence she had said that “she also knew his\\nprevious partner, [F]” (paragraph 34). Secondly, Mr Howard submitted\\nthat if one looks at the evidence of Mr [S] (at page 14 of the Appellant’s\\nbundle). He makes it quite clear that he is the director of a voluntary\\norganisation called Persian LGBT Advisory Services, where it provides\\n“voluntary social activities for LGBT asylum seekers”. He explains that the\\nappellant had contacted him via Facebook on 9 th June 2016. He invited\\nthe Appellant to meet with him, and after a conversation he had come to\\nthe view that “I am aware the Appellant is openly active on Facebook page\\nwhich I would refer to as an online activist where he shares information on\\nLGBT community using his Facebook page...”. On that basis that the\\njudge was wrong to have impugned his credibility.\\n10. For his part, Mr Mills submitted that the issues that were before the judge,\\nboth in relation to the Appellant’s atheism and his homosexual tendencies,\\nwere not new issues. If evidence was collected by the Appellant between\\nthe asylum interview and the Tribunal hearing, in a manner that the\\nAppellant himself chose to do, then he should have been prepared to deal\\nwith it on the basis of oral testimony. These were not new points. The\\nwitnesses were not people whose evidence had previously been accepted.\\nBoth cases were simply black and white discrepancy cases where the\\njudge was entitled to say that she would not attach any significant weight\\nto such evidence, because as put before the Tribunal, the evidence was\\nnot persuasive.\\nNo Error of Law\\n11. I am satisfied that the making of the decision by the judge did not involve\\nthe making of an error on a point of law (see Section 12(1) of TCEA 2007)\\nsuch that I should set aside the decision. My reasons are as follows. First,\\nit is simply not correct to say that the discrepancy in the oral and witness\\nstatement evidence of Miss [L] was something that the judge should have\\nprobed herself with a view to ascertaining exactly what Miss [L] knew\\nabout Mr [F]. The judge noted that in her oral evidence Miss [L] stated she\\nwas aware that the Appellant had a relationship in the UK “but had not\\nmet [F]”. Then the judge noted how in her witness statement, Miss [L] had\\nstated that she became friends with the Appellant when she met him in\\nCalais at the “the jungle” in April 2016, and “when they became strong\\n3Appeal Number: PA/05945/2018\\nfriends he told her of his fear of persecution and that he was an atheist.\\nShe also knew his previous partner, [F]” (paragraph 34). It was for the\\nAppellant’s representative to probe this matter further. As the evidence\\nstood, the judge was entitled to conclude that “Miss [L] has also been\\ninconsistent in a written and oral account of whether she had met [F]”\\n(paragraph 78).\\n12. Second, as far as Mr [S]’s evidence is concerned, I note that he is a\\ndirector of the voluntary organisation called Persian LGBT Advisory\\nServices. He wrote in terms that he was “aware the Appellant is openly\\nactive on Facebook page”. He had stated that “I have acknowledged that\\nthe Appellant has made a strong relationship with the wider LGBT\\ncommunities ...”. He had further stated that “I have also seen that the\\nAppellant has participated openly at this year’s LGBT Pride with Christian\\nLGBT parade ...”. He ended his statement by declaring that “based on\\ninformation that has been provided by the Appellant I can confirm that he\\nis homosexual and would be subject of persecution...”. (See page 14 of\\nthe Appellant’s bundle). The manner in which the judge dealt with this\\nevidence was one which was entirely open to her to do. What the judge\\nstates is that she would “attach very little weight to Mr [S]’s evidence”\\nbecause “he said at the hearing that he had attended court since 2008 to\\nsupport gay asylum seekers”.\\n13. Nevertheless as the judge observed, “his support did not, on his own\\nevidence, comprise independent verification of each Appellant’s claim\\nsince he took the claim of each at face value, entirely taking their word for\\nit without doing anything to verify their claim, in the way of what might be\\ntermed ‘due diligence’. While he may well be well-meaning, the uncritical\\nnature of his support means it is of very little probative value” (paragraph\\n79).\\n14. There is nothing in this particular analysis of the judge’s detailed\\nexplanation that sits ill at ease with what the witness himself states in his\\nstatement of 4 th June 2018 (at page 14 of the Appellant’s bundle) when he\\nmakes it clear that “I am aware” or that “I have acknowledged”. In any\\nevent, what the judge is referring to is actually what Mr [S] himself said in\\nhis evidence where he makes it clear that as a director of the voluntary\\norganisation he supports gay asylum seekers taking each claim at face\\nvalue. Accordingly, the decision of the judge in this particular case was\\nclear, comprehensive, and well-reasoned and there is no error of law in it.\\nDecision\\n15. The decision of the First-tier Tribunal did not involve the making of an\\nerror of law. The decision shall stand.\\n16. An anonymity order is made.\\n17. The appeal is dismissed.\\n4Appeal Number: PA/05945/2018\\nDirection Regarding Anonymity – Rule 14 of the Tribunal Procedure\\n(Upper Tribunal) Rules 2008\\nUnless and until a Tribunal or court directs otherwise, the Appellant is granted\\nanonymity. No report of these proceedings shall directly or indirectly identify\\nhim or any member of\\ntheir family.\\nThis direction applies both to the Appellant and to the\\nRespondent. Failure to comply with this direction could lead to contempt of\\ncourt proceedings.\\nSigned\\nDated\\nDeputy Upper Tribunal Judge Juss\\n15 th August 2019\\n5\\n'"
      ]
     },
     "execution_count": 48,
     "metadata": {},
     "output_type": "execute_result"
    }
   ],
   "source": [
    "text"
   ]
  },
  {
   "cell_type": "code",
   "execution_count": 49,
   "metadata": {},
   "outputs": [],
   "source": [
    "# Let's substitute \\n by spaces\n",
    "import re\n",
    "text = re.sub('\\n', ' ', text)"
   ]
  },
  {
   "cell_type": "code",
   "execution_count": 57,
   "metadata": {},
   "outputs": [
    {
     "name": "stdout",
     "output_type": "stream",
     "text": [
      "Upper Tribunal (Immigration and Asylum Chamber) Appeal Number: PA/00240/2019 THE IMMIGRATION ACTS Heard at Birmingham CJC Decision & Reasons Promulgated On 21 November 2019 On 8 November 2019 Before DEPUTY UPPER TRIBUNAL JUDGE O’RYAN Between MR D A (ANONYMITY DIRECTION MADE) Appellant and THE SECRETARY OF STATE FOR THE HOME DEPARTMENT Respondent Representation: For the Appellant: Mr Sharif, Fountain Solicitors For the Respondent: Mr Mills, Senior Home Office Presenting Officer DECISION AND REASONS 1. This is the Appellant’s appeal against the decision of Judge of the First-tier Tribunal Boylan-Kemp MBE dated 2 May 2019 dismissing the Appellant’s appeal against the Respondent’s decision of 23 November 2018 refusing his human rights and protection claim. © CROWN COPYRIGHT 2019Appeal Number: PA/00240/2019 2. The Appellant is a national of Iraq of Kurdish origin and from Sulamaniyah in the IKR. He gave an account that he was at risk of serious harm in the IKR by reason of his family and extended tribe being in a feud with another tribe in the IKR. The Appellant was not able to give many details of the origins of the feud but stated that one family member had been killed as a result of it and that he himself had experienced two incidents; one being that unknown persons had fired upon a car in which he was travelling and his cousin had been injured in the shoulder, and another occasion when the house in which he lived was fired upon. 3. The Respondent in its decision refusing the protection claim disbelieved the Appellant’s account that there was any feud on the grounds that the Appellant knew very few details of the alleged feud. There was also said to be a discrepancy as between the Appellant’s evidence in interview as to how many occasions the Appellant experienced any problems himself (refusal letter, para [26]) and a discrepancy between an alleged fear of his own father (resulting from the Appellant refusing to take part in the feud) and information given in an age assessment interview in which he had stated that he had a good relationship with his family members (para [31]). 4. The Appellant appealed against that decision and the matter came before the judge at the Birmingham hearing centre on 18 March 2019. The Appellant was represented and gave evidence. At the date of that hearing the Appellant would have been 18 years of age. A further document was relied upon by the Respondent at that hearing, being a EURODAC search result, demonstrating that a person in the Appellant’s identity was fingerprinted in Dresden in Germany on 22 March 2016. The Appellant’s account as given in his SEF interview and confirmed in oral evidence before the judge was that he only left Iraq in December 2017. The Appellant denied before the judge that the person identified in the EURODAC search was him but the judge stated that she was satisfied by the details contained within the document, and looking at the clear photograph on the EURODAC match, that the person fingerprinted in Germany was indeed the Appellant. 5. The judge found at paragraph 14 onwards as follows: “16. The evidence provided by the EURODAC document is unequivocal. The photograph contained within the document is clearly the Appellant who appeared before me and I have no reason to doubt that the document relates to him. Therefore this document upon which I am satisfied I can place significant weight puts him in Germany on 22 March 2016. Consequently I find that this evidence undermines the credibility of his entire account and his credibility as a witness in his own cause and that it renders his entire account unreliable. 2Appeal Number: PA/00240/2019 17. Further I also find his inability to recall the details of the alleged feud which caused him to leave his family and flee the country to also not be credible. If a young man was leaving his life behind because of his reluctance to become involved in an ongoing family feud then I would anticipate that he would have knowledge of what he is in fear of and so I do not find it plausible that he would not know the details of this feud if he held such a genuine fear. Also I note that even on his own evidence there has been no specific risk or threat made to him which would cause him to fear for his own safety beyond what is a more general tribal threat and of which he cannot provide much detail. ... 18. As I have found the Appellant’s alleged reasoning for leaving Iraq to not be credible then I also find that it is not plausible that his family have consequently threatened him as claimed due to his alleged desertion because of the alleged feud. Instead I find that he has travelled to the UK with the assistance and knowledge of his family for reasons other than escaping a risk of persecution. As such I find that his family would therefore be able to assist him with obtaining a copy of his identification documents and CSID which would help facilitate his return to Iraq. I also find that he would be able to return to the help and support of his family there.” The judge dismissed the Appellant’s appeal. 6. The Appellant appeals to the Upper Tribunal on grounds dated 15 May 2019 which argue very briefly that the judge erred in law at paragraphs 15 to 20 by giving inadequate reasoning for finding the Appellant’s account to not be credible and secondly that the judge had failed to apply relevant country guidance. 7. Permission to appeal was granted by Judge of the First-tier Tribunal Keane on 24 June 2019. The judge stated as follows: “The judge arguably had regard to irrelevant considerations in finding that the Appellant had not given a credible account of events. The judge’s findings as to the credibility were to be found at paragraphs 15 to 18 inclusive of her decision. At paragraph 15 the judge attached weight so as to undermine the Appellant’s credibility to a EURODAC printout provided by the Respondent which as the judge found proved that the Appellant was photographed and printed in Germany on 22 March 2016. The judge however did not explain why such circumstance damaged the Appellant’s credibility. If the judge had in mind the Appellant’s apparent failure to claim asylum in Germany the judge arguably should have stated so. At paragraph 16 of the decision the judge again accorded weight to the EURODAC document without stating why. At paragraph 17 of the decision the 3Appeal Number: PA/00240/2019 judge stated that the judge would have anticipated that the Appellant would have had knowledge of the alleged feud which on his case caused him to leave his family and indeed his country. The judge arguably substituted her own understanding of what constituted reasonable conduct in circumstances where arguably she should not have done so. At paragraph 18 the judge stated that it was not plausible that the Appellant’s family have consequently threatened him on account of his ostensible desertion and the judge was arguably disbelieving the Appellant’s account without providing any or adequate reasons. It was incumbent on the judge in resolving the issue of credibility to embark upon a global assessment of the Appellant’s credibility and to provide adequate reasons in support of a finding that he had not done so. This the judge arguably failed to do.” Submissions 8. Mr Sharif relies upon the grounds of appeal and the admittedly more extensive grant of permission to appeal in support of his Appellant’s case. 9. Mr Sharif points out that the only date given in the Appellant’s account for any particular incident was in relation to the incident when the car in which the Appellant was travelling had been shot at. The date for that is to be found in the SEF interview at [86] and was simply ‘2016’. The Appellant gives no other dates for the matters that he relies upon in support of the proposition that he is at risk because of a blood feud in Iraq. He does however consistently state that he left Iraq in December 2017. Mr Sharif argues that the Appellant had accepted in the course of his evidence that he had travelled through Germany and therefore the evidence from the EURODAC search confirming that did not alter the credibility of the Appellant’s account. Mr Sharif also argued that the judge’s findings in relation to it being incredible that the Appellant would not have had more knowledge about the details of the feud was an irrational finding on the part of the judge. 10. For his part Mr Mills defends the judge’s decision and argues that the dishonest statement that the Appellant had remained in December 2017 was clearly capable of affecting the credibility of the Appellant’s account. I raised with him whether or not such a discrepancy could be treated as determinative of the account given that there were no dates given in the Appellant’s account of matters occurring in Iraq any later than 22 March 2016. Mr Mills appeared to accept that it was right to say that the Appellant’s credibility was not determinatively decided by the discrepancy of his whereabouts in March 2016. However Mr Mills points to the other findings at paragraph 17 in support of the judge’s reasoning. Discussion 11. I find no material error of law in the judge’s decision. The suggestion in the grant of permission to appeal by Judge Keane that the judge had 4Appeal Number: PA/00240/2019 arguably had regard to irrelevant considerations is difficult to sustain. The Appellant has clearly given inconsistent evidence about his whereabouts, on the one part insisting that he remained in Iraq in December 2017 but incontrovertible evidence existing from the EURODAC search result that he was present in Germany on 22 March 2016. These two items of evidence simply cannot sit together. True it is that there are no details of the Appellant’s account of any incidents that he has set out which are dated any later than 22 March 2016, and therefore being shot at in ‘2016’ and him departing Iraq prior to 22 March 2016 does not necessarily make his account impossible to believe, but it is clearly a very significant matter that the Appellant has lied about his continued presence in Iraq up to the point of December 2017 and the judge was fully entitled to treat that as a very significant matter. Whether or not she was entitled to treat it as rendering ‘his entire account unreliable’ is moot. 12. However the judge does not stop there in her credibility findings because she continues, as is clear at paragraph 17, to set out other reasons for finding the Appellant’s account incredible. Whereas it may be expected that a young person may not be as fully informed about the details of a feud affecting his family and the wider tribe as might a fully-grown adult, the judge’s point is that the Appellant decided, together with the assistance of a relative, to leave Iraq because of this feud and the judge was entitled to find that it was implausible that the Appellant knew so little about the feud whereas it had been the specific cause of his decision to leave the country. I find that it was not irrational for the judge to make the findings that she did at paragraph 17. There are a number of reasons therefore given by the judge for finding the Appellant’s account incredible and I find that none of those reasons is vitiated by any error of law. 13. Judge Keane in granting permission did not comment upon the Appellant’s actual second ground which was that the judge had failed to apply country guidance relevant to the issue of obtaining documents for readmission and residence in Iraq. However in the light of my decision that the judge’s credibility findings are sustainable it is also sustainable that the Appellant can have the assistance of family members in Iraq to obtain any replacement documents that are needed to facilitate his return to, and residence in Iraq. Notice of Decision The judge’s decision did not involve the making of any material error of law. I do not set aside the decision. The Appellant’s appeal is dismissed. Signed Date 20.11.19 5Appeal Number: PA/00240/2019 Deputy Upper Tribunal Judge O’Ryan Direction Regarding Anonymity – Rule 14 of the Tribunal Procedure (Upper Tribunal) Rules 2008 Unless and until a Tribunal or court directs otherwise, the Appellant is granted anonymity. No report of these proceedings shall directly or indirectly identify him or any member of their family. This direction applies both to the Appellant and to the Respondent. Failure to comply with this direction could lead to contempt of court proceedings. Signed Date 20.11.19 Deputy Upper Tribunal Judge O’Ryan 6 Upper Tribunal (Immigration and Asylum Chamber) Appeal Number: PA/05945/2018 THE IMMIGRATION ACTS Heard at Birmingham CJC On 5 th July 2019 Decision & Reasons Promulgated On 19 th August 2019 Before DEPUTY UPPER TRIBUNAL JUDGE JUSS Between HA (ANONYMITY DIRECTION MADE) Appellant and THE SECRETARY OF STATE FOR THE HOME DEPARTMENT Respondent Representation: For the Appellant: Mr J Howard (Solicitor) For the Respondent: Mr D Mills (Senior HOPO) DECISION AND REASONS 1. This is an appeal against the determination of First-tier Tribunal Judge Pacey, promulgated on 24 th June 2018, following a hearing at Birmingham on 6 th June 2018. In the determination, the judge dismissed the appeal of the Appellant, whereupon the Appellant subsequently applied for, and was granted, permission to appeal to the Upper Tribunal, and thus the matter comes before me. The Appellant © CROWN COPYRIGHT 2019Appeal Number: PA/05945/2018 2. The Appellant is a male, a citizen of Iran, and was born on 22 nd July 1996. He appealed against the decision of the Respondent dated 24 th April 2018 refusing his claim for asylum and humanitarian protection pursuant to paragraph 339C of HC 395. The Appellant’s Claim 3. The essence of the Appellant’s claim is that he is a member of a particular social group, because he is a gay Iranian man who would face persecution if returned, and additionally he is also an atheist, who would be ill-treated upon return as a non-religious person, which is forbidden in Iran. The Judge’s Findings 4. The judge noted how the Appellant in his screening interview has said that he held no religion and that he would be subject to persecution as a non- religious person if returned to Iran. He made no mention at that stage that he was also a gay person. During his asylum interview, however, he stated that he was a danger also because he was a homosexual and feared the government given that homosexuality was punishable by death. He had not mentioned this at his screening interview because he did not know anything about the country he was coming to. The Appellant had then explained how he had a boyfriend in the UK by the name of [FS], with whom he had been in relationship for about one and a half months. He also had three serious relationships which he went on to describe in evidence before the Tribunal. The judge did not find the Appellant to be credible because the appellant’s explanation that he had not mentioned his homosexuality during his screening interview, because he did not know the country he was coming to, was not plausible. As the judge explained, “if he did not know the UK approach to homosexuality ... he could not have known if the UK adopted as punitive an approach to gay people as did Iran.... For all he knew he could have been travelling from the frying pan into the fire” (paragraph 68). 5. On the other hand, the judge observed that if the Appellant was aware of the actual UK approach to homosexuality, “then there was no reason for him not to have mentioned his sexuality at the screening interview” (paragraph 69). 6. The judge was also not impressed by the witnesses before the Tribunal. In short, the Appellant’s claim was rejected wholesale. The appeal was dismissed. Grounds of Application 7. The grounds of application state that the judge had engaged in a material error of law in relation to the evidence of a Miss [L] and that of Mr [S] whose credibility had been wrongly impugned by the judge. There had been apparently a discrepancy between to the oral and the written 2Appeal Number: PA/05945/2018 evidence of Miss [L], but this discrepancy had not been put to the witness, and if this was so then this was contrary to the rules of natural justice. 8. On 23 rd November 2018 permission to appeal was granted. Submissions 9. At the hearing before me on 5 th July 2019, the Appellant was represented by Mr Howard, who adopted the grounds of application. He submitted that if the judge was concerned about the discrepancy in the oral and written evidence of Miss [L], then this should have been explored by the Tribunal, because in her oral evidence, Miss [L] had said that she had “not met [F]”, whereas in her written evidence she had said that “she also knew his previous partner, [F]” (paragraph 34). Secondly, Mr Howard submitted that if one looks at the evidence of Mr [S] (at page 14 of the Appellant’s bundle). He makes it quite clear that he is the director of a voluntary organisation called Persian LGBT Advisory Services, where it provides “voluntary social activities for LGBT asylum seekers”. He explains that the appellant had contacted him via Facebook on 9 th June 2016. He invited the Appellant to meet with him, and after a conversation he had come to the view that “I am aware the Appellant is openly active on Facebook page which I would refer to as an online activist where he shares information on LGBT community using his Facebook page...”. On that basis that the judge was wrong to have impugned his credibility. 10. For his part, Mr Mills submitted that the issues that were before the judge, both in relation to the Appellant’s atheism and his homosexual tendencies, were not new issues. If evidence was collected by the Appellant between the asylum interview and the Tribunal hearing, in a manner that the Appellant himself chose to do, then he should have been prepared to deal with it on the basis of oral testimony. These were not new points. The witnesses were not people whose evidence had previously been accepted. Both cases were simply black and white discrepancy cases where the judge was entitled to say that she would not attach any significant weight to such evidence, because as put before the Tribunal, the evidence was not persuasive. No Error of Law 11. I am satisfied that the making of the decision by the judge did not involve the making of an error on a point of law (see Section 12(1) of TCEA 2007) such that I should set aside the decision. My reasons are as follows. First, it is simply not correct to say that the discrepancy in the oral and witness statement evidence of Miss [L] was something that the judge should have probed herself with a view to ascertaining exactly what Miss [L] knew about Mr [F]. The judge noted that in her oral evidence Miss [L] stated she was aware that the Appellant had a relationship in the UK “but had not met [F]”. Then the judge noted how in her witness statement, Miss [L] had stated that she became friends with the Appellant when she met him in Calais at the “the jungle” in April 2016, and “when they became strong 3Appeal Number: PA/05945/2018 friends he told her of his fear of persecution and that he was an atheist. She also knew his previous partner, [F]” (paragraph 34). It was for the Appellant’s representative to probe this matter further. As the evidence stood, the judge was entitled to conclude that “Miss [L] has also been inconsistent in a written and oral account of whether she had met [F]” (paragraph 78). 12. Second, as far as Mr [S]’s evidence is concerned, I note that he is a director of the voluntary organisation called Persian LGBT Advisory Services. He wrote in terms that he was “aware the Appellant is openly active on Facebook page”. He had stated that “I have acknowledged that the Appellant has made a strong relationship with the wider LGBT communities ...”. He had further stated that “I have also seen that the Appellant has participated openly at this year’s LGBT Pride with Christian LGBT parade ...”. He ended his statement by declaring that “based on information that has been provided by the Appellant I can confirm that he is homosexual and would be subject of persecution...”. (See page 14 of the Appellant’s bundle). The manner in which the judge dealt with this evidence was one which was entirely open to her to do. What the judge states is that she would “attach very little weight to Mr [S]’s evidence” because “he said at the hearing that he had attended court since 2008 to support gay asylum seekers”. 13. Nevertheless as the judge observed, “his support did not, on his own evidence, comprise independent verification of each Appellant’s claim since he took the claim of each at face value, entirely taking their word for it without doing anything to verify their claim, in the way of what might be termed ‘due diligence’. While he may well be well-meaning, the uncritical nature of his support means it is of very little probative value” (paragraph 79). 14. There is nothing in this particular analysis of the judge’s detailed explanation that sits ill at ease with what the witness himself states in his statement of 4 th June 2018 (at page 14 of the Appellant’s bundle) when he makes it clear that “I am aware” or that “I have acknowledged”. In any event, what the judge is referring to is actually what Mr [S] himself said in his evidence where he makes it clear that as a director of the voluntary organisation he supports gay asylum seekers taking each claim at face value. Accordingly, the decision of the judge in this particular case was clear, comprehensive, and well-reasoned and there is no error of law in it. Decision 15. The decision of the First-tier Tribunal did not involve the making of an error of law. The decision shall stand. 16. An anonymity order is made. 17. The appeal is dismissed. 4Appeal Number: PA/05945/2018 Direction Regarding Anonymity – Rule 14 of the Tribunal Procedure (Upper Tribunal) Rules 2008 Unless and until a Tribunal or court directs otherwise, the Appellant is granted anonymity. No report of these proceedings shall directly or indirectly identify him or any member of their family. This direction applies both to the Appellant and to the Respondent. Failure to comply with this direction could lead to contempt of court proceedings. Signed Dated Deputy Upper Tribunal Judge Juss 15 th August 2019 5 \n"
     ]
    }
   ],
   "source": [
    "print(text)"
   ]
  },
  {
   "cell_type": "code",
   "execution_count": 58,
   "metadata": {},
   "outputs": [
    {
     "name": "stdout",
     "output_type": "stream",
     "text": [
      "6\n",
      "Upper Tribunal\n",
      "(Immigration and Asylum Chamber)                  Appeal Number: PA/00240/2019\n",
      "                            THE IMMIGRATION ACTS\n",
      "Heard at Birmingham CJC                           Decision      &       Reasons\n",
      "                                                  Promulgated\n",
      "On 8 November 2019                                On 21 November 2019\n",
      "                                     Before\n",
      "                  DEPUTY UPPER TRIBUNAL JUDGE O’RYAN\n",
      "                                    Between\n",
      "                                     MR D A\n",
      "                       (ANONYMITY DIRECTION MADE)\n",
      "                                                                        Appellant\n",
      "                                      and\n",
      "         THE SECRETARY OF STATE FOR THE HOME DEPARTMENT\n",
      "                                                                      Respondent\n",
      "Representation:\n",
      "For the Appellant:   Mr Sharif, Fountain Solicitors\n",
      "For the Respondent: Mr Mills, Senior Home Office Presenting Officer\n",
      "                           DECISION AND REASONS\n",
      "1.   This is the Appellant’s appeal against the decision of Judge of the First-tier\n",
      "     Tribunal Boylan-Kemp MBE dated 2 May 2019 dismissing the Appellant’s\n",
      "     appeal against the Respondent’s decision of 23 November 2018 refusing\n",
      "     his human rights and protection claim.\n",
      "                         © CROWN COPYRIGHT 2019\n",
      "\n",
      "                                                          Appeal Number: PA/00240/2019\n",
      "2. The Appellant is a national of Iraq of Kurdish origin and from Sulamaniyah\n",
      "   in the IKR. He gave an account that he was at risk of serious harm in the\n",
      "   IKR by reason of his family and extended tribe being in a feud with another\n",
      "   tribe in the IKR. The Appellant was not able to give many details of the\n",
      "   origins of the feud but stated that one family member had been killed as a\n",
      "   result of it and that he himself had experienced two incidents; one being\n",
      "   that unknown persons had fired upon a car in which he was travelling and\n",
      "   his cousin had been injured in the shoulder, and another occasion when\n",
      "   the house in which he lived was fired upon.\n",
      "3. The Respondent in its decision refusing the protection claim disbelieved\n",
      "   the Appellant’s account that there was any feud on the grounds that the\n",
      "   Appellant knew very few details of the alleged feud. There was also said\n",
      "   to be a discrepancy as between the Appellant’s evidence in interview as to\n",
      "   how many occasions the Appellant experienced any problems himself\n",
      "   (refusal letter, para [26]) and a discrepancy between an alleged fear of his\n",
      "   own father (resulting from the Appellant refusing to take part in the feud)\n",
      "   and information given in an age assessment interview in which he had\n",
      "   stated that he had a good relationship with his family members (para\n",
      "   [31]).\n",
      "4. The Appellant appealed against that decision and the matter came before\n",
      "   the judge at the Birmingham hearing centre on 18 March 2019. The\n",
      "   Appellant was represented and gave evidence. At the date of that hearing\n",
      "   the Appellant would have been 18 years of age. A further document was\n",
      "   relied upon by the Respondent at that hearing, being a EURODAC search\n",
      "   result, demonstrating that a person in the Appellant’s identity was\n",
      "   fingerprinted in Dresden in Germany on 22 March 2016. The Appellant’s\n",
      "   account as given in his SEF interview and confirmed in oral evidence\n",
      "   before the judge was that he only left Iraq in December 2017. The\n",
      "   Appellant denied before the judge that the person identified in the\n",
      "   EURODAC search was him but the judge stated that she was satisfied by\n",
      "   the details contained within the document, and looking at the clear\n",
      "   photograph on the EURODAC match, that the person fingerprinted in\n",
      "   Germany was indeed the Appellant.\n",
      "5. The judge found at paragraph 14 onwards as follows:\n",
      "        “16. The evidence provided by the EURODAC document is\n",
      "             unequivocal. The photograph contained within the document is\n",
      "             clearly the Appellant who appeared before me and I have no\n",
      "             reason to doubt that the document relates to him. Therefore this\n",
      "             document upon which I am satisfied I can place significant weight\n",
      "             puts him in Germany on 22 March 2016. Consequently I find that\n",
      "             this evidence undermines the credibility of his entire account and\n",
      "             his credibility as a witness in his own cause and that it renders\n",
      "             his entire account unreliable.\n",
      "                                        2\n",
      "\n",
      "                                                            Appeal Number: PA/00240/2019\n",
      "        17. Further I also find his inability to recall the details of the alleged\n",
      "             feud which caused him to leave his family and flee the country to\n",
      "             also not be credible. If a young man was leaving his life behind\n",
      "             because of his reluctance to become involved in an ongoing\n",
      "             family feud then I would anticipate that he would have\n",
      "             knowledge of what he is in fear of and so I do not find it plausible\n",
      "             that he would not know the details of this feud if he held such a\n",
      "             genuine fear. Also I note that even on his own evidence there\n",
      "             has been no specific risk or threat made to him which would\n",
      "             cause him to fear for his own safety beyond what is a more\n",
      "             general tribal threat and of which he cannot provide much detail.\n",
      "             …\n",
      "        18. As I have found the Appellant’s alleged reasoning for leaving Iraq\n",
      "             to not be credible then I also find that it is not plausible that his\n",
      "             family have consequently threatened him as claimed due to his\n",
      "             alleged desertion because of the alleged feud. Instead I find that\n",
      "             he has travelled to the UK with the assistance and knowledge of\n",
      "             his family for reasons other than escaping a risk of persecution.\n",
      "             As such I find that his family would therefore be able to assist\n",
      "             him with obtaining a copy of his identification documents and\n",
      "             CSID which would help facilitate his return to Iraq. I also find that\n",
      "             he would be able to return to the help and support of his family\n",
      "             there.”\n",
      "   The judge dismissed the Appellant’s appeal.\n",
      "6. The Appellant appeals to the Upper Tribunal on grounds dated 15 May\n",
      "   2019 which argue very briefly that the judge erred in law at paragraphs 15\n",
      "   to 20 by giving inadequate reasoning for finding the Appellant’s account to\n",
      "   not be credible and secondly that the judge had failed to apply relevant\n",
      "   country guidance.\n",
      "7. Permission to appeal was granted by Judge of the First-tier Tribunal Keane\n",
      "   on 24 June 2019. The judge stated as follows:\n",
      "        “The judge arguably had regard to irrelevant considerations in finding\n",
      "        that the Appellant had not given a credible account of events. The\n",
      "        judge’s findings as to the credibility were to be found at paragraphs\n",
      "        15 to 18 inclusive of her decision. At paragraph 15 the judge\n",
      "        attached weight so as to undermine the Appellant’s credibility to a\n",
      "        EURODAC printout provided by the Respondent which as the judge\n",
      "        found proved that the Appellant was photographed and printed in\n",
      "        Germany on 22 March 2016. The judge however did not explain why\n",
      "        such circumstance damaged the Appellant’s credibility. If the judge\n",
      "        had in mind the Appellant’s apparent failure to claim asylum in\n",
      "        Germany the judge arguably should have stated so. At paragraph 16\n",
      "        of the decision the judge again accorded weight to the EURODAC\n",
      "        document without stating why. At paragraph 17 of the decision the\n",
      "                                       3\n",
      "\n",
      "                                                            Appeal Number: PA/00240/2019\n",
      "          judge stated that the judge would have anticipated that the Appellant\n",
      "          would have had knowledge of the alleged feud which on his case\n",
      "          caused him to leave his family and indeed his country. The judge\n",
      "          arguably substituted her own understanding of what constituted\n",
      "          reasonable conduct in circumstances where arguably she should not\n",
      "          have done so. At paragraph 18 the judge stated that it was not\n",
      "          plausible that the Appellant’s family have consequently threatened\n",
      "          him on account of his ostensible desertion and the judge was\n",
      "          arguably disbelieving the Appellant’s account without providing any\n",
      "          or adequate reasons. It was incumbent on the judge in resolving the\n",
      "          issue of credibility to embark upon a global assessment of the\n",
      "          Appellant’s credibility and to provide adequate reasons in support of a\n",
      "          finding that he had not done so. This the judge arguably failed to do.”\n",
      "    Submissions\n",
      "8.  Mr Sharif relies upon the grounds of appeal and the admittedly more\n",
      "    extensive grant of permission to appeal in support of his Appellant’s case.\n",
      "9.  Mr Sharif points out that the only date given in the Appellant’s account for\n",
      "    any particular incident was in relation to the incident when the car in\n",
      "    which the Appellant was travelling had been shot at. The date for that is to\n",
      "    be found in the SEF interview at [86] and was simply ‘2016’. The\n",
      "    Appellant gives no other dates for the matters that he relies upon in\n",
      "    support of the proposition that he is at risk because of a blood feud in Iraq.\n",
      "    He does however consistently state that he left Iraq in December 2017.\n",
      "    Mr Sharif argues that the Appellant had accepted in the course of his\n",
      "    evidence that he had travelled through Germany and therefore the\n",
      "    evidence from the EURODAC search confirming that did not alter the\n",
      "    credibility of the Appellant’s account. Mr Sharif also argued that the\n",
      "    judge’s findings in relation to it being incredible that the Appellant would\n",
      "    not have had more knowledge about the details of the feud was an\n",
      "    irrational finding on the part of the judge.\n",
      "10. For his part Mr Mills defends the judge’s decision and argues that the\n",
      "    dishonest statement that the Appellant had remained in December 2017\n",
      "    was clearly capable of affecting the credibility of the Appellant’s account.\n",
      "    I raised with him whether or not such a discrepancy could be treated as\n",
      "    determinative of the account given that there were no dates given in the\n",
      "    Appellant’s account of matters occurring in Iraq any later than 22 March\n",
      "    2016. Mr Mills appeared to accept that it was right to say that the\n",
      "    Appellant’s credibility was not determinatively decided by the discrepancy\n",
      "    of his whereabouts in March 2016. However Mr Mills points to the other\n",
      "    findings at paragraph 17 in support of the judge’s reasoning.\n",
      "    Discussion\n",
      "11. I find no material error of law in the judge’s decision. The suggestion in\n",
      "    the grant of permission to appeal by Judge Keane that the judge had\n",
      "                                          4\n",
      "\n",
      "                                                             Appeal Number: PA/00240/2019\n",
      "    arguably had regard to irrelevant considerations is difficult to sustain. The\n",
      "    Appellant has clearly given inconsistent evidence about his whereabouts,\n",
      "    on the one part insisting that he remained in Iraq in December 2017 but\n",
      "    incontrovertible evidence existing from the EURODAC search result that he\n",
      "    was present in Germany on 22 March 2016. These two items of evidence\n",
      "    simply cannot sit together. True it is that there are no details of the\n",
      "    Appellant’s account of any incidents that he has set out which are dated\n",
      "    any later than 22 March 2016, and therefore being shot at in ‘2016’ and\n",
      "    him departing Iraq prior to 22 March 2016 does not necessarily make his\n",
      "    account impossible to believe, but it is clearly a very significant matter\n",
      "    that the Appellant has lied about his continued presence in Iraq up to the\n",
      "    point of December 2017 and the judge was fully entitled to treat that as a\n",
      "    very significant matter. Whether or not she was entitled to treat it as\n",
      "    rendering ‘his entire account unreliable’ is moot.\n",
      "12. However the judge does not stop there in her credibility findings because\n",
      "    she continues, as is clear at paragraph 17, to set out other reasons for\n",
      "    finding the Appellant’s account incredible. Whereas it may be expected\n",
      "    that a young person may not be as fully informed about the details of a\n",
      "    feud affecting his family and the wider tribe as might a fully-grown adult,\n",
      "    the judge’s point is that the Appellant decided, together with the\n",
      "    assistance of a relative, to leave Iraq because of this feud and the judge\n",
      "    was entitled to find that it was implausible that the Appellant knew so little\n",
      "    about the feud whereas it had been the specific cause of his decision to\n",
      "    leave the country. I find that it was not irrational for the judge to make\n",
      "    the findings that she did at paragraph 17. There are a number of reasons\n",
      "    therefore given by the judge for finding the Appellant’s account incredible\n",
      "    and I find that none of those reasons is vitiated by any error of law.\n",
      "13. Judge Keane in granting permission did not comment upon the Appellant’s\n",
      "    actual second ground which was that the judge had failed to apply country\n",
      "    guidance relevant to the issue of obtaining documents for readmission and\n",
      "    residence in Iraq. However in the light of my decision that the judge’s\n",
      "    credibility findings are sustainable it is also sustainable that the Appellant\n",
      "    can have the assistance of family members in Iraq to obtain any\n",
      "    replacement documents that are needed to facilitate his return to, and\n",
      "    residence in Iraq.\n",
      "    Notice of Decision\n",
      "    The judge’s decision did not involve the making of any material error of\n",
      "    law.\n",
      "    I do not set aside the decision.\n",
      "    The Appellant’s appeal is dismissed.\n",
      "Signed                       Date 20.11.19\n",
      "                                        5\n",
      "\n",
      "                                                           Appeal Number: PA/00240/2019\n",
      "Deputy Upper Tribunal Judge O’Ryan\n",
      "Direction Regarding Anonymity – Rule 14 of the Tribunal Procedure\n",
      "(Upper Tribunal) Rules 2008\n",
      "Unless and until a Tribunal or court directs otherwise, the Appellant is granted\n",
      "anonymity. No report of these proceedings shall directly or indirectly identify\n",
      "him or any member of their family. This direction applies both to the Appellant\n",
      "and to the Respondent. Failure to comply with this direction could lead to\n",
      "contempt of court proceedings.\n",
      "Signed                      Date 20.11.19\n",
      "Deputy Upper Tribunal Judge O’Ryan\n",
      "                                        6\n",
      "\n",
      "Upper Tribunal\n",
      "(Immigration and Asylum Chamber)                  Appeal Number: PA/00240/2019\n",
      "                            THE IMMIGRATION ACTS\n",
      "Heard at Birmingham CJC                           Decision      &       Reasons\n",
      "                                                  Promulgated\n",
      "On 8 November 2019                                On 21 November 2019\n",
      "                                     Before\n",
      "                  DEPUTY UPPER TRIBUNAL JUDGE O’RYAN\n",
      "                                    Between\n",
      "                                     MR D A\n",
      "                       (ANONYMITY DIRECTION MADE)\n",
      "                                                                        Appellant\n",
      "                                      and\n",
      "         THE SECRETARY OF STATE FOR THE HOME DEPARTMENT\n",
      "                                                                      Respondent\n",
      "Representation:\n",
      "For the Appellant:   Mr Sharif, Fountain Solicitors\n",
      "For the Respondent: Mr Mills, Senior Home Office Presenting Officer\n",
      "                           DECISION AND REASONS\n",
      "1.   This is the Appellant’s appeal against the decision of Judge of the First-tier\n",
      "     Tribunal Boylan-Kemp MBE dated 2 May 2019 dismissing the Appellant’s\n",
      "     appeal against the Respondent’s decision of 23 November 2018 refusing\n",
      "     his human rights and protection claim.\n",
      "                         © CROWN COPYRIGHT 2019\n",
      "\n",
      "                                                          Appeal Number: PA/00240/2019\n",
      "2. The Appellant is a national of Iraq of Kurdish origin and from Sulamaniyah\n",
      "   in the IKR. He gave an account that he was at risk of serious harm in the\n",
      "   IKR by reason of his family and extended tribe being in a feud with another\n",
      "   tribe in the IKR. The Appellant was not able to give many details of the\n",
      "   origins of the feud but stated that one family member had been killed as a\n",
      "   result of it and that he himself had experienced two incidents; one being\n",
      "   that unknown persons had fired upon a car in which he was travelling and\n",
      "   his cousin had been injured in the shoulder, and another occasion when\n",
      "   the house in which he lived was fired upon.\n",
      "3. The Respondent in its decision refusing the protection claim disbelieved\n",
      "   the Appellant’s account that there was any feud on the grounds that the\n",
      "   Appellant knew very few details of the alleged feud. There was also said\n",
      "   to be a discrepancy as between the Appellant’s evidence in interview as to\n",
      "   how many occasions the Appellant experienced any problems himself\n",
      "   (refusal letter, para [26]) and a discrepancy between an alleged fear of his\n",
      "   own father (resulting from the Appellant refusing to take part in the feud)\n",
      "   and information given in an age assessment interview in which he had\n",
      "   stated that he had a good relationship with his family members (para\n",
      "   [31]).\n",
      "4. The Appellant appealed against that decision and the matter came before\n",
      "   the judge at the Birmingham hearing centre on 18 March 2019. The\n",
      "   Appellant was represented and gave evidence. At the date of that hearing\n",
      "   the Appellant would have been 18 years of age. A further document was\n",
      "   relied upon by the Respondent at that hearing, being a EURODAC search\n",
      "   result, demonstrating that a person in the Appellant’s identity was\n",
      "   fingerprinted in Dresden in Germany on 22 March 2016. The Appellant’s\n",
      "   account as given in his SEF interview and confirmed in oral evidence\n",
      "   before the judge was that he only left Iraq in December 2017. The\n",
      "   Appellant denied before the judge that the person identified in the\n",
      "   EURODAC search was him but the judge stated that she was satisfied by\n",
      "   the details contained within the document, and looking at the clear\n",
      "   photograph on the EURODAC match, that the person fingerprinted in\n",
      "   Germany was indeed the Appellant.\n",
      "5. The judge found at paragraph 14 onwards as follows:\n",
      "        “16. The evidence provided by the EURODAC document is\n",
      "             unequivocal. The photograph contained within the document is\n",
      "             clearly the Appellant who appeared before me and I have no\n",
      "             reason to doubt that the document relates to him. Therefore this\n",
      "             document upon which I am satisfied I can place significant weight\n",
      "             puts him in Germany on 22 March 2016. Consequently I find that\n",
      "             this evidence undermines the credibility of his entire account and\n",
      "             his credibility as a witness in his own cause and that it renders\n",
      "             his entire account unreliable.\n",
      "                                        2\n",
      "\n",
      "Upper Tribunal\n",
      "(Immigration and Asylum Chamber)                  Appeal Number: PA/00240/2019\n",
      "                            THE IMMIGRATION ACTS\n",
      "Heard at Birmingham CJC                           Decision      &       Reasons\n",
      "                                                  Promulgated\n",
      "On 8 November 2019                                On 21 November 2019\n",
      "                                     Before\n",
      "                  DEPUTY UPPER TRIBUNAL JUDGE O’RYAN\n",
      "                                    Between\n",
      "                                     MR D A\n",
      "                       (ANONYMITY DIRECTION MADE)\n",
      "                                                                        Appellant\n",
      "                                      and\n",
      "         THE SECRETARY OF STATE FOR THE HOME DEPARTMENT\n",
      "                                                                      Respondent\n",
      "Representation:\n",
      "For the Appellant:   Mr Sharif, Fountain Solicitors\n",
      "For the Respondent: Mr Mills, Senior Home Office Presenting Officer\n",
      "                           DECISION AND REASONS\n",
      "1.   This is the Appellant’s appeal against the decision of Judge of the First-tier\n",
      "     Tribunal Boylan-Kemp MBE dated 2 May 2019 dismissing the Appellant’s\n",
      "     appeal against the Respondent’s decision of 23 November 2018 refusing\n",
      "     his human rights and protection claim.\n",
      "                         © CROWN COPYRIGHT 2019\n",
      "\n",
      "\n",
      "                                                          Appeal Number: PA/00240/2019\n",
      "2. The Appellant is a national of Iraq of Kurdish origin and from Sulamaniyah\n",
      "   in the IKR. He gave an account that he was at risk of serious harm in the\n",
      "   IKR by reason of his family and extended tribe being in a feud with another\n",
      "   tribe in the IKR. The Appellant was not able to give many details of the\n",
      "   origins of the feud but stated that one family member had been killed as a\n",
      "   result of it and that he himself had experienced two incidents; one being\n",
      "   that unknown persons had fired upon a car in which he was travelling and\n",
      "   his cousin had been injured in the shoulder, and another occasion when\n",
      "   the house in which he lived was fired upon.\n",
      "3. The Respondent in its decision refusing the protection claim disbelieved\n",
      "   the Appellant’s account that there was any feud on the grounds that the\n",
      "   Appellant knew very few details of the alleged feud. There was also said\n",
      "   to be a discrepancy as between the Appellant’s evidence in interview as to\n",
      "   how many occasions the Appellant experienced any problems himself\n",
      "   (refusal letter, para [26]) and a discrepancy between an alleged fear of his\n",
      "   own father (resulting from the Appellant refusing to take part in the feud)\n",
      "   and information given in an age assessment interview in which he had\n",
      "   stated that he had a good relationship with his family members (para\n",
      "   [31]).\n",
      "4. The Appellant appealed against that decision and the matter came before\n",
      "   the judge at the Birmingham hearing centre on 18 March 2019. The\n",
      "   Appellant was represented and gave evidence. At the date of that hearing\n",
      "   the Appellant would have been 18 years of age. A further document was\n",
      "   relied upon by the Respondent at that hearing, being a EURODAC search\n",
      "   result, demonstrating that a person in the Appellant’s identity was\n",
      "   fingerprinted in Dresden in Germany on 22 March 2016. The Appellant’s\n",
      "   account as given in his SEF interview and confirmed in oral evidence\n",
      "   before the judge was that he only left Iraq in December 2017. The\n",
      "   Appellant denied before the judge that the person identified in the\n",
      "   EURODAC search was him but the judge stated that she was satisfied by\n",
      "   the details contained within the document, and looking at the clear\n",
      "   photograph on the EURODAC match, that the person fingerprinted in\n",
      "   Germany was indeed the Appellant.\n",
      "5. The judge found at paragraph 14 onwards as follows:\n",
      "        “16. The evidence provided by the EURODAC document is\n",
      "             unequivocal. The photograph contained within the document is\n",
      "             clearly the Appellant who appeared before me and I have no\n",
      "             reason to doubt that the document relates to him. Therefore this\n",
      "             document upon which I am satisfied I can place significant weight\n",
      "             puts him in Germany on 22 March 2016. Consequently I find that\n",
      "             this evidence undermines the credibility of his entire account and\n",
      "             his credibility as a witness in his own cause and that it renders\n",
      "             his entire account unreliable.\n",
      "                                        2\n",
      "\n",
      "\n",
      "                                                            Appeal Number: PA/00240/2019\n",
      "        17. Further I also find his inability to recall the details of the alleged\n",
      "             feud which caused him to leave his family and flee the country to\n",
      "             also not be credible. If a young man was leaving his life behind\n",
      "             because of his reluctance to become involved in an ongoing\n",
      "             family feud then I would anticipate that he would have\n",
      "             knowledge of what he is in fear of and so I do not find it plausible\n",
      "             that he would not know the details of this feud if he held such a\n",
      "             genuine fear. Also I note that even on his own evidence there\n",
      "             has been no specific risk or threat made to him which would\n",
      "             cause him to fear for his own safety beyond what is a more\n",
      "             general tribal threat and of which he cannot provide much detail.\n",
      "             …\n",
      "        18. As I have found the Appellant’s alleged reasoning for leaving Iraq\n",
      "             to not be credible then I also find that it is not plausible that his\n",
      "             family have consequently threatened him as claimed due to his\n",
      "             alleged desertion because of the alleged feud. Instead I find that\n",
      "             he has travelled to the UK with the assistance and knowledge of\n",
      "             his family for reasons other than escaping a risk of persecution.\n",
      "             As such I find that his family would therefore be able to assist\n",
      "             him with obtaining a copy of his identification documents and\n",
      "             CSID which would help facilitate his return to Iraq. I also find that\n",
      "             he would be able to return to the help and support of his family\n",
      "             there.”\n",
      "   The judge dismissed the Appellant’s appeal.\n",
      "6. The Appellant appeals to the Upper Tribunal on grounds dated 15 May\n",
      "   2019 which argue very briefly that the judge erred in law at paragraphs 15\n",
      "   to 20 by giving inadequate reasoning for finding the Appellant’s account to\n",
      "   not be credible and secondly that the judge had failed to apply relevant\n",
      "   country guidance.\n",
      "7. Permission to appeal was granted by Judge of the First-tier Tribunal Keane\n",
      "   on 24 June 2019. The judge stated as follows:\n",
      "        “The judge arguably had regard to irrelevant considerations in finding\n",
      "        that the Appellant had not given a credible account of events. The\n",
      "        judge’s findings as to the credibility were to be found at paragraphs\n",
      "        15 to 18 inclusive of her decision. At paragraph 15 the judge\n",
      "        attached weight so as to undermine the Appellant’s credibility to a\n",
      "        EURODAC printout provided by the Respondent which as the judge\n",
      "        found proved that the Appellant was photographed and printed in\n",
      "        Germany on 22 March 2016. The judge however did not explain why\n",
      "        such circumstance damaged the Appellant’s credibility. If the judge\n",
      "        had in mind the Appellant’s apparent failure to claim asylum in\n",
      "        Germany the judge arguably should have stated so. At paragraph 16\n",
      "        of the decision the judge again accorded weight to the EURODAC\n",
      "        document without stating why. At paragraph 17 of the decision the\n",
      "                                       3\n",
      "\n",
      "\n",
      "                                                            Appeal Number: PA/00240/2019\n",
      "          judge stated that the judge would have anticipated that the Appellant\n",
      "          would have had knowledge of the alleged feud which on his case\n",
      "          caused him to leave his family and indeed his country. The judge\n",
      "          arguably substituted her own understanding of what constituted\n",
      "          reasonable conduct in circumstances where arguably she should not\n",
      "          have done so. At paragraph 18 the judge stated that it was not\n",
      "          plausible that the Appellant’s family have consequently threatened\n",
      "          him on account of his ostensible desertion and the judge was\n",
      "          arguably disbelieving the Appellant’s account without providing any\n",
      "          or adequate reasons. It was incumbent on the judge in resolving the\n",
      "          issue of credibility to embark upon a global assessment of the\n",
      "          Appellant’s credibility and to provide adequate reasons in support of a\n",
      "          finding that he had not done so. This the judge arguably failed to do.”\n",
      "    Submissions\n",
      "8.  Mr Sharif relies upon the grounds of appeal and the admittedly more\n",
      "    extensive grant of permission to appeal in support of his Appellant’s case.\n",
      "9.  Mr Sharif points out that the only date given in the Appellant’s account for\n",
      "    any particular incident was in relation to the incident when the car in\n",
      "    which the Appellant was travelling had been shot at. The date for that is to\n",
      "    be found in the SEF interview at [86] and was simply ‘2016’. The\n",
      "    Appellant gives no other dates for the matters that he relies upon in\n",
      "    support of the proposition that he is at risk because of a blood feud in Iraq.\n",
      "    He does however consistently state that he left Iraq in December 2017.\n",
      "    Mr Sharif argues that the Appellant had accepted in the course of his\n",
      "    evidence that he had travelled through Germany and therefore the\n",
      "    evidence from the EURODAC search confirming that did not alter the\n",
      "    credibility of the Appellant’s account. Mr Sharif also argued that the\n",
      "    judge’s findings in relation to it being incredible that the Appellant would\n",
      "    not have had more knowledge about the details of the feud was an\n",
      "    irrational finding on the part of the judge.\n",
      "10. For his part Mr Mills defends the judge’s decision and argues that the\n",
      "    dishonest statement that the Appellant had remained in December 2017\n",
      "    was clearly capable of affecting the credibility of the Appellant’s account.\n",
      "    I raised with him whether or not such a discrepancy could be treated as\n",
      "    determinative of the account given that there were no dates given in the\n",
      "    Appellant’s account of matters occurring in Iraq any later than 22 March\n",
      "    2016. Mr Mills appeared to accept that it was right to say that the\n",
      "    Appellant’s credibility was not determinatively decided by the discrepancy\n",
      "    of his whereabouts in March 2016. However Mr Mills points to the other\n",
      "    findings at paragraph 17 in support of the judge’s reasoning.\n",
      "    Discussion\n",
      "11. I find no material error of law in the judge’s decision. The suggestion in\n",
      "    the grant of permission to appeal by Judge Keane that the judge had\n",
      "                                          4\n",
      "\n",
      "\n",
      "                                                             Appeal Number: PA/00240/2019\n",
      "    arguably had regard to irrelevant considerations is difficult to sustain. The\n",
      "    Appellant has clearly given inconsistent evidence about his whereabouts,\n",
      "    on the one part insisting that he remained in Iraq in December 2017 but\n",
      "    incontrovertible evidence existing from the EURODAC search result that he\n",
      "    was present in Germany on 22 March 2016. These two items of evidence\n",
      "    simply cannot sit together. True it is that there are no details of the\n",
      "    Appellant’s account of any incidents that he has set out which are dated\n",
      "    any later than 22 March 2016, and therefore being shot at in ‘2016’ and\n",
      "    him departing Iraq prior to 22 March 2016 does not necessarily make his\n",
      "    account impossible to believe, but it is clearly a very significant matter\n",
      "    that the Appellant has lied about his continued presence in Iraq up to the\n",
      "    point of December 2017 and the judge was fully entitled to treat that as a\n",
      "    very significant matter. Whether or not she was entitled to treat it as\n",
      "    rendering ‘his entire account unreliable’ is moot.\n",
      "12. However the judge does not stop there in her credibility findings because\n",
      "    she continues, as is clear at paragraph 17, to set out other reasons for\n",
      "    finding the Appellant’s account incredible. Whereas it may be expected\n",
      "    that a young person may not be as fully informed about the details of a\n",
      "    feud affecting his family and the wider tribe as might a fully-grown adult,\n",
      "    the judge’s point is that the Appellant decided, together with the\n",
      "    assistance of a relative, to leave Iraq because of this feud and the judge\n",
      "    was entitled to find that it was implausible that the Appellant knew so little\n",
      "    about the feud whereas it had been the specific cause of his decision to\n",
      "    leave the country. I find that it was not irrational for the judge to make\n",
      "    the findings that she did at paragraph 17. There are a number of reasons\n",
      "    therefore given by the judge for finding the Appellant’s account incredible\n",
      "    and I find that none of those reasons is vitiated by any error of law.\n",
      "13. Judge Keane in granting permission did not comment upon the Appellant’s\n",
      "    actual second ground which was that the judge had failed to apply country\n",
      "    guidance relevant to the issue of obtaining documents for readmission and\n",
      "    residence in Iraq. However in the light of my decision that the judge’s\n",
      "    credibility findings are sustainable it is also sustainable that the Appellant\n",
      "    can have the assistance of family members in Iraq to obtain any\n",
      "    replacement documents that are needed to facilitate his return to, and\n",
      "    residence in Iraq.\n",
      "    Notice of Decision\n",
      "    The judge’s decision did not involve the making of any material error of\n",
      "    law.\n",
      "    I do not set aside the decision.\n",
      "    The Appellant’s appeal is dismissed.\n",
      "Signed                       Date 20.11.19\n",
      "                                        5\n",
      "\n",
      "\n",
      "                                                           Appeal Number: PA/00240/2019\n",
      "Deputy Upper Tribunal Judge O’Ryan\n",
      "Direction Regarding Anonymity – Rule 14 of the Tribunal Procedure\n",
      "(Upper Tribunal) Rules 2008\n",
      "Unless and until a Tribunal or court directs otherwise, the Appellant is granted\n",
      "anonymity. No report of these proceedings shall directly or indirectly identify\n",
      "him or any member of their family. This direction applies both to the Appellant\n",
      "and to the Respondent. Failure to comply with this direction could lead to\n",
      "contempt of court proceedings.\n",
      "Signed                      Date 20.11.19\n",
      "Deputy Upper Tribunal Judge O’Ryan\n",
      "                                        6\n",
      "\n"
     ]
    }
   ],
   "source": [
    "import pdftotext\n",
    "\n",
    "# Load your PDF\n",
    "with open(\"../data/PA059452018.pdf\", \"rb\") as f:\n",
    "    pdf = pdftotext.PDF(f)\n",
    "\n",
    "# If it's password-protected\n",
    "with open(\"../data/PA002402019.pdf\", \"rb\") as f:\n",
    "    pdf = pdftotext.PDF(f, \"secret\")\n",
    "\n",
    "# How many pages?\n",
    "print(len(pdf))\n",
    "\n",
    "# Iterate over all the pages\n",
    "for page in pdf:\n",
    "    print(page)\n",
    "\n",
    "# Read some individual pages\n",
    "print(pdf[0])\n",
    "print(pdf[1])\n",
    "\n",
    "# Read all the text into one string\n",
    "pdf = \"\\n\\n\".join(pdf)\n",
    "print(pdf)"
   ]
  },
  {
   "cell_type": "markdown",
   "metadata": {},
   "source": [
    "## 5.2. Basic statistics"
   ]
  },
  {
   "cell_type": "markdown",
   "metadata": {},
   "source": [
    "🤓 It is important when analysing text to know the basic figures: \n",
    "- How many words do we have? \n",
    "- How many sentences? \n",
    "- What are the most common words? \n",
    "\n",
    "\n",
    "❓ More questions?"
   ]
  },
  {
   "cell_type": "markdown",
   "metadata": {},
   "source": [
    "### 5.2.1. How many words do we have? "
   ]
  },
  {
   "cell_type": "code",
   "execution_count": 59,
   "metadata": {},
   "outputs": [
    {
     "data": {
      "text/plain": [
       "3853"
      ]
     },
     "execution_count": 59,
     "metadata": {},
     "output_type": "execute_result"
    }
   ],
   "source": [
    "# How many words do we have?\n",
    "words_txt = text.split()\n",
    "len(words_txt)"
   ]
  },
  {
   "cell_type": "code",
   "execution_count": 60,
   "metadata": {},
   "outputs": [
    {
     "data": {
      "text/plain": [
       "2148"
      ]
     },
     "execution_count": 60,
     "metadata": {},
     "output_type": "execute_result"
    }
   ],
   "source": [
    "words_pdf = pdf.split()\n",
    "len(words_pdf)"
   ]
  },
  {
   "cell_type": "markdown",
   "metadata": {},
   "source": [
    "### 5.2.2. How many sentences do we have? "
   ]
  },
  {
   "cell_type": "code",
   "execution_count": 61,
   "metadata": {},
   "outputs": [
    {
     "data": {
      "text/plain": [
       "188"
      ]
     },
     "execution_count": 61,
     "metadata": {},
     "output_type": "execute_result"
    }
   ],
   "source": [
    "# How many sentences do we have?\n",
    "sent_txt = text.split('.')\n",
    "len(sent_txt)"
   ]
  },
  {
   "cell_type": "code",
   "execution_count": 62,
   "metadata": {},
   "outputs": [
    {
     "data": {
      "text/plain": [
       "88"
      ]
     },
     "execution_count": 62,
     "metadata": {},
     "output_type": "execute_result"
    }
   ],
   "source": [
    "# How many sentences do we have?\n",
    "sent_pdf = pdf.split('.')\n",
    "len(sent_pdf)"
   ]
  },
  {
   "cell_type": "code",
   "execution_count": 67,
   "metadata": {},
   "outputs": [
    {
     "name": "stdout",
     "output_type": "stream",
     "text": [
      "160\n"
     ]
    },
    {
     "name": "stderr",
     "output_type": "stream",
     "text": [
      "[nltk_data] Downloading package punkt to /home/avaldivia/nltk_data...\n",
      "[nltk_data]   Package punkt is already up-to-date!\n"
     ]
    }
   ],
   "source": [
    "# How many sentences do we have?\n",
    "import nltk\n",
    "nltk.download('punkt')\n",
    "from nltk.tokenize import sent_tokenize\n",
    "\n",
    "sent_txt_nltk = sent_tokenize(text)\n",
    "print(len(sent_txt_nltk))"
   ]
  },
  {
   "cell_type": "code",
   "execution_count": 68,
   "metadata": {},
   "outputs": [
    {
     "name": "stdout",
     "output_type": "stream",
     "text": [
      "82\n"
     ]
    },
    {
     "name": "stderr",
     "output_type": "stream",
     "text": [
      "[nltk_data] Downloading package punkt to /home/avaldivia/nltk_data...\n",
      "[nltk_data]   Package punkt is already up-to-date!\n"
     ]
    }
   ],
   "source": [
    "# How many sentences do we have?\n",
    "sent_pdf_nltk = sent_tokenize(pdf)\n",
    "print(len(sent_pdf_nltk))"
   ]
  },
  {
   "cell_type": "markdown",
   "metadata": {},
   "source": [
    "### 5.2.3. What are the most common words? "
   ]
  },
  {
   "cell_type": "code",
   "execution_count": 82,
   "metadata": {},
   "outputs": [
    {
     "name": "stdout",
     "output_type": "stream",
     "text": [
      "Pairs\n",
      "[('MADE)', 2), ('She', 1), ('or', 11), ('MBE', 1), ('an', 12), ('evidence.', 1), ('prior', 1), ('Appellant’s', 35), ('Unless', 2), ('August', 2), ('written', 4), ('TCEA', 1), ('concerned,', 1), ('damaged', 1), ('Date', 2), ('incontrovertible', 1), ('[31]).', 1), ('atheist.', 1), ('means', 1), ('vitiated', 1), ('O’RYAN', 1), ('occasions', 1), ('against', 5), ('accept', 1), ('together', 1), ('knew', 6), ('Iran....', 1), ('word', 1), ('homosexuality,', 1), ('CJC', 2), ('Decision', 4), ('screening', 4), ('had', 44), ('DEPUTY', 2), ('Appellant.', 1), ('that', 116), ('confirm', 1), ('document', 6), ('apparently', 1), ('rendering', 1), ('observed,', 1), ('car', 2), ('Further', 1), ('incredible', 2), ('7.', 2), ('within', 2), ('Mr', 20), ('country.', 2), ('witness,', 1), ('correct', 1), ('there.”', 1), ('My', 1), ('Juss', 1), ('before', 10), ('Also', 1), ('been', 16), ('[S]’s', 2), ('Iraq.', 4), ('18.', 1), ('guidance', 1), ('2016,', 2), ('denied', 1), ('general', 1), ('appeals', 1), ('analysis', 1), ('otherwise,', 2), ('detailed', 1), ('why', 1), ('justice.', 1), ('refusing', 4), ('do,', 1), ('ill', 1), ('representative', 1), ('could', 5), ('involve', 3), ('deal', 1), ('demonstrating', 1), ('2018.', 1), ('‘2016’.', 1), ('after', 1), ('dealt', 1), ('Asylum', 2), ('promulgated', 1), ('online', 1), ('tendencies,', 1), ('it.', 1), ('simply', 4), ('relevant', 2), ('seekers”.', 2), ('present', 1), ('point', 3), ('13.', 2), ('Deputy', 3), ('coming', 2), ('aware”', 1), ('application', 1), ('Dated', 1), ('CROWN', 2), ('22', 8), ('asylum', 7), ('2019', 7), ('born', 1), ('they', 1), ('date', 3), ('problems', 1), ('later', 2), ('were', 7), ('met', 4), ('While', 1), ('therefore', 4), ('Then', 1), ('CSID', 1), ('12(1)', 1), ('(para', 1), ('its', 1), ('attended', 1), ('result,', 1), ('treat', 2), ('may', 3), ('(Upper', 2), ('stand.', 1), ('blood', 1), ('UK', 6), ('14', 6), ('all', 1), ('refer', 1), ('prepared', 1), ('obtaining', 2), ('Keane', 3), ('family', 13), ('left', 2), ('explained', 1), ('behind', 1), ('credibility.', 2), ('6', 2), ('Howard', 2), ('This', 5), ('page', 4), ('done', 2), ('Representation:', 2), ('PA/00240/2019', 6), ('adult,', 1), ('origins', 1), ('however,', 1), ('error', 7), ('to.', 1), ('unknown', 1), ('Dresden', 1), ('global', 1), ('forbidden', 1), ('decided,', 1), ('th', 9), ('Permission', 1), ('residence', 2), ('made', 3), ('THE', 6), ('page”.', 1), ('follows:', 2), ('sits', 1), ('many', 2), ('indirectly', 2), ('through', 1), ('citizen', 1), ('knowledge', 4), ('para', 1), ('2019.', 2), ('this', 16), ('particular', 4), ('their', 4), ('case', 2), ('SEF', 2), ('pursuant', 1), ('returned,', 1), ('fear.', 1), ('“not', 1), ('said', 6), ('attach', 1), ('HOPO)', 1), ('3.', 2), ('STATE', 2), ('4.', 2), ('me', 2), ('following', 1), ('who', 4), ('person', 5), ('Submissions', 2), ('where', 5), ('uncritical', 1), ('humanitarian', 1), ('course', 1), ('quite', 1), ('his', 56), ('probed', 1), ('credible.', 1), ('necessarily', 1), ('recall', 1), ('claim.', 1), ('Respondent:', 2), ('experienced', 2), ('UPPER', 2), ('killed', 1), ('understanding', 1), ('non-', 1), ('protection', 3), ('account.', 2), ('inconsistent', 2), ('come', 1), ('indeed', 2), ('fire”', 1), ('[L],', 2), ('parade', 1), ('ease', 1), ('affecting', 2), ('leave', 4), ('4Appeal', 2), ('J', 1), ('participated', 1), ('lead', 2), ('needed', 1), ('whereupon', 1), ('became', 2), ('provides', 1), ('further', 2), ('conclude', 1), ('two', 2), ('existing', 1), ('contacted', 1), ('incumbent', 1), ('‘2016’', 1), ('upon', 8), ('upon.', 1), ('extensive', 1), ('none', 1), ('genuine', 1), ('how', 4), ('death.', 1), ('appeal.', 1), ('comment', 1), ('Mills', 5), ('however', 2), ('reasonable', 1), ('sustainable', 2), ('view', 2), ('Boylan-Kemp', 1), ('it', 23), ('395.', 1), ('judge,', 1), ('IMMIGRATION', 2), ('application.', 1), ('acknowledged', 1), ('Iran,', 1), ('religion', 1), ('few', 1), ('law.', 3), ('5.', 2), ('Respondent’s', 1), ('statement', 4), ('Respondent.', 2), ('do', 2), ('account', 18), ('origin', 1), ('rejected', 1), ('be', 17), ('pan', 1), ('threatened', 2), ('guidance.', 1), ('Judge', 8), ('Pacey,', 1), ('punishable', 1), ('argue', 1), ('stating', 1), ('incident', 2), ('return', 4), ('Iranian', 1), ('for,', 1), ('collected', 1), ('issues', 1), ('witness', 4), ('cause', 3), ('wrote', 1), ('document,', 1), ('dated', 4), ('evidence,', 3), ('5Appeal', 1), ('shot', 2), ('HC', 1), ('value,', 1), ('21', 1), ('comply', 2), ('aware', 3), ('if', 8), ('moot.', 1), ('IKR.', 2), ('are', 6), ('339C', 1), ('proposition', 1), ('short,', 1), ('year’s', 1), ('there', 7), ('alleged', 7), ('desertion', 2), ('“The', 1), ('black', 1), ('took', 1), ('“aware', 1), ('[26])', 1), ('JUSS', 1), ('April', 2), ('male,', 1), ('rd', 1), ('Facebook', 4), ('(refusal', 1), ('3Appeal', 2), ('feud.', 2), ('called', 2), ('appeared', 2), ('appellant’s', 1), ('significant', 4), ('looks', 1), ('organisation', 3), ('continues,', 1), ('An', 1), ('explored', 1), ('director', 3), ('family.', 2), ('then', 6), ('68).', 1), ('taking', 2), ('SECRETARY', 2), ('Fountain', 1), ('shoulder,', 1), ('represented', 2), ('due', 1), ('inadequate', 1), ('whereabouts,', 1), ('support', 8), ('During', 1), ('impressed', 1), ('way', 1), ('regard', 2), ('Law', 1), ('subsequently', 1), ('determination,', 1), ('right', 1), ('meet', 1), ('dishonest', 1), ('LGBT', 7), ('Nevertheless', 1), ('matters', 2), ('judge.', 2), ('obtain', 1), ('person,', 1), ('8', 1), ('friends', 2), ('my', 1), ('Signed', 3), ('bundle).', 2), ('REASONS', 2), ('relied', 1), ('held', 2), ('assessment', 2), ('weight', 5), ('accepted', 1), ('issues.', 1), ('circumstances', 1), ('travelled', 2), ('contempt', 2), ('doubt', 1), ('Appeal', 2), ('Whereas', 1), ('told', 1), ('[F]”,', 1), ('court', 5), ('details', 8), ('gay', 5), ('Chamber)', 2), ('centre', 1), ('Number:', 11), ('specific', 2), ('frying', 1), ('well-meaning,', 1), ('D', 2), ('Before', 2), ('for', 17), ('Rule', 2), ('finding', 6), ('capable', 1), ('[L]', 7), ('am', 4), ('discrepancy', 9), ('identity', 1), ('ground', 1), ('undermines', 1), ('manner', 2), ('has', 10), ('no', 10), ('A', 2), ('19', 1), ('“16.', 1), ('him', 16), ('returned', 1), ('clear', 5), ('[FS],', 1), ('serious', 2), ('2018,', 1), ('the', 270), ('cousin', 1), ('appeal', 13), ('identification', 1), ('further.', 1), ('Second,', 1), ('Calais', 1), ('15', 5), ('man', 2), ('admittedly', 1), ('“but', 1), ('not', 44), ('puts', 1), ('shall', 3), ('order', 1), ('harm', 1), ('but', 5), ('when', 4), ('erred', 1), ('since', 2), ('did', 13), ('any', 14), ('Pride', 1), ('HOME', 2), ('can', 3), ('these', 2), ('seen', 1), ('declaring', 1), ('house', 1), ('applies', 2), ('onwards', 1), ('via', 1), ('adequate', 2), ('ongoing', 1), ('...', 2), ('using', 1), ('partner,', 2), ('explains', 1), ('persons', 1), ('openly', 3), ('wrong', 1), ('stood,', 1), ('On', 7), ('Services.', 1), ('and', 69), ('2018', 4), ('non-religious', 1), ('country', 5), ('relative,', 1), ('him,', 1), ('I', 23), ('danger', 1), ('referring', 1), ('invited', 1), ('whereas', 2), ('informed', 1), ('5', 3), ('“she', 1), ('decision.', 4), ('clear,', 1), ('renders', 1), ('provided', 3), ('up', 1), ('about', 9), ('FOR', 2), ('interview', 7), ('would', 18), ('second', 1), ('unreliable.', 1), ('as', 28), ('atheist,', 1), ('decided', 1), ('religious', 1), ('Senior', 1), ('explained,', 1), ('dismissed', 2), ('group,', 1), ('1996.', 1), ('grounds', 5), ('Anonymity', 2), ('May', 2), ('Appellant', 48), ('age', 1), ('reasons', 6), ('granted', 3), ('inclusive', 1), ('mention', 1), ('Accordingly,', 1), ('far', 1), ('&', 2), ('escaping', 1), ('–', 2), ('extended', 1), ('consequently', 2), ('punitive', 1), ('15.', 1), ('inability', 1), ('2017', 3), ('Appellant,', 1), ('face', 3), ('note', 2), ('new', 2), ('Error', 1), ('actually', 1), ('so', 4), ('communities', 1), ('sustain.', 1), ('report', 2), ('Heard', 2), ('atheism', 1), ('approach', 3), ('Iraq', 10), ('again', 1), ('injured', 1), ('reasons.', 1), ('bundle)', 1), ('much', 1), ('Both', 1), ('interview”', 1), ('Persian', 2), ('activities', 1), ('event,', 1), ('anticipated', 1), ('persecution...”.', 1), ('presence', 1), ('issue', 2), ('©', 2), ('activist', 1), ('dates', 2), ('secondly', 1), ('seekers', 1), ('appealed', 2), ('Officer', 1), ('departing', 1), ('gave', 2), ('relies', 2), ('directs', 2), ('witnesses', 2), ('went', 1), ('However', 3), ('...”.', 2), ('evidence”', 1), ('PA/05945/2018', 5), ('facilitate', 2), ('circumstance', 1), ('[F]”.', 1), ('printed', 1), ('involved', 1), ('probe', 1), ('providing', 1), ('ill-treated', 1), ('case.', 1), ('ended', 1), ('2', 1), ('jungle”', 1), ('dismissed.', 3), ('“his', 1), ('fully', 2), ('permission', 5), ('out', 3), ('whether', 2), ('entire', 3), ('Christian', 1), ('Promulgated', 2), ('does', 3), ('together.', 1), ('supports', 1), ('himself', 5), ('between', 4), ('letter,', 1), ('reluctance', 1), ('Sharif', 4), ('relation', 4), ('have', 22), ('well-reasoned', 1), ('69).', 1), ('nd', 1), ('describe', 1), ('rights', 1), ('6.', 2), ('actual', 2), ('Office', 1), ('feud)', 1), ('direction', 4), ('adopted', 2), ('those', 1), ('comes', 1), ('feared', 1), ('something', 1), ('raised', 1), ('decision', 15), ('relates', 1), ('flee', 1), ('without', 3), ('do.”', 1), ('2017.', 2), ('even', 1), ('made.', 1), ('unreliable’', 1), ('First,', 1), ('substituted', 1), ('If', 3), ('government', 1), ('make', 2), ('4', 1), ('Tribunal.', 2), ('not,', 1), ('It', 2), ('state', 2), ('leaving', 2), ('value.', 1), ('2.', 2), ('nothing', 1), ('Application', 1), ('hearing', 5), ('explanation', 2), ('safety', 1), ('Germany', 7), ('able', 3), ('other', 5), ('(see', 1), ('noted', 3), ('2Appeal', 2), ('follows.', 1), ('statement,', 1), ('Sharif,', 1), ('believe,', 1), ('satisfied', 3), ('granted.', 1), ('human', 1), ('assistance', 3), ('shares', 1), ('DEPARTMENT', 2), ('determinatively', 1), ('own', 6), ('10.', 2), ('No', 3), ('accepted.', 1), ('disbelieved', 1), ('part', 4), ('beyond', 1), ('arguably', 7), ('should', 6), ('Whether', 1), ('Rules', 2), ('IKR', 1), ('conversation', 1), ('Tribunal)', 2), ('boyfriend', 1), ('2019Appeal', 2), ('help', 2), ('grant', 2), ('she', 13), ('events.', 1), ('23', 2), ('He', 14), ('granted,', 1), ('Therefore', 1), ('matter.', 1), ('(ANONYMITY', 2), ('put', 2), ('fingerprinted', 2), ('person.', 1), ('18', 4), ('caused', 2), ('occasion', 1), ('people', 2), ('fired', 2), ('number', 1), ('claim,', 1), ('another', 2), ('(Senior', 1), ('states', 2), ('persecution', 3), ('by', 21), ('lived', 1), ('evidence', 25), ('national', 1), ('Section', 1), ('comprehensive,', 1), ('Home', 1), ('difficult', 1), ('(Immigration', 2), ('COPYRIGHT', 2), ('comprise', 1), ('he', 58), ('impugned', 2), ('Sulamaniyah', 1), ('tribe', 3), ('Tribunal,', 3), ('submitted', 3), ('whereabouts', 1), ('subject', 2), ('Claim', 1), ('verification', 1), ('him.', 1), ('There', 4), ('plausible', 3), ('17', 2), ('stop', 1), ('copy', 1), ('2007)', 1), ('observed', 1), ('resolving', 1), ('14.', 1), ('also', 16), ('Kurdish', 1), ('find', 12), ('photograph', 2), ('briefly', 1), ('34).', 2), ('“if', 1), ('page...”.', 1), ('on', 28), ('“when', 1), ('“voluntary', 1), ('of', 127), ('17,', 1), ('known', 1), ('16.', 1), ('years', 1), ('occurring', 1), ('father', 1), ('verify', 1), ('previously', 1), ('“he', 1), ('become', 1), ('mentioned', 3), ('16', 1), ('cases', 2), ('provide', 2), ('homosexuality', 3), ('ACTS', 2), ('exactly', 1), ('EURODAC', 8), ('Grounds', 1), ('rules', 1), ('First-tier', 4), ('considerations', 2), ('continued', 1), ('engaged', 1), ('both', 3), ('proved', 1), ('wider', 2), ('found', 5), ('“the', 1), ('argued', 1), ('know', 4), ('Failure', 2), ('persuasive.', 1), ('apparent', 1), ('name', 1), ('documents', 3), ('undermine', 1), ('doing', 1), ('failure', 1), ('dismissing', 1), ('apply', 2), ('Appellant:', 2), ('information', 3), ('applied', 1), ('makes', 3), ('detail.', 1), ('TRIBUNAL', 2), ('anticipate', 1), ('into', 1), ('2019,', 1), ('Procedure', 2), ('consistently', 1), ('In', 3), ('contrary', 1), ('[F].', 1), ('items', 1), ('community', 1), ('each', 3), ('embark', 1), ('concerned', 1), ('testimony.', 1), ('thus', 1), ('8.', 2), ('fully-grown', 1), ('ostensible', 1), ('what', 8), ('suggestion', 1), ('identify', 2), ('material', 3), ('Notice', 1), ('“Miss', 1), ('stated', 12), ('June', 5), ('natural', 1), ('basis', 2), ('determinative', 1), ('“based', 1), ('JUDGE', 2), ('so.', 3), ('place', 1), ('because', 13), ('whose', 2), ('These', 2), ('little', 3), ('homosexual', 3), ('9.', 2), ('her', 9), ('whom', 1), ('strong', 2), ('constituted', 1), ('July', 3), ('claimed', 1), ('sit', 1), ('printout', 1), ('nature', 1), ('judge’s', 9), ('‘due', 1), ('members', 2), ('being', 5), ('11.', 2), ('claim', 8), ('do.', 1), ('attached', 1), ('feud', 12), ('member', 4), ('contained', 2), ('Birmingham', 4), ('interview,', 2), ('to', 103), ('reason', 3), ('relationship', 4), ('well', 1), ('matter', 4), ('credible', 4), ('implausible', 1), ('was', 65), ('oral', 8), ('judge', 50), ('entitled', 5), ('Solicitors', 1), ('sexuality', 1), ('at', 26), ('DECISION', 2), ('“attach', 1), ('travelling', 3), ('active', 2), ('fear', 4), ('March', 9), ('persecution.', 1), ('2016.', 7), ('treated', 1), ('relationships', 1), ('disbelieving', 1), ('voluntary', 3), ('give', 1), ('At', 6), ('points.', 1), ('explain', 1), ('Tribunal', 15), ('defends', 1), ('half', 1), ('me.', 1), ('Presenting', 1), ('(See', 1), ('came', 1), ('directly', 2), ('age.', 1), ('only', 2), ('irrelevant', 2), ('cannot', 2), ('December', 5), ('proceedings.', 2), ('anonymity', 1), ('months.', 1), ('argues', 2), ('say', 3), ('insisting', 1), ('light', 1), ('identified', 1), ('O’Ryan', 2), ('clearly', 4), ('conduct', 1), ('essence', 1), ('to,', 2), ('result', 2), ('What', 1), ('2008', 3), ('paragraph', 9), ('‘his', 1), ('Upper', 7), ('Between', 2), ('For', 7), ('in', 87), ('As', 4), ('given', 9), ('AND', 2), ('match,', 1), ('ascertaining', 1), ('November', 4), ('hand,', 1), ('expected', 1), ('determination', 1), ('[S]', 3), ('previous', 2), ('more', 3), ('Secondly,', 1), ('white', 1), ('irrational', 2), ('granting', 1), ('impossible', 1), ('confirming', 1), ('Howard,', 1), ('HA', 1), ('incredible.', 1), ('Iran.', 2), ('why.', 1), ('probative', 1), ('acknowledged”.', 1), ('from', 5), ('stage', 1), ('threat', 2), ('during', 1), ('1.', 2), ('set', 4), ('Discussion', 1), ('proceedings', 2), ('social', 2), ('MR', 1), ('Miss', 8), ('Direction', 2), ('79).', 1), ('aside', 2), ('with', 17), ('paragraphs', 2), ('looking', 1), ('20.11.19', 2), ('very', 6), ('True', 1), ('Respondent', 6), ('which', 19), ('DIRECTION', 2), ('24', 3), ('remained', 2), ('lied', 1), ('termed', 1), ('replacement', 1), ('until', 2), ('unequivocal.', 1), ('independent', 1), ('life', 1), ('Reasons', 2), ('mind', 1), ('OF', 2), ('hearing,', 2), ('risk', 4), ('alter', 1), ('might', 2), ('Judge’s', 1), ('part,', 1), ('(paragraph', 6), ('confirmed', 1), ('accorded', 1), ('[F]”', 3), ('(at', 2), ('78).', 1), ('9', 1), ('Services,', 1), ('good', 1), ('12.', 2), ('“then', 1), ('herself', 1), ('20', 1), ('reasoning.', 1), ('(Solicitor)', 1), ('wrongly', 1), ('Consequently', 1), ('is', 42), ('Advisory', 2), ('photographed', 1), ('young', 2), ('appellant', 1), ('than', 3), ('findings', 6), ('additionally', 1), ('assist', 1), ('Regarding', 2), ('wholesale.', 1), ('reasoning', 2), ('“I', 5), ('tribal', 1), ('law', 5), ('17.', 3), ('take', 1), ('giving', 1), ('Findings', 1), ('chose', 1), ('search', 4), ('credibility', 12), ('diligence’.', 1), ('plausible.', 1), ('incidents', 1), ('gives', 1), ('points', 2), ('anonymity.', 2), ('entirely', 2), ('The', 39), ('Mills,', 1), ('terms', 1), ('a', 56), ('Instead', 1), ('[86]', 1), ('one', 6), ('readmission', 1), ('making', 4), ('(resulting', 1), ('three', 1), ('anything', 2), ('such', 6), ('failed', 3), ('open', 1), ('at.', 1), ('2016', 1), ('value”', 1), ('incidents;', 1)]\n"
     ]
    }
   ],
   "source": [
    "# What are the most common words? \n",
    "wordfreq_txt = []\n",
    "\n",
    "# count words in text\n",
    "for w in words_txt:\n",
    "    wordfreq_txt.append(words_txt.count(w))\n",
    "    \n",
    "# create a list with words and its frequency\n",
    "word_list = list(set(zip(words_txt, wordfreq_txt)))\n",
    "\n",
    "    \n",
    "print(\"Pairs\\n\" + str(word_list))"
   ]
  },
  {
   "cell_type": "code",
   "execution_count": 91,
   "metadata": {},
   "outputs": [
    {
     "name": "stdout",
     "output_type": "stream",
     "text": [
      "Pairs\n",
      "[('the', 159), ('of', 75), ('that', 68), ('to', 64), ('in', 60), ('and', 42), ('his', 37), ('was', 33), ('judge', 30), ('a', 29), ('Appellant', 27), ('Appellant’s', 26), ('not', 24), ('he', 22), ('The', 22), ('had', 21), ('is', 19), ('I', 18), ('as', 17), ('account', 17), ('it', 15), ('on', 15), ('which', 14), ('at', 14), ('family', 13), ('feud', 12), ('him', 12), ('have', 12), ('credibility', 11), ('any', 11), ('would', 11), ('be', 11), ('by', 11), ('for', 11), ('find', 11), ('evidence', 10), ('decision', 10), ('Iraq', 10), ('Mr', 9), ('March', 9), ('paragraph', 8), ('details', 8), ('judge’s', 8), ('given', 8), ('EURODAC', 8), ('Tribunal', 8), ('stated', 7), ('with', 7), ('alleged', 7), ('22', 7), ('or', 7), ('also', 7), ('Germany', 7), ('arguably', 7), ('upon', 7), ('appeal', 7), ('document', 6), ('Judge', 6), ('PA/00240/2019', 6), ('2016.', 6), ('no', 6), ('finding', 6), ('Number:', 6), ('Appeal', 6), ('been', 6), ('findings', 6), ('own', 5), ('about', 5), ('has', 5), ('an', 5), ('she', 5), ('because', 5), ('there', 5), ('At', 5), ('this', 5), ('found', 5), ('did', 5), ('being', 5), ('support', 5), ('December', 5), ('are', 5), ('reasons', 5), ('2019', 5), ('Iraq.', 4), ('very', 4), ('Respondent', 4), ('therefore', 4), ('Upper', 4), ('knowledge', 4), ('other', 4), ('leave', 4), ('from', 4), ('Sharif', 4), ('part', 4), ('discrepancy', 4), ('18', 4), ('interview', 4), ('person', 4), ('15', 4), ('such', 4), ('clearly', 4), ('risk', 4), ('search', 4), ('but', 4), ('before', 4), ('permission', 3), ('date', 3), ('refusing', 3), ('Keane', 3), ('against', 3), ('so', 3), ('her', 3), ('cause', 3), ('one', 3), ('country', 3), ('dated', 3), ('grounds', 3), ('entitled', 3), ('Mills', 3), ('decision.', 3), ('THE', 3), ('2017', 3), ('weight', 3), ('However', 3), ('out', 3), ('entire', 3), ('does', 3), ('For', 3), ('what', 3), ('able', 3), ('assistance', 3), ('tribe', 3), ('plausible', 3), ('significant', 3), ('documents', 3), ('so.', 3), ('credible', 3), ('set', 3), ('error', 3), ('return', 3), ('fear', 3), ('more', 3), ('than', 3), ('This', 3), ('November', 3), ('failed', 3), ('direction', 2), ('Date', 2), ('provided', 2), ('satisfied', 2), ('granted', 2), ('car', 2), ('incredible', 2), ('within', 2), ('country.', 2), ('court', 2), ('relevant', 2), ('later', 2), ('treat', 2), ('could', 2), ('obtaining', 2), ('left', 2), ('done', 2), ('There', 2), ('residence', 2), ('follows:', 2), ('many', 2), ('2019.', 2), ('SEF', 2), ('Decision', 2), ('experienced', 2), ('First-tier', 2), ('material', 2), ('account.', 2), ('indeed', 2), ('affecting', 2), ('two', 2), ('sustainable', 2), ('however', 2), ('do', 2), ('travelling', 2), ('threatened', 2), ('incident', 2), ('2', 2), ('shot', 2), ('IKR.', 2), ('desertion', 2), ('feud.', 2), ('appeared', 2), ('regard', 2), ('matters', 2), ('As', 2), ('assessment', 2), ('travelled', 2), ('matter', 2), ('specific', 2), ('A', 2), ('reason', 2), ('17.', 2), ('adequate', 2), ('himself', 2), ('May', 2), ('consequently', 2), ('issue', 2), ('dates', 2), ('gave', 2), ('relies', 2), ('point', 2), ('Deputy', 2), ('facilitate', 2), ('may', 2), ('fully', 2), ('On', 2), ('simply', 2), ('hearing', 2), ('He', 2), ('2017.', 2), ('claim', 2), ('make', 2), ('leaving', 2), ('then', 2), ('protection', 2), ('help', 2), ('grant', 2), ('fingerprinted', 2), ('caused', 2), ('clear', 2), ('fired', 2), ('another', 2), ('17', 2), ('photograph', 2), ('knew', 2), ('provide', 2), ('considerations', 2), ('apply', 2), ('Signed', 2), ('members', 2), ('contained', 2), ('14', 2), ('law.', 2), ('were', 2), ('only', 2), ('cannot', 2), ('irrelevant', 2), ('argues', 2), ('O’Ryan', 2), ('result', 2), ('irrational', 2), ('threat', 2), ('paragraphs', 2), ('20.11.19', 2), ('remained', 2), ('should', 2), ('when', 2), ('young', 2), ('member', 2), ('Birmingham', 2), ('reasoning', 2), ('points', 2), ('can', 2), ('without', 2), ('If', 2), ('between', 2), ('relation', 2), ('law', 2), ('MBE', 1), ('evidence.', 1), ('prior', 1), ('damaged', 1), ('incontrovertible', 1), ('[31]).', 1), ('vitiated', 1), ('O’RYAN', 1), ('occasions', 1), ('accept', 1), ('together', 1), ('family.', 1), ('DEPARTMENT', 1), ('Anonymity', 1), ('SECRETARY', 1), ('Appellant.', 1), ('rendering', 1), ('Further', 1), ('–', 1), ('These', 1), ('there.”', 1), ('9.', 1), ('note', 1), ('Also', 1), ('18.', 1), ('guidance', 1), ('denied', 1), ('general', 1), ('appeals', 1), ('why', 1), ('demonstrating', 1), ('‘2016’.', 1), ('if', 1), ('present', 1), ('am', 1), ('problems', 1), ('CSID', 1), ('(para', 1), ('its', 1), ('result,', 1), ('making', 1), ('blood', 1), ('whether', 1), ('Promulgated', 1), ('behind', 1), ('adult,', 1), ('origins', 1), ('unknown', 1), ('Dresden', 1), ('global', 1), ('decided,', 1), ('Permission', 1), ('through', 1), ('para', 1), ('It', 1), ('2.', 1), ('fear.', 1), ('whereas', 1), ('1.', 1), ('course', 1), ('FOR', 1), ('Procedure', 1), ('credible.', 1), ('necessarily', 1), ('recall', 1), ('DIRECTION', 1), ('claim.', 1), ('8.', 1), ('killed', 1), ('understanding', 1), ('JUDGE', 1), ('&', 1), ('might', 1), ('needed', 1), ('Heard', 1), ('23', 1), ('existing', 1), ('incumbent', 1), ('‘2016’', 1), ('upon.', 1), ('extensive', 1), ('none', 1), ('genuine', 1), ('11.', 1), ('appeal.', 1), ('comment', 1), ('reasonable', 1), ('involve', 1), ('Boylan-Kemp', 1), ('Regarding', 1), ('appealed', 1), ('directs', 1), ('few', 1), ('Respondent’s', 1), ('origin', 1), ('guidance.', 1), ('argue', 1), ('stating', 1), ('document,', 1), ('21', 1), ('their', 1), ('moot.', 1), ('proposition', 1), ('“The', 1), ('6.', 1), ('actual', 1), ('Unless', 1), ('[26])', 1), ('to,', 1), ('who', 1), ('(refusal', 1), ('AND', 1), ('continues,', 1), ('DEPUTY', 1), ('Fountain', 1), ('shoulder,', 1), ('inadequate', 1), ('due', 1), ('whereabouts,', 1), ('wider', 1), ('7.', 1), ('right', 1), ('dishonest', 1), ('obtain', 1), ('8', 1), ('TRIBUNAL', 1), ('aside', 1), ('my', 1), ('relied', 1), ('accepted', 1), ('circumstances', 1), ('how', 1), ('identify', 1), ('doubt', 1), ('Whereas', 1), ('Rules', 1), ('centre', 1), ('Tribunal)', 1), ('capable', 1), ('CROWN', 1), ('12.', 1), ('identity', 1), ('ground', 1), ('undermines', 1), ('“16.', 1), ('cousin', 1), ('identification', 1), ('admittedly', 1), ('puts', 1), ('DECISION', 1), ('Representation:', 1), ('harm', 1), ('erred', 1), ('house', 1), ('onwards', 1), ('ongoing', 1), ('directly', 1), ('proceedings.', 1), ('persons', 1), ('case', 1), ('…', 1), ('MADE)', 1), ('relative,', 1), ('STATE', 1), ('informed', 1), ('renders', 1), ('Submissions', 1), ('up', 1), ('Between', 1), ('second', 1), ('unreliable.', 1), ('decided', 1), ('ACTS', 1), ('Senior', 1), ('state', 1), ('age', 1), ('inclusive', 1), ('June', 1), ('escaping', 1), ('Failure', 1), ('extended', 1), ('inability', 1), ('Appellant:', 1), ('where', 1), ('sustain.', 1), ('Direction', 1), ('again', 1), ('injured', 1), ('reasons.', 1), ('much', 1), ('otherwise,', 1), ('anticipated', 1), ('presence', 1), ('Reasons', 1), ('OF', 1), ('secondly', 1), ('Asylum', 1), ('Officer', 1), ('departing', 1), ('statement', 1), ('circumstance', 1), ('printed', 1), ('involved', 1), ('witness', 1), ('providing', 1), ('case.', 1), ('comply', 1), ('together.', 1), ('letter,', 1), ('reluctance', 1), ('2018', 1), ('rights', 1), ('Office', 1), ('feud)', 1), ('shall', 1), ('those', 1), ('anonymity.', 1), ('raised', 1), ('relates', 1), ('flee', 1), ('do.”', 1), ('even', 1), ('unreliable’', 1), ('substituted', 1), ('4', 1), ('indirectly', 1), ('both', 1), ('3.', 1), ('me', 1), ('safety', 1), ('5', 1), ('Sharif,', 1), ('believe,', 1), ('REASONS', 1), ('human', 1), ('CJC', 1), ('determinatively', 1), ('inconsistent', 1), ('disbelieved', 1), ('beyond', 1), ('know', 1), ('Whether', 1), ('Chamber)', 1), ('IKR', 1), ('proceedings', 1), ('events.', 1), ('further', 1), ('2016,', 1), ('Therefore', 1), ('matter.', 1), ('occasion', 1), ('until', 1), ('serious', 1), ('number', 1), ('lived', 1), ('hearing,', 1), ('national', 1), ('Home', 1), ('difficult', 1), ('Respondent.', 1), ('Sulamaniyah', 1), ('whereabouts', 1), ('him.', 1), ('these', 1), ('stop', 1), ('copy', 1), ('dismissed.', 1), ('resolving', 1), ('Kurdish', 1), ('relationship', 1), ('briefly', 1), ('credibility.', 1), ('6', 1), ('2008', 1), ('17,', 1), ('years', 1), ('occurring', 1), ('father', 1), ('become', 1), ('16', 1), ('dismissed', 1), ('continued', 1), ('proved', 1), ('argued', 1), ('apparent', 1), ('undermine', 1), ('failure', 1), ('dismissing', 1), ('detail.', 1), ('anticipate', 1), ('consistently', 1), ('items', 1), ('embark', 1), ('24', 1), ('fully-grown', 1), ('ostensible', 1), ('UPPER', 1), ('suggestion', 1), ('No', 1), ('contempt', 1), ('Notice', 1), ('©', 1), ('determinative', 1), ('place', 1), ('Before', 1), ('Rule', 1), ('lead', 1), ('constituted', 1), ('claimed', 1), ('sit', 1), ('printout', 1), ('attached', 1), ('man', 1), ('implausible', 1), ('Solicitors', 1), ('13.', 1), ('persecution.', 1), ('treated', 1), ('disbelieving', 1), ('give', 1), ('explain', 1), ('defends', 1), ('applies', 1), ('(Upper', 1), ('Presenting', 1), ('came', 1), ('age.', 1), ('UK', 1), ('insisting', 1), ('light', 1), ('oral', 1), ('identified', 1), ('conduct', 1), ('‘his', 1), ('match,', 1), ('expected', 1), ('10.', 1), ('granting', 1), ('represented', 1), ('impossible', 1), ('particular', 1), ('confirming', 1), ('incredible.', 1), ('why.', 1), ('said', 1), ('4.', 1), ('judge.', 1), ('information', 1), ('Discussion', 1), ('report', 1), ('MR', 1), ('looking', 1), ('(ANONYMITY', 1), ('held', 1), ('True', 1), ('lied', 1), ('Respondent:', 1), ('replacement', 1), ('unequivocal.', 1), ('life', 1), ('mind', 1), ('2016', 1), ('alter', 1), ('(Immigration', 1), ('COPYRIGHT', 1), ('little', 1), ('D', 1), ('confirmed', 1), ('accorded', 1), ('good', 1), ('asylum', 1), ('20', 1), ('reasoning.', 1), ('Consequently', 1), ('photographed', 1), ('assist', 1), ('IMMIGRATION', 1), ('tribal', 1), ('take', 1), ('5.', 1), ('giving', 1), ('incidents', 1), ('gives', 1), ('HOME', 1), ('Mills,', 1), ('made', 1), ('Instead', 1), ('[86]', 1), ('readmission', 1), ('(resulting', 1), ('3', 1), ('at.', 1), ('say', 1), ('incidents;', 1)]\n"
     ]
    }
   ],
   "source": [
    "# What are the most common words? \n",
    "wordfreq_pdf = []\n",
    "\n",
    "# count words in text\n",
    "for w in words_pdf:\n",
    "    wordfreq_pdf.append(words_pdf.count(w))\n",
    "    \n",
    "# create a list with words and its frequency\n",
    "word_list = list(set(zip(words_pdf, wordfreq_pdf)))\n",
    "\n",
    "# function to sort the list by second item of tuple\n",
    "def sort_pairs(tup): \n",
    "  \n",
    "    # reverse = None (Sorts in Ascending order) \n",
    "    # key is set to sort using second element of \n",
    "    # sublist lambda has been used \n",
    "    return(sorted(tup, key = lambda x: x[1], reverse = True))  \n",
    "\n",
    "word_list_sort = sort_pairs(word_list)\n",
    "    \n",
    "print(\"Pairs\\n\" + str(word_list_sort))"
   ]
  },
  {
   "cell_type": "code",
   "execution_count": 93,
   "metadata": {},
   "outputs": [],
   "source": [
    "import pandas as pd\n",
    "\n",
    "df = pd.DataFrame(word_list_sort)\n",
    "df.columns = ['words', 'counts']"
   ]
  },
  {
   "cell_type": "code",
   "execution_count": 97,
   "metadata": {},
   "outputs": [
    {
     "data": {
      "text/html": [
       "<div>\n",
       "<style scoped>\n",
       "    .dataframe tbody tr th:only-of-type {\n",
       "        vertical-align: middle;\n",
       "    }\n",
       "\n",
       "    .dataframe tbody tr th {\n",
       "        vertical-align: top;\n",
       "    }\n",
       "\n",
       "    .dataframe thead th {\n",
       "        text-align: right;\n",
       "    }\n",
       "</style>\n",
       "<table border=\"1\" class=\"dataframe\">\n",
       "  <thead>\n",
       "    <tr style=\"text-align: right;\">\n",
       "      <th></th>\n",
       "      <th>words</th>\n",
       "      <th>counts</th>\n",
       "    </tr>\n",
       "  </thead>\n",
       "  <tbody>\n",
       "    <tr>\n",
       "      <th>0</th>\n",
       "      <td>the</td>\n",
       "      <td>159</td>\n",
       "    </tr>\n",
       "    <tr>\n",
       "      <th>1</th>\n",
       "      <td>of</td>\n",
       "      <td>75</td>\n",
       "    </tr>\n",
       "    <tr>\n",
       "      <th>2</th>\n",
       "      <td>that</td>\n",
       "      <td>68</td>\n",
       "    </tr>\n",
       "    <tr>\n",
       "      <th>3</th>\n",
       "      <td>to</td>\n",
       "      <td>64</td>\n",
       "    </tr>\n",
       "    <tr>\n",
       "      <th>4</th>\n",
       "      <td>in</td>\n",
       "      <td>60</td>\n",
       "    </tr>\n",
       "  </tbody>\n",
       "</table>\n",
       "</div>"
      ],
      "text/plain": [
       "  words  counts\n",
       "0   the     159\n",
       "1    of      75\n",
       "2  that      68\n",
       "3    to      64\n",
       "4    in      60"
      ]
     },
     "execution_count": 97,
     "metadata": {},
     "output_type": "execute_result"
    }
   ],
   "source": [
    "df.head()"
   ]
  },
  {
   "cell_type": "code",
   "execution_count": 107,
   "metadata": {},
   "outputs": [
    {
     "data": {
      "application/vnd.plotly.v1+json": {
       "config": {
        "plotlyServerURL": "https://plot.ly"
       },
       "data": [
        {
         "alignmentgroup": "True",
         "hovertemplate": "Frequency=%{x}<br>Words=%{text}<extra></extra>",
         "legendgroup": "",
         "marker": {
          "color": "green"
         },
         "name": "",
         "offsetgroup": "",
         "orientation": "h",
         "showlegend": false,
         "text": [
          "the",
          "of",
          "that",
          "to",
          "in",
          "and",
          "his",
          "was",
          "judge",
          "a",
          "Appellant"
         ],
         "textposition": "auto",
         "texttemplate": "%{text}",
         "type": "bar",
         "x": [
          159,
          75,
          68,
          64,
          60,
          42,
          37,
          33,
          30,
          29,
          27
         ],
         "xaxis": "x",
         "y": [
          "the",
          "of",
          "that",
          "to",
          "in",
          "and",
          "his",
          "was",
          "judge",
          "a",
          "Appellant"
         ],
         "yaxis": "y"
        }
       ],
       "layout": {
        "autosize": false,
        "barmode": "relative",
        "height": 500,
        "legend": {
         "tracegroupgap": 0
        },
        "margin": {
         "t": 60
        },
        "template": {
         "data": {
          "bar": [
           {
            "error_x": {
             "color": "#2a3f5f"
            },
            "error_y": {
             "color": "#2a3f5f"
            },
            "marker": {
             "line": {
              "color": "#E5ECF6",
              "width": 0.5
             }
            },
            "type": "bar"
           }
          ],
          "barpolar": [
           {
            "marker": {
             "line": {
              "color": "#E5ECF6",
              "width": 0.5
             }
            },
            "type": "barpolar"
           }
          ],
          "carpet": [
           {
            "aaxis": {
             "endlinecolor": "#2a3f5f",
             "gridcolor": "white",
             "linecolor": "white",
             "minorgridcolor": "white",
             "startlinecolor": "#2a3f5f"
            },
            "baxis": {
             "endlinecolor": "#2a3f5f",
             "gridcolor": "white",
             "linecolor": "white",
             "minorgridcolor": "white",
             "startlinecolor": "#2a3f5f"
            },
            "type": "carpet"
           }
          ],
          "choropleth": [
           {
            "colorbar": {
             "outlinewidth": 0,
             "ticks": ""
            },
            "type": "choropleth"
           }
          ],
          "contour": [
           {
            "colorbar": {
             "outlinewidth": 0,
             "ticks": ""
            },
            "colorscale": [
             [
              0,
              "#0d0887"
             ],
             [
              0.1111111111111111,
              "#46039f"
             ],
             [
              0.2222222222222222,
              "#7201a8"
             ],
             [
              0.3333333333333333,
              "#9c179e"
             ],
             [
              0.4444444444444444,
              "#bd3786"
             ],
             [
              0.5555555555555556,
              "#d8576b"
             ],
             [
              0.6666666666666666,
              "#ed7953"
             ],
             [
              0.7777777777777778,
              "#fb9f3a"
             ],
             [
              0.8888888888888888,
              "#fdca26"
             ],
             [
              1,
              "#f0f921"
             ]
            ],
            "type": "contour"
           }
          ],
          "contourcarpet": [
           {
            "colorbar": {
             "outlinewidth": 0,
             "ticks": ""
            },
            "type": "contourcarpet"
           }
          ],
          "heatmap": [
           {
            "colorbar": {
             "outlinewidth": 0,
             "ticks": ""
            },
            "colorscale": [
             [
              0,
              "#0d0887"
             ],
             [
              0.1111111111111111,
              "#46039f"
             ],
             [
              0.2222222222222222,
              "#7201a8"
             ],
             [
              0.3333333333333333,
              "#9c179e"
             ],
             [
              0.4444444444444444,
              "#bd3786"
             ],
             [
              0.5555555555555556,
              "#d8576b"
             ],
             [
              0.6666666666666666,
              "#ed7953"
             ],
             [
              0.7777777777777778,
              "#fb9f3a"
             ],
             [
              0.8888888888888888,
              "#fdca26"
             ],
             [
              1,
              "#f0f921"
             ]
            ],
            "type": "heatmap"
           }
          ],
          "heatmapgl": [
           {
            "colorbar": {
             "outlinewidth": 0,
             "ticks": ""
            },
            "colorscale": [
             [
              0,
              "#0d0887"
             ],
             [
              0.1111111111111111,
              "#46039f"
             ],
             [
              0.2222222222222222,
              "#7201a8"
             ],
             [
              0.3333333333333333,
              "#9c179e"
             ],
             [
              0.4444444444444444,
              "#bd3786"
             ],
             [
              0.5555555555555556,
              "#d8576b"
             ],
             [
              0.6666666666666666,
              "#ed7953"
             ],
             [
              0.7777777777777778,
              "#fb9f3a"
             ],
             [
              0.8888888888888888,
              "#fdca26"
             ],
             [
              1,
              "#f0f921"
             ]
            ],
            "type": "heatmapgl"
           }
          ],
          "histogram": [
           {
            "marker": {
             "colorbar": {
              "outlinewidth": 0,
              "ticks": ""
             }
            },
            "type": "histogram"
           }
          ],
          "histogram2d": [
           {
            "colorbar": {
             "outlinewidth": 0,
             "ticks": ""
            },
            "colorscale": [
             [
              0,
              "#0d0887"
             ],
             [
              0.1111111111111111,
              "#46039f"
             ],
             [
              0.2222222222222222,
              "#7201a8"
             ],
             [
              0.3333333333333333,
              "#9c179e"
             ],
             [
              0.4444444444444444,
              "#bd3786"
             ],
             [
              0.5555555555555556,
              "#d8576b"
             ],
             [
              0.6666666666666666,
              "#ed7953"
             ],
             [
              0.7777777777777778,
              "#fb9f3a"
             ],
             [
              0.8888888888888888,
              "#fdca26"
             ],
             [
              1,
              "#f0f921"
             ]
            ],
            "type": "histogram2d"
           }
          ],
          "histogram2dcontour": [
           {
            "colorbar": {
             "outlinewidth": 0,
             "ticks": ""
            },
            "colorscale": [
             [
              0,
              "#0d0887"
             ],
             [
              0.1111111111111111,
              "#46039f"
             ],
             [
              0.2222222222222222,
              "#7201a8"
             ],
             [
              0.3333333333333333,
              "#9c179e"
             ],
             [
              0.4444444444444444,
              "#bd3786"
             ],
             [
              0.5555555555555556,
              "#d8576b"
             ],
             [
              0.6666666666666666,
              "#ed7953"
             ],
             [
              0.7777777777777778,
              "#fb9f3a"
             ],
             [
              0.8888888888888888,
              "#fdca26"
             ],
             [
              1,
              "#f0f921"
             ]
            ],
            "type": "histogram2dcontour"
           }
          ],
          "mesh3d": [
           {
            "colorbar": {
             "outlinewidth": 0,
             "ticks": ""
            },
            "type": "mesh3d"
           }
          ],
          "parcoords": [
           {
            "line": {
             "colorbar": {
              "outlinewidth": 0,
              "ticks": ""
             }
            },
            "type": "parcoords"
           }
          ],
          "pie": [
           {
            "automargin": true,
            "type": "pie"
           }
          ],
          "scatter": [
           {
            "marker": {
             "colorbar": {
              "outlinewidth": 0,
              "ticks": ""
             }
            },
            "type": "scatter"
           }
          ],
          "scatter3d": [
           {
            "line": {
             "colorbar": {
              "outlinewidth": 0,
              "ticks": ""
             }
            },
            "marker": {
             "colorbar": {
              "outlinewidth": 0,
              "ticks": ""
             }
            },
            "type": "scatter3d"
           }
          ],
          "scattercarpet": [
           {
            "marker": {
             "colorbar": {
              "outlinewidth": 0,
              "ticks": ""
             }
            },
            "type": "scattercarpet"
           }
          ],
          "scattergeo": [
           {
            "marker": {
             "colorbar": {
              "outlinewidth": 0,
              "ticks": ""
             }
            },
            "type": "scattergeo"
           }
          ],
          "scattergl": [
           {
            "marker": {
             "colorbar": {
              "outlinewidth": 0,
              "ticks": ""
             }
            },
            "type": "scattergl"
           }
          ],
          "scattermapbox": [
           {
            "marker": {
             "colorbar": {
              "outlinewidth": 0,
              "ticks": ""
             }
            },
            "type": "scattermapbox"
           }
          ],
          "scatterpolar": [
           {
            "marker": {
             "colorbar": {
              "outlinewidth": 0,
              "ticks": ""
             }
            },
            "type": "scatterpolar"
           }
          ],
          "scatterpolargl": [
           {
            "marker": {
             "colorbar": {
              "outlinewidth": 0,
              "ticks": ""
             }
            },
            "type": "scatterpolargl"
           }
          ],
          "scatterternary": [
           {
            "marker": {
             "colorbar": {
              "outlinewidth": 0,
              "ticks": ""
             }
            },
            "type": "scatterternary"
           }
          ],
          "surface": [
           {
            "colorbar": {
             "outlinewidth": 0,
             "ticks": ""
            },
            "colorscale": [
             [
              0,
              "#0d0887"
             ],
             [
              0.1111111111111111,
              "#46039f"
             ],
             [
              0.2222222222222222,
              "#7201a8"
             ],
             [
              0.3333333333333333,
              "#9c179e"
             ],
             [
              0.4444444444444444,
              "#bd3786"
             ],
             [
              0.5555555555555556,
              "#d8576b"
             ],
             [
              0.6666666666666666,
              "#ed7953"
             ],
             [
              0.7777777777777778,
              "#fb9f3a"
             ],
             [
              0.8888888888888888,
              "#fdca26"
             ],
             [
              1,
              "#f0f921"
             ]
            ],
            "type": "surface"
           }
          ],
          "table": [
           {
            "cells": {
             "fill": {
              "color": "#EBF0F8"
             },
             "line": {
              "color": "white"
             }
            },
            "header": {
             "fill": {
              "color": "#C8D4E3"
             },
             "line": {
              "color": "white"
             }
            },
            "type": "table"
           }
          ]
         },
         "layout": {
          "annotationdefaults": {
           "arrowcolor": "#2a3f5f",
           "arrowhead": 0,
           "arrowwidth": 1
          },
          "autotypenumbers": "strict",
          "coloraxis": {
           "colorbar": {
            "outlinewidth": 0,
            "ticks": ""
           }
          },
          "colorscale": {
           "diverging": [
            [
             0,
             "#8e0152"
            ],
            [
             0.1,
             "#c51b7d"
            ],
            [
             0.2,
             "#de77ae"
            ],
            [
             0.3,
             "#f1b6da"
            ],
            [
             0.4,
             "#fde0ef"
            ],
            [
             0.5,
             "#f7f7f7"
            ],
            [
             0.6,
             "#e6f5d0"
            ],
            [
             0.7,
             "#b8e186"
            ],
            [
             0.8,
             "#7fbc41"
            ],
            [
             0.9,
             "#4d9221"
            ],
            [
             1,
             "#276419"
            ]
           ],
           "sequential": [
            [
             0,
             "#0d0887"
            ],
            [
             0.1111111111111111,
             "#46039f"
            ],
            [
             0.2222222222222222,
             "#7201a8"
            ],
            [
             0.3333333333333333,
             "#9c179e"
            ],
            [
             0.4444444444444444,
             "#bd3786"
            ],
            [
             0.5555555555555556,
             "#d8576b"
            ],
            [
             0.6666666666666666,
             "#ed7953"
            ],
            [
             0.7777777777777778,
             "#fb9f3a"
            ],
            [
             0.8888888888888888,
             "#fdca26"
            ],
            [
             1,
             "#f0f921"
            ]
           ],
           "sequentialminus": [
            [
             0,
             "#0d0887"
            ],
            [
             0.1111111111111111,
             "#46039f"
            ],
            [
             0.2222222222222222,
             "#7201a8"
            ],
            [
             0.3333333333333333,
             "#9c179e"
            ],
            [
             0.4444444444444444,
             "#bd3786"
            ],
            [
             0.5555555555555556,
             "#d8576b"
            ],
            [
             0.6666666666666666,
             "#ed7953"
            ],
            [
             0.7777777777777778,
             "#fb9f3a"
            ],
            [
             0.8888888888888888,
             "#fdca26"
            ],
            [
             1,
             "#f0f921"
            ]
           ]
          },
          "colorway": [
           "#636efa",
           "#EF553B",
           "#00cc96",
           "#ab63fa",
           "#FFA15A",
           "#19d3f3",
           "#FF6692",
           "#B6E880",
           "#FF97FF",
           "#FECB52"
          ],
          "font": {
           "color": "#2a3f5f"
          },
          "geo": {
           "bgcolor": "white",
           "lakecolor": "white",
           "landcolor": "#E5ECF6",
           "showlakes": true,
           "showland": true,
           "subunitcolor": "white"
          },
          "hoverlabel": {
           "align": "left"
          },
          "hovermode": "closest",
          "mapbox": {
           "style": "light"
          },
          "paper_bgcolor": "white",
          "plot_bgcolor": "#E5ECF6",
          "polar": {
           "angularaxis": {
            "gridcolor": "white",
            "linecolor": "white",
            "ticks": ""
           },
           "bgcolor": "#E5ECF6",
           "radialaxis": {
            "gridcolor": "white",
            "linecolor": "white",
            "ticks": ""
           }
          },
          "scene": {
           "xaxis": {
            "backgroundcolor": "#E5ECF6",
            "gridcolor": "white",
            "gridwidth": 2,
            "linecolor": "white",
            "showbackground": true,
            "ticks": "",
            "zerolinecolor": "white"
           },
           "yaxis": {
            "backgroundcolor": "#E5ECF6",
            "gridcolor": "white",
            "gridwidth": 2,
            "linecolor": "white",
            "showbackground": true,
            "ticks": "",
            "zerolinecolor": "white"
           },
           "zaxis": {
            "backgroundcolor": "#E5ECF6",
            "gridcolor": "white",
            "gridwidth": 2,
            "linecolor": "white",
            "showbackground": true,
            "ticks": "",
            "zerolinecolor": "white"
           }
          },
          "shapedefaults": {
           "line": {
            "color": "#2a3f5f"
           }
          },
          "ternary": {
           "aaxis": {
            "gridcolor": "white",
            "linecolor": "white",
            "ticks": ""
           },
           "baxis": {
            "gridcolor": "white",
            "linecolor": "white",
            "ticks": ""
           },
           "bgcolor": "#E5ECF6",
           "caxis": {
            "gridcolor": "white",
            "linecolor": "white",
            "ticks": ""
           }
          },
          "title": {
           "x": 0.05
          },
          "xaxis": {
           "automargin": true,
           "gridcolor": "white",
           "linecolor": "white",
           "ticks": "",
           "title": {
            "standoff": 15
           },
           "zerolinecolor": "white",
           "zerolinewidth": 2
          },
          "yaxis": {
           "automargin": true,
           "gridcolor": "white",
           "linecolor": "white",
           "ticks": "",
           "title": {
            "standoff": 15
           },
           "zerolinecolor": "white",
           "zerolinewidth": 2
          }
         }
        },
        "title": {
         "text": "Words Frequency in Tribunal Appeals",
         "x": 0.5,
         "xanchor": "center",
         "y": 0.95,
         "yanchor": "top"
        },
        "uniformtext": {
         "minsize": 8,
         "mode": "hide"
        },
        "width": 1050,
        "xaxis": {
         "anchor": "y",
         "domain": [
          0,
          1
         ],
         "title": {
          "text": "Frequency"
         }
        },
        "yaxis": {
         "anchor": "x",
         "categoryorder": "total ascending",
         "domain": [
          0,
          1
         ],
         "showticklabels": false,
         "title": {
          "text": "Words"
         },
         "type": "category"
        }
       }
      },
      "text/html": [
       "<div>                            <div id=\"73c8dda3-bec5-4d8c-b1c3-48187cc6ed09\" class=\"plotly-graph-div\" style=\"height:500px; width:1050px;\"></div>            <script type=\"text/javascript\">                require([\"plotly\"], function(Plotly) {                    window.PLOTLYENV=window.PLOTLYENV || {};                                    if (document.getElementById(\"73c8dda3-bec5-4d8c-b1c3-48187cc6ed09\")) {                    Plotly.newPlot(                        \"73c8dda3-bec5-4d8c-b1c3-48187cc6ed09\",                        [{\"alignmentgroup\": \"True\", \"hovertemplate\": \"Frequency=%{x}<br>Words=%{text}<extra></extra>\", \"legendgroup\": \"\", \"marker\": {\"color\": \"green\"}, \"name\": \"\", \"offsetgroup\": \"\", \"orientation\": \"h\", \"showlegend\": false, \"text\": [\"the\", \"of\", \"that\", \"to\", \"in\", \"and\", \"his\", \"was\", \"judge\", \"a\", \"Appellant\"], \"textposition\": \"auto\", \"texttemplate\": \"%{text}\", \"type\": \"bar\", \"x\": [159, 75, 68, 64, 60, 42, 37, 33, 30, 29, 27], \"xaxis\": \"x\", \"y\": [\"the\", \"of\", \"that\", \"to\", \"in\", \"and\", \"his\", \"was\", \"judge\", \"a\", \"Appellant\"], \"yaxis\": \"y\"}],                        {\"autosize\": false, \"barmode\": \"relative\", \"height\": 500, \"legend\": {\"tracegroupgap\": 0}, \"margin\": {\"t\": 60}, \"template\": {\"data\": {\"bar\": [{\"error_x\": {\"color\": \"#2a3f5f\"}, \"error_y\": {\"color\": \"#2a3f5f\"}, \"marker\": {\"line\": {\"color\": \"#E5ECF6\", \"width\": 0.5}}, \"type\": \"bar\"}], \"barpolar\": [{\"marker\": {\"line\": {\"color\": \"#E5ECF6\", \"width\": 0.5}}, \"type\": \"barpolar\"}], \"carpet\": [{\"aaxis\": {\"endlinecolor\": \"#2a3f5f\", \"gridcolor\": \"white\", \"linecolor\": \"white\", \"minorgridcolor\": \"white\", \"startlinecolor\": \"#2a3f5f\"}, \"baxis\": {\"endlinecolor\": \"#2a3f5f\", \"gridcolor\": \"white\", \"linecolor\": \"white\", \"minorgridcolor\": \"white\", \"startlinecolor\": \"#2a3f5f\"}, \"type\": \"carpet\"}], \"choropleth\": [{\"colorbar\": {\"outlinewidth\": 0, \"ticks\": \"\"}, \"type\": \"choropleth\"}], \"contour\": [{\"colorbar\": {\"outlinewidth\": 0, \"ticks\": \"\"}, \"colorscale\": [[0.0, \"#0d0887\"], [0.1111111111111111, \"#46039f\"], [0.2222222222222222, \"#7201a8\"], [0.3333333333333333, \"#9c179e\"], [0.4444444444444444, \"#bd3786\"], [0.5555555555555556, \"#d8576b\"], [0.6666666666666666, \"#ed7953\"], [0.7777777777777778, \"#fb9f3a\"], [0.8888888888888888, \"#fdca26\"], [1.0, \"#f0f921\"]], \"type\": \"contour\"}], \"contourcarpet\": [{\"colorbar\": {\"outlinewidth\": 0, \"ticks\": \"\"}, \"type\": \"contourcarpet\"}], \"heatmap\": [{\"colorbar\": {\"outlinewidth\": 0, \"ticks\": \"\"}, \"colorscale\": [[0.0, \"#0d0887\"], [0.1111111111111111, \"#46039f\"], [0.2222222222222222, \"#7201a8\"], [0.3333333333333333, \"#9c179e\"], [0.4444444444444444, \"#bd3786\"], [0.5555555555555556, \"#d8576b\"], [0.6666666666666666, \"#ed7953\"], [0.7777777777777778, \"#fb9f3a\"], [0.8888888888888888, \"#fdca26\"], [1.0, \"#f0f921\"]], \"type\": \"heatmap\"}], \"heatmapgl\": [{\"colorbar\": {\"outlinewidth\": 0, \"ticks\": \"\"}, \"colorscale\": [[0.0, \"#0d0887\"], [0.1111111111111111, \"#46039f\"], [0.2222222222222222, \"#7201a8\"], [0.3333333333333333, \"#9c179e\"], [0.4444444444444444, \"#bd3786\"], [0.5555555555555556, \"#d8576b\"], [0.6666666666666666, \"#ed7953\"], [0.7777777777777778, \"#fb9f3a\"], [0.8888888888888888, \"#fdca26\"], [1.0, \"#f0f921\"]], \"type\": \"heatmapgl\"}], \"histogram\": [{\"marker\": {\"colorbar\": {\"outlinewidth\": 0, \"ticks\": \"\"}}, \"type\": \"histogram\"}], \"histogram2d\": [{\"colorbar\": {\"outlinewidth\": 0, \"ticks\": \"\"}, \"colorscale\": [[0.0, \"#0d0887\"], [0.1111111111111111, \"#46039f\"], [0.2222222222222222, \"#7201a8\"], [0.3333333333333333, \"#9c179e\"], [0.4444444444444444, \"#bd3786\"], [0.5555555555555556, \"#d8576b\"], [0.6666666666666666, \"#ed7953\"], [0.7777777777777778, \"#fb9f3a\"], [0.8888888888888888, \"#fdca26\"], [1.0, \"#f0f921\"]], \"type\": \"histogram2d\"}], \"histogram2dcontour\": [{\"colorbar\": {\"outlinewidth\": 0, \"ticks\": \"\"}, \"colorscale\": [[0.0, \"#0d0887\"], [0.1111111111111111, \"#46039f\"], [0.2222222222222222, \"#7201a8\"], [0.3333333333333333, \"#9c179e\"], [0.4444444444444444, \"#bd3786\"], [0.5555555555555556, \"#d8576b\"], [0.6666666666666666, \"#ed7953\"], [0.7777777777777778, \"#fb9f3a\"], [0.8888888888888888, \"#fdca26\"], [1.0, \"#f0f921\"]], \"type\": \"histogram2dcontour\"}], \"mesh3d\": [{\"colorbar\": {\"outlinewidth\": 0, \"ticks\": \"\"}, \"type\": \"mesh3d\"}], \"parcoords\": [{\"line\": {\"colorbar\": {\"outlinewidth\": 0, \"ticks\": \"\"}}, \"type\": \"parcoords\"}], \"pie\": [{\"automargin\": true, \"type\": \"pie\"}], \"scatter\": [{\"marker\": {\"colorbar\": {\"outlinewidth\": 0, \"ticks\": \"\"}}, \"type\": \"scatter\"}], \"scatter3d\": [{\"line\": {\"colorbar\": {\"outlinewidth\": 0, \"ticks\": \"\"}}, \"marker\": {\"colorbar\": {\"outlinewidth\": 0, \"ticks\": \"\"}}, \"type\": \"scatter3d\"}], \"scattercarpet\": [{\"marker\": {\"colorbar\": {\"outlinewidth\": 0, \"ticks\": \"\"}}, \"type\": \"scattercarpet\"}], \"scattergeo\": [{\"marker\": {\"colorbar\": {\"outlinewidth\": 0, \"ticks\": \"\"}}, \"type\": \"scattergeo\"}], \"scattergl\": [{\"marker\": {\"colorbar\": {\"outlinewidth\": 0, \"ticks\": \"\"}}, \"type\": \"scattergl\"}], \"scattermapbox\": [{\"marker\": {\"colorbar\": {\"outlinewidth\": 0, \"ticks\": \"\"}}, \"type\": \"scattermapbox\"}], \"scatterpolar\": [{\"marker\": {\"colorbar\": {\"outlinewidth\": 0, \"ticks\": \"\"}}, \"type\": \"scatterpolar\"}], \"scatterpolargl\": [{\"marker\": {\"colorbar\": {\"outlinewidth\": 0, \"ticks\": \"\"}}, \"type\": \"scatterpolargl\"}], \"scatterternary\": [{\"marker\": {\"colorbar\": {\"outlinewidth\": 0, \"ticks\": \"\"}}, \"type\": \"scatterternary\"}], \"surface\": [{\"colorbar\": {\"outlinewidth\": 0, \"ticks\": \"\"}, \"colorscale\": [[0.0, \"#0d0887\"], [0.1111111111111111, \"#46039f\"], [0.2222222222222222, \"#7201a8\"], [0.3333333333333333, \"#9c179e\"], [0.4444444444444444, \"#bd3786\"], [0.5555555555555556, \"#d8576b\"], [0.6666666666666666, \"#ed7953\"], [0.7777777777777778, \"#fb9f3a\"], [0.8888888888888888, \"#fdca26\"], [1.0, \"#f0f921\"]], \"type\": \"surface\"}], \"table\": [{\"cells\": {\"fill\": {\"color\": \"#EBF0F8\"}, \"line\": {\"color\": \"white\"}}, \"header\": {\"fill\": {\"color\": \"#C8D4E3\"}, \"line\": {\"color\": \"white\"}}, \"type\": \"table\"}]}, \"layout\": {\"annotationdefaults\": {\"arrowcolor\": \"#2a3f5f\", \"arrowhead\": 0, \"arrowwidth\": 1}, \"autotypenumbers\": \"strict\", \"coloraxis\": {\"colorbar\": {\"outlinewidth\": 0, \"ticks\": \"\"}}, \"colorscale\": {\"diverging\": [[0, \"#8e0152\"], [0.1, \"#c51b7d\"], [0.2, \"#de77ae\"], [0.3, \"#f1b6da\"], [0.4, \"#fde0ef\"], [0.5, \"#f7f7f7\"], [0.6, \"#e6f5d0\"], [0.7, \"#b8e186\"], [0.8, \"#7fbc41\"], [0.9, \"#4d9221\"], [1, \"#276419\"]], \"sequential\": [[0.0, \"#0d0887\"], [0.1111111111111111, \"#46039f\"], [0.2222222222222222, \"#7201a8\"], [0.3333333333333333, \"#9c179e\"], [0.4444444444444444, \"#bd3786\"], [0.5555555555555556, \"#d8576b\"], [0.6666666666666666, \"#ed7953\"], [0.7777777777777778, \"#fb9f3a\"], [0.8888888888888888, \"#fdca26\"], [1.0, \"#f0f921\"]], \"sequentialminus\": [[0.0, \"#0d0887\"], [0.1111111111111111, \"#46039f\"], [0.2222222222222222, \"#7201a8\"], [0.3333333333333333, \"#9c179e\"], [0.4444444444444444, \"#bd3786\"], [0.5555555555555556, \"#d8576b\"], [0.6666666666666666, \"#ed7953\"], [0.7777777777777778, \"#fb9f3a\"], [0.8888888888888888, \"#fdca26\"], [1.0, \"#f0f921\"]]}, \"colorway\": [\"#636efa\", \"#EF553B\", \"#00cc96\", \"#ab63fa\", \"#FFA15A\", \"#19d3f3\", \"#FF6692\", \"#B6E880\", \"#FF97FF\", \"#FECB52\"], \"font\": {\"color\": \"#2a3f5f\"}, \"geo\": {\"bgcolor\": \"white\", \"lakecolor\": \"white\", \"landcolor\": \"#E5ECF6\", \"showlakes\": true, \"showland\": true, \"subunitcolor\": \"white\"}, \"hoverlabel\": {\"align\": \"left\"}, \"hovermode\": \"closest\", \"mapbox\": {\"style\": \"light\"}, \"paper_bgcolor\": \"white\", \"plot_bgcolor\": \"#E5ECF6\", \"polar\": {\"angularaxis\": {\"gridcolor\": \"white\", \"linecolor\": \"white\", \"ticks\": \"\"}, \"bgcolor\": \"#E5ECF6\", \"radialaxis\": {\"gridcolor\": \"white\", \"linecolor\": \"white\", \"ticks\": \"\"}}, \"scene\": {\"xaxis\": {\"backgroundcolor\": \"#E5ECF6\", \"gridcolor\": \"white\", \"gridwidth\": 2, \"linecolor\": \"white\", \"showbackground\": true, \"ticks\": \"\", \"zerolinecolor\": \"white\"}, \"yaxis\": {\"backgroundcolor\": \"#E5ECF6\", \"gridcolor\": \"white\", \"gridwidth\": 2, \"linecolor\": \"white\", \"showbackground\": true, \"ticks\": \"\", \"zerolinecolor\": \"white\"}, \"zaxis\": {\"backgroundcolor\": \"#E5ECF6\", \"gridcolor\": \"white\", \"gridwidth\": 2, \"linecolor\": \"white\", \"showbackground\": true, \"ticks\": \"\", \"zerolinecolor\": \"white\"}}, \"shapedefaults\": {\"line\": {\"color\": \"#2a3f5f\"}}, \"ternary\": {\"aaxis\": {\"gridcolor\": \"white\", \"linecolor\": \"white\", \"ticks\": \"\"}, \"baxis\": {\"gridcolor\": \"white\", \"linecolor\": \"white\", \"ticks\": \"\"}, \"bgcolor\": \"#E5ECF6\", \"caxis\": {\"gridcolor\": \"white\", \"linecolor\": \"white\", \"ticks\": \"\"}}, \"title\": {\"x\": 0.05}, \"xaxis\": {\"automargin\": true, \"gridcolor\": \"white\", \"linecolor\": \"white\", \"ticks\": \"\", \"title\": {\"standoff\": 15}, \"zerolinecolor\": \"white\", \"zerolinewidth\": 2}, \"yaxis\": {\"automargin\": true, \"gridcolor\": \"white\", \"linecolor\": \"white\", \"ticks\": \"\", \"title\": {\"standoff\": 15}, \"zerolinecolor\": \"white\", \"zerolinewidth\": 2}}}, \"title\": {\"text\": \"Words Frequency in Tribunal Appeals\", \"x\": 0.5, \"xanchor\": \"center\", \"y\": 0.95, \"yanchor\": \"top\"}, \"uniformtext\": {\"minsize\": 8, \"mode\": \"hide\"}, \"width\": 1050, \"xaxis\": {\"anchor\": \"y\", \"domain\": [0.0, 1.0], \"title\": {\"text\": \"Frequency\"}}, \"yaxis\": {\"anchor\": \"x\", \"categoryorder\": \"total ascending\", \"domain\": [0.0, 1.0], \"showticklabels\": false, \"title\": {\"text\": \"Words\"}, \"type\": \"category\"}},                        {\"responsive\": true}                    ).then(function(){\n",
       "                            \n",
       "var gd = document.getElementById('73c8dda3-bec5-4d8c-b1c3-48187cc6ed09');\n",
       "var x = new MutationObserver(function (mutations, observer) {{\n",
       "        var display = window.getComputedStyle(gd).display;\n",
       "        if (!display || display === 'none') {{\n",
       "            console.log([gd, 'removed!']);\n",
       "            Plotly.purge(gd);\n",
       "            observer.disconnect();\n",
       "        }}\n",
       "}});\n",
       "\n",
       "// Listen for the removal of the full notebook cells\n",
       "var notebookContainer = gd.closest('#notebook-container');\n",
       "if (notebookContainer) {{\n",
       "    x.observe(notebookContainer, {childList: true});\n",
       "}}\n",
       "\n",
       "// Listen for the clearing of the current output cell\n",
       "var outputEl = gd.closest('.output');\n",
       "if (outputEl) {{\n",
       "    x.observe(outputEl, {childList: true});\n",
       "}}\n",
       "\n",
       "                        })                };                });            </script>        </div>"
      ]
     },
     "metadata": {},
     "output_type": "display_data"
    }
   ],
   "source": [
    "import matplotlib.pyplot as plt\n",
    "import plotly.express as px\n",
    "\n",
    "fig = px.bar(df.loc[0:10,:], x='counts', y='words', orientation='h', text = 'words',\n",
    "             labels={\n",
    "                     \"counts\": \"Frequency\",\n",
    "                     \"words\": \"Words\"\n",
    "                 },)\n",
    "fig.layout.yaxis.type = 'category'\n",
    "fig.update_layout(yaxis_categoryorder = 'total ascending')\n",
    "fig.update_layout(yaxis=dict(showticklabels=False))\n",
    "fig.update_traces(texttemplate='%{text}', textposition='auto', marker_color='green')\n",
    "fig.update_layout(uniformtext_minsize=8, uniformtext_mode='hide',   title={\n",
    "        'text': \"Words Frequency in Tribunal Appeals\",\n",
    "        'y':0.95,\n",
    "        'x':0.5,\n",
    "        'xanchor': 'center',\n",
    "        'yanchor': 'top'})\n",
    "fig.update_layout(\n",
    "    autosize=False,\n",
    "    width=1050,\n",
    "    height=500)\n",
    "fig.show()"
   ]
  },
  {
   "cell_type": "markdown",
   "metadata": {},
   "source": [
    "❓ Does that give information of the content?"
   ]
  },
  {
   "cell_type": "markdown",
   "metadata": {},
   "source": [
    "## 5.3. Clean text"
   ]
  },
  {
   "cell_type": "markdown",
   "metadata": {},
   "source": [
    "We now clean the text with some  techniques we have learned."
   ]
  },
  {
   "cell_type": "markdown",
   "metadata": {},
   "source": [
    "### 5.3.1. Lowercase"
   ]
  },
  {
   "cell_type": "code",
   "execution_count": 179,
   "metadata": {},
   "outputs": [],
   "source": [
    "# Remove capital letters\n",
    "text_clean = ' '.join(w.lower() for w in text.split())"
   ]
  },
  {
   "cell_type": "code",
   "execution_count": 180,
   "metadata": {},
   "outputs": [
    {
     "data": {
      "text/plain": [
       "'upper tribunal (immigration and asylum chamber) appeal number: pa/00240/2019 the immigration acts heard at birmingham cjc decision & reasons promulgated on 21 november 2019 on 8 november 2019 before deputy upper tribunal judge o’ryan between mr d a (anonymity direction made) appellant and the secretary of state for the home department respondent representation: for the appellant: mr sharif, fountain solicitors for the respondent: mr mills, senior home office presenting officer decision and reasons 1. this is the appellant’s appeal against the decision of judge of the first-tier tribunal boylan-kemp mbe dated 2 may 2019 dismissing the appellant’s appeal against the respondent’s decision of 23 november 2018 refusing his human rights and protection claim. © crown copyright 2019appeal number: pa/00240/2019 2. the appellant is a national of iraq of kurdish origin and from sulamaniyah in the ikr. he gave an account that he was at risk of serious harm in the ikr by reason of his family and extended tribe being in a feud with another tribe in the ikr. the appellant was not able to give many details of the origins of the feud but stated that one family member had been killed as a result of it and that he himself had experienced two incidents; one being that unknown persons had fired upon a car in which he was travelling and his cousin had been injured in the shoulder, and another occasion when the house in which he lived was fired upon. 3. the respondent in its decision refusing the protection claim disbelieved the appellant’s account that there was any feud on the grounds that the appellant knew very few details of the alleged feud. there was also said to be a discrepancy as between the appellant’s evidence in interview as to how many occasions the appellant experienced any problems himself (refusal letter, para [26]) and a discrepancy between an alleged fear of his own father (resulting from the appellant refusing to take part in the feud) and information given in an age assessment interview in which he had stated that he had a good relationship with his family members (para [31]). 4. the appellant appealed against that decision and the matter came before the judge at the birmingham hearing centre on 18 march 2019. the appellant was represented and gave evidence. at the date of that hearing the appellant would have been 18 years of age. a further document was relied upon by the respondent at that hearing, being a eurodac search result, demonstrating that a person in the appellant’s identity was fingerprinted in dresden in germany on 22 march 2016. the appellant’s account as given in his sef interview and confirmed in oral evidence before the judge was that he only left iraq in december 2017. the appellant denied before the judge that the person identified in the eurodac search was him but the judge stated that she was satisfied by the details contained within the document, and looking at the clear photograph on the eurodac match, that the person fingerprinted in germany was indeed the appellant. 5. the judge found at paragraph 14 onwards as follows: “16. the evidence provided by the eurodac document is unequivocal. the photograph contained within the document is clearly the appellant who appeared before me and i have no reason to doubt that the document relates to him. therefore this document upon which i am satisfied i can place significant weight puts him in germany on 22 march 2016. consequently i find that this evidence undermines the credibility of his entire account and his credibility as a witness in his own cause and that it renders his entire account unreliable. 2appeal number: pa/00240/2019 17. further i also find his inability to recall the details of the alleged feud which caused him to leave his family and flee the country to also not be credible. if a young man was leaving his life behind because of his reluctance to become involved in an ongoing family feud then i would anticipate that he would have knowledge of what he is in fear of and so i do not find it plausible that he would not know the details of this feud if he held such a genuine fear. also i note that even on his own evidence there has been no specific risk or threat made to him which would cause him to fear for his own safety beyond what is a more general tribal threat and of which he cannot provide much detail. ... 18. as i have found the appellant’s alleged reasoning for leaving iraq to not be credible then i also find that it is not plausible that his family have consequently threatened him as claimed due to his alleged desertion because of the alleged feud. instead i find that he has travelled to the uk with the assistance and knowledge of his family for reasons other than escaping a risk of persecution. as such i find that his family would therefore be able to assist him with obtaining a copy of his identification documents and csid which would help facilitate his return to iraq. i also find that he would be able to return to the help and support of his family there.” the judge dismissed the appellant’s appeal. 6. the appellant appeals to the upper tribunal on grounds dated 15 may 2019 which argue very briefly that the judge erred in law at paragraphs 15 to 20 by giving inadequate reasoning for finding the appellant’s account to not be credible and secondly that the judge had failed to apply relevant country guidance. 7. permission to appeal was granted by judge of the first-tier tribunal keane on 24 june 2019. the judge stated as follows: “the judge arguably had regard to irrelevant considerations in finding that the appellant had not given a credible account of events. the judge’s findings as to the credibility were to be found at paragraphs 15 to 18 inclusive of her decision. at paragraph 15 the judge attached weight so as to undermine the appellant’s credibility to a eurodac printout provided by the respondent which as the judge found proved that the appellant was photographed and printed in germany on 22 march 2016. the judge however did not explain why such circumstance damaged the appellant’s credibility. if the judge had in mind the appellant’s apparent failure to claim asylum in germany the judge arguably should have stated so. at paragraph 16 of the decision the judge again accorded weight to the eurodac document without stating why. at paragraph 17 of the decision the 3appeal number: pa/00240/2019 judge stated that the judge would have anticipated that the appellant would have had knowledge of the alleged feud which on his case caused him to leave his family and indeed his country. the judge arguably substituted her own understanding of what constituted reasonable conduct in circumstances where arguably she should not have done so. at paragraph 18 the judge stated that it was not plausible that the appellant’s family have consequently threatened him on account of his ostensible desertion and the judge was arguably disbelieving the appellant’s account without providing any or adequate reasons. it was incumbent on the judge in resolving the issue of credibility to embark upon a global assessment of the appellant’s credibility and to provide adequate reasons in support of a finding that he had not done so. this the judge arguably failed to do.” submissions 8. mr sharif relies upon the grounds of appeal and the admittedly more extensive grant of permission to appeal in support of his appellant’s case. 9. mr sharif points out that the only date given in the appellant’s account for any particular incident was in relation to the incident when the car in which the appellant was travelling had been shot at. the date for that is to be found in the sef interview at [86] and was simply ‘2016’. the appellant gives no other dates for the matters that he relies upon in support of the proposition that he is at risk because of a blood feud in iraq. he does however consistently state that he left iraq in december 2017. mr sharif argues that the appellant had accepted in the course of his evidence that he had travelled through germany and therefore the evidence from the eurodac search confirming that did not alter the credibility of the appellant’s account. mr sharif also argued that the judge’s findings in relation to it being incredible that the appellant would not have had more knowledge about the details of the feud was an irrational finding on the part of the judge. 10. for his part mr mills defends the judge’s decision and argues that the dishonest statement that the appellant had remained in december 2017 was clearly capable of affecting the credibility of the appellant’s account. i raised with him whether or not such a discrepancy could be treated as determinative of the account given that there were no dates given in the appellant’s account of matters occurring in iraq any later than 22 march 2016. mr mills appeared to accept that it was right to say that the appellant’s credibility was not determinatively decided by the discrepancy of his whereabouts in march 2016. however mr mills points to the other findings at paragraph 17 in support of the judge’s reasoning. discussion 11. i find no material error of law in the judge’s decision. the suggestion in the grant of permission to appeal by judge keane that the judge had 4appeal number: pa/00240/2019 arguably had regard to irrelevant considerations is difficult to sustain. the appellant has clearly given inconsistent evidence about his whereabouts, on the one part insisting that he remained in iraq in december 2017 but incontrovertible evidence existing from the eurodac search result that he was present in germany on 22 march 2016. these two items of evidence simply cannot sit together. true it is that there are no details of the appellant’s account of any incidents that he has set out which are dated any later than 22 march 2016, and therefore being shot at in ‘2016’ and him departing iraq prior to 22 march 2016 does not necessarily make his account impossible to believe, but it is clearly a very significant matter that the appellant has lied about his continued presence in iraq up to the point of december 2017 and the judge was fully entitled to treat that as a very significant matter. whether or not she was entitled to treat it as rendering ‘his entire account unreliable’ is moot. 12. however the judge does not stop there in her credibility findings because she continues, as is clear at paragraph 17, to set out other reasons for finding the appellant’s account incredible. whereas it may be expected that a young person may not be as fully informed about the details of a feud affecting his family and the wider tribe as might a fully-grown adult, the judge’s point is that the appellant decided, together with the assistance of a relative, to leave iraq because of this feud and the judge was entitled to find that it was implausible that the appellant knew so little about the feud whereas it had been the specific cause of his decision to leave the country. i find that it was not irrational for the judge to make the findings that she did at paragraph 17. there are a number of reasons therefore given by the judge for finding the appellant’s account incredible and i find that none of those reasons is vitiated by any error of law. 13. judge keane in granting permission did not comment upon the appellant’s actual second ground which was that the judge had failed to apply country guidance relevant to the issue of obtaining documents for readmission and residence in iraq. however in the light of my decision that the judge’s credibility findings are sustainable it is also sustainable that the appellant can have the assistance of family members in iraq to obtain any replacement documents that are needed to facilitate his return to, and residence in iraq. notice of decision the judge’s decision did not involve the making of any material error of law. i do not set aside the decision. the appellant’s appeal is dismissed. signed date 20.11.19 5appeal number: pa/00240/2019 deputy upper tribunal judge o’ryan direction regarding anonymity – rule 14 of the tribunal procedure (upper tribunal) rules 2008 unless and until a tribunal or court directs otherwise, the appellant is granted anonymity. no report of these proceedings shall directly or indirectly identify him or any member of their family. this direction applies both to the appellant and to the respondent. failure to comply with this direction could lead to contempt of court proceedings. signed date 20.11.19 deputy upper tribunal judge o’ryan 6 upper tribunal (immigration and asylum chamber) appeal number: pa/05945/2018 the immigration acts heard at birmingham cjc on 5 th july 2019 decision & reasons promulgated on 19 th august 2019 before deputy upper tribunal judge juss between ha (anonymity direction made) appellant and the secretary of state for the home department respondent representation: for the appellant: mr j howard (solicitor) for the respondent: mr d mills (senior hopo) decision and reasons 1. this is an appeal against the determination of first-tier tribunal judge pacey, promulgated on 24 th june 2018, following a hearing at birmingham on 6 th june 2018. in the determination, the judge dismissed the appeal of the appellant, whereupon the appellant subsequently applied for, and was granted, permission to appeal to the upper tribunal, and thus the matter comes before me. the appellant © crown copyright 2019appeal number: pa/05945/2018 2. the appellant is a male, a citizen of iran, and was born on 22 nd july 1996. he appealed against the decision of the respondent dated 24 th april 2018 refusing his claim for asylum and humanitarian protection pursuant to paragraph 339c of hc 395. the appellant’s claim 3. the essence of the appellant’s claim is that he is a member of a particular social group, because he is a gay iranian man who would face persecution if returned, and additionally he is also an atheist, who would be ill-treated upon return as a non-religious person, which is forbidden in iran. the judge’s findings 4. the judge noted how the appellant in his screening interview has said that he held no religion and that he would be subject to persecution as a non- religious person if returned to iran. he made no mention at that stage that he was also a gay person. during his asylum interview, however, he stated that he was a danger also because he was a homosexual and feared the government given that homosexuality was punishable by death. he had not mentioned this at his screening interview because he did not know anything about the country he was coming to. the appellant had then explained how he had a boyfriend in the uk by the name of [fs], with whom he had been in relationship for about one and a half months. he also had three serious relationships which he went on to describe in evidence before the tribunal. the judge did not find the appellant to be credible because the appellant’s explanation that he had not mentioned his homosexuality during his screening interview, because he did not know the country he was coming to, was not plausible. as the judge explained, “if he did not know the uk approach to homosexuality ... he could not have known if the uk adopted as punitive an approach to gay people as did iran.... for all he knew he could have been travelling from the frying pan into the fire” (paragraph 68). 5. on the other hand, the judge observed that if the appellant was aware of the actual uk approach to homosexuality, “then there was no reason for him not to have mentioned his sexuality at the screening interview” (paragraph 69). 6. the judge was also not impressed by the witnesses before the tribunal. in short, the appellant’s claim was rejected wholesale. the appeal was dismissed. grounds of application 7. the grounds of application state that the judge had engaged in a material error of law in relation to the evidence of a miss [l] and that of mr [s] whose credibility had been wrongly impugned by the judge. there had been apparently a discrepancy between to the oral and the written 2appeal number: pa/05945/2018 evidence of miss [l], but this discrepancy had not been put to the witness, and if this was so then this was contrary to the rules of natural justice. 8. on 23 rd november 2018 permission to appeal was granted. submissions 9. at the hearing before me on 5 th july 2019, the appellant was represented by mr howard, who adopted the grounds of application. he submitted that if the judge was concerned about the discrepancy in the oral and written evidence of miss [l], then this should have been explored by the tribunal, because in her oral evidence, miss [l] had said that she had “not met [f]”, whereas in her written evidence she had said that “she also knew his previous partner, [f]” (paragraph 34). secondly, mr howard submitted that if one looks at the evidence of mr [s] (at page 14 of the appellant’s bundle). he makes it quite clear that he is the director of a voluntary organisation called persian lgbt advisory services, where it provides “voluntary social activities for lgbt asylum seekers”. he explains that the appellant had contacted him via facebook on 9 th june 2016. he invited the appellant to meet with him, and after a conversation he had come to the view that “i am aware the appellant is openly active on facebook page which i would refer to as an online activist where he shares information on lgbt community using his facebook page...”. on that basis that the judge was wrong to have impugned his credibility. 10. for his part, mr mills submitted that the issues that were before the judge, both in relation to the appellant’s atheism and his homosexual tendencies, were not new issues. if evidence was collected by the appellant between the asylum interview and the tribunal hearing, in a manner that the appellant himself chose to do, then he should have been prepared to deal with it on the basis of oral testimony. these were not new points. the witnesses were not people whose evidence had previously been accepted. both cases were simply black and white discrepancy cases where the judge was entitled to say that she would not attach any significant weight to such evidence, because as put before the tribunal, the evidence was not persuasive. no error of law 11. i am satisfied that the making of the decision by the judge did not involve the making of an error on a point of law (see section 12(1) of tcea 2007) such that i should set aside the decision. my reasons are as follows. first, it is simply not correct to say that the discrepancy in the oral and witness statement evidence of miss [l] was something that the judge should have probed herself with a view to ascertaining exactly what miss [l] knew about mr [f]. the judge noted that in her oral evidence miss [l] stated she was aware that the appellant had a relationship in the uk “but had not met [f]”. then the judge noted how in her witness statement, miss [l] had stated that she became friends with the appellant when she met him in calais at the “the jungle” in april 2016, and “when they became strong 3appeal number: pa/05945/2018 friends he told her of his fear of persecution and that he was an atheist. she also knew his previous partner, [f]” (paragraph 34). it was for the appellant’s representative to probe this matter further. as the evidence stood, the judge was entitled to conclude that “miss [l] has also been inconsistent in a written and oral account of whether she had met [f]” (paragraph 78). 12. second, as far as mr [s]’s evidence is concerned, i note that he is a director of the voluntary organisation called persian lgbt advisory services. he wrote in terms that he was “aware the appellant is openly active on facebook page”. he had stated that “i have acknowledged that the appellant has made a strong relationship with the wider lgbt communities ...”. he had further stated that “i have also seen that the appellant has participated openly at this year’s lgbt pride with christian lgbt parade ...”. he ended his statement by declaring that “based on information that has been provided by the appellant i can confirm that he is homosexual and would be subject of persecution...”. (see page 14 of the appellant’s bundle). the manner in which the judge dealt with this evidence was one which was entirely open to her to do. what the judge states is that she would “attach very little weight to mr [s]’s evidence” because “he said at the hearing that he had attended court since 2008 to support gay asylum seekers”. 13. nevertheless as the judge observed, “his support did not, on his own evidence, comprise independent verification of each appellant’s claim since he took the claim of each at face value, entirely taking their word for it without doing anything to verify their claim, in the way of what might be termed ‘due diligence’. while he may well be well-meaning, the uncritical nature of his support means it is of very little probative value” (paragraph 79). 14. there is nothing in this particular analysis of the judge’s detailed explanation that sits ill at ease with what the witness himself states in his statement of 4 th june 2018 (at page 14 of the appellant’s bundle) when he makes it clear that “i am aware” or that “i have acknowledged”. in any event, what the judge is referring to is actually what mr [s] himself said in his evidence where he makes it clear that as a director of the voluntary organisation he supports gay asylum seekers taking each claim at face value. accordingly, the decision of the judge in this particular case was clear, comprehensive, and well-reasoned and there is no error of law in it. decision 15. the decision of the first-tier tribunal did not involve the making of an error of law. the decision shall stand. 16. an anonymity order is made. 17. the appeal is dismissed. 4appeal number: pa/05945/2018 direction regarding anonymity – rule 14 of the tribunal procedure (upper tribunal) rules 2008 unless and until a tribunal or court directs otherwise, the appellant is granted anonymity. no report of these proceedings shall directly or indirectly identify him or any member of their family. this direction applies both to the appellant and to the respondent. failure to comply with this direction could lead to contempt of court proceedings. signed dated deputy upper tribunal judge juss 15 th august 2019 5'"
      ]
     },
     "execution_count": 180,
     "metadata": {},
     "output_type": "execute_result"
    }
   ],
   "source": [
    "text_clean"
   ]
  },
  {
   "cell_type": "markdown",
   "metadata": {},
   "source": [
    "### 5.3.2. Stop words "
   ]
  },
  {
   "cell_type": "code",
   "execution_count": 181,
   "metadata": {},
   "outputs": [],
   "source": [
    "# Remove stopwords\n",
    "from nltk.corpus import stopwords\n",
    "stopwords = stopwords.words('english')"
   ]
  },
  {
   "cell_type": "code",
   "execution_count": 183,
   "metadata": {},
   "outputs": [],
   "source": [
    "text_clean = ' '.join(w for w in text_clean.split() if w not in stopwords)"
   ]
  },
  {
   "cell_type": "code",
   "execution_count": 184,
   "metadata": {},
   "outputs": [
    {
     "data": {
      "text/plain": [
       "'upper tribunal (immigration asylum chamber) appeal number: pa/00240/2019 immigration acts heard birmingham cjc decision & reasons promulgated 21 november 2019 8 november 2019 deputy upper tribunal judge o’ryan mr (anonymity direction made) appellant secretary state home department respondent representation: appellant: mr sharif, fountain solicitors respondent: mr mills, senior home office presenting officer decision reasons 1. appellant’s appeal decision judge first-tier tribunal boylan-kemp mbe dated 2 may 2019 dismissing appellant’s appeal respondent’s decision 23 november 2018 refusing human rights protection claim. © crown copyright 2019appeal number: pa/00240/2019 2. appellant national iraq kurdish origin sulamaniyah ikr. gave account risk serious harm ikr reason family extended tribe feud another tribe ikr. appellant able give many details origins feud stated one family member killed result experienced two incidents; one unknown persons fired upon car travelling cousin injured shoulder, another occasion house lived fired upon. 3. respondent decision refusing protection claim disbelieved appellant’s account feud grounds appellant knew details alleged feud. also said discrepancy appellant’s evidence interview many occasions appellant experienced problems (refusal letter, para [26]) discrepancy alleged fear father (resulting appellant refusing take part feud) information given age assessment interview stated good relationship family members (para [31]). 4. appellant appealed decision matter came judge birmingham hearing centre 18 march 2019. appellant represented gave evidence. date hearing appellant would 18 years age. document relied upon respondent hearing, eurodac search result, demonstrating person appellant’s identity fingerprinted dresden germany 22 march 2016. appellant’s account given sef interview confirmed oral evidence judge left iraq december 2017. appellant denied judge person identified eurodac search judge stated satisfied details contained within document, looking clear photograph eurodac match, person fingerprinted germany indeed appellant. 5. judge found paragraph 14 onwards follows: “16. evidence provided eurodac document unequivocal. photograph contained within document clearly appellant appeared reason doubt document relates him. therefore document upon satisfied place significant weight puts germany 22 march 2016. consequently find evidence undermines credibility entire account credibility witness cause renders entire account unreliable. 2appeal number: pa/00240/2019 17. also find inability recall details alleged feud caused leave family flee country also credible. young man leaving life behind reluctance become involved ongoing family feud would anticipate would knowledge fear find plausible would know details feud held genuine fear. also note even evidence specific risk threat made would cause fear safety beyond general tribal threat cannot provide much detail. ... 18. found appellant’s alleged reasoning leaving iraq credible also find plausible family consequently threatened claimed due alleged desertion alleged feud. instead find travelled uk assistance knowledge family reasons escaping risk persecution. find family would therefore able assist obtaining copy identification documents csid would help facilitate return iraq. also find would able return help support family there.” judge dismissed appellant’s appeal. 6. appellant appeals upper tribunal grounds dated 15 may 2019 argue briefly judge erred law paragraphs 15 20 giving inadequate reasoning finding appellant’s account credible secondly judge failed apply relevant country guidance. 7. permission appeal granted judge first-tier tribunal keane 24 june 2019. judge stated follows: “the judge arguably regard irrelevant considerations finding appellant given credible account events. judge’s findings credibility found paragraphs 15 18 inclusive decision. paragraph 15 judge attached weight undermine appellant’s credibility eurodac printout provided respondent judge found proved appellant photographed printed germany 22 march 2016. judge however explain circumstance damaged appellant’s credibility. judge mind appellant’s apparent failure claim asylum germany judge arguably stated so. paragraph 16 decision judge accorded weight eurodac document without stating why. paragraph 17 decision 3appeal number: pa/00240/2019 judge stated judge would anticipated appellant would knowledge alleged feud case caused leave family indeed country. judge arguably substituted understanding constituted reasonable conduct circumstances arguably done so. paragraph 18 judge stated plausible appellant’s family consequently threatened account ostensible desertion judge arguably disbelieving appellant’s account without providing adequate reasons. incumbent judge resolving issue credibility embark upon global assessment appellant’s credibility provide adequate reasons support finding done so. judge arguably failed do.” submissions 8. mr sharif relies upon grounds appeal admittedly extensive grant permission appeal support appellant’s case. 9. mr sharif points date given appellant’s account particular incident relation incident car appellant travelling shot at. date found sef interview [86] simply ‘2016’. appellant gives dates matters relies upon support proposition risk blood feud iraq. however consistently state left iraq december 2017. mr sharif argues appellant accepted course evidence travelled germany therefore evidence eurodac search confirming alter credibility appellant’s account. mr sharif also argued judge’s findings relation incredible appellant would knowledge details feud irrational finding part judge. 10. part mr mills defends judge’s decision argues dishonest statement appellant remained december 2017 clearly capable affecting credibility appellant’s account. raised whether discrepancy could treated determinative account given dates given appellant’s account matters occurring iraq later 22 march 2016. mr mills appeared accept right say appellant’s credibility determinatively decided discrepancy whereabouts march 2016. however mr mills points findings paragraph 17 support judge’s reasoning. discussion 11. find material error law judge’s decision. suggestion grant permission appeal judge keane judge 4appeal number: pa/00240/2019 arguably regard irrelevant considerations difficult sustain. appellant clearly given inconsistent evidence whereabouts, one part insisting remained iraq december 2017 incontrovertible evidence existing eurodac search result present germany 22 march 2016. two items evidence simply cannot sit together. true details appellant’s account incidents set dated later 22 march 2016, therefore shot ‘2016’ departing iraq prior 22 march 2016 necessarily make account impossible believe, clearly significant matter appellant lied continued presence iraq point december 2017 judge fully entitled treat significant matter. whether entitled treat rendering ‘his entire account unreliable’ moot. 12. however judge stop credibility findings continues, clear paragraph 17, set reasons finding appellant’s account incredible. whereas may expected young person may fully informed details feud affecting family wider tribe might fully-grown adult, judge’s point appellant decided, together assistance relative, leave iraq feud judge entitled find implausible appellant knew little feud whereas specific cause decision leave country. find irrational judge make findings paragraph 17. number reasons therefore given judge finding appellant’s account incredible find none reasons vitiated error law. 13. judge keane granting permission comment upon appellant’s actual second ground judge failed apply country guidance relevant issue obtaining documents readmission residence iraq. however light decision judge’s credibility findings sustainable also sustainable appellant assistance family members iraq obtain replacement documents needed facilitate return to, residence iraq. notice decision judge’s decision involve making material error law. set aside decision. appellant’s appeal dismissed. signed date 20.11.19 5appeal number: pa/00240/2019 deputy upper tribunal judge o’ryan direction regarding anonymity – rule 14 tribunal procedure (upper tribunal) rules 2008 unless tribunal court directs otherwise, appellant granted anonymity. report proceedings shall directly indirectly identify member family. direction applies appellant respondent. failure comply direction could lead contempt court proceedings. signed date 20.11.19 deputy upper tribunal judge o’ryan 6 upper tribunal (immigration asylum chamber) appeal number: pa/05945/2018 immigration acts heard birmingham cjc 5 th july 2019 decision & reasons promulgated 19 th august 2019 deputy upper tribunal judge juss ha (anonymity direction made) appellant secretary state home department respondent representation: appellant: mr j howard (solicitor) respondent: mr mills (senior hopo) decision reasons 1. appeal determination first-tier tribunal judge pacey, promulgated 24 th june 2018, following hearing birmingham 6 th june 2018. determination, judge dismissed appeal appellant, whereupon appellant subsequently applied for, granted, permission appeal upper tribunal, thus matter comes me. appellant © crown copyright 2019appeal number: pa/05945/2018 2. appellant male, citizen iran, born 22 nd july 1996. appealed decision respondent dated 24 th april 2018 refusing claim asylum humanitarian protection pursuant paragraph 339c hc 395. appellant’s claim 3. essence appellant’s claim member particular social group, gay iranian man would face persecution returned, additionally also atheist, would ill-treated upon return non-religious person, forbidden iran. judge’s findings 4. judge noted appellant screening interview said held religion would subject persecution non- religious person returned iran. made mention stage also gay person. asylum interview, however, stated danger also homosexual feared government given homosexuality punishable death. mentioned screening interview know anything country coming to. appellant explained boyfriend uk name [fs], relationship one half months. also three serious relationships went describe evidence tribunal. judge find appellant credible appellant’s explanation mentioned homosexuality screening interview, know country coming to, plausible. judge explained, “if know uk approach homosexuality ... could known uk adopted punitive approach gay people iran.... knew could travelling frying pan fire” (paragraph 68). 5. hand, judge observed appellant aware actual uk approach homosexuality, “then reason mentioned sexuality screening interview” (paragraph 69). 6. judge also impressed witnesses tribunal. short, appellant’s claim rejected wholesale. appeal dismissed. grounds application 7. grounds application state judge engaged material error law relation evidence miss [l] mr [s] whose credibility wrongly impugned judge. apparently discrepancy oral written 2appeal number: pa/05945/2018 evidence miss [l], discrepancy put witness, contrary rules natural justice. 8. 23 rd november 2018 permission appeal granted. submissions 9. hearing 5 th july 2019, appellant represented mr howard, adopted grounds application. submitted judge concerned discrepancy oral written evidence miss [l], explored tribunal, oral evidence, miss [l] said “not met [f]”, whereas written evidence said “she also knew previous partner, [f]” (paragraph 34). secondly, mr howard submitted one looks evidence mr [s] (at page 14 appellant’s bundle). makes quite clear director voluntary organisation called persian lgbt advisory services, provides “voluntary social activities lgbt asylum seekers”. explains appellant contacted via facebook 9 th june 2016. invited appellant meet him, conversation come view “i aware appellant openly active facebook page would refer online activist shares information lgbt community using facebook page...”. basis judge wrong impugned credibility. 10. part, mr mills submitted issues judge, relation appellant’s atheism homosexual tendencies, new issues. evidence collected appellant asylum interview tribunal hearing, manner appellant chose do, prepared deal basis oral testimony. new points. witnesses people whose evidence previously accepted. cases simply black white discrepancy cases judge entitled say would attach significant weight evidence, put tribunal, evidence persuasive. error law 11. satisfied making decision judge involve making error point law (see section 12(1) tcea 2007) set aside decision. reasons follows. first, simply correct say discrepancy oral witness statement evidence miss [l] something judge probed view ascertaining exactly miss [l] knew mr [f]. judge noted oral evidence miss [l] stated aware appellant relationship uk “but met [f]”. judge noted witness statement, miss [l] stated became friends appellant met calais “the jungle” april 2016, “when became strong 3appeal number: pa/05945/2018 friends told fear persecution atheist. also knew previous partner, [f]” (paragraph 34). appellant’s representative probe matter further. evidence stood, judge entitled conclude “miss [l] also inconsistent written oral account whether met [f]” (paragraph 78). 12. second, far mr [s]’s evidence concerned, note director voluntary organisation called persian lgbt advisory services. wrote terms “aware appellant openly active facebook page”. stated “i acknowledged appellant made strong relationship wider lgbt communities ...”. stated “i also seen appellant participated openly year’s lgbt pride christian lgbt parade ...”. ended statement declaring “based information provided appellant confirm homosexual would subject persecution...”. (see page 14 appellant’s bundle). manner judge dealt evidence one entirely open do. judge states would “attach little weight mr [s]’s evidence” “he said hearing attended court since 2008 support gay asylum seekers”. 13. nevertheless judge observed, “his support not, evidence, comprise independent verification appellant’s claim since took claim face value, entirely taking word without anything verify claim, way might termed ‘due diligence’. may well well-meaning, uncritical nature support means little probative value” (paragraph 79). 14. nothing particular analysis judge’s detailed explanation sits ill ease witness states statement 4 th june 2018 (at page 14 appellant’s bundle) makes clear “i aware” “i acknowledged”. event, judge referring actually mr [s] said evidence makes clear director voluntary organisation supports gay asylum seekers taking claim face value. accordingly, decision judge particular case clear, comprehensive, well-reasoned error law it. decision 15. decision first-tier tribunal involve making error law. decision shall stand. 16. anonymity order made. 17. appeal dismissed. 4appeal number: pa/05945/2018 direction regarding anonymity – rule 14 tribunal procedure (upper tribunal) rules 2008 unless tribunal court directs otherwise, appellant granted anonymity. report proceedings shall directly indirectly identify member family. direction applies appellant respondent. failure comply direction could lead contempt court proceedings. signed dated deputy upper tribunal judge juss 15 th august 2019 5'"
      ]
     },
     "execution_count": 184,
     "metadata": {},
     "output_type": "execute_result"
    }
   ],
   "source": [
    "text_clean"
   ]
  },
  {
   "cell_type": "markdown",
   "metadata": {},
   "source": [
    "### 5.3.3. Lemmatization"
   ]
  },
  {
   "cell_type": "code",
   "execution_count": 196,
   "metadata": {},
   "outputs": [
    {
     "ename": "AttributeError",
     "evalue": "'list' object has no attribute 'split'",
     "output_type": "error",
     "traceback": [
      "\u001b[0;31m---------------------------------------------------------------------------\u001b[0m",
      "\u001b[0;31mAttributeError\u001b[0m                            Traceback (most recent call last)",
      "\u001b[0;32m<ipython-input-196-ae183643d342>\u001b[0m in \u001b[0;36m<module>\u001b[0;34m\u001b[0m\n\u001b[1;32m      1\u001b[0m \u001b[0;31m# Remove puncutaction symbols\u001b[0m\u001b[0;34m\u001b[0m\u001b[0;34m\u001b[0m\u001b[0;34m\u001b[0m\u001b[0m\n\u001b[0;32m----> 2\u001b[0;31m \u001b[0mtext_clean\u001b[0m \u001b[0;34m=\u001b[0m \u001b[0;34m' '\u001b[0m\u001b[0;34m.\u001b[0m\u001b[0mjoin\u001b[0m\u001b[0;34m(\u001b[0m\u001b[0mtoken\u001b[0m\u001b[0;34m.\u001b[0m\u001b[0mlemma_\u001b[0m \u001b[0;32mfor\u001b[0m \u001b[0mtoken\u001b[0m \u001b[0;32min\u001b[0m \u001b[0mtext_clean\u001b[0m\u001b[0;34m.\u001b[0m\u001b[0msplit\u001b[0m\u001b[0;34m(\u001b[0m\u001b[0;34m)\u001b[0m\u001b[0;34m)\u001b[0m\u001b[0;34m\u001b[0m\u001b[0;34m\u001b[0m\u001b[0m\n\u001b[0m\u001b[1;32m      3\u001b[0m \u001b[0mtext_clean\u001b[0m \u001b[0;34m=\u001b[0m \u001b[0;34m[\u001b[0m\u001b[0;34m[\u001b[0m\u001b[0mtoken\u001b[0m\u001b[0;34m.\u001b[0m\u001b[0mlemma_\u001b[0m \u001b[0;32mfor\u001b[0m \u001b[0mtoken\u001b[0m \u001b[0;32min\u001b[0m \u001b[0msentence\u001b[0m\u001b[0;34m]\u001b[0m \u001b[0;32mfor\u001b[0m \u001b[0msentence\u001b[0m \u001b[0;32min\u001b[0m \u001b[0mnlp\u001b[0m\u001b[0;34m(\u001b[0m\u001b[0mtext_clean\u001b[0m\u001b[0;34m)\u001b[0m\u001b[0;34m.\u001b[0m\u001b[0msents\u001b[0m\u001b[0;34m]\u001b[0m\u001b[0;34m\u001b[0m\u001b[0;34m\u001b[0m\u001b[0m\n",
      "\u001b[0;31mAttributeError\u001b[0m: 'list' object has no attribute 'split'"
     ]
    }
   ],
   "source": [
    "# Remove puncutaction symbols\n",
    "text_clean = [[token.lemma_ for token in sentence] for sentence in nlp(text_clean).sents]"
   ]
  },
  {
   "cell_type": "code",
   "execution_count": 186,
   "metadata": {},
   "outputs": [
    {
     "data": {
      "text/plain": [
       "[['upper',\n",
       "  'tribunal',\n",
       "  '(',\n",
       "  'immigration',\n",
       "  'asylum',\n",
       "  'chamber',\n",
       "  ')',\n",
       "  'appeal',\n",
       "  'number',\n",
       "  ':'],\n",
       " ['pa/00240/2019',\n",
       "  'immigration',\n",
       "  'act',\n",
       "  'hear',\n",
       "  'birmingham',\n",
       "  'cjc',\n",
       "  'decision',\n",
       "  '&',\n",
       "  'reason',\n",
       "  'promulgate',\n",
       "  '21',\n",
       "  'november',\n",
       "  '2019'],\n",
       " ['8', 'november', '2019', 'deputy', 'upper', 'tribunal', 'judge'],\n",
       " ['o’ryan',\n",
       "  'mr',\n",
       "  '(',\n",
       "  'anonymity',\n",
       "  'direction',\n",
       "  'make',\n",
       "  ')',\n",
       "  'appellant',\n",
       "  'secretary',\n",
       "  'state',\n",
       "  'home',\n",
       "  'department',\n",
       "  'respondent',\n",
       "  'representation',\n",
       "  ':'],\n",
       " ['appellant', ':'],\n",
       " ['mr',\n",
       "  'sharif',\n",
       "  ',',\n",
       "  'fountain',\n",
       "  'solicitor',\n",
       "  'respondent',\n",
       "  ':',\n",
       "  'mr',\n",
       "  'mills',\n",
       "  ',',\n",
       "  'senior',\n",
       "  'home',\n",
       "  'office',\n",
       "  'present',\n",
       "  'officer',\n",
       "  'decision',\n",
       "  'reason',\n",
       "  '1',\n",
       "  '.'],\n",
       " ['appellant',\n",
       "  '’s',\n",
       "  'appeal',\n",
       "  'decision',\n",
       "  'judge',\n",
       "  'first',\n",
       "  '-',\n",
       "  'tier',\n",
       "  'tribunal',\n",
       "  'boylan',\n",
       "  '-',\n",
       "  'kemp',\n",
       "  'mbe',\n",
       "  'date',\n",
       "  '2',\n",
       "  'may',\n",
       "  '2019',\n",
       "  'dismiss',\n",
       "  'appellant',\n",
       "  '’s'],\n",
       " ['appeal',\n",
       "  'respondent',\n",
       "  '’s',\n",
       "  'decision',\n",
       "  '23',\n",
       "  'november',\n",
       "  '2018',\n",
       "  'refuse',\n",
       "  'human',\n",
       "  'right',\n",
       "  'protection',\n",
       "  'claim',\n",
       "  '.'],\n",
       " ['©'],\n",
       " ['crown', 'copyright', '2019appeal', 'number', ':'],\n",
       " ['pa/00240/2019', '2', '.'],\n",
       " ['appellant',\n",
       "  'national',\n",
       "  'iraq',\n",
       "  'kurdish',\n",
       "  'origin',\n",
       "  'sulamaniyah',\n",
       "  'ikr',\n",
       "  '.'],\n",
       " ['give',\n",
       "  'account',\n",
       "  'risk',\n",
       "  'serious',\n",
       "  'harm',\n",
       "  'ikr',\n",
       "  'reason',\n",
       "  'family',\n",
       "  'extend',\n",
       "  'tribe',\n",
       "  'feud',\n",
       "  'another',\n",
       "  'tribe',\n",
       "  'ikr',\n",
       "  '.'],\n",
       " ['appellant', 'able', 'give', 'many', 'detail', 'origin', 'feud'],\n",
       " ['state',\n",
       "  'one',\n",
       "  'family',\n",
       "  'member',\n",
       "  'kill',\n",
       "  'result',\n",
       "  'experience',\n",
       "  'two',\n",
       "  'incident',\n",
       "  ';',\n",
       "  'one',\n",
       "  'unknown',\n",
       "  'person',\n",
       "  'fire',\n",
       "  'upon',\n",
       "  'car',\n",
       "  'travel',\n",
       "  'cousin',\n",
       "  'injure',\n",
       "  'shoulder',\n",
       "  ',',\n",
       "  'another',\n",
       "  'occasion',\n",
       "  'house',\n",
       "  'live',\n",
       "  'fire',\n",
       "  'upon',\n",
       "  '.'],\n",
       " ['3', '.'],\n",
       " ['respondent',\n",
       "  'decision',\n",
       "  'refusing',\n",
       "  'protection',\n",
       "  'claim',\n",
       "  'disbelieve',\n",
       "  'appellant',\n",
       "  '’s',\n",
       "  'account',\n",
       "  'feud',\n",
       "  'ground'],\n",
       " ['appellant', 'know', 'detail', 'allege', 'feud', '.'],\n",
       " ['also',\n",
       "  'say',\n",
       "  'discrepancy',\n",
       "  'appellant',\n",
       "  '’s',\n",
       "  'evidence',\n",
       "  'interview',\n",
       "  'many',\n",
       "  'occasion',\n",
       "  'appellant',\n",
       "  'experience',\n",
       "  'problem',\n",
       "  '(',\n",
       "  'refusal',\n",
       "  'letter',\n",
       "  ',',\n",
       "  'para',\n",
       "  '[',\n",
       "  '26',\n",
       "  ']',\n",
       "  ')'],\n",
       " ['discrepancy',\n",
       "  'allege',\n",
       "  'fear',\n",
       "  'father',\n",
       "  '(',\n",
       "  'result',\n",
       "  'appellant',\n",
       "  'refuse',\n",
       "  'take',\n",
       "  'part',\n",
       "  'feud',\n",
       "  ')',\n",
       "  'information',\n",
       "  'give',\n",
       "  'age',\n",
       "  'assessment',\n",
       "  'interview',\n",
       "  'state',\n",
       "  'good',\n",
       "  'relationship',\n",
       "  'family',\n",
       "  'member',\n",
       "  '(',\n",
       "  'para',\n",
       "  '[',\n",
       "  '31',\n",
       "  ']',\n",
       "  ')',\n",
       "  '.'],\n",
       " ['4', '.'],\n",
       " ['appellant',\n",
       "  'appeal',\n",
       "  'decision',\n",
       "  'matter',\n",
       "  'come',\n",
       "  'judge',\n",
       "  'birmingham',\n",
       "  'hear',\n",
       "  'centre',\n",
       "  '18',\n",
       "  'march',\n",
       "  '2019',\n",
       "  '.'],\n",
       " ['appellant', 'represent', 'give', 'evidence', '.'],\n",
       " ['date', 'hearing', 'appellant', 'would', '18', 'year', 'age', '.'],\n",
       " ['document',\n",
       "  'rely',\n",
       "  'upon',\n",
       "  'respondent',\n",
       "  'hearing',\n",
       "  ',',\n",
       "  'eurodac',\n",
       "  'search',\n",
       "  'result',\n",
       "  ',',\n",
       "  'demonstrate',\n",
       "  'person',\n",
       "  'appellant',\n",
       "  '’s',\n",
       "  'identity',\n",
       "  'fingerprint',\n",
       "  'dresden',\n",
       "  'germany',\n",
       "  '22',\n",
       "  'march',\n",
       "  '2016',\n",
       "  '.'],\n",
       " ['appellant',\n",
       "  '’s',\n",
       "  'account',\n",
       "  'give',\n",
       "  'sef',\n",
       "  'interview',\n",
       "  'confirm',\n",
       "  'oral',\n",
       "  'evidence',\n",
       "  'judge',\n",
       "  'leave',\n",
       "  'iraq',\n",
       "  'december',\n",
       "  '2017',\n",
       "  '.'],\n",
       " ['appellant',\n",
       "  'deny',\n",
       "  'judge',\n",
       "  'person',\n",
       "  'identify',\n",
       "  'eurodac',\n",
       "  'search',\n",
       "  'judge',\n",
       "  'state',\n",
       "  'satisfied',\n",
       "  'detail',\n",
       "  'contain',\n",
       "  'within',\n",
       "  'document',\n",
       "  ',',\n",
       "  'look',\n",
       "  'clear',\n",
       "  'photograph',\n",
       "  'eurodac',\n",
       "  'match',\n",
       "  ','],\n",
       " ['person', 'fingerprint', 'germany'],\n",
       " ['indeed', 'appellant', '.'],\n",
       " ['5', '.'],\n",
       " ['judge', 'find', 'paragraph', '14', 'onwards', 'follow', ':', '\"'],\n",
       " ['16', '.'],\n",
       " ['evidence', 'provide', 'eurodac', 'document', 'unequivocal', '.'],\n",
       " ['photograph',\n",
       "  'contain',\n",
       "  'within',\n",
       "  'document',\n",
       "  'clearly',\n",
       "  'appellant',\n",
       "  'appear',\n",
       "  'reason'],\n",
       " ['doubt', 'document', 'relate', '-PRON-', '.'],\n",
       " ['therefore',\n",
       "  'document',\n",
       "  'upon',\n",
       "  'satisfied',\n",
       "  'place',\n",
       "  'significant',\n",
       "  'weight',\n",
       "  'put',\n",
       "  'germany',\n",
       "  '22',\n",
       "  'march',\n",
       "  '2016',\n",
       "  '.'],\n",
       " ['consequently', 'find', 'evidence', 'undermine'],\n",
       " ['credibility',\n",
       "  'entire',\n",
       "  'account',\n",
       "  'credibility',\n",
       "  'witness',\n",
       "  'cause',\n",
       "  'render',\n",
       "  'entire',\n",
       "  'account',\n",
       "  'unreliable',\n",
       "  '.'],\n",
       " ['2appeal', 'number', ':'],\n",
       " ['pa/00240/2019', '17', '.'],\n",
       " ['also',\n",
       "  'find',\n",
       "  'inability',\n",
       "  'recall',\n",
       "  'detail',\n",
       "  'allege',\n",
       "  'feud',\n",
       "  'cause',\n",
       "  'leave',\n",
       "  'family',\n",
       "  'flee',\n",
       "  'country',\n",
       "  'also',\n",
       "  'credible',\n",
       "  '.'],\n",
       " ['young',\n",
       "  'man',\n",
       "  'leave',\n",
       "  'life',\n",
       "  'behind',\n",
       "  'reluctance',\n",
       "  'become',\n",
       "  'involve',\n",
       "  'ongoing',\n",
       "  'family',\n",
       "  'feud',\n",
       "  'would',\n",
       "  'anticipate',\n",
       "  'would',\n",
       "  'knowledge',\n",
       "  'fear',\n",
       "  'find',\n",
       "  'plausible'],\n",
       " ['would', 'know', 'detail', 'feud', 'hold', 'genuine', 'fear', '.'],\n",
       " ['also',\n",
       "  'note',\n",
       "  'even',\n",
       "  'evidence',\n",
       "  'specific',\n",
       "  'risk',\n",
       "  'threat',\n",
       "  'make',\n",
       "  'would',\n",
       "  'cause',\n",
       "  'fear',\n",
       "  'safety',\n",
       "  'beyond',\n",
       "  'general',\n",
       "  'tribal',\n",
       "  'threat',\n",
       "  'can',\n",
       "  'not',\n",
       "  'provide',\n",
       "  'much',\n",
       "  'detail',\n",
       "  '.',\n",
       "  '...'],\n",
       " ['18', '.'],\n",
       " ['find',\n",
       "  'appellant',\n",
       "  '’s',\n",
       "  'alleged',\n",
       "  'reasoning',\n",
       "  'leave',\n",
       "  'iraq',\n",
       "  'credible',\n",
       "  'also',\n",
       "  'find',\n",
       "  'plausible',\n",
       "  'family',\n",
       "  'consequently',\n",
       "  'threaten',\n",
       "  'claim',\n",
       "  'due',\n",
       "  'alleged',\n",
       "  'desertion',\n",
       "  'allege',\n",
       "  'feud',\n",
       "  '.'],\n",
       " ['instead',\n",
       "  'find',\n",
       "  'travel',\n",
       "  'uk',\n",
       "  'assistance',\n",
       "  'knowledge',\n",
       "  'family',\n",
       "  'reason',\n",
       "  'escape',\n",
       "  'risk',\n",
       "  'persecution',\n",
       "  '.'],\n",
       " ['find',\n",
       "  'family',\n",
       "  'would',\n",
       "  'therefore',\n",
       "  'able',\n",
       "  'assist',\n",
       "  'obtain',\n",
       "  'copy',\n",
       "  'identification',\n",
       "  'document',\n",
       "  'csid',\n",
       "  'would',\n",
       "  'help',\n",
       "  'facilitate',\n",
       "  'return',\n",
       "  'iraq',\n",
       "  '.'],\n",
       " ['also',\n",
       "  'find',\n",
       "  'would',\n",
       "  'able',\n",
       "  'return',\n",
       "  'help',\n",
       "  'support',\n",
       "  'family',\n",
       "  'there',\n",
       "  '.',\n",
       "  '\"'],\n",
       " ['judge', 'dismiss', 'appellant', '’s', 'appeal', '.'],\n",
       " ['6', '.'],\n",
       " ['appellant', 'appeal', 'upper', 'tribunal', 'ground', 'date', '15'],\n",
       " ['may',\n",
       "  '2019',\n",
       "  'argue',\n",
       "  'briefly',\n",
       "  'judge',\n",
       "  'erred',\n",
       "  'law',\n",
       "  'paragraph',\n",
       "  '15',\n",
       "  '20',\n",
       "  'give',\n",
       "  'inadequate',\n",
       "  'reasoning',\n",
       "  'finding',\n",
       "  'appellant',\n",
       "  '’s',\n",
       "  'account',\n",
       "  'credible',\n",
       "  'secondly',\n",
       "  'judge',\n",
       "  'fail',\n",
       "  'apply',\n",
       "  'relevant',\n",
       "  'country',\n",
       "  'guidance',\n",
       "  '.'],\n",
       " ['7', '.'],\n",
       " ['permission',\n",
       "  'appeal',\n",
       "  'grant',\n",
       "  'judge',\n",
       "  'first',\n",
       "  '-',\n",
       "  'tier',\n",
       "  'tribunal',\n",
       "  'keane',\n",
       "  '24',\n",
       "  'june',\n",
       "  '2019',\n",
       "  '.'],\n",
       " ['judge',\n",
       "  'state',\n",
       "  'follow',\n",
       "  ':',\n",
       "  '\"',\n",
       "  'the',\n",
       "  'judge',\n",
       "  'arguably',\n",
       "  'regard',\n",
       "  'irrelevant',\n",
       "  'consideration',\n",
       "  'find',\n",
       "  'appellant',\n",
       "  'give',\n",
       "  'credible',\n",
       "  'account',\n",
       "  'event',\n",
       "  '.'],\n",
       " ['judge',\n",
       "  '’s',\n",
       "  'finding',\n",
       "  'credibility',\n",
       "  'find',\n",
       "  'paragraph',\n",
       "  '15',\n",
       "  '18',\n",
       "  'inclusive',\n",
       "  'decision',\n",
       "  '.'],\n",
       " ['paragraph', '15', 'judge', 'attach', 'weight', 'undermine'],\n",
       " ['appellant',\n",
       "  '’s',\n",
       "  'credibility',\n",
       "  'eurodac',\n",
       "  'printout',\n",
       "  'provide',\n",
       "  'respondent',\n",
       "  'judge',\n",
       "  'find',\n",
       "  'prove',\n",
       "  'appellant',\n",
       "  'photographed',\n",
       "  'print',\n",
       "  'germany',\n",
       "  '22',\n",
       "  'march',\n",
       "  '2016',\n",
       "  '.'],\n",
       " ['judge',\n",
       "  'however',\n",
       "  'explain',\n",
       "  'circumstance',\n",
       "  'damage',\n",
       "  'appellant',\n",
       "  '’s',\n",
       "  'credibility',\n",
       "  '.'],\n",
       " ['judge', 'mind'],\n",
       " ['appellant', '’s', 'apparent', 'failure'],\n",
       " ['claim'],\n",
       " ['asylum', 'germany', 'judge', 'arguably', 'state', 'so', '.'],\n",
       " ['paragraph',\n",
       "  '16',\n",
       "  'decision',\n",
       "  'judge',\n",
       "  'accord',\n",
       "  'weight',\n",
       "  'eurodac',\n",
       "  'document',\n",
       "  'without',\n",
       "  'state',\n",
       "  'why',\n",
       "  '.'],\n",
       " ['paragraph', '17', 'decision'],\n",
       " ['3appeal', 'number', ':'],\n",
       " ['pa/00240/2019',\n",
       "  'judge',\n",
       "  'state',\n",
       "  'judge',\n",
       "  'would',\n",
       "  'anticipate',\n",
       "  'appellant',\n",
       "  'would',\n",
       "  'knowledge'],\n",
       " ['alleged',\n",
       "  'feud',\n",
       "  'case',\n",
       "  'cause',\n",
       "  'leave',\n",
       "  'family',\n",
       "  'indeed',\n",
       "  'country',\n",
       "  '.'],\n",
       " ['judge',\n",
       "  'arguably',\n",
       "  'substitute',\n",
       "  'understanding',\n",
       "  'constitute',\n",
       "  'reasonable',\n",
       "  'conduct',\n",
       "  'circumstance',\n",
       "  'arguably',\n",
       "  'do',\n",
       "  'so',\n",
       "  '.'],\n",
       " ['paragraph',\n",
       "  '18',\n",
       "  'judge',\n",
       "  'state',\n",
       "  'plausible',\n",
       "  'appellant',\n",
       "  '’s',\n",
       "  'family',\n",
       "  'consequently',\n",
       "  'threaten',\n",
       "  'account',\n",
       "  'ostensible',\n",
       "  'desertion',\n",
       "  'judge',\n",
       "  'arguably',\n",
       "  'disbelieve',\n",
       "  'appellant',\n",
       "  '’s',\n",
       "  'account',\n",
       "  'without',\n",
       "  'provide',\n",
       "  'adequate',\n",
       "  'reason',\n",
       "  '.'],\n",
       " ['incumbent',\n",
       "  'judge',\n",
       "  'resolve',\n",
       "  'issue',\n",
       "  'credibility',\n",
       "  'embark',\n",
       "  'upon',\n",
       "  'global',\n",
       "  'assessment'],\n",
       " ['appellant',\n",
       "  '’s',\n",
       "  'credibility',\n",
       "  'provide',\n",
       "  'adequate',\n",
       "  'reason',\n",
       "  'support',\n",
       "  'find',\n",
       "  'do',\n",
       "  'so',\n",
       "  '.'],\n",
       " ['judge', 'arguably', 'fail', 'do', '.', '\"'],\n",
       " ['submission', '8', '.'],\n",
       " ['mr',\n",
       "  'sharif',\n",
       "  'rely',\n",
       "  'upon',\n",
       "  'ground',\n",
       "  'appeal',\n",
       "  'admittedly',\n",
       "  'extensive',\n",
       "  'grant',\n",
       "  'permission',\n",
       "  'appeal',\n",
       "  'support',\n",
       "  'appellant',\n",
       "  '’s',\n",
       "  'case',\n",
       "  '.'],\n",
       " ['9', '.'],\n",
       " ['mr',\n",
       "  'sharif',\n",
       "  'points',\n",
       "  'date',\n",
       "  'give',\n",
       "  'appellant',\n",
       "  '’s',\n",
       "  'account',\n",
       "  'particular',\n",
       "  'incident',\n",
       "  'relation',\n",
       "  'incident',\n",
       "  'car',\n",
       "  'appellant',\n",
       "  'travel',\n",
       "  'shoot',\n",
       "  'at',\n",
       "  '.'],\n",
       " ['date', 'find', 'sef', 'interview', '[', '86', ']'],\n",
       " ['simply', \"'\", '2016', \"'\", '.'],\n",
       " ['appellant',\n",
       "  'give',\n",
       "  'date',\n",
       "  'matter',\n",
       "  'rely',\n",
       "  'upon',\n",
       "  'support',\n",
       "  'proposition',\n",
       "  'risk',\n",
       "  'blood',\n",
       "  'feud',\n",
       "  'iraq',\n",
       "  '.'],\n",
       " ['however',\n",
       "  'consistently',\n",
       "  'state',\n",
       "  'leave',\n",
       "  'iraq',\n",
       "  'december',\n",
       "  '2017',\n",
       "  '.'],\n",
       " ['mr',\n",
       "  'sharif',\n",
       "  'argue',\n",
       "  'appellant',\n",
       "  'accept',\n",
       "  'course',\n",
       "  'evidence',\n",
       "  'travel',\n",
       "  'germany',\n",
       "  'therefore',\n",
       "  'evidence',\n",
       "  'eurodac',\n",
       "  'search',\n",
       "  'confirm',\n",
       "  'alter',\n",
       "  'credibility',\n",
       "  'appellant',\n",
       "  '’s',\n",
       "  'account',\n",
       "  '.'],\n",
       " ['mr',\n",
       "  'sharif',\n",
       "  'also',\n",
       "  'argue',\n",
       "  'judge',\n",
       "  '’s',\n",
       "  'finding',\n",
       "  'relation',\n",
       "  'incredible',\n",
       "  'appellant',\n",
       "  'would',\n",
       "  'knowledge',\n",
       "  'detail',\n",
       "  'feud',\n",
       "  'irrational',\n",
       "  'find',\n",
       "  'part',\n",
       "  'judge',\n",
       "  '.'],\n",
       " ['10', '.'],\n",
       " ['part'],\n",
       " ['mr', 'mills', 'defend', 'judge', '’s'],\n",
       " ['decision',\n",
       "  'argue',\n",
       "  'dishonest',\n",
       "  'statement',\n",
       "  'appellant',\n",
       "  'remain',\n",
       "  'december',\n",
       "  '2017',\n",
       "  'clearly',\n",
       "  'capable',\n",
       "  'affect',\n",
       "  'credibility',\n",
       "  'appellant',\n",
       "  '’s',\n",
       "  'account',\n",
       "  '.'],\n",
       " ['raise',\n",
       "  'whether',\n",
       "  'discrepancy',\n",
       "  'could',\n",
       "  'treat',\n",
       "  'determinative',\n",
       "  'account',\n",
       "  'give',\n",
       "  'date',\n",
       "  'give',\n",
       "  'appellant',\n",
       "  '’s',\n",
       "  'account',\n",
       "  'matter',\n",
       "  'occur',\n",
       "  'iraq',\n",
       "  'later',\n",
       "  '22',\n",
       "  'march',\n",
       "  '2016',\n",
       "  '.'],\n",
       " ['mr', 'mills', 'appear', 'accept'],\n",
       " ['right',\n",
       "  'say',\n",
       "  'appellant',\n",
       "  '’s',\n",
       "  'credibility',\n",
       "  'determinatively',\n",
       "  'decide',\n",
       "  'discrepancy',\n",
       "  'whereabouts',\n",
       "  'march',\n",
       "  '2016',\n",
       "  '.'],\n",
       " ['however',\n",
       "  'mr',\n",
       "  'mills',\n",
       "  'points',\n",
       "  'finding',\n",
       "  'paragraph',\n",
       "  '17',\n",
       "  'support',\n",
       "  'judge',\n",
       "  '’s',\n",
       "  'reasoning',\n",
       "  '.'],\n",
       " ['discussion', '11', '.'],\n",
       " ['find', 'material', 'error', 'law', 'judge', '’s', 'decision', '.'],\n",
       " ['suggestion', 'grant', 'permission', 'appeal', 'judge', 'keane', 'judge'],\n",
       " ['4appeal', 'number', ':'],\n",
       " ['pa/00240/2019',\n",
       "  'arguably',\n",
       "  'regard',\n",
       "  'irrelevant',\n",
       "  'consideration',\n",
       "  'difficult',\n",
       "  'sustain',\n",
       "  '.'],\n",
       " ['appellant',\n",
       "  'clearly',\n",
       "  'give',\n",
       "  'inconsistent',\n",
       "  'evidence',\n",
       "  'whereabouts',\n",
       "  ',',\n",
       "  'one',\n",
       "  'part',\n",
       "  'insist',\n",
       "  'remain',\n",
       "  'iraq',\n",
       "  'december',\n",
       "  '2017',\n",
       "  'incontrovertible',\n",
       "  'evidence',\n",
       "  'exist',\n",
       "  'eurodac',\n",
       "  'search',\n",
       "  'result',\n",
       "  'present',\n",
       "  'germany',\n",
       "  '22',\n",
       "  'march',\n",
       "  '2016',\n",
       "  '.'],\n",
       " ['two', 'item', 'evidence', 'simply', 'can', 'not', 'sit', 'together', '.'],\n",
       " ['true',\n",
       "  'detail',\n",
       "  'appellant',\n",
       "  '’s',\n",
       "  'account',\n",
       "  'incident',\n",
       "  'set',\n",
       "  'date',\n",
       "  'later',\n",
       "  '22',\n",
       "  'march',\n",
       "  '2016',\n",
       "  ',',\n",
       "  'therefore',\n",
       "  'shoot',\n",
       "  \"'\",\n",
       "  '2016',\n",
       "  \"'\",\n",
       "  'depart',\n",
       "  'iraq',\n",
       "  'prior',\n",
       "  '22',\n",
       "  'march',\n",
       "  '2016',\n",
       "  'necessarily',\n",
       "  'make',\n",
       "  'account',\n",
       "  'impossible',\n",
       "  'believe',\n",
       "  ','],\n",
       " ['clearly',\n",
       "  'significant',\n",
       "  'matter',\n",
       "  'appellant',\n",
       "  'lie',\n",
       "  'continued',\n",
       "  'presence',\n",
       "  'iraq',\n",
       "  'point',\n",
       "  'december',\n",
       "  '2017',\n",
       "  'judge',\n",
       "  'fully',\n",
       "  'entitle',\n",
       "  'treat',\n",
       "  'significant',\n",
       "  'matter',\n",
       "  '.'],\n",
       " ['whether',\n",
       "  'entitled',\n",
       "  'treat',\n",
       "  'render',\n",
       "  \"'\",\n",
       "  '-PRON-',\n",
       "  'entire',\n",
       "  'account',\n",
       "  'unreliable',\n",
       "  \"'\",\n",
       "  'moot',\n",
       "  '.',\n",
       "  '12',\n",
       "  '.'],\n",
       " ['however',\n",
       "  'judge',\n",
       "  'stop',\n",
       "  'credibility',\n",
       "  'finding',\n",
       "  'continue',\n",
       "  ',',\n",
       "  'clear',\n",
       "  'paragraph',\n",
       "  '17',\n",
       "  ',',\n",
       "  'set',\n",
       "  'reason',\n",
       "  'find',\n",
       "  'appellant',\n",
       "  '’s',\n",
       "  'account',\n",
       "  'incredible',\n",
       "  '.'],\n",
       " ['whereas',\n",
       "  'may',\n",
       "  'expect',\n",
       "  'young',\n",
       "  'person',\n",
       "  'may',\n",
       "  'fully',\n",
       "  'inform',\n",
       "  'detail',\n",
       "  'feud',\n",
       "  'affect',\n",
       "  'family',\n",
       "  'wide',\n",
       "  'tribe',\n",
       "  'may',\n",
       "  'fully',\n",
       "  '-',\n",
       "  'grow',\n",
       "  'adult',\n",
       "  ',',\n",
       "  'judge',\n",
       "  '’s',\n",
       "  'point',\n",
       "  'appellant',\n",
       "  'decide',\n",
       "  ',',\n",
       "  'together',\n",
       "  'assistance',\n",
       "  'relative',\n",
       "  ',',\n",
       "  'leave',\n",
       "  'iraq',\n",
       "  'feud',\n",
       "  'judge'],\n",
       " ['entitle', 'find', 'implausible', 'appellant'],\n",
       " ['know',\n",
       "  'little',\n",
       "  'feud',\n",
       "  'whereas',\n",
       "  'specific',\n",
       "  'cause',\n",
       "  'decision',\n",
       "  'leave',\n",
       "  'country',\n",
       "  '.'],\n",
       " ['find', 'irrational', 'judge', 'make', 'finding', 'paragraph', '17', '.'],\n",
       " ['number',\n",
       "  'reason',\n",
       "  'therefore',\n",
       "  'give',\n",
       "  'judge',\n",
       "  'find',\n",
       "  'appellant',\n",
       "  '’s',\n",
       "  'account',\n",
       "  'incredible'],\n",
       " ['find', 'none', 'reason', 'vitiate', 'error', 'law', '.'],\n",
       " ['13', '.'],\n",
       " ['judge',\n",
       "  'keane',\n",
       "  'grant',\n",
       "  'permission',\n",
       "  'comment',\n",
       "  'upon',\n",
       "  'appellant',\n",
       "  '’s',\n",
       "  'actual',\n",
       "  'second',\n",
       "  'ground',\n",
       "  'judge',\n",
       "  'fail',\n",
       "  'apply',\n",
       "  'country',\n",
       "  'guidance',\n",
       "  'relevant',\n",
       "  'issue',\n",
       "  'obtain',\n",
       "  'document',\n",
       "  'readmission',\n",
       "  'residence',\n",
       "  'iraq',\n",
       "  '.'],\n",
       " ['however',\n",
       "  'light',\n",
       "  'decision',\n",
       "  'judge',\n",
       "  '’s',\n",
       "  'credibility',\n",
       "  'finding',\n",
       "  'sustainable',\n",
       "  'also',\n",
       "  'sustainable',\n",
       "  'appellant',\n",
       "  'assistance',\n",
       "  'family',\n",
       "  'member'],\n",
       " ['iraq',\n",
       "  'obtain',\n",
       "  'replacement',\n",
       "  'document',\n",
       "  'need',\n",
       "  'facilitate',\n",
       "  'return',\n",
       "  'to',\n",
       "  ',',\n",
       "  'residence',\n",
       "  'iraq',\n",
       "  '.'],\n",
       " ['notice',\n",
       "  'decision',\n",
       "  'judge',\n",
       "  '’s',\n",
       "  'decision',\n",
       "  'involve',\n",
       "  'make',\n",
       "  'material',\n",
       "  'error',\n",
       "  'law',\n",
       "  '.'],\n",
       " ['set', 'aside', 'decision', '.'],\n",
       " ['appellant', '’s', 'appeal', 'dismiss', '.'],\n",
       " ['sign', 'date'],\n",
       " ['20.11.19'],\n",
       " ['5appeal', 'number', ':'],\n",
       " ['pa/00240/2019', 'deputy', 'upper', 'tribunal', 'judge'],\n",
       " ['o’ryan',\n",
       "  'direction',\n",
       "  'regard',\n",
       "  'anonymity',\n",
       "  '–',\n",
       "  'rule',\n",
       "  '14',\n",
       "  'tribunal',\n",
       "  'procedure',\n",
       "  '(',\n",
       "  'upper',\n",
       "  'tribunal',\n",
       "  ')',\n",
       "  'rule',\n",
       "  '2008',\n",
       "  'unless',\n",
       "  'tribunal',\n",
       "  'court',\n",
       "  'direct',\n",
       "  'otherwise',\n",
       "  ',',\n",
       "  'appellant',\n",
       "  'grant',\n",
       "  'anonymity',\n",
       "  '.'],\n",
       " ['report',\n",
       "  'proceeding',\n",
       "  'shall',\n",
       "  'directly',\n",
       "  'indirectly',\n",
       "  'identify',\n",
       "  'member',\n",
       "  'family',\n",
       "  '.'],\n",
       " ['direction', 'apply', 'appellant', 'respondent', '.'],\n",
       " ['failure',\n",
       "  'comply',\n",
       "  'direction',\n",
       "  'could',\n",
       "  'lead',\n",
       "  'contempt',\n",
       "  'court',\n",
       "  'proceeding',\n",
       "  '.'],\n",
       " ['sign', 'date', '20.11.19', 'deputy', 'upper', 'tribunal', 'judge'],\n",
       " ['o’ryan',\n",
       "  '6',\n",
       "  'upper',\n",
       "  'tribunal',\n",
       "  '(',\n",
       "  'immigration',\n",
       "  'asylum',\n",
       "  'chamber',\n",
       "  ')',\n",
       "  'appeal',\n",
       "  'number',\n",
       "  ':'],\n",
       " ['pa/05945/2018',\n",
       "  'immigration',\n",
       "  'act',\n",
       "  'hear',\n",
       "  'birmingham',\n",
       "  'cjc',\n",
       "  '5',\n",
       "  'th',\n",
       "  'july',\n",
       "  '2019',\n",
       "  'decision',\n",
       "  '&',\n",
       "  'reason',\n",
       "  'promulgate',\n",
       "  '19',\n",
       "  'th',\n",
       "  'august',\n",
       "  '2019',\n",
       "  'deputy',\n",
       "  'upper',\n",
       "  'tribunal',\n",
       "  'judge',\n",
       "  'juss',\n",
       "  'ha',\n",
       "  '('],\n",
       " ['anonymity',\n",
       "  'direction',\n",
       "  'make',\n",
       "  ')',\n",
       "  'appellant',\n",
       "  'secretary',\n",
       "  'state',\n",
       "  'home',\n",
       "  'department',\n",
       "  'respondent',\n",
       "  'representation',\n",
       "  ':'],\n",
       " ['appellant', ':'],\n",
       " ['mr', 'j', 'howard', '(', 'solicitor', ')'],\n",
       " ['respondent', ':'],\n",
       " ['mr', 'mills', '(', 'senior', 'hopo', ')', 'decision', 'reason', '1', '.'],\n",
       " ['appeal',\n",
       "  'determination',\n",
       "  'first',\n",
       "  '-',\n",
       "  'tier',\n",
       "  'tribunal',\n",
       "  'judge',\n",
       "  'pacey',\n",
       "  ',',\n",
       "  'promulgate',\n",
       "  '24',\n",
       "  'th',\n",
       "  'june',\n",
       "  '2018',\n",
       "  ',',\n",
       "  'follow',\n",
       "  'hear',\n",
       "  'birmingham',\n",
       "  '6',\n",
       "  'th',\n",
       "  'june',\n",
       "  '2018',\n",
       "  '.'],\n",
       " ['determination',\n",
       "  ',',\n",
       "  'judge',\n",
       "  'dismiss',\n",
       "  'appeal',\n",
       "  'appellant',\n",
       "  ',',\n",
       "  'whereupon',\n",
       "  'appellant',\n",
       "  'subsequently',\n",
       "  'apply',\n",
       "  'for',\n",
       "  ',',\n",
       "  'grant',\n",
       "  ',',\n",
       "  'permission',\n",
       "  'appeal',\n",
       "  'upper',\n",
       "  'tribunal',\n",
       "  ',',\n",
       "  'thus',\n",
       "  'matter',\n",
       "  'come',\n",
       "  '-PRON-',\n",
       "  '.'],\n",
       " ['appellant', '©', 'crown', 'copyright', '2019appeal', 'number', ':'],\n",
       " ['pa/05945/2018'],\n",
       " ['2', '.'],\n",
       " ['appellant',\n",
       "  'male',\n",
       "  ',',\n",
       "  'citizen',\n",
       "  'iran',\n",
       "  ',',\n",
       "  'bear',\n",
       "  '22',\n",
       "  'nd',\n",
       "  'july',\n",
       "  '1996',\n",
       "  '.'],\n",
       " ['appeal', 'decision', 'respondent', 'date', '24', 'th', 'april', '2018'],\n",
       " ['refusing',\n",
       "  'claim',\n",
       "  'asylum',\n",
       "  'humanitarian',\n",
       "  'protection',\n",
       "  'pursuant',\n",
       "  'paragraph',\n",
       "  '339c',\n",
       "  'hc',\n",
       "  '395',\n",
       "  '.'],\n",
       " ['appellant', '’s', 'claim', '3', '.'],\n",
       " ['essence'],\n",
       " ['appellant', '’s'],\n",
       " ['claim', 'member', 'particular', 'social', 'group'],\n",
       " [',',\n",
       "  'gay',\n",
       "  'iranian',\n",
       "  'man',\n",
       "  'would',\n",
       "  'face',\n",
       "  'persecution',\n",
       "  'return',\n",
       "  ',',\n",
       "  'additionally',\n",
       "  'also',\n",
       "  'atheist',\n",
       "  ',',\n",
       "  'would',\n",
       "  'ill',\n",
       "  '-',\n",
       "  'treat',\n",
       "  'upon',\n",
       "  'return',\n",
       "  'non',\n",
       "  '-',\n",
       "  'religious',\n",
       "  'person',\n",
       "  ',',\n",
       "  'forbid',\n",
       "  'iran',\n",
       "  '.'],\n",
       " ['judge', '’s', 'finding', '4', '.'],\n",
       " ['judge', 'note'],\n",
       " ['appellant',\n",
       "  'screening',\n",
       "  'interview',\n",
       "  'say',\n",
       "  'hold',\n",
       "  'religion',\n",
       "  'would',\n",
       "  'subject',\n",
       "  'persecution',\n",
       "  'non-'],\n",
       " ['religious', 'person', 'return', 'iran', '.'],\n",
       " ['make', 'mention', 'stage', 'also', 'gay', 'person', '.'],\n",
       " ['asylum',\n",
       "  'interview',\n",
       "  ',',\n",
       "  'however',\n",
       "  ',',\n",
       "  'state',\n",
       "  'danger',\n",
       "  'also',\n",
       "  'homosexual',\n",
       "  'fear',\n",
       "  'government',\n",
       "  'give',\n",
       "  'homosexuality',\n",
       "  'punishable',\n",
       "  'death',\n",
       "  '.'],\n",
       " ['mention',\n",
       "  'screening',\n",
       "  'interview',\n",
       "  'know',\n",
       "  'anything',\n",
       "  'country',\n",
       "  'come',\n",
       "  'to',\n",
       "  '.'],\n",
       " ['appellant',\n",
       "  'explain',\n",
       "  'boyfriend',\n",
       "  'uk',\n",
       "  'name',\n",
       "  '[',\n",
       "  'fs',\n",
       "  ']',\n",
       "  ',',\n",
       "  'relationship',\n",
       "  'one',\n",
       "  'half',\n",
       "  'month',\n",
       "  '.'],\n",
       " ['also',\n",
       "  'three',\n",
       "  'serious',\n",
       "  'relationship',\n",
       "  'go',\n",
       "  'describe',\n",
       "  'evidence',\n",
       "  'tribunal',\n",
       "  '.'],\n",
       " ['judge',\n",
       "  'find',\n",
       "  'appellant',\n",
       "  'credible',\n",
       "  'appellant',\n",
       "  '’s',\n",
       "  'explanation',\n",
       "  'mention',\n",
       "  'homosexuality',\n",
       "  'screening',\n",
       "  'interview',\n",
       "  ',',\n",
       "  'know',\n",
       "  'country',\n",
       "  'come',\n",
       "  'to',\n",
       "  ',',\n",
       "  'plausible',\n",
       "  '.'],\n",
       " ['judge',\n",
       "  'explain',\n",
       "  ',',\n",
       "  '\"',\n",
       "  'if',\n",
       "  'know',\n",
       "  'uk',\n",
       "  'approach',\n",
       "  'homosexuality',\n",
       "  '...',\n",
       "  'could',\n",
       "  'know',\n",
       "  'uk',\n",
       "  'adopt',\n",
       "  'punitive',\n",
       "  'approach',\n",
       "  'gay',\n",
       "  'people',\n",
       "  'iran',\n",
       "  '....',\n",
       "  'know',\n",
       "  'could',\n",
       "  'travel',\n",
       "  'fry',\n",
       "  'pan',\n",
       "  'fire',\n",
       "  '\"',\n",
       "  '(',\n",
       "  'paragraph',\n",
       "  '68',\n",
       "  ')',\n",
       "  '.'],\n",
       " ['5', '.'],\n",
       " ['hand',\n",
       "  ',',\n",
       "  'judge',\n",
       "  'observe',\n",
       "  'appellant',\n",
       "  'aware',\n",
       "  'actual',\n",
       "  'uk',\n",
       "  'approach',\n",
       "  'homosexuality',\n",
       "  ',',\n",
       "  '\"',\n",
       "  'then',\n",
       "  'reason',\n",
       "  'mention',\n",
       "  'sexuality',\n",
       "  'screening',\n",
       "  'interview',\n",
       "  '\"',\n",
       "  '(',\n",
       "  'paragraph',\n",
       "  '69',\n",
       "  ')',\n",
       "  '.'],\n",
       " ['6', '.'],\n",
       " ['judge', 'also', 'impress', 'witness', 'tribunal', '.'],\n",
       " ['short', ',', 'appellant', '’s', 'claim', 'reject', 'wholesale', '.'],\n",
       " ['appeal', 'dismiss', '.'],\n",
       " ['ground', 'application', '7', '.'],\n",
       " ['grounds',\n",
       "  'application',\n",
       "  'state',\n",
       "  'judge',\n",
       "  'engage',\n",
       "  'material',\n",
       "  'error',\n",
       "  'law',\n",
       "  'relation',\n",
       "  'evidence',\n",
       "  'miss',\n",
       "  '[',\n",
       "  'l',\n",
       "  ']'],\n",
       " ['mr',\n",
       "  '[',\n",
       "  's',\n",
       "  ']',\n",
       "  'whose',\n",
       "  'credibility',\n",
       "  'wrongly',\n",
       "  'impugn',\n",
       "  'judge',\n",
       "  '.'],\n",
       " ['apparently', 'discrepancy', 'oral', 'write', '2appeal', 'number', ':'],\n",
       " ['pa/05945/2018',\n",
       "  'evidence',\n",
       "  'miss',\n",
       "  '[',\n",
       "  'l',\n",
       "  ']',\n",
       "  ',',\n",
       "  'discrepancy',\n",
       "  'put',\n",
       "  'witness',\n",
       "  ',',\n",
       "  'contrary',\n",
       "  'rule',\n",
       "  'natural',\n",
       "  'justice',\n",
       "  '.'],\n",
       " ['8', '.'],\n",
       " ['23', 'rd', 'november', '2018', 'permission', 'appeal', 'grant', '.'],\n",
       " ['submission', '9', '.'],\n",
       " ['hear',\n",
       "  '5',\n",
       "  'th',\n",
       "  'july',\n",
       "  '2019',\n",
       "  ',',\n",
       "  'appellant',\n",
       "  'represent',\n",
       "  'mr',\n",
       "  'howard',\n",
       "  ',',\n",
       "  'adopt',\n",
       "  'ground',\n",
       "  'application',\n",
       "  '.'],\n",
       " ['submit',\n",
       "  'judge',\n",
       "  'concern',\n",
       "  'discrepancy',\n",
       "  'oral',\n",
       "  'write',\n",
       "  'evidence',\n",
       "  'miss',\n",
       "  '[',\n",
       "  'l',\n",
       "  ']',\n",
       "  ',',\n",
       "  'explore',\n",
       "  'tribunal',\n",
       "  ',',\n",
       "  'oral',\n",
       "  'evidence',\n",
       "  ',',\n",
       "  'miss',\n",
       "  '[',\n",
       "  'l',\n",
       "  ']',\n",
       "  'say',\n",
       "  '\"',\n",
       "  'not',\n",
       "  'meet',\n",
       "  '[',\n",
       "  'f',\n",
       "  ']',\n",
       "  '\"',\n",
       "  ',',\n",
       "  'whereas',\n",
       "  'write',\n",
       "  'evidence',\n",
       "  'say',\n",
       "  '\"',\n",
       "  '-PRON-',\n",
       "  'also',\n",
       "  'know',\n",
       "  'previous',\n",
       "  'partner',\n",
       "  ',',\n",
       "  '[',\n",
       "  'f',\n",
       "  ']',\n",
       "  '\"',\n",
       "  '(',\n",
       "  'paragraph',\n",
       "  '34',\n",
       "  ')',\n",
       "  '.'],\n",
       " ['secondly', ',', 'mr', 'howard', 'submit', 'one', 'look', 'evidence'],\n",
       " ['mr',\n",
       "  '[',\n",
       "  's',\n",
       "  ']',\n",
       "  '(',\n",
       "  'at',\n",
       "  'page',\n",
       "  '14',\n",
       "  'appellant',\n",
       "  '’s',\n",
       "  'bundle',\n",
       "  ')',\n",
       "  '.'],\n",
       " ['make',\n",
       "  'quite',\n",
       "  'clear',\n",
       "  'director',\n",
       "  'voluntary',\n",
       "  'organisation',\n",
       "  'call',\n",
       "  'persian',\n",
       "  'lgbt',\n",
       "  'advisory',\n",
       "  'service',\n",
       "  ',',\n",
       "  'provide',\n",
       "  '\"',\n",
       "  'voluntary',\n",
       "  'social',\n",
       "  'activity',\n",
       "  'lgbt',\n",
       "  'asylum',\n",
       "  'seeker',\n",
       "  '\"',\n",
       "  '.'],\n",
       " ['explain',\n",
       "  'appellant',\n",
       "  'contact',\n",
       "  'via',\n",
       "  'facebook',\n",
       "  '9',\n",
       "  'th',\n",
       "  'june',\n",
       "  '2016',\n",
       "  '.'],\n",
       " ['invite',\n",
       "  'appellant',\n",
       "  'meet',\n",
       "  '-PRON-',\n",
       "  ',',\n",
       "  'conversation',\n",
       "  'come',\n",
       "  'view',\n",
       "  '\"',\n",
       "  'i',\n",
       "  'aware',\n",
       "  'appellant',\n",
       "  'openly',\n",
       "  'active',\n",
       "  'facebook',\n",
       "  'page',\n",
       "  'would',\n",
       "  'refer',\n",
       "  'online',\n",
       "  'activist',\n",
       "  'share',\n",
       "  'information',\n",
       "  'lgbt',\n",
       "  'community',\n",
       "  'use',\n",
       "  'facebook',\n",
       "  'page',\n",
       "  '...',\n",
       "  '\"',\n",
       "  '.'],\n",
       " ['basis', 'judge', 'wrong', 'impugn', 'credibility', '.'],\n",
       " ['10', '.'],\n",
       " ['part',\n",
       "  ',',\n",
       "  'mr',\n",
       "  'mills',\n",
       "  'submit',\n",
       "  'issue',\n",
       "  'judge',\n",
       "  ',',\n",
       "  'relation',\n",
       "  'appellant',\n",
       "  '’s',\n",
       "  'atheism',\n",
       "  'homosexual',\n",
       "  'tendency',\n",
       "  ',',\n",
       "  'new',\n",
       "  'issue',\n",
       "  '.'],\n",
       " ['evidence',\n",
       "  'collect',\n",
       "  'appellant',\n",
       "  'asylum',\n",
       "  'interview',\n",
       "  'tribunal',\n",
       "  'hearing'],\n",
       " [',',\n",
       "  'manner',\n",
       "  'appellant',\n",
       "  'choose',\n",
       "  'do',\n",
       "  ',',\n",
       "  'prepare',\n",
       "  'deal',\n",
       "  'basis',\n",
       "  'oral',\n",
       "  'testimony',\n",
       "  '.'],\n",
       " ['new', 'point', '.'],\n",
       " ['witness', 'people', 'whose', 'evidence', 'previously', 'accept', '.'],\n",
       " ['case',\n",
       "  'simply',\n",
       "  'black',\n",
       "  'white',\n",
       "  'discrepancy',\n",
       "  'case',\n",
       "  'judge',\n",
       "  'entitle',\n",
       "  'say',\n",
       "  'would',\n",
       "  'attach',\n",
       "  'significant',\n",
       "  'weight',\n",
       "  'evidence',\n",
       "  ',',\n",
       "  'put',\n",
       "  'tribunal',\n",
       "  ',',\n",
       "  'evidence',\n",
       "  'persuasive',\n",
       "  '.'],\n",
       " ['error', 'law', '11', '.'],\n",
       " ['satisfied',\n",
       "  'make',\n",
       "  'decision',\n",
       "  'judge',\n",
       "  'involve',\n",
       "  'make',\n",
       "  'error',\n",
       "  'point',\n",
       "  'law',\n",
       "  '(',\n",
       "  'see',\n",
       "  'section',\n",
       "  '12(1',\n",
       "  ')',\n",
       "  'tcea',\n",
       "  '2007',\n",
       "  ')',\n",
       "  'set',\n",
       "  'aside',\n",
       "  'decision',\n",
       "  '.'],\n",
       " ['reason', 'follow', '.'],\n",
       " ['first',\n",
       "  ',',\n",
       "  'simply',\n",
       "  'correct',\n",
       "  'say',\n",
       "  'discrepancy',\n",
       "  'oral',\n",
       "  'witness',\n",
       "  'statement',\n",
       "  'evidence',\n",
       "  'miss',\n",
       "  '[',\n",
       "  'l',\n",
       "  ']',\n",
       "  'something',\n",
       "  'judge',\n",
       "  'probe',\n",
       "  'view',\n",
       "  'ascertain',\n",
       "  'exactly',\n",
       "  'miss',\n",
       "  '[',\n",
       "  'l',\n",
       "  ']',\n",
       "  'know',\n",
       "  'mr',\n",
       "  '[',\n",
       "  'f',\n",
       "  ']',\n",
       "  '.'],\n",
       " ['judge',\n",
       "  'note',\n",
       "  'oral',\n",
       "  'evidence',\n",
       "  'miss',\n",
       "  '[',\n",
       "  'l',\n",
       "  ']',\n",
       "  'state',\n",
       "  'aware',\n",
       "  'appellant',\n",
       "  'relationship',\n",
       "  'uk',\n",
       "  '\"',\n",
       "  'but',\n",
       "  'meet',\n",
       "  '[',\n",
       "  'f',\n",
       "  ']',\n",
       "  '\"',\n",
       "  '.'],\n",
       " ['judge',\n",
       "  'note',\n",
       "  'witness',\n",
       "  'statement',\n",
       "  ',',\n",
       "  'miss',\n",
       "  '[',\n",
       "  'l',\n",
       "  ']',\n",
       "  'state',\n",
       "  'become'],\n",
       " ['friend',\n",
       "  'appellant',\n",
       "  'meet',\n",
       "  'calais',\n",
       "  '\"',\n",
       "  'the',\n",
       "  'jungle',\n",
       "  '\"',\n",
       "  'april',\n",
       "  '2016',\n",
       "  ',',\n",
       "  '\"',\n",
       "  'when',\n",
       "  'become',\n",
       "  'strong',\n",
       "  '3appeal',\n",
       "  'number',\n",
       "  ':'],\n",
       " ['pa/05945/2018', 'friend', 'tell', 'fear', 'persecution', 'atheist', '.'],\n",
       " ['also', 'know', 'previous', 'partner', ',', '[', 'f', ']', '\"'],\n",
       " ['(', 'paragraph', '34', ')', '.'],\n",
       " ['appellant', '’s', 'representative', 'probe', 'matter', 'far', '.'],\n",
       " ['evidence',\n",
       "  'stand',\n",
       "  ',',\n",
       "  'judge',\n",
       "  'entitle',\n",
       "  'conclude',\n",
       "  '\"',\n",
       "  'miss',\n",
       "  '[',\n",
       "  'l',\n",
       "  ']'],\n",
       " ['also',\n",
       "  'inconsistent',\n",
       "  'write',\n",
       "  'oral',\n",
       "  'account',\n",
       "  'whether',\n",
       "  'meet',\n",
       "  '[',\n",
       "  'f',\n",
       "  ']',\n",
       "  '\"',\n",
       "  '(',\n",
       "  'paragraph',\n",
       "  '78',\n",
       "  ')',\n",
       "  '.'],\n",
       " ['12', '.'],\n",
       " ['second',\n",
       "  ',',\n",
       "  'far',\n",
       "  'mr',\n",
       "  '[',\n",
       "  's',\n",
       "  ']',\n",
       "  '’s',\n",
       "  'evidence',\n",
       "  'concern',\n",
       "  ',',\n",
       "  'note',\n",
       "  'director',\n",
       "  'voluntary',\n",
       "  'organisation',\n",
       "  'call',\n",
       "  'persian',\n",
       "  'lgbt',\n",
       "  'advisory',\n",
       "  'service',\n",
       "  '.'],\n",
       " ['write',\n",
       "  'term',\n",
       "  '\"',\n",
       "  'aware',\n",
       "  'appellant',\n",
       "  'openly',\n",
       "  'active',\n",
       "  'facebook',\n",
       "  'page',\n",
       "  '\"',\n",
       "  '.'],\n",
       " ['state',\n",
       "  '\"',\n",
       "  'i',\n",
       "  'acknowledge',\n",
       "  'appellant',\n",
       "  'make',\n",
       "  'strong',\n",
       "  'relationship',\n",
       "  'wide',\n",
       "  'lgbt',\n",
       "  'community',\n",
       "  '...',\n",
       "  '\"',\n",
       "  '.'],\n",
       " ['state',\n",
       "  '\"',\n",
       "  'i',\n",
       "  'also',\n",
       "  'see',\n",
       "  'appellant',\n",
       "  'participate',\n",
       "  'openly',\n",
       "  'year',\n",
       "  '’s',\n",
       "  'lgbt',\n",
       "  'pride',\n",
       "  'christian',\n",
       "  'lgbt',\n",
       "  'parade',\n",
       "  '...',\n",
       "  '\"',\n",
       "  '.'],\n",
       " ['end',\n",
       "  'statement',\n",
       "  'declare',\n",
       "  '\"',\n",
       "  'base',\n",
       "  'information',\n",
       "  'provide',\n",
       "  'appellant',\n",
       "  'confirm',\n",
       "  'homosexual',\n",
       "  'would',\n",
       "  'subject',\n",
       "  'persecution',\n",
       "  '...',\n",
       "  '\"',\n",
       "  '.'],\n",
       " ['(', 'see', 'page', '14', 'appellant', '’s', 'bundle', ')', '.'],\n",
       " ['manner', 'judge', 'deal', 'evidence', 'one', 'entirely', 'open', 'do', '.'],\n",
       " ['judge', 'states', 'would', '\"', 'attach', 'little', 'weight'],\n",
       " ['mr', '[', 's', ']', '’s', 'evidence', '\"'],\n",
       " ['\"',\n",
       "  '-PRON-',\n",
       "  'say',\n",
       "  'hear',\n",
       "  'attend',\n",
       "  'court',\n",
       "  'since',\n",
       "  '2008',\n",
       "  'support',\n",
       "  'gay',\n",
       "  'asylum',\n",
       "  'seeker',\n",
       "  '\"',\n",
       "  '.'],\n",
       " ['13', '.'],\n",
       " ['nevertheless',\n",
       "  'judge',\n",
       "  'observe',\n",
       "  ',',\n",
       "  '\"',\n",
       "  '-PRON-',\n",
       "  'support',\n",
       "  'not',\n",
       "  ',',\n",
       "  'evidence',\n",
       "  ',',\n",
       "  'comprise',\n",
       "  'independent',\n",
       "  'verification',\n",
       "  'appellant',\n",
       "  '’s',\n",
       "  'claim',\n",
       "  'since',\n",
       "  'take',\n",
       "  'claim',\n",
       "  'face',\n",
       "  'value',\n",
       "  ',',\n",
       "  'entirely',\n",
       "  'take',\n",
       "  'word',\n",
       "  'without',\n",
       "  'anything',\n",
       "  'verify',\n",
       "  'claim',\n",
       "  ',',\n",
       "  'way',\n",
       "  'may',\n",
       "  'termed',\n",
       "  \"'\",\n",
       "  'due',\n",
       "  'diligence',\n",
       "  \"'\",\n",
       "  '.'],\n",
       " ['may',\n",
       "  'well',\n",
       "  'well',\n",
       "  '-',\n",
       "  'mean',\n",
       "  ',',\n",
       "  'uncritical',\n",
       "  'nature',\n",
       "  'support',\n",
       "  'mean',\n",
       "  'little',\n",
       "  'probative',\n",
       "  'value',\n",
       "  '\"',\n",
       "  '(',\n",
       "  'paragraph',\n",
       "  '79',\n",
       "  ')',\n",
       "  '.'],\n",
       " ['14', '.'],\n",
       " ['nothing',\n",
       "  'particular',\n",
       "  'analysis',\n",
       "  'judge',\n",
       "  '’s',\n",
       "  'detailed',\n",
       "  'explanation',\n",
       "  'sit'],\n",
       " ['ill', 'ease', 'witness', 'state', 'statement', '4', 'th', 'june', '2018'],\n",
       " ['(', 'at', 'page', '14', 'appellant', '’s', 'bundle', ')', 'make', 'clear'],\n",
       " ['\"', 'i', 'aware', '\"', '\"', 'i', 'acknowledge', '\"', '.'],\n",
       " ['event',\n",
       "  ',',\n",
       "  'judge',\n",
       "  'refer',\n",
       "  'actually',\n",
       "  'mr',\n",
       "  '[',\n",
       "  's',\n",
       "  ']',\n",
       "  'say',\n",
       "  'evidence',\n",
       "  'make',\n",
       "  'clear',\n",
       "  'director',\n",
       "  'voluntary',\n",
       "  'organisation',\n",
       "  'support',\n",
       "  'gay',\n",
       "  'asylum',\n",
       "  'seeker',\n",
       "  'take',\n",
       "  'claim',\n",
       "  'face',\n",
       "  'value',\n",
       "  '.'],\n",
       " ['accordingly',\n",
       "  ',',\n",
       "  'decision',\n",
       "  'judge',\n",
       "  'particular',\n",
       "  'case',\n",
       "  'clear',\n",
       "  ',',\n",
       "  'comprehensive',\n",
       "  ',',\n",
       "  'well',\n",
       "  '-',\n",
       "  'reason',\n",
       "  'error',\n",
       "  'law',\n",
       "  '-PRON-',\n",
       "  '.'],\n",
       " ['decision', '15', '.'],\n",
       " ['decision',\n",
       "  'first',\n",
       "  '-',\n",
       "  'tier',\n",
       "  'tribunal',\n",
       "  'involve',\n",
       "  'make',\n",
       "  'error',\n",
       "  'law',\n",
       "  '.'],\n",
       " ['decision', 'shall', 'stand', '.'],\n",
       " ['16', '.'],\n",
       " ['anonymity', 'order', 'make', '.'],\n",
       " ['17', '.'],\n",
       " ['appeal', 'dismiss', '.'],\n",
       " ['4appeal', 'number', ':'],\n",
       " ['pa/05945/2018',\n",
       "  'direction',\n",
       "  'regard',\n",
       "  'anonymity',\n",
       "  '–',\n",
       "  'rule',\n",
       "  '14',\n",
       "  'tribunal',\n",
       "  'procedure',\n",
       "  '(',\n",
       "  'upper',\n",
       "  'tribunal',\n",
       "  ')',\n",
       "  'rule',\n",
       "  '2008',\n",
       "  'unless',\n",
       "  'tribunal',\n",
       "  'court',\n",
       "  'direct',\n",
       "  'otherwise',\n",
       "  ',',\n",
       "  'appellant',\n",
       "  'grant',\n",
       "  'anonymity',\n",
       "  '.'],\n",
       " ['report',\n",
       "  'proceeding',\n",
       "  'shall',\n",
       "  'directly',\n",
       "  'indirectly',\n",
       "  'identify',\n",
       "  'member',\n",
       "  'family',\n",
       "  '.'],\n",
       " ['direction', 'apply', 'appellant', 'respondent', '.'],\n",
       " ['failure',\n",
       "  'comply',\n",
       "  'direction',\n",
       "  'could',\n",
       "  'lead',\n",
       "  'contempt',\n",
       "  'court',\n",
       "  'proceeding',\n",
       "  '.'],\n",
       " ['sign',\n",
       "  'dated',\n",
       "  'deputy',\n",
       "  'upper',\n",
       "  'tribunal',\n",
       "  'judge',\n",
       "  'juss',\n",
       "  '15',\n",
       "  'th',\n",
       "  'august',\n",
       "  '2019',\n",
       "  '5']]"
      ]
     },
     "execution_count": 186,
     "metadata": {},
     "output_type": "execute_result"
    }
   ],
   "source": [
    "text_clean"
   ]
  },
  {
   "cell_type": "markdown",
   "metadata": {},
   "source": [
    "### 5.3.4. Count words"
   ]
  },
  {
   "cell_type": "code",
   "execution_count": 220,
   "metadata": {},
   "outputs": [],
   "source": [
    "from collections import Counter\n",
    "\n",
    "text_clean_counter = dict(Counter(text_clean))"
   ]
  },
  {
   "cell_type": "code",
   "execution_count": 221,
   "metadata": {},
   "outputs": [],
   "source": [
    "df_clean = pd.DataFrame.from_dict(text_clean_counter, orient='index')"
   ]
  },
  {
   "cell_type": "code",
   "execution_count": 222,
   "metadata": {},
   "outputs": [],
   "source": [
    "df_clean.reset_index(level=0, inplace=True)\n",
    "df_clean.columns = ['words', 'counts']"
   ]
  },
  {
   "cell_type": "code",
   "execution_count": 223,
   "metadata": {},
   "outputs": [
    {
     "data": {
      "text/html": [
       "<div>\n",
       "<style scoped>\n",
       "    .dataframe tbody tr th:only-of-type {\n",
       "        vertical-align: middle;\n",
       "    }\n",
       "\n",
       "    .dataframe tbody tr th {\n",
       "        vertical-align: top;\n",
       "    }\n",
       "\n",
       "    .dataframe thead th {\n",
       "        text-align: right;\n",
       "    }\n",
       "</style>\n",
       "<table border=\"1\" class=\"dataframe\">\n",
       "  <thead>\n",
       "    <tr style=\"text-align: right;\">\n",
       "      <th></th>\n",
       "      <th>words</th>\n",
       "      <th>counts</th>\n",
       "    </tr>\n",
       "  </thead>\n",
       "  <tbody>\n",
       "    <tr>\n",
       "      <th>0</th>\n",
       "      <td>upper</td>\n",
       "      <td>11</td>\n",
       "    </tr>\n",
       "    <tr>\n",
       "      <th>1</th>\n",
       "      <td>tribunal</td>\n",
       "      <td>24</td>\n",
       "    </tr>\n",
       "    <tr>\n",
       "      <th>2</th>\n",
       "      <td>(</td>\n",
       "      <td>21</td>\n",
       "    </tr>\n",
       "    <tr>\n",
       "      <th>3</th>\n",
       "      <td>immigration</td>\n",
       "      <td>4</td>\n",
       "    </tr>\n",
       "    <tr>\n",
       "      <th>4</th>\n",
       "      <td>asylum</td>\n",
       "      <td>9</td>\n",
       "    </tr>\n",
       "    <tr>\n",
       "      <th>...</th>\n",
       "      <td>...</td>\n",
       "      <td>...</td>\n",
       "    </tr>\n",
       "    <tr>\n",
       "      <th>628</th>\n",
       "      <td>actually</td>\n",
       "      <td>1</td>\n",
       "    </tr>\n",
       "    <tr>\n",
       "      <th>629</th>\n",
       "      <td>accordingly</td>\n",
       "      <td>1</td>\n",
       "    </tr>\n",
       "    <tr>\n",
       "      <th>630</th>\n",
       "      <td>comprehensive</td>\n",
       "      <td>1</td>\n",
       "    </tr>\n",
       "    <tr>\n",
       "      <th>631</th>\n",
       "      <td>order</td>\n",
       "      <td>1</td>\n",
       "    </tr>\n",
       "    <tr>\n",
       "      <th>632</th>\n",
       "      <td>dated</td>\n",
       "      <td>1</td>\n",
       "    </tr>\n",
       "  </tbody>\n",
       "</table>\n",
       "<p>633 rows × 2 columns</p>\n",
       "</div>"
      ],
      "text/plain": [
       "             words  counts\n",
       "0            upper      11\n",
       "1         tribunal      24\n",
       "2                (      21\n",
       "3      immigration       4\n",
       "4           asylum       9\n",
       "..             ...     ...\n",
       "628       actually       1\n",
       "629    accordingly       1\n",
       "630  comprehensive       1\n",
       "631          order       1\n",
       "632          dated       1\n",
       "\n",
       "[633 rows x 2 columns]"
      ]
     },
     "execution_count": 223,
     "metadata": {},
     "output_type": "execute_result"
    }
   ],
   "source": [
    "df_clean"
   ]
  },
  {
   "cell_type": "code",
   "execution_count": 229,
   "metadata": {},
   "outputs": [
    {
     "data": {
      "application/vnd.plotly.v1+json": {
       "config": {
        "plotlyServerURL": "https://plot.ly"
       },
       "data": [
        {
         "alignmentgroup": "True",
         "hovertemplate": "Frequency=%{x}<br>Words=%{text}<extra></extra>",
         "legendgroup": "",
         "marker": {
          "color": "purple"
         },
         "name": "",
         "offsetgroup": "",
         "orientation": "h",
         "showlegend": false,
         "text": [
          "upper",
          "tribunal",
          "(",
          "immigration",
          "asylum",
          "chamber",
          ")",
          "appeal",
          "number",
          ":",
          "pa/00240/2019"
         ],
         "textposition": "auto",
         "texttemplate": "%{text}",
         "type": "bar",
         "x": [
          11,
          24,
          21,
          4,
          9,
          2,
          22,
          19,
          12,
          19,
          6
         ],
         "xaxis": "x",
         "y": [
          "upper",
          "tribunal",
          "(",
          "immigration",
          "asylum",
          "chamber",
          ")",
          "appeal",
          "number",
          ":",
          "pa/00240/2019"
         ],
         "yaxis": "y"
        }
       ],
       "layout": {
        "autosize": false,
        "barmode": "relative",
        "height": 500,
        "legend": {
         "tracegroupgap": 0
        },
        "margin": {
         "t": 60
        },
        "template": {
         "data": {
          "bar": [
           {
            "error_x": {
             "color": "#2a3f5f"
            },
            "error_y": {
             "color": "#2a3f5f"
            },
            "marker": {
             "line": {
              "color": "#E5ECF6",
              "width": 0.5
             }
            },
            "type": "bar"
           }
          ],
          "barpolar": [
           {
            "marker": {
             "line": {
              "color": "#E5ECF6",
              "width": 0.5
             }
            },
            "type": "barpolar"
           }
          ],
          "carpet": [
           {
            "aaxis": {
             "endlinecolor": "#2a3f5f",
             "gridcolor": "white",
             "linecolor": "white",
             "minorgridcolor": "white",
             "startlinecolor": "#2a3f5f"
            },
            "baxis": {
             "endlinecolor": "#2a3f5f",
             "gridcolor": "white",
             "linecolor": "white",
             "minorgridcolor": "white",
             "startlinecolor": "#2a3f5f"
            },
            "type": "carpet"
           }
          ],
          "choropleth": [
           {
            "colorbar": {
             "outlinewidth": 0,
             "ticks": ""
            },
            "type": "choropleth"
           }
          ],
          "contour": [
           {
            "colorbar": {
             "outlinewidth": 0,
             "ticks": ""
            },
            "colorscale": [
             [
              0,
              "#0d0887"
             ],
             [
              0.1111111111111111,
              "#46039f"
             ],
             [
              0.2222222222222222,
              "#7201a8"
             ],
             [
              0.3333333333333333,
              "#9c179e"
             ],
             [
              0.4444444444444444,
              "#bd3786"
             ],
             [
              0.5555555555555556,
              "#d8576b"
             ],
             [
              0.6666666666666666,
              "#ed7953"
             ],
             [
              0.7777777777777778,
              "#fb9f3a"
             ],
             [
              0.8888888888888888,
              "#fdca26"
             ],
             [
              1,
              "#f0f921"
             ]
            ],
            "type": "contour"
           }
          ],
          "contourcarpet": [
           {
            "colorbar": {
             "outlinewidth": 0,
             "ticks": ""
            },
            "type": "contourcarpet"
           }
          ],
          "heatmap": [
           {
            "colorbar": {
             "outlinewidth": 0,
             "ticks": ""
            },
            "colorscale": [
             [
              0,
              "#0d0887"
             ],
             [
              0.1111111111111111,
              "#46039f"
             ],
             [
              0.2222222222222222,
              "#7201a8"
             ],
             [
              0.3333333333333333,
              "#9c179e"
             ],
             [
              0.4444444444444444,
              "#bd3786"
             ],
             [
              0.5555555555555556,
              "#d8576b"
             ],
             [
              0.6666666666666666,
              "#ed7953"
             ],
             [
              0.7777777777777778,
              "#fb9f3a"
             ],
             [
              0.8888888888888888,
              "#fdca26"
             ],
             [
              1,
              "#f0f921"
             ]
            ],
            "type": "heatmap"
           }
          ],
          "heatmapgl": [
           {
            "colorbar": {
             "outlinewidth": 0,
             "ticks": ""
            },
            "colorscale": [
             [
              0,
              "#0d0887"
             ],
             [
              0.1111111111111111,
              "#46039f"
             ],
             [
              0.2222222222222222,
              "#7201a8"
             ],
             [
              0.3333333333333333,
              "#9c179e"
             ],
             [
              0.4444444444444444,
              "#bd3786"
             ],
             [
              0.5555555555555556,
              "#d8576b"
             ],
             [
              0.6666666666666666,
              "#ed7953"
             ],
             [
              0.7777777777777778,
              "#fb9f3a"
             ],
             [
              0.8888888888888888,
              "#fdca26"
             ],
             [
              1,
              "#f0f921"
             ]
            ],
            "type": "heatmapgl"
           }
          ],
          "histogram": [
           {
            "marker": {
             "colorbar": {
              "outlinewidth": 0,
              "ticks": ""
             }
            },
            "type": "histogram"
           }
          ],
          "histogram2d": [
           {
            "colorbar": {
             "outlinewidth": 0,
             "ticks": ""
            },
            "colorscale": [
             [
              0,
              "#0d0887"
             ],
             [
              0.1111111111111111,
              "#46039f"
             ],
             [
              0.2222222222222222,
              "#7201a8"
             ],
             [
              0.3333333333333333,
              "#9c179e"
             ],
             [
              0.4444444444444444,
              "#bd3786"
             ],
             [
              0.5555555555555556,
              "#d8576b"
             ],
             [
              0.6666666666666666,
              "#ed7953"
             ],
             [
              0.7777777777777778,
              "#fb9f3a"
             ],
             [
              0.8888888888888888,
              "#fdca26"
             ],
             [
              1,
              "#f0f921"
             ]
            ],
            "type": "histogram2d"
           }
          ],
          "histogram2dcontour": [
           {
            "colorbar": {
             "outlinewidth": 0,
             "ticks": ""
            },
            "colorscale": [
             [
              0,
              "#0d0887"
             ],
             [
              0.1111111111111111,
              "#46039f"
             ],
             [
              0.2222222222222222,
              "#7201a8"
             ],
             [
              0.3333333333333333,
              "#9c179e"
             ],
             [
              0.4444444444444444,
              "#bd3786"
             ],
             [
              0.5555555555555556,
              "#d8576b"
             ],
             [
              0.6666666666666666,
              "#ed7953"
             ],
             [
              0.7777777777777778,
              "#fb9f3a"
             ],
             [
              0.8888888888888888,
              "#fdca26"
             ],
             [
              1,
              "#f0f921"
             ]
            ],
            "type": "histogram2dcontour"
           }
          ],
          "mesh3d": [
           {
            "colorbar": {
             "outlinewidth": 0,
             "ticks": ""
            },
            "type": "mesh3d"
           }
          ],
          "parcoords": [
           {
            "line": {
             "colorbar": {
              "outlinewidth": 0,
              "ticks": ""
             }
            },
            "type": "parcoords"
           }
          ],
          "pie": [
           {
            "automargin": true,
            "type": "pie"
           }
          ],
          "scatter": [
           {
            "marker": {
             "colorbar": {
              "outlinewidth": 0,
              "ticks": ""
             }
            },
            "type": "scatter"
           }
          ],
          "scatter3d": [
           {
            "line": {
             "colorbar": {
              "outlinewidth": 0,
              "ticks": ""
             }
            },
            "marker": {
             "colorbar": {
              "outlinewidth": 0,
              "ticks": ""
             }
            },
            "type": "scatter3d"
           }
          ],
          "scattercarpet": [
           {
            "marker": {
             "colorbar": {
              "outlinewidth": 0,
              "ticks": ""
             }
            },
            "type": "scattercarpet"
           }
          ],
          "scattergeo": [
           {
            "marker": {
             "colorbar": {
              "outlinewidth": 0,
              "ticks": ""
             }
            },
            "type": "scattergeo"
           }
          ],
          "scattergl": [
           {
            "marker": {
             "colorbar": {
              "outlinewidth": 0,
              "ticks": ""
             }
            },
            "type": "scattergl"
           }
          ],
          "scattermapbox": [
           {
            "marker": {
             "colorbar": {
              "outlinewidth": 0,
              "ticks": ""
             }
            },
            "type": "scattermapbox"
           }
          ],
          "scatterpolar": [
           {
            "marker": {
             "colorbar": {
              "outlinewidth": 0,
              "ticks": ""
             }
            },
            "type": "scatterpolar"
           }
          ],
          "scatterpolargl": [
           {
            "marker": {
             "colorbar": {
              "outlinewidth": 0,
              "ticks": ""
             }
            },
            "type": "scatterpolargl"
           }
          ],
          "scatterternary": [
           {
            "marker": {
             "colorbar": {
              "outlinewidth": 0,
              "ticks": ""
             }
            },
            "type": "scatterternary"
           }
          ],
          "surface": [
           {
            "colorbar": {
             "outlinewidth": 0,
             "ticks": ""
            },
            "colorscale": [
             [
              0,
              "#0d0887"
             ],
             [
              0.1111111111111111,
              "#46039f"
             ],
             [
              0.2222222222222222,
              "#7201a8"
             ],
             [
              0.3333333333333333,
              "#9c179e"
             ],
             [
              0.4444444444444444,
              "#bd3786"
             ],
             [
              0.5555555555555556,
              "#d8576b"
             ],
             [
              0.6666666666666666,
              "#ed7953"
             ],
             [
              0.7777777777777778,
              "#fb9f3a"
             ],
             [
              0.8888888888888888,
              "#fdca26"
             ],
             [
              1,
              "#f0f921"
             ]
            ],
            "type": "surface"
           }
          ],
          "table": [
           {
            "cells": {
             "fill": {
              "color": "#EBF0F8"
             },
             "line": {
              "color": "white"
             }
            },
            "header": {
             "fill": {
              "color": "#C8D4E3"
             },
             "line": {
              "color": "white"
             }
            },
            "type": "table"
           }
          ]
         },
         "layout": {
          "annotationdefaults": {
           "arrowcolor": "#2a3f5f",
           "arrowhead": 0,
           "arrowwidth": 1
          },
          "autotypenumbers": "strict",
          "coloraxis": {
           "colorbar": {
            "outlinewidth": 0,
            "ticks": ""
           }
          },
          "colorscale": {
           "diverging": [
            [
             0,
             "#8e0152"
            ],
            [
             0.1,
             "#c51b7d"
            ],
            [
             0.2,
             "#de77ae"
            ],
            [
             0.3,
             "#f1b6da"
            ],
            [
             0.4,
             "#fde0ef"
            ],
            [
             0.5,
             "#f7f7f7"
            ],
            [
             0.6,
             "#e6f5d0"
            ],
            [
             0.7,
             "#b8e186"
            ],
            [
             0.8,
             "#7fbc41"
            ],
            [
             0.9,
             "#4d9221"
            ],
            [
             1,
             "#276419"
            ]
           ],
           "sequential": [
            [
             0,
             "#0d0887"
            ],
            [
             0.1111111111111111,
             "#46039f"
            ],
            [
             0.2222222222222222,
             "#7201a8"
            ],
            [
             0.3333333333333333,
             "#9c179e"
            ],
            [
             0.4444444444444444,
             "#bd3786"
            ],
            [
             0.5555555555555556,
             "#d8576b"
            ],
            [
             0.6666666666666666,
             "#ed7953"
            ],
            [
             0.7777777777777778,
             "#fb9f3a"
            ],
            [
             0.8888888888888888,
             "#fdca26"
            ],
            [
             1,
             "#f0f921"
            ]
           ],
           "sequentialminus": [
            [
             0,
             "#0d0887"
            ],
            [
             0.1111111111111111,
             "#46039f"
            ],
            [
             0.2222222222222222,
             "#7201a8"
            ],
            [
             0.3333333333333333,
             "#9c179e"
            ],
            [
             0.4444444444444444,
             "#bd3786"
            ],
            [
             0.5555555555555556,
             "#d8576b"
            ],
            [
             0.6666666666666666,
             "#ed7953"
            ],
            [
             0.7777777777777778,
             "#fb9f3a"
            ],
            [
             0.8888888888888888,
             "#fdca26"
            ],
            [
             1,
             "#f0f921"
            ]
           ]
          },
          "colorway": [
           "#636efa",
           "#EF553B",
           "#00cc96",
           "#ab63fa",
           "#FFA15A",
           "#19d3f3",
           "#FF6692",
           "#B6E880",
           "#FF97FF",
           "#FECB52"
          ],
          "font": {
           "color": "#2a3f5f"
          },
          "geo": {
           "bgcolor": "white",
           "lakecolor": "white",
           "landcolor": "#E5ECF6",
           "showlakes": true,
           "showland": true,
           "subunitcolor": "white"
          },
          "hoverlabel": {
           "align": "left"
          },
          "hovermode": "closest",
          "mapbox": {
           "style": "light"
          },
          "paper_bgcolor": "white",
          "plot_bgcolor": "#E5ECF6",
          "polar": {
           "angularaxis": {
            "gridcolor": "white",
            "linecolor": "white",
            "ticks": ""
           },
           "bgcolor": "#E5ECF6",
           "radialaxis": {
            "gridcolor": "white",
            "linecolor": "white",
            "ticks": ""
           }
          },
          "scene": {
           "xaxis": {
            "backgroundcolor": "#E5ECF6",
            "gridcolor": "white",
            "gridwidth": 2,
            "linecolor": "white",
            "showbackground": true,
            "ticks": "",
            "zerolinecolor": "white"
           },
           "yaxis": {
            "backgroundcolor": "#E5ECF6",
            "gridcolor": "white",
            "gridwidth": 2,
            "linecolor": "white",
            "showbackground": true,
            "ticks": "",
            "zerolinecolor": "white"
           },
           "zaxis": {
            "backgroundcolor": "#E5ECF6",
            "gridcolor": "white",
            "gridwidth": 2,
            "linecolor": "white",
            "showbackground": true,
            "ticks": "",
            "zerolinecolor": "white"
           }
          },
          "shapedefaults": {
           "line": {
            "color": "#2a3f5f"
           }
          },
          "ternary": {
           "aaxis": {
            "gridcolor": "white",
            "linecolor": "white",
            "ticks": ""
           },
           "baxis": {
            "gridcolor": "white",
            "linecolor": "white",
            "ticks": ""
           },
           "bgcolor": "#E5ECF6",
           "caxis": {
            "gridcolor": "white",
            "linecolor": "white",
            "ticks": ""
           }
          },
          "title": {
           "x": 0.05
          },
          "xaxis": {
           "automargin": true,
           "gridcolor": "white",
           "linecolor": "white",
           "ticks": "",
           "title": {
            "standoff": 15
           },
           "zerolinecolor": "white",
           "zerolinewidth": 2
          },
          "yaxis": {
           "automargin": true,
           "gridcolor": "white",
           "linecolor": "white",
           "ticks": "",
           "title": {
            "standoff": 15
           },
           "zerolinecolor": "white",
           "zerolinewidth": 2
          }
         }
        },
        "title": {
         "text": "Words Frequency in Tribunal Appeals",
         "x": 0.5,
         "xanchor": "center",
         "y": 0.95,
         "yanchor": "top"
        },
        "uniformtext": {
         "minsize": 8,
         "mode": "hide"
        },
        "width": 1050,
        "xaxis": {
         "anchor": "y",
         "domain": [
          0,
          1
         ],
         "title": {
          "text": "Frequency"
         }
        },
        "yaxis": {
         "anchor": "x",
         "categoryorder": "total ascending",
         "domain": [
          0,
          1
         ],
         "showticklabels": false,
         "title": {
          "text": "Words"
         },
         "type": "category"
        }
       }
      },
      "text/html": [
       "<div>                            <div id=\"8a2f0a2d-0182-4215-8579-dc0d67ec2c75\" class=\"plotly-graph-div\" style=\"height:500px; width:1050px;\"></div>            <script type=\"text/javascript\">                require([\"plotly\"], function(Plotly) {                    window.PLOTLYENV=window.PLOTLYENV || {};                                    if (document.getElementById(\"8a2f0a2d-0182-4215-8579-dc0d67ec2c75\")) {                    Plotly.newPlot(                        \"8a2f0a2d-0182-4215-8579-dc0d67ec2c75\",                        [{\"alignmentgroup\": \"True\", \"hovertemplate\": \"Frequency=%{x}<br>Words=%{text}<extra></extra>\", \"legendgroup\": \"\", \"marker\": {\"color\": \"purple\"}, \"name\": \"\", \"offsetgroup\": \"\", \"orientation\": \"h\", \"showlegend\": false, \"text\": [\"upper\", \"tribunal\", \"(\", \"immigration\", \"asylum\", \"chamber\", \")\", \"appeal\", \"number\", \":\", \"pa/00240/2019\"], \"textposition\": \"auto\", \"texttemplate\": \"%{text}\", \"type\": \"bar\", \"x\": [11, 24, 21, 4, 9, 2, 22, 19, 12, 19, 6], \"xaxis\": \"x\", \"y\": [\"upper\", \"tribunal\", \"(\", \"immigration\", \"asylum\", \"chamber\", \")\", \"appeal\", \"number\", \":\", \"pa/00240/2019\"], \"yaxis\": \"y\"}],                        {\"autosize\": false, \"barmode\": \"relative\", \"height\": 500, \"legend\": {\"tracegroupgap\": 0}, \"margin\": {\"t\": 60}, \"template\": {\"data\": {\"bar\": [{\"error_x\": {\"color\": \"#2a3f5f\"}, \"error_y\": {\"color\": \"#2a3f5f\"}, \"marker\": {\"line\": {\"color\": \"#E5ECF6\", \"width\": 0.5}}, \"type\": \"bar\"}], \"barpolar\": [{\"marker\": {\"line\": {\"color\": \"#E5ECF6\", \"width\": 0.5}}, \"type\": \"barpolar\"}], \"carpet\": [{\"aaxis\": {\"endlinecolor\": \"#2a3f5f\", \"gridcolor\": \"white\", \"linecolor\": \"white\", \"minorgridcolor\": \"white\", \"startlinecolor\": \"#2a3f5f\"}, \"baxis\": {\"endlinecolor\": \"#2a3f5f\", \"gridcolor\": \"white\", \"linecolor\": \"white\", \"minorgridcolor\": \"white\", \"startlinecolor\": \"#2a3f5f\"}, \"type\": \"carpet\"}], \"choropleth\": [{\"colorbar\": {\"outlinewidth\": 0, \"ticks\": \"\"}, \"type\": \"choropleth\"}], \"contour\": [{\"colorbar\": {\"outlinewidth\": 0, \"ticks\": \"\"}, \"colorscale\": [[0.0, \"#0d0887\"], [0.1111111111111111, \"#46039f\"], [0.2222222222222222, \"#7201a8\"], [0.3333333333333333, \"#9c179e\"], [0.4444444444444444, \"#bd3786\"], [0.5555555555555556, \"#d8576b\"], [0.6666666666666666, \"#ed7953\"], [0.7777777777777778, \"#fb9f3a\"], [0.8888888888888888, \"#fdca26\"], [1.0, \"#f0f921\"]], \"type\": \"contour\"}], \"contourcarpet\": [{\"colorbar\": {\"outlinewidth\": 0, \"ticks\": \"\"}, \"type\": \"contourcarpet\"}], \"heatmap\": [{\"colorbar\": {\"outlinewidth\": 0, \"ticks\": \"\"}, \"colorscale\": [[0.0, \"#0d0887\"], [0.1111111111111111, \"#46039f\"], [0.2222222222222222, \"#7201a8\"], [0.3333333333333333, \"#9c179e\"], [0.4444444444444444, \"#bd3786\"], [0.5555555555555556, \"#d8576b\"], [0.6666666666666666, \"#ed7953\"], [0.7777777777777778, \"#fb9f3a\"], [0.8888888888888888, \"#fdca26\"], [1.0, \"#f0f921\"]], \"type\": \"heatmap\"}], \"heatmapgl\": [{\"colorbar\": {\"outlinewidth\": 0, \"ticks\": \"\"}, \"colorscale\": [[0.0, \"#0d0887\"], [0.1111111111111111, \"#46039f\"], [0.2222222222222222, \"#7201a8\"], [0.3333333333333333, \"#9c179e\"], [0.4444444444444444, \"#bd3786\"], [0.5555555555555556, \"#d8576b\"], [0.6666666666666666, \"#ed7953\"], [0.7777777777777778, \"#fb9f3a\"], [0.8888888888888888, \"#fdca26\"], [1.0, \"#f0f921\"]], \"type\": \"heatmapgl\"}], \"histogram\": [{\"marker\": {\"colorbar\": {\"outlinewidth\": 0, \"ticks\": \"\"}}, \"type\": \"histogram\"}], \"histogram2d\": [{\"colorbar\": {\"outlinewidth\": 0, \"ticks\": \"\"}, \"colorscale\": [[0.0, \"#0d0887\"], [0.1111111111111111, \"#46039f\"], [0.2222222222222222, \"#7201a8\"], [0.3333333333333333, \"#9c179e\"], [0.4444444444444444, \"#bd3786\"], [0.5555555555555556, \"#d8576b\"], [0.6666666666666666, \"#ed7953\"], [0.7777777777777778, \"#fb9f3a\"], [0.8888888888888888, \"#fdca26\"], [1.0, \"#f0f921\"]], \"type\": \"histogram2d\"}], \"histogram2dcontour\": [{\"colorbar\": {\"outlinewidth\": 0, \"ticks\": \"\"}, \"colorscale\": [[0.0, \"#0d0887\"], [0.1111111111111111, \"#46039f\"], [0.2222222222222222, \"#7201a8\"], [0.3333333333333333, \"#9c179e\"], [0.4444444444444444, \"#bd3786\"], [0.5555555555555556, \"#d8576b\"], [0.6666666666666666, \"#ed7953\"], [0.7777777777777778, \"#fb9f3a\"], [0.8888888888888888, \"#fdca26\"], [1.0, \"#f0f921\"]], \"type\": \"histogram2dcontour\"}], \"mesh3d\": [{\"colorbar\": {\"outlinewidth\": 0, \"ticks\": \"\"}, \"type\": \"mesh3d\"}], \"parcoords\": [{\"line\": {\"colorbar\": {\"outlinewidth\": 0, \"ticks\": \"\"}}, \"type\": \"parcoords\"}], \"pie\": [{\"automargin\": true, \"type\": \"pie\"}], \"scatter\": [{\"marker\": {\"colorbar\": {\"outlinewidth\": 0, \"ticks\": \"\"}}, \"type\": \"scatter\"}], \"scatter3d\": [{\"line\": {\"colorbar\": {\"outlinewidth\": 0, \"ticks\": \"\"}}, \"marker\": {\"colorbar\": {\"outlinewidth\": 0, \"ticks\": \"\"}}, \"type\": \"scatter3d\"}], \"scattercarpet\": [{\"marker\": {\"colorbar\": {\"outlinewidth\": 0, \"ticks\": \"\"}}, \"type\": \"scattercarpet\"}], \"scattergeo\": [{\"marker\": {\"colorbar\": {\"outlinewidth\": 0, \"ticks\": \"\"}}, \"type\": \"scattergeo\"}], \"scattergl\": [{\"marker\": {\"colorbar\": {\"outlinewidth\": 0, \"ticks\": \"\"}}, \"type\": \"scattergl\"}], \"scattermapbox\": [{\"marker\": {\"colorbar\": {\"outlinewidth\": 0, \"ticks\": \"\"}}, \"type\": \"scattermapbox\"}], \"scatterpolar\": [{\"marker\": {\"colorbar\": {\"outlinewidth\": 0, \"ticks\": \"\"}}, \"type\": \"scatterpolar\"}], \"scatterpolargl\": [{\"marker\": {\"colorbar\": {\"outlinewidth\": 0, \"ticks\": \"\"}}, \"type\": \"scatterpolargl\"}], \"scatterternary\": [{\"marker\": {\"colorbar\": {\"outlinewidth\": 0, \"ticks\": \"\"}}, \"type\": \"scatterternary\"}], \"surface\": [{\"colorbar\": {\"outlinewidth\": 0, \"ticks\": \"\"}, \"colorscale\": [[0.0, \"#0d0887\"], [0.1111111111111111, \"#46039f\"], [0.2222222222222222, \"#7201a8\"], [0.3333333333333333, \"#9c179e\"], [0.4444444444444444, \"#bd3786\"], [0.5555555555555556, \"#d8576b\"], [0.6666666666666666, \"#ed7953\"], [0.7777777777777778, \"#fb9f3a\"], [0.8888888888888888, \"#fdca26\"], [1.0, \"#f0f921\"]], \"type\": \"surface\"}], \"table\": [{\"cells\": {\"fill\": {\"color\": \"#EBF0F8\"}, \"line\": {\"color\": \"white\"}}, \"header\": {\"fill\": {\"color\": \"#C8D4E3\"}, \"line\": {\"color\": \"white\"}}, \"type\": \"table\"}]}, \"layout\": {\"annotationdefaults\": {\"arrowcolor\": \"#2a3f5f\", \"arrowhead\": 0, \"arrowwidth\": 1}, \"autotypenumbers\": \"strict\", \"coloraxis\": {\"colorbar\": {\"outlinewidth\": 0, \"ticks\": \"\"}}, \"colorscale\": {\"diverging\": [[0, \"#8e0152\"], [0.1, \"#c51b7d\"], [0.2, \"#de77ae\"], [0.3, \"#f1b6da\"], [0.4, \"#fde0ef\"], [0.5, \"#f7f7f7\"], [0.6, \"#e6f5d0\"], [0.7, \"#b8e186\"], [0.8, \"#7fbc41\"], [0.9, \"#4d9221\"], [1, \"#276419\"]], \"sequential\": [[0.0, \"#0d0887\"], [0.1111111111111111, \"#46039f\"], [0.2222222222222222, \"#7201a8\"], [0.3333333333333333, \"#9c179e\"], [0.4444444444444444, \"#bd3786\"], [0.5555555555555556, \"#d8576b\"], [0.6666666666666666, \"#ed7953\"], [0.7777777777777778, \"#fb9f3a\"], [0.8888888888888888, \"#fdca26\"], [1.0, \"#f0f921\"]], \"sequentialminus\": [[0.0, \"#0d0887\"], [0.1111111111111111, \"#46039f\"], [0.2222222222222222, \"#7201a8\"], [0.3333333333333333, \"#9c179e\"], [0.4444444444444444, \"#bd3786\"], [0.5555555555555556, \"#d8576b\"], [0.6666666666666666, \"#ed7953\"], [0.7777777777777778, \"#fb9f3a\"], [0.8888888888888888, \"#fdca26\"], [1.0, \"#f0f921\"]]}, \"colorway\": [\"#636efa\", \"#EF553B\", \"#00cc96\", \"#ab63fa\", \"#FFA15A\", \"#19d3f3\", \"#FF6692\", \"#B6E880\", \"#FF97FF\", \"#FECB52\"], \"font\": {\"color\": \"#2a3f5f\"}, \"geo\": {\"bgcolor\": \"white\", \"lakecolor\": \"white\", \"landcolor\": \"#E5ECF6\", \"showlakes\": true, \"showland\": true, \"subunitcolor\": \"white\"}, \"hoverlabel\": {\"align\": \"left\"}, \"hovermode\": \"closest\", \"mapbox\": {\"style\": \"light\"}, \"paper_bgcolor\": \"white\", \"plot_bgcolor\": \"#E5ECF6\", \"polar\": {\"angularaxis\": {\"gridcolor\": \"white\", \"linecolor\": \"white\", \"ticks\": \"\"}, \"bgcolor\": \"#E5ECF6\", \"radialaxis\": {\"gridcolor\": \"white\", \"linecolor\": \"white\", \"ticks\": \"\"}}, \"scene\": {\"xaxis\": {\"backgroundcolor\": \"#E5ECF6\", \"gridcolor\": \"white\", \"gridwidth\": 2, \"linecolor\": \"white\", \"showbackground\": true, \"ticks\": \"\", \"zerolinecolor\": \"white\"}, \"yaxis\": {\"backgroundcolor\": \"#E5ECF6\", \"gridcolor\": \"white\", \"gridwidth\": 2, \"linecolor\": \"white\", \"showbackground\": true, \"ticks\": \"\", \"zerolinecolor\": \"white\"}, \"zaxis\": {\"backgroundcolor\": \"#E5ECF6\", \"gridcolor\": \"white\", \"gridwidth\": 2, \"linecolor\": \"white\", \"showbackground\": true, \"ticks\": \"\", \"zerolinecolor\": \"white\"}}, \"shapedefaults\": {\"line\": {\"color\": \"#2a3f5f\"}}, \"ternary\": {\"aaxis\": {\"gridcolor\": \"white\", \"linecolor\": \"white\", \"ticks\": \"\"}, \"baxis\": {\"gridcolor\": \"white\", \"linecolor\": \"white\", \"ticks\": \"\"}, \"bgcolor\": \"#E5ECF6\", \"caxis\": {\"gridcolor\": \"white\", \"linecolor\": \"white\", \"ticks\": \"\"}}, \"title\": {\"x\": 0.05}, \"xaxis\": {\"automargin\": true, \"gridcolor\": \"white\", \"linecolor\": \"white\", \"ticks\": \"\", \"title\": {\"standoff\": 15}, \"zerolinecolor\": \"white\", \"zerolinewidth\": 2}, \"yaxis\": {\"automargin\": true, \"gridcolor\": \"white\", \"linecolor\": \"white\", \"ticks\": \"\", \"title\": {\"standoff\": 15}, \"zerolinecolor\": \"white\", \"zerolinewidth\": 2}}}, \"title\": {\"text\": \"Words Frequency in Tribunal Appeals\", \"x\": 0.5, \"xanchor\": \"center\", \"y\": 0.95, \"yanchor\": \"top\"}, \"uniformtext\": {\"minsize\": 8, \"mode\": \"hide\"}, \"width\": 1050, \"xaxis\": {\"anchor\": \"y\", \"domain\": [0.0, 1.0], \"title\": {\"text\": \"Frequency\"}}, \"yaxis\": {\"anchor\": \"x\", \"categoryorder\": \"total ascending\", \"domain\": [0.0, 1.0], \"showticklabels\": false, \"title\": {\"text\": \"Words\"}, \"type\": \"category\"}},                        {\"responsive\": true}                    ).then(function(){\n",
       "                            \n",
       "var gd = document.getElementById('8a2f0a2d-0182-4215-8579-dc0d67ec2c75');\n",
       "var x = new MutationObserver(function (mutations, observer) {{\n",
       "        var display = window.getComputedStyle(gd).display;\n",
       "        if (!display || display === 'none') {{\n",
       "            console.log([gd, 'removed!']);\n",
       "            Plotly.purge(gd);\n",
       "            observer.disconnect();\n",
       "        }}\n",
       "}});\n",
       "\n",
       "// Listen for the removal of the full notebook cells\n",
       "var notebookContainer = gd.closest('#notebook-container');\n",
       "if (notebookContainer) {{\n",
       "    x.observe(notebookContainer, {childList: true});\n",
       "}}\n",
       "\n",
       "// Listen for the clearing of the current output cell\n",
       "var outputEl = gd.closest('.output');\n",
       "if (outputEl) {{\n",
       "    x.observe(outputEl, {childList: true});\n",
       "}}\n",
       "\n",
       "                        })                };                });            </script>        </div>"
      ]
     },
     "metadata": {},
     "output_type": "display_data"
    }
   ],
   "source": [
    "fig = px.bar(df_clean.loc[0:10,:], x='counts', y='words', orientation='h', text = 'words',\n",
    "             labels={\n",
    "                     \"counts\": \"Frequency\",\n",
    "                     \"words\": \"Words\"\n",
    "                 },)\n",
    "fig.layout.yaxis.type = 'category'\n",
    "fig.update_layout(yaxis_categoryorder = 'total ascending')\n",
    "fig.update_layout(yaxis=dict(showticklabels=False))\n",
    "fig.update_traces(texttemplate='%{text}', textposition='auto', marker_color='purple')\n",
    "fig.update_layout(uniformtext_minsize=8, uniformtext_mode='hide',   title={\n",
    "        'text': \"Words Frequency in Tribunal Appeals\",\n",
    "        'y':0.95,\n",
    "        'x':0.5,\n",
    "        'xanchor': 'center',\n",
    "        'yanchor': 'top'})\n",
    "fig.update_layout(\n",
    "    autosize=False,\n",
    "    width=1050,\n",
    "    height=500)\n",
    "fig.show()"
   ]
  },
  {
   "cell_type": "markdown",
   "metadata": {},
   "source": [
    "## 5.4. Word cloud"
   ]
  },
  {
   "cell_type": "markdown",
   "metadata": {},
   "source": [
    "Now, let's show the word cloud of this text:"
   ]
  },
  {
   "cell_type": "code",
   "execution_count": 110,
   "metadata": {},
   "outputs": [
    {
     "data": {
      "image/png": "[encoded data removed]",
      "text/plain": [
       "<Figure size 432x288 with 1 Axes>"
      ]
     },
     "metadata": {
      "needs_background": "light"
     },
     "output_type": "display_data"
    }
   ],
   "source": [
    "import matplotlib.pyplot as plt\n",
    "from wordcloud import WordCloud\n",
    "\n",
    "word_cloud = WordCloud(background_color=\"white\", repeat=True)\n",
    "word_cloud.generate(text)\n",
    "\n",
    "plt.axis(\"off\")\n",
    "plt.imshow(word_cloud, interpolation=\"bilinear\")\n",
    "plt.show()"
   ]
  },
  {
   "cell_type": "markdown",
   "metadata": {},
   "source": [
    "## 5.5. What we have learned?"
   ]
  },
  {
   "cell_type": "markdown",
   "metadata": {},
   "source": [
    "### 🤖📝 Now it's your turn:"
   ]
  },
  {
   "cell_type": "markdown",
   "metadata": {},
   "source": [
    "🤖📝 Find the word 'EURODAC' using the function **<tt>search<tt>** from the **<tt>re<tt>** package."
   ]
  },
  {
   "cell_type": "markdown",
   "metadata": {},
   "source": [
    "🤖📝 Create a word cloud with different colour pattern using the text from the PDF."
   ]
  }
 ],
 "metadata": {
  "kernelspec": {
   "display_name": "env37",
   "language": "python",
   "name": "env37"
  },
  "language_info": {
   "codemirror_mode": {
    "name": "ipython",
    "version": 3
   },
   "file_extension": ".py",
   "mimetype": "text/x-python",
   "name": "python",
   "nbconvert_exporter": "python",
   "pygments_lexer": "ipython3",
   "version": "3.7.7"
  }
 },
 "nbformat": 4,
 "nbformat_minor": 4
}
