{
 "cells": [
  {
   "cell_type": "markdown",
   "metadata": {},
   "source": [
    "# 5. Live coding"
   ]
  },
  {
   "cell_type": "markdown",
   "metadata": {},
   "source": [
    "This notebook will show you how we analyse a text in real life. To do so, we will examine two judge responses to asylum's claims in the UK.\n",
    "\n",
    "\n",
    "\n",
    "\n",
    "\n"
   ]
  },
  {
   "cell_type": "markdown",
   "metadata": {},
   "source": [
    "Legend of symbols:\n",
    "\n",
    "- 🤓: Tips\n",
    "\n",
    "- 🤖📝: Your turn\n",
    "\n",
    "- ❓: Question\n",
    "\n",
    "- 💫: Extra exercise "
   ]
  },
  {
   "cell_type": "markdown",
   "metadata": {},
   "source": [
    "## 5.1. Read text"
   ]
  },
  {
   "cell_type": "markdown",
   "metadata": {},
   "source": [
    "As we have learned in this course, the first step is to import the text into this notebook.\n",
    "\n",
    "Two approaches:\n",
    "\n",
    "- 1) Copy and paste content in a **<tt>.txt<tt>** file.\n",
    "- 2) Install **<tt>pdftotext<tt>**: https://github.com/jalan/pdftotext."
   ]
  },
  {
   "cell_type": "code",
   "execution_count": null,
   "metadata": {},
   "outputs": [],
   "source": [
    "# 1)\n",
    "# Read the raw file from txt\n",
    "f = open('../data/asylum_claims.txt','r')\n",
    "text = f.read()\n",
    "f.close()"
   ]
  },
  {
   "cell_type": "code",
   "execution_count": null,
   "metadata": {},
   "outputs": [],
   "source": [
    "text"
   ]
  },
  {
   "cell_type": "code",
   "execution_count": null,
   "metadata": {},
   "outputs": [],
   "source": [
    "# Let's substitute \\n by spaces\n",
    "import re\n",
    "text = re.sub('\\n', ' ', text)"
   ]
  },
  {
   "cell_type": "code",
   "execution_count": null,
   "metadata": {},
   "outputs": [],
   "source": [
    "print(text)"
   ]
  },
  {
   "cell_type": "code",
   "execution_count": 29,
   "metadata": {},
   "outputs": [],
   "source": [
    "import pdfplumber\n",
    "\n",
    "with pdfplumber.open(\"../data/PA059452018.pdf\") as pdf:\n",
    "    first_page = pdf.pages[0]\n",
    "    pdf_11 = first_page.extract_text()\n",
    "    second_page = pdf.pages[1]\n",
    "    pdf_12 = second_page.extract_text()\n",
    "    third_page = pdf.pages[2]\n",
    "    pdf_13 = third_page.extract_text()\n",
    "    fourth_page = pdf.pages[3]\n",
    "    pdf_14 = first_page.extract_text()\n",
    "    fifth_page = pdf.pages[4]\n",
    "    pdf_15 = fifth_page.extract_text()\n",
    "\n",
    "pdf_1 = pdf_11 + \"\\n\" + pdf_12 + \"\\n\" + pdf_13 + \"\\n\" + pdf_14 + \"\\n\" + pdf_15"
   ]
  },
  {
   "cell_type": "code",
   "execution_count": 32,
   "metadata": {},
   "outputs": [
    {
     "name": "stdout",
     "output_type": "stream",
     "text": [
      " \n",
      "Upper Tribunal \n",
      "(Immigration and Asylum Chamber) Appeal Number: PA/05945/2018\n",
      "THE IMMIGRATION ACTS\n",
      "Heard at Birmingham CJC Decision & Reasons Promulgated\n",
      "On 5th July 2019 On 19th August 2019\n",
      "Before\n",
      "DEPUTY UPPER TRIBUNAL JUDGE JUSS\n",
      "Between\n",
      "HA\n",
      "(ANONYMITY DIRECTION MADE)\n",
      "Appellant\n",
      "and\n",
      "THE SECRETARY OF STATE FOR THE HOME DEPARTMENT\n",
      "Respondent\n",
      "Representation:\n",
      "For the Appellant: Mr J Howard (Solicitor)\n",
      "For the Respondent: Mr D Mills (Senior HOPO)\n",
      "DECISION AND REASONS\n",
      "1. This is an appeal against the determination of First-tier Tribunal Judge\n",
      "Pacey, promulgated on 24th June 2018, following a hearing at Birmingham\n",
      "on 6th June 2018.  In the determination, the judge dismissed the appeal of\n",
      "the Appellant, whereupon the Appellant subsequently applied for, and was\n",
      "granted, permission to appeal to the Upper Tribunal, and thus the matter\n",
      "comes before me.\n",
      "The Appellant\n",
      "© CROWN COPYRIGHT 2019\n",
      "Appeal Number: PA/05945/2018\n",
      "2. The Appellant is a male, a citizen of Iran, and was born on 22nd July 1996.\n",
      "He appealed against the decision of the Respondent dated 24th April 2018\n",
      "refusing his claim for asylum and humanitarian protection pursuant to\n",
      "paragraph 339C of HC 395.\n",
      "The Appellant’s Claim\n",
      "3. The essence of the Appellant’s claim is that he is a member of a particular\n",
      "social group, because he is a gay Iranian man who would face persecution\n",
      "if returned, and additionally he is also an atheist, who would be ill-treated\n",
      "upon return as a non-religious person, which is forbidden in Iran.  \n",
      "The Judge’s Findings\n",
      "4. The judge noted how the Appellant in his screening interview has said that\n",
      "he held no religion and that he would be subject to persecution as a non-\n",
      "religious person if returned to Iran.  He made no mention at that stage\n",
      "that he was also a gay person.  During his asylum interview, however, he\n",
      "stated that he was a danger also because he was a homosexual and\n",
      "feared the government given that homosexuality was punishable by\n",
      "death.  He had not mentioned this at his screening interview because he\n",
      "did not know anything about the country he was coming to.  The Appellant\n",
      "had then explained how he had a boyfriend in the UK by the name of [FS],\n",
      "with whom he had been in relationship for about one and a half months.\n",
      "He also had three serious relationships which he went on to describe in\n",
      "evidence before the Tribunal.  The judge did not find the Appellant to be\n",
      "credible because the appellant’s explanation that he had not mentioned\n",
      "his homosexuality during his screening interview, because he did not know\n",
      "the country he was coming to, was not plausible.  As the judge explained,\n",
      "“if he did not know the UK approach to homosexuality … he could not\n",
      "have known if the UK adopted as punitive an approach to gay people as\n",
      "did Iran….  For all he knew he could have been travelling from the frying\n",
      "pan into the fire” (paragraph 68).  \n",
      "5. On the other hand, the judge observed that if the Appellant was aware of\n",
      "the actual UK approach to homosexuality, “then there was no reason for\n",
      "him not to have mentioned his sexuality at the screening interview”\n",
      "(paragraph 69).  \n",
      "6. The judge was also not impressed by the witnesses before the Tribunal.  In\n",
      "short, the Appellant’s claim was rejected wholesale.   The appeal was\n",
      "dismissed.\n",
      "Grounds of Application\n",
      "7. The grounds of application state that the judge had engaged in a material\n",
      "error of law in relation to the evidence of a Miss [L] and that of Mr [S]\n",
      "whose credibility had been wrongly impugned by the judge.  There had\n",
      "been apparently a discrepancy between to the oral and the written\n",
      "2\n",
      "Appeal Number: PA/05945/2018\n",
      "evidence of Miss [L], but this discrepancy had not been put to the witness,\n",
      "and if this was so then this was contrary to the rules of natural justice.  \n",
      "8. On 23rd November 2018 permission to appeal was granted.  \n",
      "Submissions\n",
      "9. At the hearing before me on 5th July 2019, the Appellant was represented\n",
      "by Mr Howard, who adopted the grounds of application.  He submitted that\n",
      "if the judge was concerned about the discrepancy in the oral and written\n",
      "evidence of Miss [L], then this should have been explored by the Tribunal,\n",
      "because in her oral evidence, Miss [L] had said that she had “not met [F]”,\n",
      "whereas in her written evidence she had said that “she also knew his\n",
      "previous partner, [F]” (paragraph 34).  Secondly, Mr Howard submitted\n",
      "that if one looks at the evidence of Mr [S] (at page 14 of the Appellant’s\n",
      "bundle).  He makes it quite clear that he is the director of a voluntary\n",
      "organisation called Persian LGBT Advisory Services, where it provides\n",
      "“voluntary social activities for LGBT asylum seekers”.  He explains that the\n",
      "appellant had contacted him via Facebook on 9th June 2016.  He invited\n",
      "the Appellant to meet with him, and after a conversation he had come to\n",
      "the view that “I am aware the Appellant is openly active on Facebook page\n",
      "which I would refer to as an online activist where he shares information on\n",
      "LGBT community using his Facebook page…”.   On that basis that the\n",
      "judge was wrong to have impugned his credibility. \n",
      "10. For his part, Mr Mills submitted that the issues that were before the judge,\n",
      "both in relation to the Appellant’s atheism and his homosexual tendencies,\n",
      "were not new issues.  If evidence was collected by the Appellant between\n",
      "the asylum interview and the Tribunal hearing, in a manner that the\n",
      "Appellant himself chose to do, then he should have been prepared to deal\n",
      "with it on the basis of oral testimony.  These were not new points.  The\n",
      "witnesses were not people whose evidence had previously been accepted.\n",
      "Both cases were simply black and white discrepancy cases where the\n",
      "judge was entitled to say that she would not attach any significant weight\n",
      "to such evidence, because as put before the Tribunal, the evidence was\n",
      "not persuasive.  \n",
      "No Error of Law\n",
      "11. I am satisfied that the making of the decision by the judge did not involve\n",
      "the making of an error on a point of law (see Section 12(1) of TCEA 2007)\n",
      "such that I should set aside the decision.  My reasons are as follows.  First,\n",
      "it is simply not correct to say that the discrepancy in the oral and witness\n",
      "statement evidence of Miss [L] was something that the judge should have\n",
      "probed herself with a view to ascertaining exactly what Miss [L] knew\n",
      "about Mr [F].  The judge noted that in her oral evidence Miss [L] stated she\n",
      "was aware that the Appellant had a relationship in the UK “but had not\n",
      "met [F]”.  Then the judge noted how in her witness statement, Miss [L] had\n",
      "stated that she became friends with the Appellant when she met him in\n",
      "Calais at the “the jungle” in April 2016, and “when they became strong\n",
      "3\n",
      " \n",
      "Upper Tribunal \n",
      "(Immigration and Asylum Chamber) Appeal Number: PA/05945/2018\n",
      "THE IMMIGRATION ACTS\n",
      "Heard at Birmingham CJC Decision & Reasons Promulgated\n",
      "On 5th July 2019 On 19th August 2019\n",
      "Before\n",
      "DEPUTY UPPER TRIBUNAL JUDGE JUSS\n",
      "Between\n",
      "HA\n",
      "(ANONYMITY DIRECTION MADE)\n",
      "Appellant\n",
      "and\n",
      "THE SECRETARY OF STATE FOR THE HOME DEPARTMENT\n",
      "Respondent\n",
      "Representation:\n",
      "For the Appellant: Mr J Howard (Solicitor)\n",
      "For the Respondent: Mr D Mills (Senior HOPO)\n",
      "DECISION AND REASONS\n",
      "1. This is an appeal against the determination of First-tier Tribunal Judge\n",
      "Pacey, promulgated on 24th June 2018, following a hearing at Birmingham\n",
      "on 6th June 2018.  In the determination, the judge dismissed the appeal of\n",
      "the Appellant, whereupon the Appellant subsequently applied for, and was\n",
      "granted, permission to appeal to the Upper Tribunal, and thus the matter\n",
      "comes before me.\n",
      "The Appellant\n",
      "© CROWN COPYRIGHT 2019\n",
      "Appeal Number: PA/05945/2018\n",
      "Direction Regarding Anonymity – Rule 14 of the Tribunal Procedure\n",
      "(Upper Tribunal) Rules 2008\n",
      "Unless and until a Tribunal or court directs otherwise, the Appellant is granted\n",
      "anonymity.  No report of these proceedings shall directly or indirectly identify\n",
      "him or any member of \n",
      "their   family.     This   direction   applies   both   to   the   Appellant   and   to   the\n",
      "Respondent.  Failure to comply with this direction could lead to contempt of\n",
      "court proceedings.\n",
      "Signed Dated\n",
      "Deputy Upper Tribunal Judge Juss 15th August 2019 \n",
      "5\n",
      "Upper Tribunal \n",
      "(Immigration and Asylum Chamber) Appeal Number: PA/00240/2019\n",
      "THE IMMIGRATION ACTS\n",
      "Heard at Birmingham CJC Decision   &   Reasons\n",
      "Promulgated\n",
      "On 8 November 2019 On 21 November 2019\n",
      "Before\n",
      "DEPUTY UPPER TRIBUNAL JUDGE O’RYAN\n",
      "Between\n",
      "MR D A\n",
      "(ANONYMITY DIRECTION MADE)\n",
      "Appellant\n",
      "and\n",
      "THE SECRETARY OF STATE FOR THE HOME DEPARTMENT\n",
      "Respondent\n",
      "Representation:\n",
      "For the Appellant: Mr Sharif, Fountain Solicitors \n",
      "For the Respondent: Mr Mills, Senior Home Office Presenting Officer \n",
      "DECISION AND REASONS\n",
      "1. This is the Appellant’s appeal against the decision of Judge of the First-tier\n",
      "Tribunal Boylan-Kemp MBE dated 2 May 2019 dismissing the Appellant’s\n",
      "appeal against the Respondent’s decision of 23 November 2018 refusing\n",
      "his human rights and protection claim.  \n",
      "© CROWN COPYRIGHT 2019\n",
      "Appeal Number: PA/00240/2019\n",
      "2. The Appellant is a national of Iraq of Kurdish origin and from Sulamaniyah\n",
      "in the IKR.  He gave an account that he was at risk of serious harm in the\n",
      "IKR by reason of his family and extended tribe being in a feud with another\n",
      "tribe in the IKR.  The Appellant was not able to give many details of the\n",
      "origins of the feud but stated that one family member had been killed as a\n",
      "result of it and that he himself had experienced two incidents; one being\n",
      "that unknown persons had fired upon a car in which he was travelling and\n",
      "his cousin had been injured in the shoulder, and another occasion when\n",
      "the house in which he lived was fired upon.  \n",
      "3. The Respondent in its decision refusing the protection claim disbelieved\n",
      "the Appellant’s account that there was any feud on the grounds that the\n",
      "Appellant knew very few details of the alleged feud.  There was also said\n",
      "to be a discrepancy as between the Appellant’s evidence in interview as to\n",
      "how many occasions the Appellant experienced any problems himself\n",
      "(refusal letter, para [26]) and a discrepancy between an alleged fear of his\n",
      "own father (resulting from the Appellant refusing to take part in the feud)\n",
      "and information given in an age assessment interview in which he had\n",
      "stated that he had a good relationship with his family members (para\n",
      "[31]).  \n",
      "4. The Appellant appealed against that decision and the matter came before\n",
      "the judge at the Birmingham hearing centre on 18 March 2019.   The\n",
      "Appellant was represented and gave evidence.  At the date of that hearing\n",
      "the Appellant would have been 18 years of age.  A further document was\n",
      "relied upon by the Respondent at that hearing, being a EURODAC search\n",
      "result, demonstrating that a person in the  Appellant’s  identity was\n",
      "fingerprinted in Dresden in Germany on 22 March 2016.  The Appellant’s\n",
      "account as given in his SEF interview and confirmed in oral evidence\n",
      "before the judge was that he only left Iraq in December 2017.   The\n",
      "Appellant denied before the judge that the person identified in the\n",
      "EURODAC search was him but the judge stated that she was satisfied by\n",
      "the details contained within the document, and looking at the clear\n",
      "photograph on the EURODAC match, that the person fingerprinted in\n",
      "Germany was indeed the Appellant.  \n",
      "5. The judge found at paragraph 14 onwards as follows: \n",
      "“16. The   evidence   provided   by   the   EURODAC   document   is\n",
      "unequivocal.  The photograph contained within the document is\n",
      "clearly the Appellant who appeared before me and I have no\n",
      "reason to doubt that the document relates to him.  Therefore this\n",
      "document upon which I am satisfied I can place significant weight\n",
      "puts him in Germany on 22 March 2016.  Consequently I find that\n",
      "this evidence undermines the credibility of his entire account and\n",
      "his credibility as a witness in his own cause and that it renders\n",
      "his entire account unreliable.  \n",
      "2\n",
      "Appeal Number: PA/00240/2019\n",
      "17. Further I also find his inability to recall the details of the alleged\n",
      "feud which caused him to leave his family and flee the country to\n",
      "also not be credible.  If a young man was leaving his life behind\n",
      "because of his reluctance to become involved in an ongoing\n",
      "family   feud   then   I   would   anticipate   that   he   would   have\n",
      "knowledge of what he is in fear of and so I do not find it plausible\n",
      "that he would not know the details of this feud if he held such a\n",
      "genuine fear.  Also I note that even on his own evidence there\n",
      "has been no specific risk or threat made to him which would\n",
      "cause him to fear for his own safety beyond what is a more\n",
      "general tribal threat and of which he cannot provide much detail.\n",
      "…\n",
      "18. As I have found the Appellant’s alleged reasoning for leaving Iraq\n",
      "to not be credible then I also find that it is not plausible that his\n",
      "family have consequently threatened him as claimed due to his\n",
      "alleged desertion because of the alleged feud.  Instead I find that\n",
      "he has travelled to the UK with the assistance and knowledge of\n",
      "his family for reasons other than escaping a risk of persecution.\n",
      "As such I find that his family would therefore be able to assist\n",
      "him with obtaining a copy of his identification documents and\n",
      "CSID which would help facilitate his return to Iraq.  I also find that\n",
      "he would be able to return to the help and support of his family\n",
      "there.”\n",
      "The judge dismissed the Appellant’s appeal.  \n",
      "6. The Appellant appeals to the Upper Tribunal on grounds dated 15 May\n",
      "2019 which argue very briefly that the judge erred in law at paragraphs 15\n",
      "to 20 by giving inadequate reasoning for finding the Appellant’s account to\n",
      "not be credible and secondly that the judge had failed to apply relevant\n",
      "country guidance.  \n",
      "7. Permission to appeal was granted by Judge of the First-tier Tribunal Keane\n",
      "on 24 June 2019.  The judge stated as follows:\n",
      "“The judge arguably had regard to irrelevant considerations in finding\n",
      "that the Appellant had not given a credible account of events.  The\n",
      "judge’s findings as to the credibility were to be found at paragraphs\n",
      "15 to 18 inclusive of her decision.   At paragraph 15 the judge\n",
      "attached weight so as to undermine the Appellant’s credibility to a\n",
      "EURODAC printout provided by the Respondent which as the judge\n",
      "found proved that the Appellant was photographed and printed in\n",
      "Germany on 22 March 2016.  The judge however did not explain why\n",
      "such circumstance damaged the Appellant’s credibility.  If the judge\n",
      "had in mind the Appellant’s apparent failure to claim asylum in\n",
      "Germany the judge arguably should have stated so.  At paragraph 16\n",
      "of the decision the judge again accorded weight to the EURODAC\n",
      "document without stating why.  At paragraph 17 of the decision the\n",
      "3\n",
      "Upper Tribunal \n",
      "(Immigration and Asylum Chamber) Appeal Number: PA/00240/2019\n",
      "THE IMMIGRATION ACTS\n",
      "Heard at Birmingham CJC Decision   &   Reasons\n",
      "Promulgated\n",
      "On 8 November 2019 On 21 November 2019\n",
      "Before\n",
      "DEPUTY UPPER TRIBUNAL JUDGE O’RYAN\n",
      "Between\n",
      "MR D A\n",
      "(ANONYMITY DIRECTION MADE)\n",
      "Appellant\n",
      "and\n",
      "THE SECRETARY OF STATE FOR THE HOME DEPARTMENT\n",
      "Respondent\n",
      "Representation:\n",
      "For the Appellant: Mr Sharif, Fountain Solicitors \n",
      "For the Respondent: Mr Mills, Senior Home Office Presenting Officer \n",
      "DECISION AND REASONS\n",
      "1. This is the Appellant’s appeal against the decision of Judge of the First-tier\n",
      "Tribunal Boylan-Kemp MBE dated 2 May 2019 dismissing the Appellant’s\n",
      "appeal against the Respondent’s decision of 23 November 2018 refusing\n",
      "his human rights and protection claim.  \n",
      "© CROWN COPYRIGHT 2019\n",
      "Appeal Number: PA/00240/2019\n",
      "arguably had regard to irrelevant considerations is difficult to sustain.  The\n",
      "Appellant has clearly given inconsistent evidence about his whereabouts,\n",
      "on the one part insisting that he remained in Iraq in December 2017 but\n",
      "incontrovertible evidence existing from the EURODAC search result that he\n",
      "was present in Germany on 22 March 2016.  These two items of evidence\n",
      "simply cannot sit together.  True it is that there are no details of the\n",
      "Appellant’s account of any incidents that he has set out which are dated\n",
      "any later than 22 March 2016, and therefore being shot at in ‘2016’ and\n",
      "him departing Iraq prior to 22 March 2016 does not necessarily make his\n",
      "account impossible to believe, but it is clearly a very significant matter\n",
      "that the Appellant has lied about his continued presence in Iraq up to the\n",
      "point of December 2017 and the judge was fully entitled to treat that as a\n",
      "very significant matter.  Whether or not she was entitled to treat it as\n",
      "rendering ‘his entire account unreliable’ is moot.  \n",
      "12. However the judge does not stop there in her credibility findings because\n",
      "she continues, as is clear at paragraph 17, to set out other reasons for\n",
      "finding the Appellant’s account incredible.  Whereas it may be expected\n",
      "that a young person may not be as fully informed about the details of a\n",
      "feud affecting his family and the wider tribe as might a fully-grown adult,\n",
      "the   judge’s   point  is   that   the   Appellant   decided,   together   with   the\n",
      "assistance of a relative, to leave Iraq because of this feud and the judge\n",
      "was entitled to find that it was implausible that the Appellant knew so little\n",
      "about the feud whereas it had been the specific cause of his decision to\n",
      "leave the country.  I find that it was not irrational for the judge to make\n",
      "the findings that she did at paragraph 17.  There are a number of reasons\n",
      "therefore given by the judge for finding the Appellant’s account incredible\n",
      "and I find that none of those reasons is vitiated by any error of law.  \n",
      "13. Judge Keane in granting permission did not comment upon the Appellant’s\n",
      "actual second ground which was that the judge had failed to apply country\n",
      "guidance relevant to the issue of obtaining documents for readmission and\n",
      "residence in Iraq.  However in the light of my decision that the judge’s\n",
      "credibility findings are sustainable it is also sustainable that the Appellant\n",
      "can have  the assistance  of family members in Iraq to obtain  any\n",
      "replacement documents that are needed to facilitate his return to, and\n",
      "residence in Iraq.  \n",
      "Notice of Decision\n",
      "The judge’s decision did not involve the making of any material error of\n",
      "law.  \n",
      "I do not set aside the decision.  \n",
      "The Appellant’s appeal is dismissed.  \n",
      "Signed Date 20.11.19\n",
      "5\n"
     ]
    }
   ],
   "source": [
    "with pdfplumber.open(\"../data/PA002402019.pdf\") as pdf:\n",
    "    first_page = pdf.pages[0]\n",
    "    pdf_11 = first_page.extract_text()\n",
    "    second_page = pdf.pages[1]\n",
    "    pdf_12 = second_page.extract_text()\n",
    "    third_page = pdf.pages[2]\n",
    "    pdf_13 = third_page.extract_text()\n",
    "    fourth_page = pdf.pages[3]\n",
    "    pdf_14 = first_page.extract_text()\n",
    "    fifth_page = pdf.pages[4]\n",
    "    pdf_15 = fifth_page.extract_text()\n",
    "\n",
    "pdf_2 = pdf_11 + \"\\n\" + pdf_12 + \"\\n\" + pdf_13 + \"\\n\" + pdf_14 + \"\\n\" + pdf_15\n",
    "\n",
    "pdf = pdf_1 + \"\\n\" + pdf_2\n",
    "\n",
    "print(pdf)"
   ]
  },
  {
   "cell_type": "markdown",
   "metadata": {},
   "source": [
    "## 5.2. Basic statistics"
   ]
  },
  {
   "cell_type": "markdown",
   "metadata": {},
   "source": [
    "🤓 It is important when analysing text to know the basic figures: \n",
    "- How many words do we have? \n",
    "- How many sentences? \n",
    "- What are the most common words? \n",
    "\n",
    "\n",
    "❓ More questions?"
   ]
  },
  {
   "cell_type": "markdown",
   "metadata": {},
   "source": [
    "### 5.2.1. How many words do we have? "
   ]
  },
  {
   "cell_type": "code",
   "execution_count": null,
   "metadata": {},
   "outputs": [],
   "source": [
    "# How many words do we have?\n",
    "words_txt = text.split()\n",
    "len(words_txt)"
   ]
  },
  {
   "cell_type": "code",
   "execution_count": null,
   "metadata": {},
   "outputs": [],
   "source": [
    "words_pdf = pdf.split()\n",
    "len(words_pdf)"
   ]
  },
  {
   "cell_type": "markdown",
   "metadata": {},
   "source": [
    "### 5.2.2. How many sentences do we have? "
   ]
  },
  {
   "cell_type": "code",
   "execution_count": null,
   "metadata": {},
   "outputs": [],
   "source": [
    "# How many sentences do we have?\n",
    "sent_txt = text.split('.')\n",
    "len(sent_txt)"
   ]
  },
  {
   "cell_type": "code",
   "execution_count": null,
   "metadata": {},
   "outputs": [],
   "source": [
    "# How many sentences do we have?\n",
    "sent_pdf = pdf.split('.')\n",
    "len(sent_pdf)"
   ]
  },
  {
   "cell_type": "code",
   "execution_count": null,
   "metadata": {},
   "outputs": [],
   "source": [
    "# How many sentences do we have?\n",
    "import nltk\n",
    "nltk.download('punkt')\n",
    "from nltk.tokenize import sent_tokenize\n",
    "\n",
    "sent_txt_nltk = sent_tokenize(text)\n",
    "print(len(sent_txt_nltk))"
   ]
  },
  {
   "cell_type": "code",
   "execution_count": null,
   "metadata": {},
   "outputs": [],
   "source": [
    "# How many sentences do we have?\n",
    "sent_pdf_nltk = sent_tokenize(pdf)\n",
    "print(len(sent_pdf_nltk))"
   ]
  },
  {
   "cell_type": "markdown",
   "metadata": {},
   "source": [
    "### 5.2.3. What are the most common words? "
   ]
  },
  {
   "cell_type": "code",
   "execution_count": null,
   "metadata": {},
   "outputs": [],
   "source": [
    "# What are the most common words? \n",
    "wordfreq_txt = []\n",
    "\n",
    "# count words in text\n",
    "for w in words_txt:\n",
    "    wordfreq_txt.append(words_txt.count(w))\n",
    "    \n",
    "# create a list with words and its frequency\n",
    "word_list = list(set(zip(words_txt, wordfreq_txt)))\n",
    "\n",
    "    \n",
    "print(\"Pairs\\n\" + str(word_list))"
   ]
  },
  {
   "cell_type": "code",
   "execution_count": null,
   "metadata": {},
   "outputs": [],
   "source": [
    "# What are the most common words? \n",
    "wordfreq_pdf = []\n",
    "\n",
    "# count words in text\n",
    "for w in words_pdf:\n",
    "    wordfreq_pdf.append(words_pdf.count(w))\n",
    "    \n",
    "# create a list with words and its frequency\n",
    "word_list = list(set(zip(words_pdf, wordfreq_pdf)))\n",
    "\n",
    "# function to sort the list by second item of tuple\n",
    "def sort_pairs(tup): \n",
    "  \n",
    "    # reverse = None (Sorts in Ascending order) \n",
    "    # key is set to sort using second element of \n",
    "    # sublist lambda has been used \n",
    "    return(sorted(tup, key = lambda x: x[1], reverse = True))  \n",
    "\n",
    "word_list_sort = sort_pairs(word_list)\n",
    "    \n",
    "print(\"Pairs\\n\" + str(word_list_sort))"
   ]
  },
  {
   "cell_type": "code",
   "execution_count": null,
   "metadata": {},
   "outputs": [],
   "source": [
    "import pandas as pd\n",
    "\n",
    "df = pd.DataFrame(word_list_sort)\n",
    "df.columns = ['words', 'counts']"
   ]
  },
  {
   "cell_type": "code",
   "execution_count": null,
   "metadata": {},
   "outputs": [],
   "source": [
    "df.head()"
   ]
  },
  {
   "cell_type": "code",
   "execution_count": null,
   "metadata": {},
   "outputs": [],
   "source": [
    "import matplotlib.pyplot as plt\n",
    "import plotly.express as px\n",
    "\n",
    "fig = px.bar(df.loc[0:10,:], x='counts', y='words', orientation='h', text = 'words',\n",
    "             labels={\n",
    "                     \"counts\": \"Frequency\",\n",
    "                     \"words\": \"Words\"\n",
    "                 },)\n",
    "fig.layout.yaxis.type = 'category'\n",
    "fig.update_layout(yaxis_categoryorder = 'total ascending')\n",
    "fig.update_layout(yaxis=dict(showticklabels=False))\n",
    "fig.update_traces(texttemplate='%{text}', textposition='auto', marker_color='green')\n",
    "fig.update_layout(uniformtext_minsize=8, uniformtext_mode='hide',   title={\n",
    "        'text': \"Words Frequency in Tribunal Appeals\",\n",
    "        'y':0.95,\n",
    "        'x':0.5,\n",
    "        'xanchor': 'center',\n",
    "        'yanchor': 'top'})\n",
    "fig.update_layout(\n",
    "    autosize=False,\n",
    "    width=1050,\n",
    "    height=500)\n",
    "fig.show()"
   ]
  },
  {
   "cell_type": "markdown",
   "metadata": {},
   "source": [
    "❓ Does that give information of the content?"
   ]
  },
  {
   "cell_type": "markdown",
   "metadata": {},
   "source": [
    "## 5.3. Clean text"
   ]
  },
  {
   "cell_type": "markdown",
   "metadata": {},
   "source": [
    "We now clean the text with some  techniques we have learned."
   ]
  },
  {
   "cell_type": "markdown",
   "metadata": {},
   "source": [
    "### 5.3.1. Lowercase"
   ]
  },
  {
   "cell_type": "code",
   "execution_count": null,
   "metadata": {},
   "outputs": [],
   "source": [
    "# Remove capital letters\n",
    "text_clean = ' '.join(w.lower() for w in text.split())"
   ]
  },
  {
   "cell_type": "code",
   "execution_count": null,
   "metadata": {},
   "outputs": [],
   "source": [
    "text_clean"
   ]
  },
  {
   "cell_type": "markdown",
   "metadata": {},
   "source": [
    "### 5.3.2. Stop words "
   ]
  },
  {
   "cell_type": "code",
   "execution_count": null,
   "metadata": {},
   "outputs": [],
   "source": [
    "# Remove stopwords\n",
    "from nltk.corpus import stopwords\n",
    "stopwords = stopwords.words('english')"
   ]
  },
  {
   "cell_type": "code",
   "execution_count": null,
   "metadata": {},
   "outputs": [],
   "source": [
    "text_clean = ' '.join(w for w in text_clean.split() if w not in stopwords)"
   ]
  },
  {
   "cell_type": "code",
   "execution_count": null,
   "metadata": {},
   "outputs": [],
   "source": [
    "text_clean"
   ]
  },
  {
   "cell_type": "markdown",
   "metadata": {},
   "source": [
    "### 5.3.3. Lemmatization"
   ]
  },
  {
   "cell_type": "code",
   "execution_count": null,
   "metadata": {},
   "outputs": [],
   "source": [
    "# Remove puncutaction symbols\n",
    "text_clean = [[token.lemma_ for token in sentence] for sentence in nlp(text_clean).sents]"
   ]
  },
  {
   "cell_type": "code",
   "execution_count": null,
   "metadata": {},
   "outputs": [],
   "source": [
    "text_clean"
   ]
  },
  {
   "cell_type": "markdown",
   "metadata": {},
   "source": [
    "### 5.3.4. Count words"
   ]
  },
  {
   "cell_type": "code",
   "execution_count": null,
   "metadata": {},
   "outputs": [],
   "source": [
    "from collections import Counter\n",
    "\n",
    "text_clean_counter = dict(Counter(text_clean))"
   ]
  },
  {
   "cell_type": "code",
   "execution_count": null,
   "metadata": {},
   "outputs": [],
   "source": [
    "df_clean = pd.DataFrame.from_dict(text_clean_counter, orient='index')"
   ]
  },
  {
   "cell_type": "code",
   "execution_count": null,
   "metadata": {},
   "outputs": [],
   "source": [
    "df_clean.reset_index(level=0, inplace=True)\n",
    "df_clean.columns = ['words', 'counts']"
   ]
  },
  {
   "cell_type": "code",
   "execution_count": null,
   "metadata": {},
   "outputs": [],
   "source": [
    "df_clean"
   ]
  },
  {
   "cell_type": "code",
   "execution_count": null,
   "metadata": {},
   "outputs": [],
   "source": [
    "fig = px.bar(df_clean.loc[0:10,:], x='counts', y='words', orientation='h', text = 'words',\n",
    "             labels={\n",
    "                     \"counts\": \"Frequency\",\n",
    "                     \"words\": \"Words\"\n",
    "                 },)\n",
    "fig.layout.yaxis.type = 'category'\n",
    "fig.update_layout(yaxis_categoryorder = 'total ascending')\n",
    "fig.update_layout(yaxis=dict(showticklabels=False))\n",
    "fig.update_traces(texttemplate='%{text}', textposition='auto', marker_color='purple')\n",
    "fig.update_layout(uniformtext_minsize=8, uniformtext_mode='hide',   title={\n",
    "        'text': \"Words Frequency in Tribunal Appeals\",\n",
    "        'y':0.95,\n",
    "        'x':0.5,\n",
    "        'xanchor': 'center',\n",
    "        'yanchor': 'top'})\n",
    "fig.update_layout(\n",
    "    autosize=False,\n",
    "    width=1050,\n",
    "    height=500)\n",
    "fig.show()"
   ]
  },
  {
   "cell_type": "markdown",
   "metadata": {},
   "source": [
    "## 5.4. Word cloud"
   ]
  },
  {
   "cell_type": "markdown",
   "metadata": {},
   "source": [
    "Now, let's show the word cloud of this text:"
   ]
  },
  {
   "cell_type": "code",
   "execution_count": null,
   "metadata": {},
   "outputs": [],
   "source": [
    "import matplotlib.pyplot as plt\n",
    "from wordcloud import WordCloud\n",
    "\n",
    "word_cloud = WordCloud(background_color=\"white\", repeat=True)\n",
    "word_cloud.generate(text)\n",
    "\n",
    "plt.axis(\"off\")\n",
    "plt.imshow(word_cloud, interpolation=\"bilinear\")\n",
    "plt.show()"
   ]
  },
  {
   "cell_type": "markdown",
   "metadata": {},
   "source": [
    "## 5.5. What we have learned?"
   ]
  },
  {
   "cell_type": "markdown",
   "metadata": {},
   "source": [
    "### 🤖📝 Now it's your turn:"
   ]
  },
  {
   "cell_type": "markdown",
   "metadata": {},
   "source": [
    "🤖📝 Find the word 'EURODAC' using the function **<tt>search<tt>** from the **<tt>re<tt>** package."
   ]
  },
  {
   "cell_type": "markdown",
   "metadata": {},
   "source": [
    "🤖📝 Create a word cloud with different colour pattern using the text from the PDF."
   ]
  },
  {
   "cell_type": "markdown",
   "metadata": {},
   "source": [
    "🤖📝 Remove symbols from **<tt>df_clean<tt>** and plot again the frequency of words."
   ]
  }
 ],
 "metadata": {
  "kernelspec": {
   "display_name": "env37",
   "language": "python",
   "name": "env37"
  },
  "language_info": {
   "codemirror_mode": {
    "name": "ipython",
    "version": 3
   },
   "file_extension": ".py",
   "mimetype": "text/x-python",
   "name": "python",
   "nbconvert_exporter": "python",
   "pygments_lexer": "ipython3",
   "version": "3.7.7"
  }
 },
 "nbformat": 4,
 "nbformat_minor": 4
}
